{
 "cells": [
  {
   "cell_type": "code",
   "execution_count": 1,
   "metadata": {},
   "outputs": [],
   "source": [
    "import numpy as np\n",
    "import pickle"
   ]
  },
  {
   "cell_type": "code",
   "execution_count": 2,
   "metadata": {},
   "outputs": [],
   "source": [
    "with open(\"C:/Users/OWO/Documents/AA_CODE/@Projects/Projects/ai_0009_cnn_CIFAR10/cifar-10-batches-py/batches.meta\", 'rb') as file:\n",
    "    meta = pickle.load(file, encoding='bytes')"
   ]
  },
  {
   "cell_type": "code",
   "execution_count": 11,
   "metadata": {},
   "outputs": [
    {
     "name": "stdout",
     "output_type": "stream",
     "text": [
      "{b'num_cases_per_batch': 10000, b'label_names': [b'airplane', b'automobile', b'bird', b'cat', b'deer', b'dog', b'frog', b'horse', b'ship', b'truck'], b'num_vis': 3072}\n"
     ]
    }
   ],
   "source": [
    "print(meta)"
   ]
  },
  {
   "attachments": {},
   "cell_type": "markdown",
   "metadata": {},
   "source": [
    "{b'num_cases_per_batch': 10000,   // this is num of data  \n",
    "b'label_names': [b'airplane', b'automobile', b'bird', b'cat', b'deer', b'dog', b'frog', b'horse', b'ship', b'truck'],  this is num of class\n",
    " b'num_vis': 3072}  this is num of visable data which is 32x32x3 //32x32 is the pixcel and 3 is RGB"
   ]
  },
  {
   "attachments": {},
   "cell_type": "markdown",
   "metadata": {},
   "source": [
    "The transpose method takes as input a tuple of axes and rearranges the dimensions of the array according to the order specified in the tuple. In this case, the tuple (0, 2, 3, 1) specifies that the first dimension should remain in the first position, the second dimension should be moved to the second position, the third dimension should be moved to the third position, and the fourth dimension should be moved to the fourth position."
   ]
  },
  {
   "cell_type": "code",
   "execution_count": 3,
   "metadata": {},
   "outputs": [],
   "source": [
    "def load_batch(file):\n",
    "    with open(file, 'rb') as f:\n",
    "        data = pickle.load(f, encoding='bytes')\n",
    "        X = data[b'data']\n",
    "        Y = data[b'labels']\n",
    "        X = X.reshape(10000, 3, 32, 32).transpose(0, 2, 3, 1).astype(\"float\")\n",
    "        Y = np.array(Y)\n",
    "        return X, Y\n",
    "    \n",
    "x_train = []\n",
    "y_train = []\n",
    "\n",
    "for i in range(1, 6):\n",
    "    file = \"C:/Users/OWO/Documents/AA_CODE/@Projects/Projects/ai_0009_cnn_CIFAR10/cifar-10-batches-py/data_batch_\" + str(i)\n",
    "    X, Y = load_batch(file)\n",
    "    x_train.append(X)\n",
    "    y_train.append(Y)\n",
    "    \n",
    "x_train = np.concatenate(x_train)\n",
    "y_train = np.concatenate(y_train)\n"
   ]
  },
  {
   "cell_type": "code",
   "execution_count": 4,
   "metadata": {},
   "outputs": [],
   "source": [
    "file = \"C:/Users/OWO/Documents/AA_CODE/@Projects/Projects/ai_0009_cnn_CIFAR10/cifar-10-batches-py/test_batch\"\n",
    "x_test, y_test = load_batch(file)\n"
   ]
  },
  {
   "cell_type": "code",
   "execution_count": 7,
   "metadata": {},
   "outputs": [
    {
     "name": "stdout",
     "output_type": "stream",
     "text": [
      "(50000, 32, 32, 3)\n",
      "[6 9 9 ... 9 1 1]\n"
     ]
    }
   ],
   "source": [
    "print(x_train.shape)\n",
    "print(y_train)"
   ]
  },
  {
   "cell_type": "code",
   "execution_count": 27,
   "metadata": {},
   "outputs": [
    {
     "data": {
      "image/png": "[encoded data removed]",
      "text/plain": [
       "<Figure size 640x480 with 1 Axes>"
      ]
     },
     "metadata": {},
     "output_type": "display_data"
    }
   ],
   "source": [
    "import pickle\n",
    "import matplotlib.pyplot as plt\n",
    "import numpy as np\n",
    "import random\n",
    "# Load the data\n",
    "with open(\"C:/Users/OWO/Documents/AA_CODE/@Projects/Projects/ai_0009_cnn_CIFAR10/cifar-10-batches-py/data_batch_1\", \"rb\") as file:\n",
    "    data = pickle.load(file, encoding=\"bytes\")\n",
    "\n",
    "# Preprocess the data\n",
    "images = data[b'data']\n",
    "labels = data[b'labels']\n",
    "images = images.reshape(len(images), 3, 32, 32)\n",
    "images = images.transpose(0, 2, 3, 1)\n",
    "\n",
    "# Display the image\n",
    "rannum = random.randrange(0,10000)\n",
    "plt.imshow(images[rannum])\n",
    "plt.show()"
   ]
  },
  {
   "cell_type": "code",
   "execution_count": null,
   "metadata": {},
   "outputs": [],
   "source": []
  }
 ],
 "metadata": {
  "kernelspec": {
   "display_name": "base",
   "language": "python",
   "name": "python3"
  },
  "language_info": {
   "codemirror_mode": {
    "name": "ipython",
    "version": 3
   },
   "file_extension": ".py",
   "mimetype": "text/x-python",
   "name": "python",
   "nbconvert_exporter": "python",
   "pygments_lexer": "ipython3",
   "version": "3.9.13"
  },
  "orig_nbformat": 4,
  "vscode": {
   "interpreter": {
    "hash": "ad2bdc8ecc057115af97d19610ffacc2b4e99fae6737bb82f5d7fb13d2f2c186"
   }
  }
 },
 "nbformat": 4,
 "nbformat_minor": 2
}
