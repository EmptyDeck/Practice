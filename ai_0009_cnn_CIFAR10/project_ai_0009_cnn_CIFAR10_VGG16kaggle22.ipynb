{
 "cells": [
  {
   "attachments": {},
   "cell_type": "markdown",
   "metadata": {},
   "source": [
    "#### Hi\n",
    "this will be a CIFAR10 using VGG16 (pre trained model)  \n",
    "My model (hand made) (the previous one) had 82.2% of accuracy.   \n",
    "Lets see how this VGG16 will do  \n",
    "\n",
    "2023/01/30 2027i let get init  "
   ]
  },
  {
   "cell_type": "code",
   "execution_count": 33,
   "metadata": {},
   "outputs": [],
   "source": [
    "import torch\n",
    "import torchvision\n",
    "import torchvision.transforms as transforms\n",
    "import torch.optim as optim\n",
    "import time\n",
    "import torch.nn.functional as F\n",
    "import torch.nn as nn\n",
    "import matplotlib.pyplot as plt\n",
    "from torchvision import models"
   ]
  },
  {
   "cell_type": "code",
   "execution_count": 34,
   "metadata": {},
   "outputs": [
    {
     "name": "stdout",
     "output_type": "stream",
     "text": [
      "Apple device detected\n",
      "Activating Apple Silicon GPU\n"
     ]
    }
   ],
   "source": [
    "#GPU\n",
    "import torch\n",
    "\n",
    "if torch.cuda.is_available():\n",
    "    device = 'cuda'\n",
    "    device_count = torch.cuda.device_count()\n",
    "    if device_count > 1:\n",
    "        # GPU's\n",
    "        templist = [1, 2, 3]\n",
    "        templist = torch.FloatTensor(templist).to(device)\n",
    "        print(\"Cuda torch working: \", end=\"\")\n",
    "        print(templist.is_cuda)\n",
    "        print(\"GPU device count: \", end=\"\")\n",
    "        print(device_count)\n",
    "        for i in range(device_count):\n",
    "            print(\"GPU name {}: {}\".format(i, torch.cuda.get_device_name(i)))\n",
    "        print(\"current device no.: \", end=\"\")\n",
    "        print(torch.cuda.current_device())\n",
    "    else:\n",
    "        # A GPU\n",
    "        print(\"Cuda torch working: \", end=\"\")\n",
    "        print(torch.cuda.is_available())\n",
    "        print(\"GPU device count: \", end=\"\")\n",
    "        print(device_count)\n",
    "        print(\"GPU name: \", end=\"\")\n",
    "        print(torch.cuda.get_device_name(0))\n",
    "        print(\"current device no.: \", end=\"\")\n",
    "        print(torch.cuda.current_device())\n",
    "else:\n",
    "    if torch.backends.mps.is_available():\n",
    "        print(\"Apple device detected\\nActivating Apple Silicon GPU\")\n",
    "        device = torch.device(\"mps\")\n",
    "    else:\n",
    "        print(\"Cannot use GPU, activating CPU\")\n",
    "        device = 'cpu'\n"
   ]
  },
  {
   "attachments": {},
   "cell_type": "markdown",
   "metadata": {},
   "source": [
    "#### Data\n",
    "since the VGG16 uses 224 x 224 model and CIFAR10 is 32x32 we have to change the CIFAR10 size to 224x224  "
   ]
  },
  {
   "cell_type": "code",
   "execution_count": 35,
   "metadata": {},
   "outputs": [
    {
     "name": "stdout",
     "output_type": "stream",
     "text": [
      "Files already downloaded and verified\n",
      "Files already downloaded and verified\n"
     ]
    }
   ],
   "source": [
    "num_subprocesses = 8 ###CHANGE (REDUCE) VALUE IF ERROR###\n",
    "transform = transforms.Compose(\n",
    "    [transforms.Resize((224, 224)),\n",
    "    transforms.ToTensor(),\n",
    "    transforms.Normalize((0.5, 0.5, 0.5), (0.5, 0.5, 0.5))])\n",
    "\n",
    "trainset = torchvision.datasets.CIFAR10(root='./data', train=True,\n",
    "                                        download=True, transform=transform)\n",
    "trainloader = torch.utils.data.DataLoader(trainset, batch_size=32,\n",
    "                                        shuffle=True, num_workers=num_subprocesses)\n",
    "\n",
    "testset = torchvision.datasets.CIFAR10(root='./data', train=False,\n",
    "                                        download=True, transform=transform)\n",
    "testloader = torch.utils.data.DataLoader(testset, batch_size=32,\n",
    "                                        shuffle=False, num_workers=num_subprocesses)\n"
   ]
  },
  {
   "attachments": {},
   "cell_type": "markdown",
   "metadata": {},
   "source": [
    "#### VGG\n",
    "I will use the predtrained vgg  \n",
    "The default out features of vgg16 is 1000. But we need only one.  \n",
    "So we will need line no 5. to change the out features to 10  \n",
    "And since we will not change the parameters we will not require grad  \n",
    "  \n"
   ]
  },
  {
   "cell_type": "code",
   "execution_count": 36,
   "metadata": {},
   "outputs": [
    {
     "name": "stdout",
     "output_type": "stream",
     "text": [
      "VGG(\n",
      "  (features): Sequential(\n",
      "    (0): Conv2d(3, 64, kernel_size=(3, 3), stride=(1, 1), padding=(1, 1))\n",
      "    (1): ReLU(inplace=True)\n",
      "    (2): Conv2d(64, 64, kernel_size=(3, 3), stride=(1, 1), padding=(1, 1))\n",
      "    (3): ReLU(inplace=True)\n",
      "    (4): MaxPool2d(kernel_size=2, stride=2, padding=0, dilation=1, ceil_mode=False)\n",
      "    (5): Conv2d(64, 128, kernel_size=(3, 3), stride=(1, 1), padding=(1, 1))\n",
      "    (6): ReLU(inplace=True)\n",
      "    (7): Conv2d(128, 128, kernel_size=(3, 3), stride=(1, 1), padding=(1, 1))\n",
      "    (8): ReLU(inplace=True)\n",
      "    (9): MaxPool2d(kernel_size=2, stride=2, padding=0, dilation=1, ceil_mode=False)\n",
      "    (10): Conv2d(128, 256, kernel_size=(3, 3), stride=(1, 1), padding=(1, 1))\n",
      "    (11): ReLU(inplace=True)\n",
      "    (12): Conv2d(256, 256, kernel_size=(3, 3), stride=(1, 1), padding=(1, 1))\n",
      "    (13): ReLU(inplace=True)\n",
      "    (14): Conv2d(256, 256, kernel_size=(3, 3), stride=(1, 1), padding=(1, 1))\n",
      "    (15): ReLU(inplace=True)\n",
      "    (16): MaxPool2d(kernel_size=2, stride=2, padding=0, dilation=1, ceil_mode=False)\n",
      "    (17): Conv2d(256, 512, kernel_size=(3, 3), stride=(1, 1), padding=(1, 1))\n",
      "    (18): ReLU(inplace=True)\n",
      "    (19): Conv2d(512, 512, kernel_size=(3, 3), stride=(1, 1), padding=(1, 1))\n",
      "    (20): ReLU(inplace=True)\n",
      "    (21): Conv2d(512, 512, kernel_size=(3, 3), stride=(1, 1), padding=(1, 1))\n",
      "    (22): ReLU(inplace=True)\n",
      "    (23): MaxPool2d(kernel_size=2, stride=2, padding=0, dilation=1, ceil_mode=False)\n",
      "    (24): Conv2d(512, 512, kernel_size=(3, 3), stride=(1, 1), padding=(1, 1))\n",
      "    (25): ReLU(inplace=True)\n",
      "    (26): Conv2d(512, 512, kernel_size=(3, 3), stride=(1, 1), padding=(1, 1))\n",
      "    (27): ReLU(inplace=True)\n",
      "    (28): Conv2d(512, 512, kernel_size=(3, 3), stride=(1, 1), padding=(1, 1))\n",
      "    (29): ReLU(inplace=True)\n",
      "    (30): MaxPool2d(kernel_size=2, stride=2, padding=0, dilation=1, ceil_mode=False)\n",
      "  )\n",
      "  (avgpool): AdaptiveAvgPool2d(output_size=(7, 7))\n",
      "  (classifier): Sequential(\n",
      "    (0): Linear(in_features=25088, out_features=4096, bias=True)\n",
      "    (1): ReLU(inplace=True)\n",
      "    (2): Dropout(p=0.5, inplace=False)\n",
      "    (3): Linear(in_features=4096, out_features=4096, bias=True)\n",
      "    (4): ReLU(inplace=True)\n",
      "    (5): Dropout(p=0.5, inplace=False)\n",
      "    (6): Linear(in_features=4096, out_features=10, bias=True)\n",
      "  )\n",
      ")\n"
     ]
    }
   ],
   "source": [
    "vgg16 = models.vgg16(pretrained=True)\n",
    "\n",
    "# if multiple GPUs are available, wrap model with DataParallel \n",
    "if torch.cuda.device_count() > 1:\n",
    "    print(\"Using\", torch.cuda.device_count(), \"GPUs\")\n",
    "    vgg16 = nn.DataParallel(vgg16)\n",
    "\n",
    "vgg16.to(device)\n",
    "\n",
    "\n",
    "# change the number of classes \n",
    "vgg16.classifier[6].out_features = 10\n",
    "\n",
    "# freeze convolution weights\n",
    "# BUT convolutional layers WILL learn // allowing the model to focus on learning the mapping between the extracted features and the output predictions\n",
    "for param in vgg16.features.parameters():\n",
    "    param.requires_grad = False\n",
    "\n",
    "print(vgg16)"
   ]
  },
  {
   "attachments": {},
   "cell_type": "markdown",
   "metadata": {},
   "source": [
    "#### LOSS and Optim\n"
   ]
  },
  {
   "cell_type": "code",
   "execution_count": 37,
   "metadata": {},
   "outputs": [],
   "source": [
    "criterion = nn.CrossEntropyLoss()\n",
    "optimizer = optim.SGD(vgg16.classifier.parameters(), lr=0.001, momentum=0.9)"
   ]
  },
  {
   "cell_type": "code",
   "execution_count": 38,
   "metadata": {},
   "outputs": [],
   "source": [
    "#validation function\n",
    "def validate(model, test_dataloader):\n",
    "    model.eval()\n",
    "    val_running_loss = 0.0\n",
    "    val_running_correct = 0\n",
    "    for int, data in enumerate(test_dataloader):\n",
    "        data, target = data[0].to(device), data[1].to(device)\n",
    "        output = model(data)\n",
    "        loss = criterion(output, target)\n",
    "        \n",
    "        val_running_loss += loss.item()\n",
    "        _, preds = torch.max(output.data, 1)\n",
    "        val_running_correct += (preds == target).sum().item()\n",
    "    \n",
    "    val_loss = val_running_loss/len(test_dataloader.dataset)\n",
    "    val_accuracy = 100. * val_running_correct/len(test_dataloader.dataset)\n",
    "    \n",
    "    return val_loss, val_accuracy"
   ]
  },
  {
   "cell_type": "code",
   "execution_count": 39,
   "metadata": {},
   "outputs": [],
   "source": [
    "# training function\n",
    "def train(model, train_dataloader):\n",
    "    model.train()\n",
    "    train_running_loss = 0.0\n",
    "    train_running_correct = 0\n",
    "    for i, data in enumerate(train_dataloader):\n",
    "        data, target = data[0].to(device), data[1].to(device)\n",
    "        optimizer.zero_grad()\n",
    "        output = model(data)\n",
    "        loss = criterion(output, target)\n",
    "        train_running_loss += loss.item()\n",
    "        _, preds = torch.max(output.data, 1)\n",
    "        train_running_correct += (preds == target).sum().item()\n",
    "        loss.backward()\n",
    "        optimizer.step()\n",
    "    train_loss = train_running_loss/len(train_dataloader.dataset)\n",
    "    train_accuracy = 100. * train_running_correct/len(train_dataloader.dataset)\n",
    "\n",
    "    #print('Train Loss: %.4f'%train_loss)\n",
    "    \n",
    "    return train_loss, train_accuracy"
   ]
  },
  {
   "cell_type": "code",
   "execution_count": 40,
   "metadata": {},
   "outputs": [
    {
     "name": "stdout",
     "output_type": "stream",
     "text": [
      "Train Loss : 0.025698/  Train Acc : 73.24/  Val Loss : 0.015397/  Val Acc : 83.25\n",
      "34 minutes 30 seconds\n"
     ]
    }
   ],
   "source": [
    "NB_EPOCH = 1\n",
    "\n",
    "# Set the initial best validation accuracy to 0\n",
    "best_val_accuracy = 0.0\n",
    "\n",
    "# Initialize the best model state dictionary\n",
    "best_model_state_dict = None\n",
    "\n",
    "train_loss , train_accuracy = [], []\n",
    "val_loss , val_accuracy = [], []\n",
    "start = time.time()\n",
    "for epoch in range(NB_EPOCH):\n",
    "    train_epoch_loss, train_epoch_accuracy = train(vgg16, trainloader)\n",
    "    val_epoch_loss, val_epoch_accuracy = validate(vgg16, testloader)\n",
    "    print(\"Train Loss : %f/  Train Acc : %.2f/  Val Loss : %f/  Val Acc : %.2f\"%(train_epoch_loss,train_epoch_accuracy,val_epoch_loss,val_epoch_accuracy))\n",
    "    train_loss.append(train_epoch_loss)\n",
    "    train_accuracy.append(train_epoch_accuracy)\n",
    "    val_loss.append(val_epoch_loss)\n",
    "    val_accuracy.append(val_epoch_accuracy)\n",
    "\n",
    "    #print(\"Train Acc : %f\"%train_accuracy,\"Val Acc : %f\"%val_accuracy)\n",
    "        # Check if the current validation accuracy is better than the previous best\n",
    "    if val_epoch_accuracy > best_val_accuracy:\n",
    "        # Update the best validation accuracy\n",
    "        best_val_accuracy = val_epoch_accuracy\n",
    "\n",
    "        # Save the state dictionary of the current best model\n",
    "        best_model_state_dict = vgg16.state_dict()\n",
    "\n",
    "\n",
    "        \n",
    "# Save the best model state dictionary to a file\n",
    "torch.save(best_model_state_dict, \"vgg16CIFAR.pth\")\n",
    "    \n",
    "end = time.time()\n",
    "\n",
    "print(int((end-start)//60), 'minutes', int((end-start)%60), 'seconds')"
   ]
  },
  {
   "cell_type": "code",
   "execution_count": 41,
   "metadata": {},
   "outputs": [
    {
     "name": "stdout",
     "output_type": "stream",
     "text": [
      "<class 'collections.OrderedDict'>\n"
     ]
    }
   ],
   "source": [
    "loaded_data = torch.load('vgg16CIFAR.pth')\n",
    "\n",
    "# If the loaded data is a model state dictionary, it should be a python dictionary\n",
    "print(type(loaded_data))\n"
   ]
  },
  {
   "cell_type": "code",
   "execution_count": 53,
   "metadata": {},
   "outputs": [
    {
     "name": "stderr",
     "output_type": "stream",
     "text": [
      "100%|█████████▉| 9375/9376 [2:47:09<00:01,  1.07s/it]     \n"
     ]
    },
    {
     "ename": "RuntimeError",
     "evalue": "torch.cat(): expected a non-empty list of Tensors",
     "output_type": "error",
     "traceback": [
      "\u001b[0;31m---------------------------------------------------------------------------\u001b[0m",
      "\u001b[0;31mRuntimeError\u001b[0m                              Traceback (most recent call last)",
      "Cell \u001b[0;32mIn[53], line 54\u001b[0m\n\u001b[1;32m     51\u001b[0m     batch_tensors\u001b[39m.\u001b[39mappend(image_tensor)\n\u001b[1;32m     53\u001b[0m \u001b[39m# Concatenate the batch\u001b[39;00m\n\u001b[0;32m---> 54\u001b[0m batch_tensors \u001b[39m=\u001b[39m torch\u001b[39m.\u001b[39;49mcat(batch_tensors, dim\u001b[39m=\u001b[39;49m\u001b[39m0\u001b[39;49m)\u001b[39m.\u001b[39mto(device)\n\u001b[1;32m     56\u001b[0m \u001b[39m# Predict the classes of the images\u001b[39;00m\n\u001b[1;32m     57\u001b[0m outputs \u001b[39m=\u001b[39m vgg16(batch_tensors)\n",
      "\u001b[0;31mRuntimeError\u001b[0m: torch.cat(): expected a non-empty list of Tensors"
     ]
    }
   ],
   "source": [
    "###############Not Tested\n",
    "import os\n",
    "import pandas as pd\n",
    "from PIL import Image\n",
    "from torch.autograd import Variable\n",
    "from tqdm import tqdm\n",
    "\n",
    "# Class labels for CIFAR-10\n",
    "classes = ('plane', 'car', 'bird', 'cat', 'deer', 'dog', 'frog', 'horse', 'ship', 'truck')\n",
    "\n",
    "# Load trained VGG16 model\n",
    "# ... (This part is in your original code)\n",
    "\n",
    "# Load the pre-trained weights\n",
    "model_checkpoint = \"vgg16CIFAR.pth\"\n",
    "vgg16.load_state_dict(torch.load(model_checkpoint))\n",
    "\n",
    "# Make sure to do this before inference\n",
    "vgg16.eval()\n",
    "vgg16.to(device)\n",
    "\n",
    "# Path to your new images\n",
    "image_path = './test/test/'\n",
    "image_files = os.listdir(image_path)\n",
    "\n",
    "# Prepare to record the results\n",
    "results = []\n",
    "\n",
    "# Set batch size\n",
    "batch_size = 32  # Adjust this value according to your GPU memory\n",
    "\n",
    "# Prepare batches\n",
    "num_batches = len(image_files) // batch_size + 1\n",
    "\n",
    "for b in tqdm(range(num_batches)):\n",
    "\n",
    "    # Prepare the batch\n",
    "    batch = image_files[b*batch_size: (b+1)*batch_size]\n",
    "    batch_tensors = []\n",
    "    \n",
    "    for image_file in batch:\n",
    "        # Open image\n",
    "        image = Image.open(os.path.join(image_path, image_file))\n",
    "\n",
    "        # Apply the same transformations as you did for your training images\n",
    "        image_tensor = transform(image).float()\n",
    "\n",
    "        # Add an extra batch dimension since pytorch treats all images as batches\n",
    "        image_tensor = image_tensor.unsqueeze_(0)\n",
    "\n",
    "        batch_tensors.append(image_tensor)\n",
    "    \n",
    "    # Concatenate the batch\n",
    "    batch_tensors = torch.cat(batch_tensors, dim=0).to(device)\n",
    "\n",
    "    # Predict the classes of the images\n",
    "    outputs = vgg16(batch_tensors)\n",
    "    _, predicted = torch.max(outputs, 1)\n",
    "    \n",
    "    for i, predict in enumerate(predicted):\n",
    "        results.append([(b*batch_size)+i+1, classes[predict.item()]])\n",
    "\n",
    "# Save results to csv file\n",
    "df = pd.DataFrame(results, columns=['id', 'label'])\n",
    "df.to_csv('sampleSubmission.csv', index=False)"
   ]
  },
  {
   "cell_type": "code",
   "execution_count": 49,
   "metadata": {},
   "outputs": [],
   "source": [
    "# import os\n",
    "# import pandas as pd\n",
    "# from PIL import Image\n",
    "# from torch.autograd import Variable\n",
    "# from tqdm import tqdm\n",
    "\n",
    "# # Class labels for CIFAR-10\n",
    "# classes = ('plane', 'car', 'bird', 'cat',\n",
    "#            'deer', 'dog', 'frog', 'horse', 'ship', 'truck')\n",
    "\n",
    "# # Load trained VGG16 model\n",
    "# # ... (This part is in your original code)\n",
    "\n",
    "# # Load the pre-trained weights\n",
    "# model_checkpoint = \"vgg16CIFAR.pth\"\n",
    "# vgg16.load_state_dict(torch.load(model_checkpoint))\n",
    "\n",
    "# # Make sure to do this before inference\n",
    "# vgg16.eval()\n",
    "# vgg16.to(device)\n",
    "\n",
    "# # Path to your new images\n",
    "# image_path = './test/test/'\n",
    "# image_files = os.listdir(image_path)\n",
    "\n",
    "# # Prepare to record the results\n",
    "# results = []\n",
    "\n",
    "# # Process each image one by one (You can modify this part to batch processing)\n",
    "# for i, image_file in tqdm(enumerate(image_files)):\n",
    "#     # Open image\n",
    "#     image = Image.open(os.path.join(image_path, image_file))\n",
    "\n",
    "#     # Apply the same transformations as you did for your training images\n",
    "#     image_tensor = transform(image).float()\n",
    "\n",
    "#     # Add an extra batch dimension since pytorch treats all images as batches\n",
    "#     image_tensor = image_tensor.unsqueeze_(0)\n",
    "\n",
    "#     # Move the tensor to GPU if available\n",
    "#     image_tensor = image_tensor.to(device)\n",
    "\n",
    "#     # Turn the input into a Variable\n",
    "#     input = Variable(image_tensor)\n",
    "\n",
    "#     # Predict the class of the image\n",
    "#     output = vgg16(input)\n",
    "#     _, predicted = torch.max(output, 1)\n",
    "#     results.append([i+1, classes[predicted.item()]])\n",
    "\n",
    "\n",
    "# # Save results to csv file\n",
    "# df = pd.DataFrame(results, columns=['id', 'label'])\n",
    "# df.to_csv('sampleSubmission.csv', index=False)"
   ]
  },
  {
   "cell_type": "code",
   "execution_count": 50,
   "metadata": {},
   "outputs": [
    {
     "data": {
      "image/png": "[encoded data removed]",
      "text/plain": [
       "<Figure size 1000x700 with 1 Axes>"
      ]
     },
     "metadata": {},
     "output_type": "display_data"
    }
   ],
   "source": [
    "plt.figure(figsize=(10, 7))\n",
    "plt.plot(train_accuracy, color='green', label='train accuracy')\n",
    "plt.plot(val_accuracy, color='blue', label='validataion accuracy')\n",
    "plt.legend()\n",
    "plt.savefig('accuracy.png')\n",
    "plt.show()"
   ]
  },
  {
   "cell_type": "code",
   "execution_count": null,
   "metadata": {},
   "outputs": [
    {
     "data": {
      "image/png": "[encoded data removed]",
      "text/plain": [
       "<Figure size 1000x700 with 1 Axes>"
      ]
     },
     "metadata": {},
     "output_type": "display_data"
    }
   ],
   "source": [
    "plt.figure(figsize=(10, 7))\n",
    "plt.plot(train_loss, color='orange', label='train loss')\n",
    "plt.plot(val_loss, color='red', label='validataion loss')\n",
    "plt.legend()\n",
    "plt.savefig('loss.png')\n",
    "plt.show()"
   ]
  }
 ],
 "metadata": {
  "kernelspec": {
   "display_name": "base",
   "language": "python",
   "name": "python3"
  },
  "language_info": {
   "codemirror_mode": {
    "name": "ipython",
    "version": 3
   },
   "file_extension": ".py",
   "mimetype": "text/x-python",
   "name": "python",
   "nbconvert_exporter": "python",
   "pygments_lexer": "ipython3",
   "version": "3.11.4"
  },
  "orig_nbformat": 4,
  "vscode": {
   "interpreter": {
    "hash": "ad2bdc8ecc057115af97d19610ffacc2b4e99fae6737bb82f5d7fb13d2f2c186"
   }
  }
 },
 "nbformat": 4,
 "nbformat_minor": 2
}
