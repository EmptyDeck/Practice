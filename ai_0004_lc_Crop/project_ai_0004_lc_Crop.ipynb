{
 "cells": [
  {
   "cell_type": "code",
   "execution_count": 1,
   "metadata": {},
   "outputs": [
    {
     "name": "stdout",
     "output_type": "stream",
     "text": [
      "[[0, 'apple'], [1, 'banana'], [2, 'blackgram'], [3, 'chickpea'], [4, 'coconut'], [5, 'coffee'], [6, 'cotton'], [7, 'grapes'], [8, 'jute'], [9, 'kidneybeans'], [10, 'lentil'], [11, 'maize'], [12, 'mango'], [13, 'mothbeans'], [14, 'mungbean'], [15, 'muskmelon'], [16, 'orange'], [17, 'papaya'], [18, 'pigeonpeas'], [19, 'pomegranate'], [20, 'rice'], [21, 'watermelon']]\n",
      "torch.Size([2200, 7])\n",
      "torch.Size([2200, 22])\n"
     ]
    }
   ],
   "source": [
    "import csv\n",
    "import numpy as np\n",
    "import torch\n",
    "\n",
    "\n",
    "f =  open(\"C:/Users/OWO/Documents/AA_CODE/@Projects/Projects/ai_0004_lc_Crop/Crop_recommendation.csv\")\n",
    "read = csv.reader(f)\n",
    "\n",
    "#data to list\n",
    "data = []\n",
    "for row in read:\n",
    "  data.append(row)\n",
    "\n",
    "#changing str to float\n",
    "x_train_data = [[float(data[row+1][col]) for col in range(len(data[0])-1)] for row in range(len(data[:])-1)]#-1 in col is for the last crop data +-1 in row is for the first row legend\n",
    "#print(x_train_data)\n",
    "\n",
    "#getting y train data\n",
    "y_train_data = [[data[row+1][len(data[0])-1] for col in range(1)] for row in range(len(data[:])-1)]\n",
    "#print(y_train_data)\n",
    "\n",
    "#counting kinds\n",
    "def counting_kinds(list):\n",
    "  list.sort()\n",
    "  temp = list[0][0]\n",
    "  cnt = 0\n",
    "  kindlist = [[cnt,temp]]\n",
    "  for i in range(len(list)):\n",
    "    if list[i][0] != temp:\n",
    "      temp = list[i][0]\n",
    "      cnt = cnt + 1\n",
    "      kindlist.append([cnt,temp])\n",
    "  return kindlist\n",
    "def kinds_to_num(ylist,kindlist):\n",
    "  list_train = [[0 for col in range(22)] for row in range(len(ylist))]\n",
    "  for i in range(len(ylist)):\n",
    "    for j in range(len(kindlist)):\n",
    "      if ylist[i][0] == kindlist[j][1]:\n",
    "        list_train[i][j] = 1\n",
    "  return list_train\n",
    "\n",
    "\n",
    "\n",
    "print(counting_kinds(y_train_data))#its 22 kinds of crops\n",
    "kindlist = counting_kinds(y_train_data)\n",
    "y_train_data = [[data[row+1][len(data[0])-1] for col in range(1)] for row in range(len(data[:])-1)]\n",
    "#print(y_train_data)\n",
    "y_ones_train= kinds_to_num(y_train_data,kindlist)##this is the one with 22 col and 2200 row \n",
    "#print(len(y_ones_train))\n",
    "f.close()\n",
    "\n",
    "\n",
    "\n",
    "\n",
    "\n",
    "##DATA\n",
    "\n",
    "x_train_data = torch.Tensor(x_train_data)\n",
    "y_ones_train = torch.Tensor(y_ones_train)\n",
    "\n",
    "print(x_train_data.size())\n",
    "print(y_ones_train.size())"
   ]
  },
  {
   "attachments": {},
   "cell_type": "markdown",
   "metadata": {},
   "source": [
    "# Hareware"
   ]
  },
  {
   "cell_type": "code",
   "execution_count": 2,
   "metadata": {},
   "outputs": [
    {
     "name": "stdout",
     "output_type": "stream",
     "text": [
      "Cude torch working : True\n",
      "current device no. : 0\n",
      "GPU device count : 1\n",
      "GPU name : NVIDIA GeForce GTX 1080\n",
      "device :  cuda\n"
     ]
    }
   ],
   "source": [
    "##Hardwere\n",
    "import torch\n",
    "if torch.cuda.is_available() == True:\n",
    "  device = 'cuda'\n",
    "  templist = [1,2,3]\n",
    "  templist = torch.FloatTensor(templist).to(device)\n",
    "  print(\"Cude torch working : \",end=\"\")\n",
    "  print(templist.is_cuda)\n",
    "  print(\"current device no. : \",end=\"\")\n",
    "  print(torch.cuda.current_device())\n",
    "  print(\"GPU device count : \",end=\"\")\n",
    "  print(torch.cuda.device_count())\n",
    "  print(\"GPU name : \",end=\"\")\n",
    "  print(torch.cuda.get_device_name(0))\n",
    "  print(\"device : \",device)\n",
    "else:\n",
    "  print(\"cant use gpu , activating cpu\")\n",
    "  device = 'cpu'"
   ]
  },
  {
   "attachments": {},
   "cell_type": "markdown",
   "metadata": {},
   "source": [
    "# ML"
   ]
  },
  {
   "cell_type": "code",
   "execution_count": 3,
   "metadata": {},
   "outputs": [
    {
     "name": "stdout",
     "output_type": "stream",
     "text": [
      "GPU Status Working Well\n",
      "In LR : 1E-02 the cost is : 0.058110\n"
     ]
    }
   ],
   "source": [
    "import torch\n",
    "\n",
    "#Hardware\n",
    "print(\"GPU Status \",end=\"\")\n",
    "print(\"Working Well\") if torch.cuda.is_available() else print(\"Not good, Activating CPU calculation\")\n",
    "device = 'cuda' if torch.cuda.is_available() else 'cpu'\n",
    "\n",
    "x_train_data.to(device=device)\n",
    "y_ones_train.to(device=device)\n",
    "\n",
    "feature = 7\n",
    "nb_class = 22\n",
    "\n",
    "\n",
    "#lr_list = [1,1e-1,1e-2,1e-3,1e-4,1e-5,1e-6,1e-7,1e-8,1e-9]\n",
    "lr_list = [1e-2]\n",
    "for LR in lr_list:\n",
    "\n",
    "  W = torch.zeros((feature,nb_class),requires_grad=True)\n",
    "  b = torch.zeros(22,requires_grad=True)\n",
    "\n",
    "  #set optimizer\n",
    "  optimizer = torch.optim.SGD([W,b],lr=LR)\n",
    "  nb_epochs = 10000\n",
    "  \n",
    "  #learning\n",
    "  for epoch in range(nb_epochs +1 ):\n",
    "    #hypothesis = torch.nn.functional.softmax(torch.matmul(x_train_data,W) + b) #turns out sigmoid is better\n",
    "    hypothesis = torch.sigmoid(torch.matmul(x_train_data,W) + b)\n",
    "\n",
    "    #cost = (y_ones_train * -torch.log(torch.nn.functional.softmax(hypothesis,dim=1))).sum(dim=1).mean()\n",
    "    loss = torch.nn.BCELoss()\n",
    "    cost = loss(hypothesis,y_ones_train)\n",
    "\n",
    "    optimizer.zero_grad()\n",
    "    cost.backward()\n",
    "    optimizer.step()\n",
    "    \n",
    "  hypothesis_tolist = hypothesis.tolist()\n",
    "  #for i in range(2200):\n",
    "    #print(\"in LR :\",LR,\"data :\",i,\"is\",kindlist[hypothesis_tolist[i].index(max(hypothesis_tolist[i]))][1],\"with %.2f\"%max(hypothesis_tolist[i])*100,\"%\"+\" COST : %.3f\"%cost.item())\n",
    "    #print(\"In LR : %.0E data : %d is %s with %.2f \"%\" COST : %.3f\"%(LR,i,kindlist[hypothesis_tolist[i].index(max(hypothesis_tolist[i]))][1],max(hypothesis_tolist[i])*100,cost.item()))\n",
    "  print(\"In LR : %.0E the cost is : %f\"%(LR,cost.item()))\n",
    "  "
   ]
  },
  {
   "attachments": {},
   "cell_type": "markdown",
   "metadata": {},
   "source": [
    "# LR\n",
    "In LR : 1E+00 the cost is : 4.545455\n",
    "\n",
    "In LR : 1E-01 the cost is : 1.848365\n",
    "\n",
    "In LR : 1E-02 the cost is : 0.074471\n",
    "\n",
    "In LR : 1E-03 the cost is : 0.106367\n",
    "\n",
    "In LR : 1E-04 the cost is : 0.161250\n",
    "\n",
    "In LR : 1E-05 the cost is : 0.231938\n",
    "\n",
    "In LR : 1E-06 the cost is : 0.520766\n",
    "\n",
    "In LR : 1E-07 the cost is : 0.670983\n",
    "\n",
    "In LR : 1E-08 the cost is : 0.690871\n",
    "\n",
    "In LR : 1E-09 the cost is : 0.692919"
   ]
  },
  {
   "attachments": {},
   "cell_type": "markdown",
   "metadata": {},
   "source": [
    "# Data evaluation"
   ]
  },
  {
   "cell_type": "code",
   "execution_count": 4,
   "metadata": {},
   "outputs": [
    {
     "name": "stdout",
     "output_type": "stream",
     "text": [
      "Accuracy : 92.36363636363636 %\n"
     ]
    }
   ],
   "source": [
    "prediction = torch.argmax(hypothesis,dim=1)#argmax returns the INDEX #dim = 0 means max in column // dim = 1 means max in row\n",
    "\n",
    "evaluation = torch.argmax(y_ones_train,dim=1) == prediction\n",
    "print(\"Accuracy : \",end=\"\")\n",
    "print(evaluation.sum().item()/len(evaluation)*100,\"%\")"
   ]
  },
  {
   "attachments": {},
   "cell_type": "markdown",
   "metadata": {},
   "source": [
    "# Result Program"
   ]
  },
  {
   "cell_type": "code",
   "execution_count": 6,
   "metadata": {},
   "outputs": [
    {
     "name": "stdout",
     "output_type": "stream",
     "text": [
      "Wellcome to match crop\n",
      " you will input 7 features of your environment and we will match your best crop\n",
      "input the ratio of Nitrogen content in soil\n",
      "input the ratio of Phosphorous content in soil\n",
      "input the ratio of Potassium content in soil\n",
      "input the temperature in degree Celsius\n",
      "input the relative humidity in %\n",
      "input the ph value of the soil\n",
      "input rainfall in mm\n",
      " We recommend you : rice\n"
     ]
    }
   ],
   "source": [
    "print(\"Wellcome to match crop\\n you will input 7 features of your environment and we will match your best crop\")\n",
    "\n",
    "dialog = [\"input the ratio of Nitrogen content in soil\",\"input the ratio of Phosphorous content in soil\",\"input the ratio of Potassium content in soil\",\"input the temperature in degree Celsius\",\"input the relative humidity in %\",\"input the ph value of the soil\",\"input rainfall in mm\"]\n",
    "new_train_data = []\n",
    "\n",
    "for i in range(7):\n",
    "  print(dialog[i])\n",
    "  new_train_data.append(float(input()))\n",
    "#print(new_train_data)\n",
    "\n",
    "\n",
    "new_train_data = torch.Tensor(new_train_data)\n",
    "\n",
    "hypothesis = torch.sigmoid(torch.matmul(new_train_data,W) + b)\n",
    "print(\" We recommend you : \",end=\"\")\n",
    "print(kindlist[torch.argmax(hypothesis).item()][1])\n"
   ]
  },
  {
   "attachments": {},
   "cell_type": "markdown",
   "metadata": {},
   "source": [
    "# End\n",
    "\n",
    "now... its 2023/01/19 0033i\n",
    "\n",
    "\n",
    "It took a long time because I was stuck on a lot of things, like the CSV file. \n",
    "\n",
    "It was hard to make a proper list, and it was a bit unorganized because I was trying to figure out how to convert a string to a number list.\n",
    "\n",
    "The new thing I realized I was missing was that I had applied the softmax function to my hypothesis twice, which resulted in only 60% accuracy. \n",
    "\n",
    "Nonetheless, I fixed it.\n",
    "\n",
    "The most difficult part was definitely the CSV. But through it all, I learned a lot"
   ]
  }
 ],
 "metadata": {
  "kernelspec": {
   "display_name": "base",
   "language": "python",
   "name": "python3"
  },
  "language_info": {
   "codemirror_mode": {
    "name": "ipython",
    "version": 3
   },
   "file_extension": ".py",
   "mimetype": "text/x-python",
   "name": "python",
   "nbconvert_exporter": "python",
   "pygments_lexer": "ipython3",
   "version": "3.9.13"
  },
  "orig_nbformat": 4,
  "vscode": {
   "interpreter": {
    "hash": "ad2bdc8ecc057115af97d19610ffacc2b4e99fae6737bb82f5d7fb13d2f2c186"
   }
  }
 },
 "nbformat": 4,
 "nbformat_minor": 2
}
