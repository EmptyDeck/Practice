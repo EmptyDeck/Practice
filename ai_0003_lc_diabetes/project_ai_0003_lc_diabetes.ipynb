{
 "cells": [
  {
   "attachments": {},
   "cell_type": "markdown",
   "metadata": {},
   "source": [
    "## Diabetes AI Project\n",
    "\n",
    "2023/01/17\n",
    "1726i\n",
    "\n",
    "lets code\n",
    "lets get init"
   ]
  },
  {
   "attachments": {},
   "cell_type": "markdown",
   "metadata": {},
   "source": [
    "# import data"
   ]
  },
  {
   "cell_type": "code",
   "execution_count": 13,
   "metadata": {},
   "outputs": [
    {
     "name": "stdout",
     "output_type": "stream",
     "text": [
      "718\n",
      "718\n"
     ]
    }
   ],
   "source": [
    "import csv\n",
    "import numpy as np\n",
    "import torch\n",
    "\n",
    "\n",
    "f =  open(\"C:/Users/OWO/Documents/AA_CODE/@Projects/Projects/ai_0003_lc_diabetes/diabetes.csv\")\n",
    "read = csv.reader(f)\n",
    "\n",
    "#data to list\n",
    "data = []\n",
    "for row in read:\n",
    "  data.append(row)\n",
    "\n",
    "#changing str to float\n",
    "del data[0]\n",
    "for column in range(len(data)):\n",
    "  for row in range(len(data[0])):\n",
    "    data[column][row] = float(data[column][row])\n",
    "  \n",
    "\n",
    "x_train_data = torch.Tensor(np.array(data)[:718,:-1])\n",
    "y_train_data = torch.Tensor(np.array(data)[:718,-1:])\n",
    "\n",
    "\"\"\"\n",
    "print(x_train_data.tolist())\n",
    "print(\"\\n\\n\\n\")\n",
    "print(y_train_data.tolist())\n",
    "\"\"\"\n",
    "print(len(x_train_data))\n",
    "print(len(y_train_data))\n",
    "f.close()"
   ]
  },
  {
   "attachments": {},
   "cell_type": "markdown",
   "metadata": {},
   "source": [
    "# Hardware check"
   ]
  },
  {
   "cell_type": "code",
   "execution_count": 14,
   "metadata": {},
   "outputs": [
    {
     "name": "stdout",
     "output_type": "stream",
     "text": [
      "Cude torch working : True\n",
      "current device no. : 0\n",
      "GPU device count : 1\n",
      "GPU name : NVIDIA GeForce GTX 1080\n",
      "device :  cuda\n"
     ]
    }
   ],
   "source": [
    "##Hardwere\n",
    "import torch\n",
    "if torch.cuda.is_available() == True:\n",
    "  device = 'cuda'\n",
    "  templist = [1,2,3]\n",
    "  templist = torch.FloatTensor(templist).to(device)\n",
    "  print(\"Cude torch working : \",end=\"\")\n",
    "  print(templist.is_cuda)\n",
    "  print(\"current device no. : \",end=\"\")\n",
    "  print(torch.cuda.current_device())\n",
    "  print(\"GPU device count : \",end=\"\")\n",
    "  print(torch.cuda.device_count())\n",
    "  print(\"GPU name : \",end=\"\")\n",
    "  print(torch.cuda.get_device_name(0))\n",
    "  print(\"device : \",device)\n",
    "else:\n",
    "  print(\"cant use gpu , activating cpu\")\n",
    "  device = 'cpu'"
   ]
  },
  {
   "attachments": {},
   "cell_type": "markdown",
   "metadata": {},
   "source": [
    "# ML"
   ]
  },
  {
   "cell_type": "code",
   "execution_count": 18,
   "metadata": {},
   "outputs": [
    {
     "name": "stdout",
     "output_type": "stream",
     "text": [
      "GPU Status Working Well\n",
      "LR : 1.000000E-04 cost : 0.617943\n"
     ]
    }
   ],
   "source": [
    "#original\n",
    "\n",
    "import torch\n",
    "import torch.optim as optim\n",
    "import torch.nn as nn\n",
    "\n",
    "#Hardware\n",
    "print(\"GPU Status \",end=\"\")\n",
    "print(\"Working Well\") if torch.cuda.is_available() else print(\"Not good, Activating CPU calculation\")\n",
    "device = 'cuda' if torch.cuda.is_available() else 'cpu'\n",
    "\n",
    "x_train_data = x_train_data.to(device)\n",
    "y_train_data = y_train_data.to(device)\n",
    "\n",
    "#lr_list = [1,1e-2,1e-3,1e-4,1e-5,1e-6,1e-7,1e-8,1e-9,1e-10,1e-11,1e-12,1e-13,1e-14,1e-15]\n",
    "lr_list = [1e-4]\n",
    "for LR in lr_list:\n",
    "\n",
    "  W = torch.zeros([8,1],requires_grad=True,device=device)\n",
    "  b = torch.zeros(1,requires_grad=True,device=device)\n",
    "  \n",
    "  optimizer = optim.SGD([W],lr = LR)\n",
    "  nb_epochs = 1000\n",
    "  \n",
    "  for epoch in range(nb_epochs + 1):\n",
    "    #H(x)\n",
    "    hypothesis = torch.sigmoid(torch.matmul(x_train_data,W) + b)\n",
    "    \n",
    "    #cost = -(((y_train_data * torch.log(hypothesis))) + ((1-y_train_data)*torch.log(1-hypothesis))).mean() #nan problem\n",
    "    loss = torch.nn.BCELoss()\n",
    "    cost = loss(hypothesis,y_train_data)\n",
    "    optimizer.zero_grad()\n",
    "    cost.backward()\n",
    "    optimizer.step()\n",
    "  \n",
    "#result\n",
    "  print(\"LR : %E cost : %f\"%(LR,cost.item()))\n",
    "  if torch.isfinite(cost):#if its not nan\n",
    "    #print(W.tolist(),b.tolist())\n",
    "    continue\n"
   ]
  },
  {
   "attachments": {},
   "cell_type": "markdown",
   "metadata": {},
   "source": [
    "# Many LR and results\n",
    "LR : 1.000000E+00 cost : 34.679665\n",
    "\n",
    "LR : 1.000000E-02 cost : 33.583466\n",
    "\n",
    "LR : 1.000000E-03 cost : 3.829255\n",
    "\n",
    "LR : 1.000000E-04 cost : 0.617943\n",
    "\n",
    "LR : 1.000000E-05 cost : 0.628474\n",
    "\n",
    "LR : 1.000000E-06 cost : 0.658451\n",
    "\n",
    "LR : 1.000000E-07 cost : 0.677100\n",
    "\n",
    "LR : 1.000000E-08 cost : 0.690457\n",
    "\n",
    "LR : 1.000000E-09 cost : 0.692861\n",
    "\n",
    "LR : 1.000000E-10 cost : 0.693118\n",
    "\n",
    "LR : 1.000000E-11 cost : 0.693144\n",
    "\n",
    "LR : 1.000000E-12 cost : 0.693147\n",
    "\n",
    "LR : 1.000000E-13 cost : 0.693147\n",
    "\n",
    "LR : 1.000000E-14 cost : 0.693147\n",
    "\n",
    "LR : 1.000000E-15 cost : 0.693147\n",
    "\n"
   ]
  },
  {
   "attachments": {},
   "cell_type": "markdown",
   "metadata": {},
   "source": [
    "## Evaluation"
   ]
  },
  {
   "cell_type": "code",
   "execution_count": 16,
   "metadata": {},
   "outputs": [
    {
     "name": "stdout",
     "output_type": "stream",
     "text": [
      "threshold :  0.1 accuracy :  38.0 %\n",
      "threshold :  0.2 accuracy :  42.0 %\n",
      "threshold :  0.3 accuracy :  50.0 %\n",
      "threshold :  0.4 accuracy :  68.0 %\n",
      "threshold :  0.5 accuracy :  66.0 %\n",
      "threshold :  0.6 accuracy :  62.0 %\n",
      "threshold :  0.7 accuracy :  62.0 %\n",
      "threshold :  0.8 accuracy :  62.0 %\n",
      "threshold :  0.9 accuracy :  62.0 %\n"
     ]
    }
   ],
   "source": [
    "#Getting the rest data 720~769\n",
    "import csv\n",
    "import numpy as np\n",
    "import torch\n",
    "\n",
    "f =  open(\"C:/Users/OWO/Documents/AA_CODE/@Projects/Projects/ai_0003_lc_diabetes/diabetes.csv\")\n",
    "read = csv.reader(f)\n",
    "\n",
    "#data to list\n",
    "data = []\n",
    "for row in read:\n",
    "  data.append(row)\n",
    "\n",
    "#changing str to float\n",
    "del data[0]\n",
    "for column in range(len(data)):\n",
    "  for row in range(len(data[0])):\n",
    "    data[column][row] = float(data[column][row])\n",
    "\n",
    "\n",
    "device = 'cuda' if torch.cuda.is_available() else 'cpu'\n",
    "\n",
    "\n",
    "x_test_data = torch.Tensor(np.array(data)[718:,:-1]).to(device)\n",
    "y_test_data = torch.Tensor(np.array(data)[718:,-1:]).to(device)\n",
    "\n",
    "#print(x_test_data.tolist())\n",
    "#print(y_test_data)\n",
    "#print(len(x_test_data))\n",
    "#print(len(y_test_data))\n",
    "\n",
    "f.close()\n",
    "threshold = [0.1,0.2,0.3,0.4,0.5,0.6,0.7,0.8,0.9]\n",
    "for num in threshold:\n",
    "  hypothesis = torch.sigmoid(torch.matmul(x_test_data,W)+b)#.to(device)#hypothesis\n",
    "  #print(hypothesis)\n",
    "  prediction = hypothesis >= torch.FloatTensor([num]).to(device)#making it to binary // prediction will be in true or false\n",
    "  correct_prediction = (prediction.float() == y_test_data) #if it matches it will be true  .float() will turn true to 1\n",
    "  print(\"threshold : \",num,\"accuracy : \",correct_prediction.sum().item()/len(correct_prediction)*100,\"%\")\n",
    "\n"
   ]
  },
  {
   "attachments": {},
   "cell_type": "markdown",
   "metadata": {},
   "source": [
    "# Result 68% accuracy"
   ]
  },
  {
   "attachments": {},
   "cell_type": "markdown",
   "metadata": {},
   "source": [
    "# End\n",
    "\n",
    "\n",
    "2023/01/18 1354i\n",
    "I am kind of disappointed that my accuracy is only 64%.\n",
    "But I learned a lot in this project.\n",
    "\n",
    "the data source : https://www.kaggle.com/code/mathchi/diagnostic-a-patient-has-diabetes"
   ]
  },
  {
   "cell_type": "code",
   "execution_count": null,
   "metadata": {},
   "outputs": [],
   "source": []
  }
 ],
 "metadata": {
  "kernelspec": {
   "display_name": "base",
   "language": "python",
   "name": "python3"
  },
  "language_info": {
   "codemirror_mode": {
    "name": "ipython",
    "version": 3
   },
   "file_extension": ".py",
   "mimetype": "text/x-python",
   "name": "python",
   "nbconvert_exporter": "python",
   "pygments_lexer": "ipython3",
   "version": "3.9.13 (main, Aug 25 2022, 23:51:50) [MSC v.1916 64 bit (AMD64)]"
  },
  "orig_nbformat": 4,
  "vscode": {
   "interpreter": {
    "hash": "ad2bdc8ecc057115af97d19610ffacc2b4e99fae6737bb82f5d7fb13d2f2c186"
   }
  }
 },
 "nbformat": 4,
 "nbformat_minor": 2
}
