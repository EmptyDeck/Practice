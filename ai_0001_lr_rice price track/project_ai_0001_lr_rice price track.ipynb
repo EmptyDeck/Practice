{
 "cells": [
  {
   "attachments": {},
   "cell_type": "markdown",
   "metadata": {},
   "source": [
    "## Project Rice price predection by ML\n",
    "\n",
    "2023/01/13 1633i I didnt do anything yet\n",
    "And I dont want to\n",
    "\n",
    "to make this we need to use multivariate liner regression\n",
    "\n",
    "lets get init"
   ]
  },
  {
   "attachments": {},
   "cell_type": "markdown",
   "metadata": {},
   "source": [
    "## import the price data as dim = 2 (with out yearly avrage)\n",
    "I made the code that you dont have to change the original scv file so this code could be used from other people and its easyer for me if I have to use it later\n",
    "\n",
    "the data tracks from 1996 bacuase that the oldest data from the rice price (kamis.or.kr)\n",
    "and we tracked untill 2021 because since we have to PREDICT we are going to predic the 2022 rice price\n",
    "lets see how it goes"
   ]
  },
  {
   "cell_type": "code",
   "execution_count": 2,
   "metadata": {},
   "outputs": [
    {
     "name": "stdout",
     "output_type": "stream",
     "text": [
      "total data count : 312\n"
     ]
    }
   ],
   "source": [
    "import csv\n",
    "\n",
    "data = []\n",
    "\n",
    "#f = open(\"C:/Users\\OWO\\Documents\\AA_CODE\\@Projects\\Projects\\ai_0001_lr_rice price track\\rice price data.xls\")\n",
    "f = open(\"C:/Users/OWO/Documents/AA_CODE/@Projects/Projects/ai_0001_lr_rice price track/rice price data.csv\",encoding='UTF-8')\n",
    "read = csv.reader(f)\n",
    "\n",
    "#getting data from the csv file\n",
    "for a in read:\n",
    "  data.append(a)\n",
    "#deleting the first row because thats the legend\n",
    "del data[0]\n",
    "\n",
    "#making the price list in a dim = 1 list\n",
    "pricelist = []\n",
    "\n",
    "for year in range(0,26):\n",
    "  for month in range(0,14):\n",
    "    templist = []#temp list is for the structure (dimenstion) of the list since we need n,1 structued list to use for the tensor\n",
    "    if (month > 0 and month < 13):\n",
    "      templist.append(float(data[year][month].replace(\",\",'')))#since the origianl data is money it has , and its str so we have to remove \",\" and make it a float (it was hard)\n",
    "      pricelist.append((templist))\n",
    "      templist = []\n",
    "\n",
    "f.close\n",
    "#print(pricelist)\n",
    "print(\"total data count : \"+str(len(pricelist)))"
   ]
  },
  {
   "attachments": {},
   "cell_type": "markdown",
   "metadata": {},
   "source": [
    "## import the input data"
   ]
  },
  {
   "cell_type": "code",
   "execution_count": 3,
   "metadata": {},
   "outputs": [
    {
     "data": {
      "text/plain": [
       "<function TextIOWrapper.close()>"
      ]
     },
     "execution_count": 3,
     "metadata": {},
     "output_type": "execute_result"
    }
   ],
   "source": [
    "import csv\n",
    "\n",
    "data = []\n",
    "\n",
    "f = open(\"C:/Users/OWO/Documents/AA_CODE/@Projects/Projects/ai_0001_lr_rice price track/statisticsDivision_20230113161645.csv\",encoding='cp949')\n",
    "read = csv.reader(f)\n",
    "\n",
    "#getting data from the csv file\n",
    "for a in read:\n",
    "  data.append(a)\n",
    "#deleting the first row because thats the legend\n",
    "for i in range(0,10):#deleting 10 (unnecessary row) from it\n",
    "  del data[0]\n",
    "\n",
    "#print(data)\n",
    "\n",
    "\n",
    "\n",
    "#list datas\n",
    "\n",
    "\n",
    "##year list dim 2\n",
    "year_list = []\n",
    "templist = []\n",
    "for i in range(0,26):\n",
    "  for month_list in range(0,12):\n",
    "    templist.append(1996+i)\n",
    "    year_list.append(templist)\n",
    "    templist = []\n",
    "#print(year_list)\n",
    "\n",
    "\n",
    "##month list dim 2\n",
    "month_list = []\n",
    "for i in range(0,26):\n",
    "  for mon in range(0,12):\n",
    "    templist.append(mon+1)\n",
    "    month_list.append(templist)\n",
    "    templist = []\n",
    "#print(month_list)\n",
    "\n",
    "\n",
    "\n",
    "\n",
    "##other lists\n",
    "avr_temp = []\n",
    "max_temp = []\n",
    "min_temp = []\n",
    "aor = []#it means amount of rainfall\n",
    "templist = []\n",
    "\n",
    "#print(data)\n",
    "count = 0\n",
    "for year in range(0,26):\n",
    "  for month in range (0,12):\n",
    "  \n",
    "    templist.append(float(data[count][1]))\n",
    "    avr_temp.append(templist)\n",
    "    templist = []\n",
    "    templist.append(float(data[count][2]))\n",
    "    max_temp.append(templist)\n",
    "    templist = []\n",
    "    templist.append(float(data[count][3]))\n",
    "    min_temp.append(templist)\n",
    "    templist = []\n",
    "    templist.append(float(data[count][4]))\n",
    "    aor.append(templist)\n",
    "    templist = []\n",
    "    count = count + 1\n",
    "\n",
    "\n",
    "## test seciton\n",
    "#print(avr_temp)\n",
    "#print(max_temp)\n",
    "#print(min_temp)\n",
    "#print(aor)\n",
    "\n",
    "f.close"
   ]
  },
  {
   "attachments": {},
   "cell_type": "markdown",
   "metadata": {},
   "source": [
    "## the actual ML section"
   ]
  },
  {
   "cell_type": "code",
   "execution_count": 5,
   "metadata": {},
   "outputs": [
    {
     "name": "stdout",
     "output_type": "stream",
     "text": [
      "LR = 1.000e-07 Epoch 100000/100000 w1 :   22.4 w2 : 14.3 w3 :  3.8 w4 :  3.5 w5 :    4.8 w6 :   -0.3 b :  -0.1 Cost : 22104208\n",
      "LR = 2.000e-07 Epoch 100000/100000 w1 :   22.3 w2 : 25.3 w3 :  3.6 w4 :  2.8 w5 :    5.3 w6 :   -0.3 b :  -0.3 Cost : 22092028\n",
      "LR = 1.000e-08 Epoch 100000/100000 w1 :   22.4 w2 :  1.7 w3 :  1.1 w4 :  1.1 w5 :    1.1 w6 :    0.3 b :  -0.0 Cost : 22126492\n"
     ]
    }
   ],
   "source": [
    "import torch\n",
    "import torch.optim as optim\n",
    "\n",
    "\n",
    "\n",
    "elist = [1e-7,2e-7,1e-8]\n",
    "\n",
    "pricelist = torch.FloatTensor(pricelist)\n",
    "year_list = torch.FloatTensor(year_list)\n",
    "month_list = torch.FloatTensor(month_list)\n",
    "avr_temp = torch.FloatTensor(avr_temp)\n",
    "max_temp = torch.FloatTensor(max_temp)\n",
    "min_temp = torch.FloatTensor(min_temp)\n",
    "aor = torch.FloatTensor(aor)\n",
    "\n",
    "\n",
    "\n",
    "for LR in elist:\n",
    "    \n",
    "  w1 = torch.zeros(1, requires_grad=True)\n",
    "  w2 = torch.zeros(1,requires_grad=True)\n",
    "  w3 = torch.zeros(1,requires_grad=True)\n",
    "  w4 = torch.zeros(1,requires_grad=True)\n",
    "  w5 = torch.zeros(1,requires_grad=True)\n",
    "  w6 = torch.zeros(1,requires_grad=True)\n",
    "  b  = torch.zeros(1,requires_grad=True)\n",
    "\n",
    "\n",
    "  optimizer = optim.SGD([w1,w2,w3,w4,w5,w6,b], lr=LR) #learning rate\n",
    "\n",
    "  nb_epochs = 100000\n",
    "\n",
    "  for epoch in range(nb_epochs + 1):\n",
    "    #hypothesis calcuation\n",
    "    hypothesis = year_list * w1 + month_list * w2 + avr_temp * w3 + max_temp * w4 + min_temp * w5 + aor * w6 + b\n",
    "    \n",
    "    #cost calculation\n",
    "    cost = torch.mean((hypothesis - pricelist)**2)\n",
    "    \n",
    "    #impove H(x) with cost\n",
    "    optimizer.zero_grad()\n",
    "    cost.backward()\n",
    "    optimizer.step()\n",
    "    \n",
    "    #if epoch == 100000000:\n",
    "  print(\"LR = %.3e Epoch %d/%d w1 : %6.1f w2 : %4.1f w3 : %4.1f w4 : %4.1f w5 : %6.1f w6 : %6.1f b : %5.1f Cost : %.0f\"%(LR,epoch,nb_epochs,w1.item(),w2.item(),w3.item(),w4.item(),w5.item(),w6.item(),b.item(),cost.item()))"
   ]
  },
  {
   "attachments": {},
   "cell_type": "markdown",
   "metadata": {},
   "source": [
    "## Final LR\n",
    "\n",
    "since the 2e-7 has the minimum cost we will go with that model\n",
    "\n",
    "(i tried 1e-5 to 1e-10 btw)\n"
   ]
  },
  {
   "attachments": {},
   "cell_type": "markdown",
   "metadata": {},
   "source": [
    "## Real Test\n",
    "\n",
    "lets test with 2022(that we didnt train with) to see how much well it could predict the price"
   ]
  },
  {
   "attachments": {},
   "cell_type": "markdown",
   "metadata": {},
   "source": [
    "## input 2022 price data"
   ]
  },
  {
   "cell_type": "code",
   "execution_count": 7,
   "metadata": {},
   "outputs": [
    {
     "name": "stdout",
     "output_type": "stream",
     "text": [
      "[[53450.0], [52597.0], [52459.0], [52037.0], [51221.0], [50990.0], [50643.0], [49228.0], [48397.0], [49806.0], [53284.0], [51900.0]]\n",
      "total data count : 12\n"
     ]
    }
   ],
   "source": [
    "import csv\n",
    "\n",
    "data = []\n",
    "\n",
    "#f = open(\"C:/Users\\OWO\\Documents\\AA_CODE\\@Projects\\Projects\\ai_0001_lr_rice price track\\rice price data.xls\")\n",
    "f = open(\"C:/Users/OWO/Documents/AA_CODE/@Projects/Projects/ai_0001_lr_rice price track/rice price data.csv\",encoding='UTF-8')\n",
    "read = csv.reader(f)\n",
    "\n",
    "#getting data from the csv file\n",
    "for a in read:\n",
    "  data.append(a)\n",
    "#deleting the first row because thats the legend\n",
    "del data[0]\n",
    "\n",
    "#making the price list in a dim = 1 list\n",
    "predict_pricelist = []\n",
    "\n",
    "for year in range(26,27):\n",
    "  for month in range(0,14):\n",
    "    templist = []#temp list is for the structure (dimenstion) of the list since we need n,1 structued list to use for the tensor\n",
    "    if (month > 0 and month < 13):\n",
    "      templist.append(float(data[year][month].replace(\",\",'')))#since the origianl data is money it has , and its str so we have to remove \",\" and make it a float (it was hard)\n",
    "      predict_pricelist.append((templist))\n",
    "      templist = []\n",
    "\n",
    "f.close\n",
    "print(predict_pricelist)\n",
    "print(\"total data count : \"+str(len(predict_pricelist)))"
   ]
  },
  {
   "attachments": {},
   "cell_type": "markdown",
   "metadata": {},
   "source": [
    "## input 2022 input data"
   ]
  },
  {
   "cell_type": "code",
   "execution_count": 11,
   "metadata": {},
   "outputs": [
    {
     "name": "stdout",
     "output_type": "stream",
     "text": [
      "[[2022], [2022], [2022], [2022], [2022], [2022], [2022], [2022], [2022], [2022], [2022], [2022]]\n",
      "[[1], [2], [3], [4], [5], [6], [7], [8], [9], [10], [11], [12]]\n",
      "[[-0.3], [0.3], [7.9], [13.8], [18.0], [22.3], [26.0], [25.4], [21.1], [14.2], [10.0], [-0.7]]\n",
      "[[5.3], [5.9], [13.8], [20.4], [24.6], [27.1], [30.3], [29.3], [26.4], [20.2], [16.7], [4.3]]\n",
      "[[-5.3], [-4.9], [2.3], [7.7], [11.7], [18.4], [22.6], [22.3], [16.9], [9.3], [4.4], [-5.2]]\n",
      "[[4.8], [4.7], [92.0], [60.5], [6.1], [180.7], [184.3], [280.8], [157.8], [76.7], [62.3], [17.2]]\n"
     ]
    },
    {
     "data": {
      "text/plain": [
       "<function TextIOWrapper.close()>"
      ]
     },
     "execution_count": 11,
     "metadata": {},
     "output_type": "execute_result"
    }
   ],
   "source": [
    "import csv\n",
    "\n",
    "data = []\n",
    "\n",
    "f = open(\"C:/Users/OWO/Documents/AA_CODE/@Projects/Projects/ai_0001_lr_rice price track/statisticsDivision_20230113161645.csv\",encoding='cp949')\n",
    "read = csv.reader(f)\n",
    "\n",
    "#getting data from the csv file\n",
    "for a in read:\n",
    "  data.append(a)\n",
    "#deleting the first row because thats the legend\n",
    "for i in range(0,10):#deleting 10 (unnecessary row) from it\n",
    "  del data[0]\n",
    "\n",
    "#print(data)\n",
    "\n",
    "\n",
    "\n",
    "#list datas\n",
    "\n",
    "\n",
    "##year list dim 2\n",
    "predict_year_list = []\n",
    "templist = []\n",
    "for i in range(26,27):\n",
    "  for month in range(0,12):\n",
    "    templist.append(1996+i)\n",
    "    predict_year_list.append(templist)\n",
    "    templist = []\n",
    "print(predict_year_list)\n",
    "\n",
    "\n",
    "##month list dim 2\n",
    "predict_month_list = []\n",
    "for i in range(26,27):\n",
    "  for mon in range(0,12):\n",
    "    templist.append(mon+1)\n",
    "    predict_month_list.append(templist)\n",
    "    templist = []\n",
    "print(predict_month_list)\n",
    "\n",
    "\n",
    "\n",
    "\n",
    "##other lists\n",
    "predict_avr_temp = []\n",
    "predict_max_temp = []\n",
    "predict_min_temp = []\n",
    "predict_aor = []#it means amount of rainfall\n",
    "templist = []\n",
    "\n",
    "#print(data)\n",
    "count = 312#its 322 but we deleted 10 on the top so... its num - 10\n",
    "for year in range(26,27):\n",
    "  for month in range (0,12):\n",
    "  \n",
    "    templist.append(float(data[count][1]))\n",
    "    predict_avr_temp.append(templist)\n",
    "    templist = []\n",
    "    templist.append(float(data[count][2]))\n",
    "    predict_max_temp.append(templist)\n",
    "    templist = []\n",
    "    templist.append(float(data[count][3]))\n",
    "    predict_min_temp.append(templist)\n",
    "    templist = []\n",
    "    templist.append(float(data[count][4]))\n",
    "    predict_aor.append(templist)\n",
    "    templist = []\n",
    "    count = count + 1\n",
    "\n",
    "\n",
    "## test seciton\n",
    "print(predict_avr_temp)\n",
    "print(predict_max_temp)\n",
    "print(predict_min_temp)\n",
    "print(predict_aor)\n",
    "\n",
    "f.close"
   ]
  },
  {
   "cell_type": "code",
   "execution_count": 12,
   "metadata": {},
   "outputs": [
    {
     "name": "stdout",
     "output_type": "stream",
     "text": [
      "-544.1083333333336\n"
     ]
    }
   ],
   "source": [
    "## actual test\n",
    "\n",
    "w1 =   22.3\n",
    "w2 = 25.3\n",
    "w3 =  3.6\n",
    "w4 =  2.8\n",
    "w5 =    5.3\n",
    "w6 =   -0.3\n",
    "b =  -0.3\n",
    "\n",
    "predict_cost_sum = 0\n",
    "\n",
    "for i in range(0,12):\n",
    "  predict_cost_sum = (predict_year_list[i][0] * w1 + predict_month_list[i][0] * w2 + predict_avr_temp[i][0] * w3 + w4 * predict_max_temp[i][0] + w5 * predict_min_temp[i][0] + w6 * predict_aor[i][0] + b)-predict_pricelist[i][0]\n",
    "print(predict_cost_sum/12)"
   ]
  },
  {
   "attachments": {},
   "cell_type": "markdown",
   "metadata": {},
   "source": [
    "### the END CODE"
   ]
  },
  {
   "cell_type": "code",
   "execution_count": 10,
   "metadata": {},
   "outputs": [
    {
     "name": "stdout",
     "output_type": "stream",
     "text": [
      "hello this is the Korean Rice Price Predictor\n",
      "type in the data then you will recive the price by its data\n",
      " the AI is guessing it would be : 45100 Won\n"
     ]
    }
   ],
   "source": [
    "#data\n",
    "w1 =   22.3\n",
    "w2 = 25.3\n",
    "w3 =  3.6\n",
    "w4 =  2.8\n",
    "w5 =    5.3\n",
    "w6 =   -0.3\n",
    "b =  -0.3\n",
    "\n",
    "\n",
    "print(\"hello this is the Korean Rice Price Predictor\")\n",
    "print(\"type in the data then you will recive the price by its data\")\n",
    "\n",
    "new_year = float(input(\"type in the year : \"))\n",
    "new_month = float(input(\"type in the month : \"))\n",
    "new_avr_temp = float(input(\"type in the average temperature of that month : \"))\n",
    "new_max_temp = float(input(\"type in the maximum temperature of that month : \"))\n",
    "new_min_temp = float(input(\"input the minimum temperture of that month : \"))\n",
    "new_aor = float(input(\"input the amount of rain in that month : \"))\n",
    "\n",
    "print(\" the AI is guessing it would be : \",end=\"\")\n",
    "print(\"%.0f Won\"%(new_year * w1 + new_month * w2 + new_avr_temp * w3 + new_max_temp * w4 + new_min_temp * w5 + new_aor * w6 + b)\n",
    ")"
   ]
  },
  {
   "attachments": {},
   "cell_type": "markdown",
   "metadata": {},
   "source": [
    "## After the project\n",
    "\n",
    "it's 2023/01/14 \n",
    "\n",
    "I think this took about 4 hours to code\n",
    "it was not very hard but it was a little bit tricky to get the CSV file to list and use that\n",
    "\n",
    "# improvements needed\n",
    "\n",
    "I think I missed a lot of things. I need to research before I choose what data to learn from because I'm not sure if the month is going to make a big effect on the price (I thought so but I think It doesn't at the end) and about rice, you harvest them only once a year (at least in Korea) so I don't it look like the temperature of the month had a lot of effect on the price.\n",
    "And also an important thing is that Most of the time, the price is too cheap than expected. I think it's becuase the data was too varied about the date. Since the economy of Korea grew so fast and rice prices grew fast with it, it couldn't catch up with the new prices, so in this case I should have been tracking (or learning) the last 5 years of data, which (I think) it could have improved the AI\n",
    "\n",
    "# about the learning rate\n",
    "\n",
    "I made a new system for the learning rate. In this one, the learning rate is made on list so you can put many learning rate and print the cost in every learning rate to see what is the most optimized learning rate\n",
    "And I keep getting nan by change the learing rate. I dont know why at the moment. I have to study on that.\n",
    "\n",
    "# end\n",
    "Im tired\n",
    "Im going to bed"
   ]
  }
 ],
 "metadata": {
  "kernelspec": {
   "display_name": "Pytorch",
   "language": "python",
   "name": "python3"
  },
  "language_info": {
   "codemirror_mode": {
    "name": "ipython",
    "version": 3
   },
   "file_extension": ".py",
   "mimetype": "text/x-python",
   "name": "python",
   "nbconvert_exporter": "python",
   "pygments_lexer": "ipython3",
   "version": "3.10.8"
  },
  "orig_nbformat": 4,
  "vscode": {
   "interpreter": {
    "hash": "3dccc2083b900c7e4253a45875410f77045ddb96f227ca83eb40747880cff069"
   }
  }
 },
 "nbformat": 4,
 "nbformat_minor": 2
}
