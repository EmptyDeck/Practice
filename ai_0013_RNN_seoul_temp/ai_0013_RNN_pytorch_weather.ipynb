{
 "cells": [
  {
   "attachments": {},
   "cell_type": "markdown",
   "metadata": {},
   "source": [
    "## RNN   \n",
    "2023 / 04/09   \n",
    "1602i  \n",
    "I feel a little sick  \n",
    "lets get init  \n"
   ]
  },
  {
   "cell_type": "code",
   "execution_count": 142,
   "metadata": {},
   "outputs": [
    {
     "name": "stdout",
     "output_type": "stream",
     "text": [
      "Apple device detected\n",
      "Activating Apple Silicon GPU\n"
     ]
    }
   ],
   "source": [
    "##Hardware\n",
    "import torch\n",
    "if torch.cuda.is_available() == True:\n",
    "    device = 'cuda'\n",
    "    templist = [1,2,3]\n",
    "    templist = torch.FloatTensor(templist).to(device)\n",
    "    print(\"Cuda torch working : \",end=\"\")\n",
    "    print(templist.is_cuda)\n",
    "    print(\"current device no. : \",end=\"\")\n",
    "    print(torch.cuda.current_device())\n",
    "    print(\"GPU device count : \",end=\"\")\n",
    "    print(torch.cuda.device_count())\n",
    "    print(\"GPU name : \",end=\"\")\n",
    "    print(torch.cuda.get_device_name(0))\n",
    "    print(\"device : \",device)\n",
    "    ! nvidia-smi\n",
    "elif torch.backends.mps.is_available() == True:\n",
    "    print(\"Apple device detected\\nActivating Apple Silicon GPU\")\n",
    "    device = torch.device(\"mps\")\n",
    "else:\n",
    "    print(\"cant use gpu , activating cpu\")\n",
    "    device = 'cpu'"
   ]
  },
  {
   "cell_type": "code",
   "execution_count": 143,
   "metadata": {},
   "outputs": [],
   "source": [
    "#not test\n",
    "batch_size = 128\n",
    "max_epochs = 30\n",
    "learning_rate = 3e-5\n",
    "hidden_sizes = [100, 100] # hidden_sizes must be a list"
   ]
  },
  {
   "attachments": {},
   "cell_type": "markdown",
   "metadata": {},
   "source": [
    "### Using 9 figurs from the data and making it as a list"
   ]
  },
  {
   "cell_type": "code",
   "execution_count": 144,
   "metadata": {},
   "outputs": [],
   "source": [
    "import numpy as np\n",
    "import csv\n",
    "\n",
    "def preprocess(all_files):\n",
    "    data_0 = []  # 기온\n",
    "    data_1 = []  # 강수량\n",
    "    data_2 = []  # 풍속\n",
    "    data_3 = []  # 습도\n",
    "    data_4 = []  # 증기압\n",
    "    data_5 = []  # 이슬점 온도\n",
    "    data_6 = []  # 현지 기압\n",
    "    data_7 = []  # 해면 기압\n",
    "    data_8 = []  # 지면 온도\n",
    "    for f in all_files:\n",
    "        with open(f, encoding='euc-kr') as c:\n",
    "            csv_reader = csv.reader(c, delimiter=',')\n",
    "            header = True\n",
    "            for col in csv_reader:\n",
    "                if header:\n",
    "                    header = False\n",
    "                    continue\n",
    "                data_0.append(\n",
    "                    float(col[2])) if col[2] != '' else data_0.append(0.0)\n",
    "                data_1.append(\n",
    "                    float(col[3])) if col[3] != '' else data_1.append(0.0)\n",
    "                data_2.append(\n",
    "                    float(col[4])) if col[4] != '' else data_2.append(0.0)\n",
    "                data_3.append(\n",
    "                    float(col[6])) if col[6] != '' else data_3.append(0.0)\n",
    "                data_4.append(\n",
    "                    float(col[7])) if col[7] != '' else data_4.append(0.0)\n",
    "                data_5.append(\n",
    "                    float(col[8])) if col[8] != '' else data_5.append(0.0)\n",
    "                data_6.append(\n",
    "                    float(col[9])) if col[9] != '' else data_6.append(0.0)\n",
    "                data_7.append(\n",
    "                    float(col[10])) if col[10] != '' else data_7.append(0.0)\n",
    "                data_8.append(\n",
    "                    float(col[22])) if col[22] != '' else data_8.append(0.0)\n",
    "\n",
    "    data = np.zeros((len(data_0), 9))\n",
    "    for i, d in enumerate(data):\n",
    "        data[i, 0] = data_0[i]\n",
    "        data[i, 1] = data_1[i]\n",
    "        data[i, 2] = data_2[i]\n",
    "        data[i, 3] = data_3[i]\n",
    "        data[i, 4] = data_4[i]\n",
    "        data[i, 5] = data_5[i]\n",
    "        data[i, 6] = data_6[i]\n",
    "        data[i, 7] = data_7[i]\n",
    "        data[i, 8] = data_8[i]\n",
    "\n",
    "    return data.astype(np.float32)"
   ]
  },
  {
   "cell_type": "code",
   "execution_count": 145,
   "metadata": {},
   "outputs": [],
   "source": [
    "# Make data\n",
    "import glob\n",
    "import os\n",
    "\n",
    "data_dir = './data/climate_seoul'\n",
    "\n",
    "train_data = preprocess(sorted(glob.glob(os.path.join(data_dir, 'train', '*'))))\n",
    "val_data = preprocess(sorted(glob.glob(os.path.join(data_dir, 'val', '*'))))\n",
    "test_data = preprocess(sorted(glob.glob(os.path.join(data_dir, 'test', '*'))))"
   ]
  },
  {
   "cell_type": "code",
   "execution_count": 146,
   "metadata": {},
   "outputs": [
    {
     "name": "stdout",
     "output_type": "stream",
     "text": [
      "70133\n",
      "8760\n",
      "8760\n"
     ]
    }
   ],
   "source": [
    "#Len Data\n",
    "print(len(train_data))\n",
    "print(len(val_data))\n",
    "print(len(test_data))"
   ]
  },
  {
   "cell_type": "code",
   "execution_count": 147,
   "metadata": {},
   "outputs": [
    {
     "name": "stdout",
     "output_type": "stream",
     "text": [
      "shape of train data: (70133, 9)\n",
      "shape of val data: (8760, 9)\n",
      "shape of test data: (8760, 9)\n"
     ]
    }
   ],
   "source": [
    "## Shape\n",
    "print(\"shape of train data: {}\".format(train_data.shape))\n",
    "print(\"shape of val data: {}\".format(val_data.shape))\n",
    "print(\"shape of test data: {}\".format(test_data.shape))"
   ]
  },
  {
   "cell_type": "code",
   "execution_count": 148,
   "metadata": {},
   "outputs": [
    {
     "data": {
      "image/png": "[encoded data removed]",
      "text/plain": [
       "<Figure size 640x480 with 1 Axes>"
      ]
     },
     "metadata": {},
     "output_type": "display_data"
    }
   ],
   "source": [
    "## Data visualization\n",
    "import matplotlib.pyplot as plt\n",
    "\n",
    "start = 0\n",
    "dt = 8760 # this is hours 365 * 24 = 8760\n",
    "plt.plot(train_data[start:start+dt, 0])\n",
    "plt.title(\"Seoul Temp for one year\")\n",
    "plt.ylabel(\"temperature\")\n",
    "plt.xlabel(\"time-in hours\")\n",
    "plt.show()"
   ]
  },
  {
   "attachments": {},
   "cell_type": "markdown",
   "metadata": {},
   "source": [
    "## explain  \n",
    "\n",
    "data = dataset (n,9)  \n",
    "seq_length = data len of before  \n",
    "target_delay = data target after this much of time  \n",
    "strides = how many skips in every data  \n"
   ]
  },
  {
   "cell_type": "code",
   "execution_count": 149,
   "metadata": {},
   "outputs": [
    {
     "name": "stderr",
     "output_type": "stream",
     "text": [
      "<>:7: SyntaxWarning: \"is not\" with a literal. Did you mean \"!=\"?\n",
      "<>:15: SyntaxWarning: \"is\" with a literal. Did you mean \"==\"?\n",
      "<>:35: SyntaxWarning: \"is\" with a literal. Did you mean \"==\"?\n",
      "<>:7: SyntaxWarning: \"is not\" with a literal. Did you mean \"!=\"?\n",
      "<>:15: SyntaxWarning: \"is\" with a literal. Did you mean \"==\"?\n",
      "<>:35: SyntaxWarning: \"is\" with a literal. Did you mean \"==\"?\n",
      "/var/folders/4h/68c96svd3f75dmmsk8sqr9480000gn/T/ipykernel_32359/4252532053.py:7: SyntaxWarning: \"is not\" with a literal. Did you mean \"!=\"?\n",
      "  if mode is not 'train':\n",
      "/var/folders/4h/68c96svd3f75dmmsk8sqr9480000gn/T/ipykernel_32359/4252532053.py:15: SyntaxWarning: \"is\" with a literal. Did you mean \"==\"?\n",
      "  if mode is 'train':\n",
      "/var/folders/4h/68c96svd3f75dmmsk8sqr9480000gn/T/ipykernel_32359/4252532053.py:35: SyntaxWarning: \"is\" with a literal. Did you mean \"==\"?\n",
      "  if mode is 'train':\n"
     ]
    }
   ],
   "source": [
    "def make_dataset(data, seq_length=480, target_delay=24, strides=5,\n",
    "                 mode='train', train_mean=None, train_std=None):\n",
    "    '''\n",
    "        각 인수에 대한 설명은 위의 'Dataset만들기' 설명을 참고하세요.\n",
    "    '''\n",
    "    assert mode in ['train', 'val', 'test']\n",
    "    if mode is not 'train':\n",
    "        if train_mean is None or train_std is None:\n",
    "            print('Current mode is {}'.format(mode))\n",
    "            print('This mode needs mean and std of train data')\n",
    "            assert False\n",
    "\n",
    "    # 정규화\n",
    "    \n",
    "    if mode is 'train':\n",
    "        mean = data.mean()    \n",
    "        std = data.std()     \n",
    "    else: \n",
    "        mean =train_mean   \n",
    "        std = train_std     \n",
    "    data = (data - data.mean())/data.std()       \n",
    "    \n",
    "    \n",
    "    # 입력, 타겟 데이터 생성\n",
    "    sequence = []\n",
    "    target = []\n",
    "    for index in range(len(data) - seq_length - target_delay):\n",
    "        if index % strides == 0:\n",
    "            \n",
    "            \n",
    "            sequence.append(data[index : (index + seq_length)])    \n",
    "            target.append(index + target_delay)     \n",
    "            \n",
    "\n",
    "    if mode is 'train':\n",
    "        return np.array(sequence), np.array(target), mean, std\n",
    "    else:\n",
    "        return np.array(sequence), np.array(target)"
   ]
  },
  {
   "cell_type": "code",
   "execution_count": 150,
   "metadata": {},
   "outputs": [],
   "source": [
    "import numpy as np\n",
    "\n",
    "def make_dataset(data, seq_length=480, target_delay=24, strides=5,\n",
    "                 mode='train', train_mean=None, train_std=None):\n",
    "    assert mode in ['train', 'val', 'test']\n",
    "    if mode != 'train':\n",
    "        if train_mean is None or train_std is None:\n",
    "            print('Current mode is {}'.format(mode))\n",
    "            print('This mode needs mean and std of train data')\n",
    "            assert False\n",
    "\n",
    "    # Normalize\n",
    "    if mode == 'train':\n",
    "        #the axis = 0 is there for getting the 9 figure data. If I dont put axis, it just getting 1 number of all number mean. If I put axis =0,This data is 2 dim data (70000, 9) Axis =0 is taking out of first dim (9figures)\n",
    "        mean = data.mean(axis=0)\n",
    "        std = data.std(axis=0)\n",
    "    else:\n",
    "        mean = train_mean\n",
    "        std = train_std\n",
    "\n",
    "    data = (data - mean) / std\n",
    "\n",
    "    # Create input and target sequences\n",
    "    sequence = []\n",
    "    target = []\n",
    "    for index in range(len(data) - seq_length - target_delay):\n",
    "        if index % strides == 0:\n",
    "            sequence.append(data[index:index + seq_length])\n",
    "            target.append(data[index + seq_length + target_delay - 1, 0])\n",
    "    \n",
    "    if mode == 'train':\n",
    "        return np.array(sequence), np.array(target), mean, std\n",
    "    else:\n",
    "        return np.array(sequence), np.array(target)\n"
   ]
  },
  {
   "cell_type": "code",
   "execution_count": 151,
   "metadata": {},
   "outputs": [],
   "source": [
    "## Make dataset\n",
    "\n",
    "train_sequences, train_labels, train_mean, train_std = make_dataset(train_data, mode='train')\n",
    "val_sequences, val_labels = make_dataset(val_data, mode='val', train_mean=train_mean, train_std=train_std)\n",
    "test_sequences, test_labels = make_dataset(test_data, mode='test', train_mean=train_mean, train_std=train_std)"
   ]
  },
  {
   "cell_type": "code",
   "execution_count": 152,
   "metadata": {},
   "outputs": [
    {
     "name": "stdout",
     "output_type": "stream",
     "text": [
      "13926\n"
     ]
    }
   ],
   "source": [
    "print(len(train_sequences))"
   ]
  },
  {
   "cell_type": "code",
   "execution_count": 153,
   "metadata": {},
   "outputs": [
    {
     "name": "stdout",
     "output_type": "stream",
     "text": [
      "torch.Size([13926, 480, 9])\n",
      "torch.Size([13926])\n"
     ]
    }
   ],
   "source": [
    "## Train dataset\n",
    "import torch\n",
    "\n",
    "workers = 8\n",
    "\n",
    "train_sequences = torch.tensor(train_sequences)\n",
    "train_labels = torch.tensor(train_labels)\n",
    "\n",
    "print(train_sequences.shape)\n",
    "print(train_labels.shape)\n",
    "\n",
    "N = BUFFER_SIZE = len(train_sequences) # number of samples in train_dataset\n",
    "\n",
    "train_dataset = torch.utils.data.TensorDataset(train_sequences, train_labels)\n",
    "train_dataset = torch.utils.data.DataLoader(train_dataset, \n",
    "                                            batch_size=batch_size, \n",
    "                                            shuffle=True, \n",
    "                                            num_workers=workers, \n",
    "                                            drop_last=True)"
   ]
  },
  {
   "cell_type": "code",
   "execution_count": 154,
   "metadata": {},
   "outputs": [
    {
     "name": "stdout",
     "output_type": "stream",
     "text": [
      "torch.Size([1652, 480, 9])\n",
      "torch.Size([1652])\n",
      "<torch.utils.data.dataloader.DataLoader object at 0x168f85de0>\n"
     ]
    }
   ],
   "source": [
    "## Val dataset\n",
    "\n",
    "val_sequences = torch.tensor(val_sequences)\n",
    "val_labels = torch.tensor(val_labels)\n",
    "\n",
    "print(val_sequences.shape)\n",
    "print(val_labels.shape)\n",
    "\n",
    "val_dataset = torch.utils.data.TensorDataset(val_sequences, val_labels)\n",
    "val_dataset = torch.utils.data.DataLoader(val_dataset, \n",
    "                                            batch_size=batch_size, \n",
    "                                            shuffle=False, \n",
    "                                            num_workers=workers, \n",
    "                                            drop_last=True)\n",
    "\n",
    "print(val_dataset)"
   ]
  },
  {
   "cell_type": "code",
   "execution_count": 155,
   "metadata": {},
   "outputs": [
    {
     "name": "stdout",
     "output_type": "stream",
     "text": [
      "torch.Size([1652, 480, 9])\n",
      "torch.Size([1652])\n"
     ]
    }
   ],
   "source": [
    "## Test dataset\n",
    "\n",
    "test_sequences = torch.tensor(test_sequences)\n",
    "test_labels = torch.tensor(test_labels)\n",
    "\n",
    "print(test_sequences.shape)\n",
    "print(test_labels.shape)\n",
    "\n",
    "test_dataset = torch.utils.data.TensorDataset(test_sequences, test_labels)\n",
    "test_dataset = torch.utils.data.DataLoader(test_dataset, \n",
    "                                            batch_size=batch_size, \n",
    "                                            shuffle=False, \n",
    "                                            num_workers=workers, \n",
    "                                            drop_last=True)"
   ]
  },
  {
   "cell_type": "code",
   "execution_count": 156,
   "metadata": {},
   "outputs": [],
   "source": [
    "def eval_baseline(dataset, loss_fn):\n",
    "    mean_loss = 0.0\n",
    "    for sequences, targets in dataset:\n",
    "        # Get the current temperature\n",
    "        predictions = sequences[:,-1, 0]\n",
    "        # Calculate the loss\n",
    "        loss = loss_fn(predictions, targets)\n",
    "        mean_loss += loss.item()\n",
    "    \n",
    "    mean_loss /= len(dataset)\n",
    "    \n",
    "    print('Baseline Average Loss: {:.4f}'.format(mean_loss))\n",
    "    return mean_loss"
   ]
  },
  {
   "cell_type": "code",
   "execution_count": 157,
   "metadata": {},
   "outputs": [
    {
     "name": "stdout",
     "output_type": "stream",
     "text": [
      "12\n"
     ]
    }
   ],
   "source": [
    "print(len(test_dataset))"
   ]
  },
  {
   "cell_type": "code",
   "execution_count": 158,
   "metadata": {},
   "outputs": [
    {
     "name": "stdout",
     "output_type": "stream",
     "text": [
      "Baseline Average Loss: 0.0897\n"
     ]
    }
   ],
   "source": [
    "import torch.nn as nn\n",
    "\n",
    "baseline_loss = eval_baseline(test_dataset, nn.MSELoss())"
   ]
  },
  {
   "cell_type": "code",
   "execution_count": 159,
   "metadata": {},
   "outputs": [
    {
     "data": {
      "text/plain": [
       "\"\\nfor i in range(10):\\n    data_idx = np.random.randint(len(test_sequences))\\n    pred = test_sequences[data_idx, -1, 0]\\n    # 예측 기온을 normalization 이전 상태(섭씨 단위)로 되돌리는 작업\\n    pred = pred * train_std[0] + train_mean[0]\\n    # 실제 기온을 normalization 이전 상태(섭씨 단위)로 되돌리는 작업\\n    target = test_labels[data_idx] * train_std[0] + train_mean[0]\\n    print('예측 기온: {:.1f} / 실제 기온: {:.1f} / 차이: {:.1f}'.format(\\n        pred, target, pred - target))\\n\""
      ]
     },
     "execution_count": 159,
     "metadata": {},
     "output_type": "execute_result"
    }
   ],
   "source": [
    "\"\"\"\n",
    "for i in range(10):\n",
    "    data_idx = np.random.randint(len(test_sequences))\n",
    "    pred = test_sequences[data_idx, -1, 0]\n",
    "    # 예측 기온을 normalization 이전 상태(섭씨 단위)로 되돌리는 작업\n",
    "    pred = pred * train_std[0] + train_mean[0]\n",
    "    # 실제 기온을 normalization 이전 상태(섭씨 단위)로 되돌리는 작업\n",
    "    target = test_labels[data_idx] * train_std[0] + train_mean[0]\n",
    "    print('예측 기온: {:.1f} / 실제 기온: {:.1f} / 차이: {:.1f}'.format(\n",
    "        pred, target, pred - target))\n",
    "\"\"\""
   ]
  },
  {
   "cell_type": "code",
   "execution_count": 160,
   "metadata": {},
   "outputs": [
    {
     "name": "stdout",
     "output_type": "stream",
     "text": [
      "예측 기온: -0.4 / 실제 기온: -0.8 / 차이: 0.4\n",
      "예측 기온: 29.3 / 실제 기온: 30.7 / 차이: -1.4\n",
      "예측 기온: 28.2 / 실제 기온: 28.1 / 차이: 0.1\n",
      "예측 기온: 14.3 / 실제 기온: 14.0 / 차이: 0.3\n",
      "예측 기온: 19.2 / 실제 기온: 17.7 / 차이: 1.5\n",
      "예측 기온: 31.0 / 실제 기온: 29.5 / 차이: 1.5\n",
      "예측 기온: 17.0 / 실제 기온: 17.7 / 차이: -0.7\n",
      "예측 기온: 3.5 / 실제 기온: -7.4 / 차이: 10.9\n",
      "예측 기온: 17.3 / 실제 기온: 14.4 / 차이: 2.9\n",
      "예측 기온: 7.2 / 실제 기온: 6.2 / 차이: 1.0\n"
     ]
    }
   ],
   "source": [
    "for i in range(10):\n",
    "    #getting random number\n",
    "    data_idx = np.random.randint(len(test_sequences))\n",
    "    #getting radome data from test\n",
    "    pred = test_sequences[data_idx, -1, 0]\n",
    "    #making the data before normalizatino\n",
    "    pred = pred * train_std[0] + train_mean[0]\n",
    "    #turning the actual data before normalization\n",
    "    target = test_labels[data_idx] * train_std[0] + train_mean[0]\n",
    "    print('예측 기온: {:.1f} / 실제 기온: {:.1f} / 차이: {:.1f}'.format(\n",
    "        pred, target, pred - target))"
   ]
  },
  {
   "attachments": {},
   "cell_type": "markdown",
   "metadata": {},
   "source": [
    "## Model"
   ]
  },
  {
   "cell_type": "code",
   "execution_count": 161,
   "metadata": {},
   "outputs": [],
   "source": [
    "class LSTM(nn.Module):\n",
    "    def __init__(self, input_dim, hidden_dim, num_layers, output_dim):\n",
    "        super(LSTM, self).__init__()\n",
    "        self.hidden_dim = hidden_dim\n",
    "        self.num_layers = num_layers\n",
    "        self.lstm = nn.LSTM(input_dim, hidden_dim, num_layers, batch_first=True)\n",
    "        self.fc = nn.Linear(hidden_dim, output_dim)\n",
    "\n",
    "    def forward(self, x):\n",
    "        h0 = torch.zeros(self.num_layers, x.size(0), self.hidden_dim).to(device)\n",
    "        c0 = torch.zeros(self.num_layers, x.size(0), self.hidden_dim).to(device)\n",
    "        out, _ = self.lstm(x, (h0, c0))\n",
    "        out = self.fc(out[:, -1, :])\n",
    "        return out\n"
   ]
  },
  {
   "cell_type": "code",
   "execution_count": 162,
   "metadata": {},
   "outputs": [
    {
     "name": "stdout",
     "output_type": "stream",
     "text": [
      "Rate : 0.01\n"
     ]
    },
    {
     "name": "stderr",
     "output_type": "stream",
     "text": [
      "/Users/cafalena/opt/anaconda3/envs/pytorch/lib/python3.10/site-packages/torch/nn/modules/loss.py:536: UserWarning: Using a target size (torch.Size([128])) that is different to the input size (torch.Size([128, 1])). This will likely lead to incorrect results due to broadcasting. Please ensure they have the same size.\n",
      "  return F.mse_loss(input, target, reduction=self.reduction)\n"
     ]
    },
    {
     "name": "stdout",
     "output_type": "stream",
     "text": [
      "Epoch 1, loss: 0.9948200892519068\n",
      "Epoch 2, loss: 0.9941447879429217\n",
      "Epoch 3, loss: 0.9930446125842907\n",
      "Epoch 4, loss: 0.9922921519588541\n",
      "Epoch 5, loss: 0.993850353691313\n",
      "Epoch 6, loss: 0.9929905544828486\n",
      "Epoch 7, loss: 0.9927102377017339\n",
      "Epoch 8, loss: 0.995214722774647\n",
      "Epoch 9, loss: 0.9948644168950893\n",
      "Epoch 10, loss: 0.9935934720215974\n"
     ]
    }
   ],
   "source": [
    "input_dim = 9\n",
    "hidden_dim = 32\n",
    "num_layers = 10\n",
    "output_dim = 1\n",
    "num_epochs = 10\n",
    "\n",
    "#Rate = [100,10,1,1e-1,1e-2,1e-3]\n",
    "Rate = [0.01]\n",
    "for lr in Rate:\n",
    "    print(\"Rate : \",end='')\n",
    "    print(lr)\n",
    "\n",
    "    # Instantiate the model and optimizer\n",
    "    model = LSTM(input_dim, hidden_dim, num_layers, output_dim).to(device)\n",
    "    optimizer = torch.optim.Adam(model.parameters(), lr=lr)\n",
    "    criterion = nn.MSELoss()\n",
    "    \n",
    "    # Train the model\n",
    "    for epoch in range(num_epochs):\n",
    "        running_loss = 0.0\n",
    "        for i, data in enumerate(train_dataset):\n",
    "            inputs, labels = data\n",
    "            inputs, labels = inputs.to(device) , labels.to(device)\n",
    "            optimizer.zero_grad()\n",
    "            outputs = model(inputs)\n",
    "            loss = criterion(outputs, labels)\n",
    "            loss.backward()\n",
    "            optimizer.step()\n",
    "            running_loss += loss.item()\n",
    "        print(f\"Epoch {epoch+1}, loss: {running_loss/len(train_dataset)}\")\n",
    "\n"
   ]
  },
  {
   "cell_type": "code",
   "execution_count": 164,
   "metadata": {},
   "outputs": [
    {
     "name": "stdout",
     "output_type": "stream",
     "text": [
      "예측 기온: 13.0 / 실제 기온: 0.3 / 차이: 12.7\n",
      "예측 기온: 13.0 / 실제 기온: 20.1 / 차이: -7.1\n",
      "예측 기온: 13.0 / 실제 기온: 8.3 / 차이: 4.7\n",
      "예측 기온: 13.0 / 실제 기온: -0.7 / 차이: 13.7\n",
      "예측 기온: 13.0 / 실제 기온: 1.6 / 차이: 11.4\n",
      "예측 기온: 13.0 / 실제 기온: 3.2 / 차이: 9.8\n",
      "예측 기온: 13.0 / 실제 기온: -5.7 / 차이: 18.7\n",
      "예측 기온: 13.0 / 실제 기온: 17.8 / 차이: -4.8\n",
      "예측 기온: 13.0 / 실제 기온: 10.7 / 차이: 2.3\n",
      "예측 기온: 13.0 / 실제 기온: -0.0 / 차이: 13.0\n"
     ]
    }
   ],
   "source": [
    "for i in range(10):\n",
    "    data_idx = np.random.randint(len(test_sequences))\n",
    "    input_data = test_sequences[data_idx:data_idx+1, :, :]\n",
    "    with torch.no_grad():\n",
    "        pred = model(input_data.to(device)).detach().cpu().numpy()[0, 0]  # Use detach() method to detach the tensor from the computational graph\n",
    "    # 예측 기온을 normalization 이전 상태(섭씨 단위)로 되돌리는 작업\n",
    "    pred = pred * train_std[0] + train_mean[0]\n",
    "    # 실제 기온을 normalization 이전 상태(섭씨 단위)로 되돌리는 작업\n",
    "    target = test_labels[data_idx] * train_std[0] + train_mean[0]\n",
    "    print('예측 기온: {:.1f} / 실제 기온: {:.1f} / 차이: {:.1f}'.format(\n",
    "        pred, target, pred - target))"
   ]
  },
  {
   "cell_type": "code",
   "execution_count": 166,
   "metadata": {},
   "outputs": [],
   "source": [
    "import torch\n",
    "import torch.nn as nn\n",
    "\n",
    "class SimpleLSTM(nn.Module):\n",
    "    def __init__(self, input_dim, hidden_sizes):\n",
    "        super().__init__()\n",
    "        self.lstm_layers = nn.ModuleList()\n",
    "        self.input_dim = input_dim\n",
    "        \n",
    "        # Create LSTM layers\n",
    "        for i, hidden_size in enumerate(hidden_sizes):\n",
    "            self.lstm_layers.append(nn.LSTM(input_dim, hidden_size, batch_first=True))\n",
    "            input_dim = hidden_size\n",
    "        \n",
    "        # Create output layer\n",
    "        self.fc = nn.Linear(hidden_sizes[-1], 1)\n",
    "        \n",
    "    def forward(self, x):\n",
    "        # Run input through LSTM layers\n",
    "        for lstm_layer in self.lstm_layers:\n",
    "            x, _ = lstm_layer(x)\n",
    "        \n",
    "        # Extract the last timestep of the last LSTM layer\n",
    "        x = x[:, -1, :]\n",
    "        \n",
    "        # Run through output layer\n",
    "        x = self.fc(x)\n",
    "        \n",
    "        return x\n"
   ]
  },
  {
   "cell_type": "code",
   "execution_count": 168,
   "metadata": {},
   "outputs": [
    {
     "name": "stdout",
     "output_type": "stream",
     "text": [
      "Rate : 0.01\n"
     ]
    },
    {
     "name": "stderr",
     "output_type": "stream",
     "text": [
      "/Users/cafalena/opt/anaconda3/envs/pytorch/lib/python3.10/site-packages/torch/nn/modules/loss.py:536: UserWarning: Using a target size (torch.Size([128])) that is different to the input size (torch.Size([128, 1])). This will likely lead to incorrect results due to broadcasting. Please ensure they have the same size.\n",
      "  return F.mse_loss(input, target, reduction=self.reduction)\n"
     ]
    },
    {
     "name": "stdout",
     "output_type": "stream",
     "text": [
      "Epoch 1, loss: 0.99504047245891\n",
      "Epoch 2, loss: 0.9945147572844116\n",
      "Epoch 3, loss: 0.9917161050770018\n",
      "Epoch 4, loss: 0.9928972605201933\n",
      "Epoch 5, loss: 0.9946873491560971\n",
      "Epoch 6, loss: 0.9938751188693223\n",
      "Epoch 7, loss: 0.9932233293851217\n",
      "Epoch 8, loss: 0.993188594226484\n",
      "Epoch 9, loss: 0.9939417767303961\n",
      "Epoch 10, loss: 0.9951422628429201\n"
     ]
    }
   ],
   "source": [
    "input_dim = 9\n",
    "hidden_sizes = [100, 100]\n",
    "\n",
    "model.to(device)\n",
    "\n",
    "num_epochs = 10\n",
    "\n",
    "#Rate = [100,10,1,1e-1,1e-2,1e-3]\n",
    "Rate = [0.01]\n",
    "for lr in Rate:\n",
    "    print(\"Rate : \",end='')\n",
    "    print(lr)\n",
    "\n",
    "    # Instantiate the model and optimizer\n",
    "    model = SimpleLSTM(input_dim, hidden_sizes).to(device)\n",
    "\n",
    "    optimizer = torch.optim.Adam(model.parameters(), lr=lr)\n",
    "    criterion = nn.MSELoss()\n",
    "    \n",
    "    # Train the model\n",
    "    for epoch in range(num_epochs):\n",
    "        running_loss = 0.0\n",
    "        for i, data in enumerate(train_dataset):\n",
    "            inputs, labels = data\n",
    "            inputs, labels = inputs.to(device) , labels.to(device)\n",
    "            optimizer.zero_grad()\n",
    "            outputs = model(inputs)\n",
    "            loss = criterion(outputs, labels)\n",
    "            loss.backward()\n",
    "            optimizer.step()\n",
    "            running_loss += loss.item()\n",
    "        print(f\"Epoch {epoch+1}, loss: {running_loss/len(train_dataset)}\")\n",
    "\n"
   ]
  },
  {
   "cell_type": "code",
   "execution_count": 169,
   "metadata": {},
   "outputs": [
    {
     "name": "stdout",
     "output_type": "stream",
     "text": [
      "예측 기온: 13.1 / 실제 기온: -4.9 / 차이: 18.0\n",
      "예측 기온: 13.1 / 실제 기온: 27.8 / 차이: -14.7\n",
      "예측 기온: 13.0 / 실제 기온: 23.3 / 차이: -10.3\n",
      "예측 기온: 13.1 / 실제 기온: 25.4 / 차이: -12.3\n",
      "예측 기온: 13.1 / 실제 기온: 19.1 / 차이: -6.0\n",
      "예측 기온: 13.1 / 실제 기온: -9.5 / 차이: 22.6\n",
      "예측 기온: 13.1 / 실제 기온: 0.3 / 차이: 12.8\n",
      "예측 기온: 13.1 / 실제 기온: 3.9 / 차이: 9.2\n",
      "예측 기온: 13.1 / 실제 기온: 1.6 / 차이: 11.5\n",
      "예측 기온: 13.1 / 실제 기온: 6.7 / 차이: 6.4\n"
     ]
    }
   ],
   "source": [
    "for i in range(10):\n",
    "    data_idx = np.random.randint(len(test_sequences))\n",
    "    input_data = test_sequences[data_idx:data_idx+1, :, :]\n",
    "    with torch.no_grad():\n",
    "        pred = model(input_data.to(device)).detach().cpu().numpy()[0, 0]  # Use detach() method to detach the tensor from the computational graph\n",
    "    # 예측 기온을 normalization 이전 상태(섭씨 단위)로 되돌리는 작업\n",
    "    pred = pred * train_std[0] + train_mean[0]\n",
    "    # 실제 기온을 normalization 이전 상태(섭씨 단위)로 되돌리는 작업\n",
    "    target = test_labels[data_idx] * train_std[0] + train_mean[0]\n",
    "    print('예측 기온: {:.1f} / 실제 기온: {:.1f} / 차이: {:.1f}'.format(\n",
    "        pred, target, pred - target))"
   ]
  }
 ],
 "metadata": {
  "kernelspec": {
   "display_name": "pytorch",
   "language": "python",
   "name": "python3"
  },
  "language_info": {
   "codemirror_mode": {
    "name": "ipython",
    "version": 3
   },
   "file_extension": ".py",
   "mimetype": "text/x-python",
   "name": "python",
   "nbconvert_exporter": "python",
   "pygments_lexer": "ipython3",
   "version": "3.10.10"
  },
  "orig_nbformat": 4
 },
 "nbformat": 4,
 "nbformat_minor": 2
}
