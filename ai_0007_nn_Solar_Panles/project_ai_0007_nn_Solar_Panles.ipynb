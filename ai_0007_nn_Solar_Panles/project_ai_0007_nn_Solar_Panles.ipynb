{
 "cells": [
  {
   "attachments": {},
   "cell_type": "markdown",
   "metadata": {},
   "source": [
    "## Project : Solar Panels Productivity\n",
    "#### Source\n",
    "https://www.kaggle.com/datasets/ibrahimkiziloklu/solar-radiation-dataset  \n",
    "https://www.kaggle.com/competitions/2021-ai-w6-p2/data\n",
    "\n",
    "\n",
    "Net class\n",
    " \n",
    "https://tutorials.pytorch.kr/beginner/blitz/neural_networks_tutorial.html  \n",
    "reset weight and bias : https://discuss.pytorch.org/t/reset-model-weights/19180/3  \n"
   ]
  },
  {
   "cell_type": "code",
   "execution_count": 48,
   "metadata": {},
   "outputs": [
    {
     "name": "stdout",
     "output_type": "stream",
     "text": [
      "row :  9999\n",
      "col :  8\n",
      "data Y\n",
      "row :  9999\n",
      "col :  100\n"
     ]
    }
   ],
   "source": [
    "import numpy\n",
    "\n",
    "#get data from csv\n",
    "data = numpy.genfromtxt(\"C:/Users/OWO/Documents/AA_CODE/@Projects/Projects/ai_0007_nn_Solar_Panles/train.csv\",delimiter=\",\",encoding='UTF-8')\n",
    "\n",
    "\n",
    "#make list of features\n",
    "data_train = data[1:,:-1]\n",
    "print(\"row : \",len(data_train))\n",
    "print(\"col : \",len(data_train[0]))\n",
    "#print(data_train)\n",
    "\n",
    "#make list of outputs\n",
    "data_y_original = data[1:,-1:]\n",
    "#print(data_y)\n",
    "\n",
    "#make a 2 dim list [data num][possible output num]\n",
    "data_y = [[0 for col in range(int(data_y_original.max())+3)] for row in range(len(data_y_original))] \n",
    "print(\"data Y\\nrow : \",len(data_y))\n",
    "print(\"col : \",len(data_y[0]))\n",
    "#print(data_y)\n",
    "\n",
    "for row in range(len(data_y)):\n",
    "  data_y[row][int(data_y_original[row][0])] = 1\n",
    "  #print(int(data_y_original[row][0]))\n",
    "#I could use round (반올림) but thats too compliacted so I didnt"
   ]
  },
  {
   "attachments": {},
   "cell_type": "markdown",
   "metadata": {},
   "source": [
    "## Hardware"
   ]
  },
  {
   "cell_type": "code",
   "execution_count": 22,
   "metadata": {},
   "outputs": [
    {
     "name": "stdout",
     "output_type": "stream",
     "text": [
      "Cuda torch working : True\n",
      "current device no. : 0\n",
      "GPU device count : 1\n",
      "GPU name : NVIDIA GeForce GTX 1080\n",
      "device :  cuda\n"
     ]
    }
   ],
   "source": [
    "##Hardwere\n",
    "import torch\n",
    "if torch.cuda.is_available() == True:\n",
    "  device = 'cuda'\n",
    "  templist = [1,2,3]\n",
    "  templist = torch.FloatTensor(templist).to(device)\n",
    "  print(\"Cuda torch working : \",end=\"\")\n",
    "  print(templist.is_cuda)\n",
    "  print(\"current device no. : \",end=\"\")\n",
    "  print(torch.cuda.current_device())\n",
    "  print(\"GPU device count : \",end=\"\")\n",
    "  print(torch.cuda.device_count())\n",
    "  print(\"GPU name : \",end=\"\")\n",
    "  print(torch.cuda.get_device_name(0))\n",
    "  print(\"device : \",device)\n",
    "elif torch.backends.mps.is_available() == True:\n",
    "  print(\"Apple device detected\\nActivating Apple Silicon GPU\")\n",
    "  device = torch.device(\"mps\")\n",
    "else:\n",
    "  print(\"cant use gpu , activating cpu\")\n",
    "  device = 'cpu'"
   ]
  },
  {
   "attachments": {},
   "cell_type": "markdown",
   "metadata": {},
   "source": [
    "## ML"
   ]
  },
  {
   "cell_type": "code",
   "execution_count": 23,
   "metadata": {},
   "outputs": [
    {
     "name": "stderr",
     "output_type": "stream",
     "text": [
      "100%|██████████| 100000/100000 [01:42<00:00, 974.50it/s]\n"
     ]
    },
    {
     "name": "stdout",
     "output_type": "stream",
     "text": [
      "At learning rate 1.0E-03  Accrucary : 58.51  Mean difference 0.80 Loss : 1.49616\n"
     ]
    }
   ],
   "source": [
    "##ML1\n",
    "import torch.nn as nn\n",
    "import torch.nn.functional as F\n",
    "import torch.optim as optim\n",
    "\n",
    "\n",
    "class Net(nn.Module):\n",
    "    def __init__(self):\n",
    "        super().__init__()\n",
    "        drop_prob = 0.2 # 0.2 == 20%\n",
    "        self.fc1 = nn.Linear(8, 16,bias=True)\n",
    "        self.fc2 = nn.Linear(16, 32,bias=True)\n",
    "        self.fc3 = nn.Linear(32, 64,bias=True)\n",
    "        self.fc4 = nn.Linear(64, 100)\n",
    "        self.relu = torch.nn.Sigmoid()\n",
    "        self.dropout = torch.nn.Dropout(p=drop_prob)# nn.Dropout module is a regularization technique for reducing overfitting in neural networks by randomly setting a proportion of input units to 0 during training\n",
    "        self.reset_weights()\n",
    "        \n",
    "        ## initialize weight\n",
    "\n",
    "    def forward(self, x):\n",
    "        x = self.fc1(x)\n",
    "        x = self.fc2(x)\n",
    "        x = self.fc3(x)\n",
    "        x = self.fc4(x)\n",
    "        \n",
    "        return x\n",
    "    \n",
    "    def reset_weights(self):\n",
    "        for m in self.modules():\n",
    "            if isinstance(m, nn.Linear):\n",
    "                nn.init.xavier_uniform_(m.weight.data)\n",
    "                if m.bias is not None:\n",
    "                    m.bias.data.zero_()\n",
    "\n",
    "net = Net()\n",
    "net=net.to(device)\n",
    "\n",
    "#lr_list = [10000,100,1,1e-3,1e-5,1e-10]\n",
    "lr_list = [1e-3]\n",
    "\n",
    "for LR in lr_list:\n",
    "    net.reset_weights()##reset weight and bias\n",
    "    \n",
    "    #Loss Model\n",
    "    criterion = nn.CrossEntropyLoss().to(device)\n",
    "    #Optimizer Model\n",
    "    optimizer = optim.SGD(net.parameters(), lr=LR)#giving only a few random dataset to feed to learn(it speets up)\n",
    "    #Repeat\n",
    "    nb_epoch=100000\n",
    "    #Input data turn into Torch\n",
    "    X = torch.FloatTensor(data_train)\n",
    "    #print(X.shape) // [9999, 8]\n",
    "    X = X.to(device)\n",
    "    Y = torch.FloatTensor(data_y)\n",
    "    #print(Y.shape) // [9999, 98]\n",
    "    Y = Y.to(device)\n",
    "\n",
    "\n",
    "    \"\"\"#checking if Y is fine\n",
    "    for i in range(len(data_y)):\n",
    "        print(data_y[i].index(max(data_y[i])))\n",
    "    \"\"\"\n",
    "    \n",
    "    \n",
    "    #ML\n",
    "    from tqdm import tqdm\n",
    "    for epoch in tqdm(range(nb_epoch)):\n",
    "        optimizer.zero_grad()\n",
    "        # forward + backward + optimize\n",
    "        outputs = net(X)\n",
    "        loss = criterion(outputs, Y)\n",
    "        loss.backward()\n",
    "        optimizer.step()\n",
    "        \n",
    "        \n",
    "    ##Evaluate\n",
    "    print(\"At learning rate %.1E\"%LR,end=\"  \")##print learning rate\n",
    "    ## accruacy\n",
    "    sum = 0\n",
    "    for i in (range(len(Y))): # range : 9999\n",
    "        if torch.argmax(outputs[i]) == torch.argmax(Y[i]):\n",
    "            sum = sum + 1\n",
    "    print(\"Accrucary : %.2f\"%(sum/len(Y)*100),end=\"  \")\n",
    "    ## avrage cost\n",
    "    sum = 0\n",
    "    for i in (range(len(Y))): # range : 9999\n",
    "        sum = torch.argmax(outputs[i]) - torch.argmax(Y[i]) + sum\n",
    "    print(\"Mean difference %.2f\"%(sum.item()/len(Y)),end=\" \")\n",
    "    print(\"Loss : %.5f\"%loss.item())\n"
   ]
  },
  {
   "attachments": {},
   "cell_type": "markdown",
   "metadata": {},
   "source": [
    "### Learning rate\n",
    "\n",
    "At learning rate 1.0E+04  Accrucary : 49.85  Mean difference -18.04  \n",
    "At learning rate 1.0E+02  Accrucary : 49.85  Mean difference -18.04  \n",
    "At learning rate 1.0E+00  Accrucary : 49.85  Mean difference -18.04\n",
    "##### At learning rate 1.0E-03  Accrucary : 56.82  Mean difference 0.01\n",
    "At learning rate 1.0E-05  Accrucary : 50.19  Mean difference 2.05  \n",
    "At learning rate 1.0E-10  Accrucary : 0.51  Mean difference 28.17  "
   ]
  },
  {
   "cell_type": "code",
   "execution_count": 71,
   "metadata": {},
   "outputs": [
    {
     "name": "stdout",
     "output_type": "stream",
     "text": [
      "current device : cuda\n"
     ]
    },
    {
     "name": "stderr",
     "output_type": "stream",
     "text": [
      "  1%|          | 1/100 [00:09<15:29,  9.38s/it]"
     ]
    },
    {
     "name": "stdout",
     "output_type": "stream",
     "text": [
      "tensor([[17.4411],\n",
      "        [11.9966],\n",
      "        [-3.8666],\n",
      "        ...,\n",
      "        [-2.2621],\n",
      "        [20.3528],\n",
      "        [13.8508]], device='cuda:0', grad_fn=<AddmmBackward0>)@@@@@@@\n"
     ]
    },
    {
     "name": "stderr",
     "output_type": "stream",
     "text": [
      "  2%|▏         | 2/100 [00:18<15:30,  9.49s/it]"
     ]
    },
    {
     "name": "stdout",
     "output_type": "stream",
     "text": [
      "tensor([[19.8598],\n",
      "        [18.2822],\n",
      "        [21.0003],\n",
      "        ...,\n",
      "        [18.8095],\n",
      "        [20.2588],\n",
      "        [17.3788]], device='cuda:0', grad_fn=<AddmmBackward0>)@@@@@@@\n"
     ]
    },
    {
     "name": "stderr",
     "output_type": "stream",
     "text": [
      "  3%|▎         | 3/100 [00:28<15:13,  9.42s/it]"
     ]
    },
    {
     "name": "stdout",
     "output_type": "stream",
     "text": [
      "tensor([[19.0455],\n",
      "        [20.5910],\n",
      "        [20.8569],\n",
      "        ...,\n",
      "        [21.2725],\n",
      "        [24.1019],\n",
      "        [23.1586]], device='cuda:0', grad_fn=<AddmmBackward0>)@@@@@@@\n"
     ]
    },
    {
     "name": "stderr",
     "output_type": "stream",
     "text": [
      "  4%|▍         | 4/100 [00:37<15:03,  9.41s/it]"
     ]
    },
    {
     "name": "stdout",
     "output_type": "stream",
     "text": [
      "tensor([[19.4613],\n",
      "        [18.3799],\n",
      "        [17.3214],\n",
      "        ...,\n",
      "        [19.4808],\n",
      "        [19.3866],\n",
      "        [19.4614]], device='cuda:0', grad_fn=<AddmmBackward0>)@@@@@@@\n"
     ]
    },
    {
     "name": "stderr",
     "output_type": "stream",
     "text": [
      "  5%|▌         | 5/100 [00:47<15:06,  9.55s/it]"
     ]
    },
    {
     "name": "stdout",
     "output_type": "stream",
     "text": [
      "tensor([[17.3303],\n",
      "        [17.8927],\n",
      "        [18.7631],\n",
      "        ...,\n",
      "        [21.6975],\n",
      "        [20.6122],\n",
      "        [18.9812]], device='cuda:0', grad_fn=<AddmmBackward0>)@@@@@@@\n"
     ]
    },
    {
     "name": "stderr",
     "output_type": "stream",
     "text": [
      "  6%|▌         | 6/100 [00:56<14:47,  9.44s/it]"
     ]
    },
    {
     "name": "stdout",
     "output_type": "stream",
     "text": [
      "tensor([[19.6148],\n",
      "        [18.8214],\n",
      "        [15.7017],\n",
      "        ...,\n",
      "        [19.9384],\n",
      "        [19.6084],\n",
      "        [22.2241]], device='cuda:0', grad_fn=<AddmmBackward0>)@@@@@@@\n"
     ]
    },
    {
     "name": "stderr",
     "output_type": "stream",
     "text": [
      "  7%|▋         | 7/100 [01:06<14:39,  9.45s/it]"
     ]
    },
    {
     "name": "stdout",
     "output_type": "stream",
     "text": [
      "tensor([[18.7871],\n",
      "        [18.7873],\n",
      "        [20.2419],\n",
      "        ...,\n",
      "        [19.3793],\n",
      "        [18.0899],\n",
      "        [17.0474]], device='cuda:0', grad_fn=<AddmmBackward0>)@@@@@@@\n"
     ]
    },
    {
     "name": "stderr",
     "output_type": "stream",
     "text": [
      "  8%|▊         | 8/100 [01:15<14:26,  9.42s/it]"
     ]
    },
    {
     "name": "stdout",
     "output_type": "stream",
     "text": [
      "tensor([[20.5745],\n",
      "        [19.9226],\n",
      "        [21.6854],\n",
      "        ...,\n",
      "        [16.9098],\n",
      "        [18.8759],\n",
      "        [20.5684]], device='cuda:0', grad_fn=<AddmmBackward0>)@@@@@@@\n"
     ]
    },
    {
     "name": "stderr",
     "output_type": "stream",
     "text": [
      "  9%|▉         | 9/100 [01:24<14:10,  9.35s/it]"
     ]
    },
    {
     "name": "stdout",
     "output_type": "stream",
     "text": [
      "tensor([[20.7291],\n",
      "        [17.6135],\n",
      "        [21.9714],\n",
      "        ...,\n",
      "        [21.7038],\n",
      "        [20.6968],\n",
      "        [19.2209]], device='cuda:0', grad_fn=<AddmmBackward0>)@@@@@@@\n"
     ]
    },
    {
     "name": "stderr",
     "output_type": "stream",
     "text": [
      " 10%|█         | 10/100 [01:33<13:52,  9.25s/it]"
     ]
    },
    {
     "name": "stdout",
     "output_type": "stream",
     "text": [
      "tensor([[20.7125],\n",
      "        [20.5515],\n",
      "        [21.1949],\n",
      "        ...,\n",
      "        [20.4896],\n",
      "        [21.1973],\n",
      "        [20.5563]], device='cuda:0', grad_fn=<AddmmBackward0>)@@@@@@@\n"
     ]
    },
    {
     "name": "stderr",
     "output_type": "stream",
     "text": [
      " 11%|█         | 11/100 [01:43<13:43,  9.25s/it]"
     ]
    },
    {
     "name": "stdout",
     "output_type": "stream",
     "text": [
      "tensor([[16.6804],\n",
      "        [19.1762],\n",
      "        [20.6411],\n",
      "        ...,\n",
      "        [19.7160],\n",
      "        [19.8520],\n",
      "        [18.4435]], device='cuda:0', grad_fn=<AddmmBackward0>)@@@@@@@\n"
     ]
    },
    {
     "name": "stderr",
     "output_type": "stream",
     "text": [
      " 12%|█▏        | 12/100 [01:52<13:34,  9.26s/it]"
     ]
    },
    {
     "name": "stdout",
     "output_type": "stream",
     "text": [
      "tensor([[19.6656],\n",
      "        [19.6676],\n",
      "        [17.5239],\n",
      "        ...,\n",
      "        [20.1458],\n",
      "        [19.5446],\n",
      "        [20.6979]], device='cuda:0', grad_fn=<AddmmBackward0>)@@@@@@@\n"
     ]
    },
    {
     "name": "stderr",
     "output_type": "stream",
     "text": [
      " 13%|█▎        | 13/100 [02:00<13:11,  9.09s/it]"
     ]
    },
    {
     "name": "stdout",
     "output_type": "stream",
     "text": [
      "tensor([[16.2529],\n",
      "        [13.5720],\n",
      "        [14.7702],\n",
      "        ...,\n",
      "        [29.2536],\n",
      "        [20.1109],\n",
      "        [30.7851]], device='cuda:0', grad_fn=<AddmmBackward0>)@@@@@@@\n"
     ]
    },
    {
     "name": "stderr",
     "output_type": "stream",
     "text": [
      " 14%|█▍        | 14/100 [02:09<12:58,  9.05s/it]"
     ]
    },
    {
     "name": "stdout",
     "output_type": "stream",
     "text": [
      "tensor([[19.4307],\n",
      "        [15.2171],\n",
      "        [16.7120],\n",
      "        ...,\n",
      "        [21.6521],\n",
      "        [14.6853],\n",
      "        [19.4308]], device='cuda:0', grad_fn=<AddmmBackward0>)@@@@@@@\n"
     ]
    },
    {
     "name": "stderr",
     "output_type": "stream",
     "text": [
      " 15%|█▌        | 15/100 [02:18<12:48,  9.05s/it]"
     ]
    },
    {
     "name": "stdout",
     "output_type": "stream",
     "text": [
      "tensor([[20.3709],\n",
      "        [17.4353],\n",
      "        [20.3710],\n",
      "        ...,\n",
      "        [20.4460],\n",
      "        [18.1069],\n",
      "        [15.2279]], device='cuda:0', grad_fn=<AddmmBackward0>)@@@@@@@\n"
     ]
    },
    {
     "name": "stderr",
     "output_type": "stream",
     "text": [
      " 16%|█▌        | 16/100 [02:28<12:39,  9.04s/it]"
     ]
    },
    {
     "name": "stdout",
     "output_type": "stream",
     "text": [
      "tensor([[18.3582],\n",
      "        [18.1670],\n",
      "        [16.2541],\n",
      "        ...,\n",
      "        [18.1053],\n",
      "        [18.1671],\n",
      "        [18.1053]], device='cuda:0', grad_fn=<AddmmBackward0>)@@@@@@@\n"
     ]
    },
    {
     "name": "stderr",
     "output_type": "stream",
     "text": [
      " 17%|█▋        | 17/100 [02:37<12:30,  9.04s/it]"
     ]
    },
    {
     "name": "stdout",
     "output_type": "stream",
     "text": [
      "tensor([[17.0510],\n",
      "        [17.0560],\n",
      "        [17.8624],\n",
      "        ...,\n",
      "        [16.5071],\n",
      "        [18.4146],\n",
      "        [19.2091]], device='cuda:0', grad_fn=<AddmmBackward0>)@@@@@@@\n"
     ]
    },
    {
     "name": "stderr",
     "output_type": "stream",
     "text": [
      " 18%|█▊        | 18/100 [02:46<12:23,  9.07s/it]"
     ]
    },
    {
     "name": "stdout",
     "output_type": "stream",
     "text": [
      "tensor([[17.6021],\n",
      "        [17.9234],\n",
      "        [17.9812],\n",
      "        ...,\n",
      "        [17.0695],\n",
      "        [17.7379],\n",
      "        [17.1385]], device='cuda:0', grad_fn=<AddmmBackward0>)@@@@@@@\n"
     ]
    },
    {
     "name": "stderr",
     "output_type": "stream",
     "text": [
      " 19%|█▉        | 19/100 [02:55<12:13,  9.05s/it]"
     ]
    },
    {
     "name": "stdout",
     "output_type": "stream",
     "text": [
      "tensor([[16.7603],\n",
      "        [16.4538],\n",
      "        [17.8679],\n",
      "        ...,\n",
      "        [17.2633],\n",
      "        [16.6562],\n",
      "        [19.8571]], device='cuda:0', grad_fn=<AddmmBackward0>)@@@@@@@\n"
     ]
    },
    {
     "name": "stderr",
     "output_type": "stream",
     "text": [
      " 20%|██        | 20/100 [03:04<12:02,  9.04s/it]"
     ]
    },
    {
     "name": "stdout",
     "output_type": "stream",
     "text": [
      "tensor([[19.5269],\n",
      "        [20.5504],\n",
      "        [17.3193],\n",
      "        ...,\n",
      "        [16.9052],\n",
      "        [16.2166],\n",
      "        [15.8175]], device='cuda:0', grad_fn=<AddmmBackward0>)@@@@@@@\n"
     ]
    },
    {
     "name": "stderr",
     "output_type": "stream",
     "text": [
      " 21%|██        | 21/100 [03:13<11:53,  9.04s/it]"
     ]
    },
    {
     "name": "stdout",
     "output_type": "stream",
     "text": [
      "tensor([[18.4116],\n",
      "        [18.8109],\n",
      "        [18.2935],\n",
      "        ...,\n",
      "        [18.8762],\n",
      "        [18.2703],\n",
      "        [17.9181]], device='cuda:0', grad_fn=<AddmmBackward0>)@@@@@@@\n"
     ]
    },
    {
     "name": "stderr",
     "output_type": "stream",
     "text": [
      " 22%|██▏       | 22/100 [03:22<11:45,  9.04s/it]"
     ]
    },
    {
     "name": "stdout",
     "output_type": "stream",
     "text": [
      "tensor([[17.0776],\n",
      "        [18.2793],\n",
      "        [18.5257],\n",
      "        ...,\n",
      "        [18.1408],\n",
      "        [16.8320],\n",
      "        [16.9871]], device='cuda:0', grad_fn=<AddmmBackward0>)@@@@@@@\n"
     ]
    },
    {
     "name": "stderr",
     "output_type": "stream",
     "text": [
      " 23%|██▎       | 23/100 [03:31<11:37,  9.05s/it]"
     ]
    },
    {
     "name": "stdout",
     "output_type": "stream",
     "text": [
      "tensor([[18.8865],\n",
      "        [18.8857],\n",
      "        [17.4562],\n",
      "        ...,\n",
      "        [19.8735],\n",
      "        [19.2093],\n",
      "        [18.3535]], device='cuda:0', grad_fn=<AddmmBackward0>)@@@@@@@\n"
     ]
    },
    {
     "name": "stderr",
     "output_type": "stream",
     "text": [
      " 24%|██▍       | 24/100 [03:40<11:32,  9.12s/it]"
     ]
    },
    {
     "name": "stdout",
     "output_type": "stream",
     "text": [
      "tensor([[19.8801],\n",
      "        [17.6091],\n",
      "        [19.7095],\n",
      "        ...,\n",
      "        [21.2570],\n",
      "        [17.5634],\n",
      "        [18.9200]], device='cuda:0', grad_fn=<AddmmBackward0>)@@@@@@@\n"
     ]
    },
    {
     "name": "stderr",
     "output_type": "stream",
     "text": [
      " 25%|██▌       | 25/100 [03:49<11:29,  9.19s/it]"
     ]
    },
    {
     "name": "stdout",
     "output_type": "stream",
     "text": [
      "tensor([[17.4553],\n",
      "        [17.8404],\n",
      "        [19.0252],\n",
      "        ...,\n",
      "        [20.1154],\n",
      "        [18.4917],\n",
      "        [20.5086]], device='cuda:0', grad_fn=<AddmmBackward0>)@@@@@@@\n"
     ]
    },
    {
     "name": "stderr",
     "output_type": "stream",
     "text": [
      " 26%|██▌       | 26/100 [03:59<11:21,  9.22s/it]"
     ]
    },
    {
     "name": "stdout",
     "output_type": "stream",
     "text": [
      "tensor([[18.5003],\n",
      "        [19.3299],\n",
      "        [18.8820],\n",
      "        ...,\n",
      "        [18.8782],\n",
      "        [18.6630],\n",
      "        [18.5054]], device='cuda:0', grad_fn=<AddmmBackward0>)@@@@@@@\n"
     ]
    },
    {
     "name": "stderr",
     "output_type": "stream",
     "text": [
      " 27%|██▋       | 27/100 [04:08<11:11,  9.20s/it]"
     ]
    },
    {
     "name": "stdout",
     "output_type": "stream",
     "text": [
      "tensor([[19.0333],\n",
      "        [23.4656],\n",
      "        [20.3314],\n",
      "        ...,\n",
      "        [19.7830],\n",
      "        [18.1621],\n",
      "        [18.7264]], device='cuda:0', grad_fn=<AddmmBackward0>)@@@@@@@\n"
     ]
    },
    {
     "name": "stderr",
     "output_type": "stream",
     "text": [
      " 28%|██▊       | 28/100 [04:17<10:56,  9.12s/it]"
     ]
    },
    {
     "name": "stdout",
     "output_type": "stream",
     "text": [
      "tensor([[18.8214],\n",
      "        [18.5730],\n",
      "        [19.4322],\n",
      "        ...,\n",
      "        [17.9306],\n",
      "        [18.8213],\n",
      "        [18.7965]], device='cuda:0', grad_fn=<AddmmBackward0>)@@@@@@@\n"
     ]
    },
    {
     "name": "stderr",
     "output_type": "stream",
     "text": [
      " 29%|██▉       | 29/100 [04:26<10:45,  9.09s/it]"
     ]
    },
    {
     "name": "stdout",
     "output_type": "stream",
     "text": [
      "tensor([[19.9215],\n",
      "        [19.0733],\n",
      "        [16.4630],\n",
      "        ...,\n",
      "        [18.5080],\n",
      "        [19.9213],\n",
      "        [16.1701]], device='cuda:0', grad_fn=<AddmmBackward0>)@@@@@@@\n"
     ]
    },
    {
     "name": "stderr",
     "output_type": "stream",
     "text": [
      " 30%|███       | 30/100 [04:35<10:36,  9.09s/it]"
     ]
    },
    {
     "name": "stdout",
     "output_type": "stream",
     "text": [
      "tensor([[18.6996],\n",
      "        [23.3827],\n",
      "        [19.3221],\n",
      "        ...,\n",
      "        [21.2153],\n",
      "        [15.1209],\n",
      "        [16.8569]], device='cuda:0', grad_fn=<AddmmBackward0>)@@@@@@@\n"
     ]
    },
    {
     "name": "stderr",
     "output_type": "stream",
     "text": [
      " 31%|███       | 31/100 [04:44<10:25,  9.06s/it]"
     ]
    },
    {
     "name": "stdout",
     "output_type": "stream",
     "text": [
      "tensor([[18.6872],\n",
      "        [18.2274],\n",
      "        [17.4981],\n",
      "        ...,\n",
      "        [19.2485],\n",
      "        [18.4678],\n",
      "        [17.7415]], device='cuda:0', grad_fn=<AddmmBackward0>)@@@@@@@\n"
     ]
    },
    {
     "name": "stderr",
     "output_type": "stream",
     "text": [
      " 32%|███▏      | 32/100 [04:53<10:16,  9.07s/it]"
     ]
    },
    {
     "name": "stdout",
     "output_type": "stream",
     "text": [
      "tensor([[18.9296],\n",
      "        [20.5193],\n",
      "        [15.0302],\n",
      "        ...,\n",
      "        [17.9426],\n",
      "        [20.0580],\n",
      "        [19.5288]], device='cuda:0', grad_fn=<AddmmBackward0>)@@@@@@@\n"
     ]
    },
    {
     "name": "stderr",
     "output_type": "stream",
     "text": [
      " 33%|███▎      | 33/100 [05:02<10:09,  9.10s/it]"
     ]
    },
    {
     "name": "stdout",
     "output_type": "stream",
     "text": [
      "tensor([[15.5440],\n",
      "        [17.9178],\n",
      "        [20.6171],\n",
      "        ...,\n",
      "        [16.8893],\n",
      "        [15.4670],\n",
      "        [19.1409]], device='cuda:0', grad_fn=<AddmmBackward0>)@@@@@@@\n"
     ]
    },
    {
     "name": "stderr",
     "output_type": "stream",
     "text": [
      " 34%|███▍      | 34/100 [05:12<10:05,  9.17s/it]"
     ]
    },
    {
     "name": "stdout",
     "output_type": "stream",
     "text": [
      "tensor([[18.4572],\n",
      "        [18.1539],\n",
      "        [17.9190],\n",
      "        ...,\n",
      "        [19.1158],\n",
      "        [19.3937],\n",
      "        [20.1080]], device='cuda:0', grad_fn=<AddmmBackward0>)@@@@@@@\n"
     ]
    },
    {
     "name": "stderr",
     "output_type": "stream",
     "text": [
      " 35%|███▌      | 35/100 [05:21<09:53,  9.13s/it]"
     ]
    },
    {
     "name": "stdout",
     "output_type": "stream",
     "text": [
      "tensor([[16.1767],\n",
      "        [18.6569],\n",
      "        [16.1847],\n",
      "        ...,\n",
      "        [18.3591],\n",
      "        [18.2145],\n",
      "        [18.2233]], device='cuda:0', grad_fn=<AddmmBackward0>)@@@@@@@\n"
     ]
    },
    {
     "name": "stderr",
     "output_type": "stream",
     "text": [
      " 36%|███▌      | 36/100 [05:30<09:44,  9.14s/it]"
     ]
    },
    {
     "name": "stdout",
     "output_type": "stream",
     "text": [
      "tensor([[19.1733],\n",
      "        [19.1694],\n",
      "        [18.8985],\n",
      "        ...,\n",
      "        [17.6213],\n",
      "        [17.3466],\n",
      "        [19.4684]], device='cuda:0', grad_fn=<AddmmBackward0>)@@@@@@@\n"
     ]
    },
    {
     "name": "stderr",
     "output_type": "stream",
     "text": [
      " 37%|███▋      | 37/100 [05:39<09:35,  9.14s/it]"
     ]
    },
    {
     "name": "stdout",
     "output_type": "stream",
     "text": [
      "tensor([[18.6568],\n",
      "        [18.2308],\n",
      "        [18.7312],\n",
      "        ...,\n",
      "        [18.7489],\n",
      "        [20.6312],\n",
      "        [18.7312]], device='cuda:0', grad_fn=<AddmmBackward0>)@@@@@@@\n"
     ]
    },
    {
     "name": "stderr",
     "output_type": "stream",
     "text": [
      " 38%|███▊      | 38/100 [05:48<09:26,  9.14s/it]"
     ]
    },
    {
     "name": "stdout",
     "output_type": "stream",
     "text": [
      "tensor([[18.7323],\n",
      "        [18.7323],\n",
      "        [17.6816],\n",
      "        ...,\n",
      "        [18.7322],\n",
      "        [17.2911],\n",
      "        [20.8860]], device='cuda:0', grad_fn=<AddmmBackward0>)@@@@@@@\n"
     ]
    },
    {
     "name": "stderr",
     "output_type": "stream",
     "text": [
      " 39%|███▉      | 39/100 [05:57<09:17,  9.13s/it]"
     ]
    },
    {
     "name": "stdout",
     "output_type": "stream",
     "text": [
      "tensor([[18.2399],\n",
      "        [17.2983],\n",
      "        [17.5989],\n",
      "        ...,\n",
      "        [18.4900],\n",
      "        [19.6470],\n",
      "        [18.5952]], device='cuda:0', grad_fn=<AddmmBackward0>)@@@@@@@\n"
     ]
    },
    {
     "name": "stderr",
     "output_type": "stream",
     "text": [
      " 40%|████      | 40/100 [06:06<09:05,  9.09s/it]"
     ]
    },
    {
     "name": "stdout",
     "output_type": "stream",
     "text": [
      "tensor([[17.2172],\n",
      "        [17.3764],\n",
      "        [19.8361],\n",
      "        ...,\n",
      "        [19.0815],\n",
      "        [17.1421],\n",
      "        [16.9554]], device='cuda:0', grad_fn=<AddmmBackward0>)@@@@@@@\n"
     ]
    },
    {
     "name": "stderr",
     "output_type": "stream",
     "text": [
      " 41%|████      | 41/100 [06:15<08:54,  9.06s/it]"
     ]
    },
    {
     "name": "stdout",
     "output_type": "stream",
     "text": [
      "tensor([[16.6223],\n",
      "        [17.7581],\n",
      "        [17.0722],\n",
      "        ...,\n",
      "        [19.4764],\n",
      "        [15.4670],\n",
      "        [20.5682]], device='cuda:0', grad_fn=<AddmmBackward0>)@@@@@@@\n"
     ]
    },
    {
     "name": "stderr",
     "output_type": "stream",
     "text": [
      " 42%|████▏     | 42/100 [06:24<08:47,  9.09s/it]"
     ]
    },
    {
     "name": "stdout",
     "output_type": "stream",
     "text": [
      "tensor([[18.8634],\n",
      "        [20.0215],\n",
      "        [18.8848],\n",
      "        ...,\n",
      "        [19.5218],\n",
      "        [20.7186],\n",
      "        [16.6320]], device='cuda:0', grad_fn=<AddmmBackward0>)@@@@@@@\n"
     ]
    },
    {
     "name": "stderr",
     "output_type": "stream",
     "text": [
      " 43%|████▎     | 43/100 [06:33<08:36,  9.06s/it]"
     ]
    },
    {
     "name": "stdout",
     "output_type": "stream",
     "text": [
      "tensor([[15.6768],\n",
      "        [17.5275],\n",
      "        [17.8764],\n",
      "        ...,\n",
      "        [18.0838],\n",
      "        [17.1186],\n",
      "        [20.2043]], device='cuda:0', grad_fn=<AddmmBackward0>)@@@@@@@\n"
     ]
    },
    {
     "name": "stderr",
     "output_type": "stream",
     "text": [
      " 44%|████▍     | 44/100 [06:42<08:26,  9.05s/it]"
     ]
    },
    {
     "name": "stdout",
     "output_type": "stream",
     "text": [
      "tensor([[15.6836],\n",
      "        [20.3855],\n",
      "        [18.4513],\n",
      "        ...,\n",
      "        [18.6064],\n",
      "        [18.4891],\n",
      "        [18.7187]], device='cuda:0', grad_fn=<AddmmBackward0>)@@@@@@@\n"
     ]
    },
    {
     "name": "stderr",
     "output_type": "stream",
     "text": [
      " 45%|████▌     | 45/100 [06:51<08:16,  9.03s/it]"
     ]
    },
    {
     "name": "stdout",
     "output_type": "stream",
     "text": [
      "tensor([[19.6628],\n",
      "        [19.5728],\n",
      "        [19.6619],\n",
      "        ...,\n",
      "        [19.6626],\n",
      "        [18.4158],\n",
      "        [16.5583]], device='cuda:0', grad_fn=<AddmmBackward0>)@@@@@@@\n"
     ]
    },
    {
     "name": "stderr",
     "output_type": "stream",
     "text": [
      " 46%|████▌     | 46/100 [07:00<08:09,  9.07s/it]"
     ]
    },
    {
     "name": "stdout",
     "output_type": "stream",
     "text": [
      "tensor([[16.6318],\n",
      "        [17.3680],\n",
      "        [16.8850],\n",
      "        ...,\n",
      "        [18.2885],\n",
      "        [21.2588],\n",
      "        [18.0898]], device='cuda:0', grad_fn=<AddmmBackward0>)@@@@@@@\n"
     ]
    },
    {
     "name": "stderr",
     "output_type": "stream",
     "text": [
      " 47%|████▋     | 47/100 [07:10<08:01,  9.09s/it]"
     ]
    },
    {
     "name": "stdout",
     "output_type": "stream",
     "text": [
      "tensor([[19.1188],\n",
      "        [19.5037],\n",
      "        [19.4390],\n",
      "        ...,\n",
      "        [19.4183],\n",
      "        [18.5454],\n",
      "        [19.6225]], device='cuda:0', grad_fn=<AddmmBackward0>)@@@@@@@\n"
     ]
    },
    {
     "name": "stderr",
     "output_type": "stream",
     "text": [
      " 48%|████▊     | 48/100 [07:19<07:54,  9.13s/it]"
     ]
    },
    {
     "name": "stdout",
     "output_type": "stream",
     "text": [
      "tensor([[19.9203],\n",
      "        [18.2183],\n",
      "        [19.5567],\n",
      "        ...,\n",
      "        [21.6396],\n",
      "        [18.6854],\n",
      "        [18.1247]], device='cuda:0', grad_fn=<AddmmBackward0>)@@@@@@@\n"
     ]
    },
    {
     "name": "stderr",
     "output_type": "stream",
     "text": [
      " 49%|████▉     | 49/100 [07:28<07:42,  9.06s/it]"
     ]
    },
    {
     "name": "stdout",
     "output_type": "stream",
     "text": [
      "tensor([[18.3562],\n",
      "        [20.1165],\n",
      "        [18.3117],\n",
      "        ...,\n",
      "        [18.3117],\n",
      "        [17.8603],\n",
      "        [16.1418]], device='cuda:0', grad_fn=<AddmmBackward0>)@@@@@@@\n"
     ]
    },
    {
     "name": "stderr",
     "output_type": "stream",
     "text": [
      " 50%|█████     | 50/100 [07:37<07:31,  9.03s/it]"
     ]
    },
    {
     "name": "stdout",
     "output_type": "stream",
     "text": [
      "tensor([[19.0881],\n",
      "        [18.0173],\n",
      "        [18.0173],\n",
      "        ...,\n",
      "        [19.8188],\n",
      "        [19.5960],\n",
      "        [19.9261]], device='cuda:0', grad_fn=<AddmmBackward0>)@@@@@@@\n"
     ]
    },
    {
     "name": "stderr",
     "output_type": "stream",
     "text": [
      " 51%|█████     | 51/100 [07:46<07:21,  9.01s/it]"
     ]
    },
    {
     "name": "stdout",
     "output_type": "stream",
     "text": [
      "tensor([[18.6675],\n",
      "        [19.9560],\n",
      "        [17.9109],\n",
      "        ...,\n",
      "        [20.4437],\n",
      "        [18.7098],\n",
      "        [19.9459]], device='cuda:0', grad_fn=<AddmmBackward0>)@@@@@@@\n"
     ]
    },
    {
     "name": "stderr",
     "output_type": "stream",
     "text": [
      " 52%|█████▏    | 52/100 [07:55<07:10,  8.98s/it]"
     ]
    },
    {
     "name": "stdout",
     "output_type": "stream",
     "text": [
      "tensor([[17.5131],\n",
      "        [17.5131],\n",
      "        [17.2616],\n",
      "        ...,\n",
      "        [17.5131],\n",
      "        [18.7259],\n",
      "        [20.4431]], device='cuda:0', grad_fn=<AddmmBackward0>)@@@@@@@\n"
     ]
    },
    {
     "name": "stderr",
     "output_type": "stream",
     "text": [
      " 53%|█████▎    | 53/100 [08:03<07:01,  8.96s/it]"
     ]
    },
    {
     "name": "stdout",
     "output_type": "stream",
     "text": [
      "tensor([[17.8663],\n",
      "        [20.6296],\n",
      "        [19.0380],\n",
      "        ...,\n",
      "        [18.6393],\n",
      "        [19.7059],\n",
      "        [19.3072]], device='cuda:0', grad_fn=<AddmmBackward0>)@@@@@@@\n"
     ]
    },
    {
     "name": "stderr",
     "output_type": "stream",
     "text": [
      " 54%|█████▍    | 54/100 [08:12<06:52,  8.96s/it]"
     ]
    },
    {
     "name": "stdout",
     "output_type": "stream",
     "text": [
      "tensor([[19.8378],\n",
      "        [19.0220],\n",
      "        [20.0746],\n",
      "        ...,\n",
      "        [19.4375],\n",
      "        [18.8562],\n",
      "        [20.0744]], device='cuda:0', grad_fn=<AddmmBackward0>)@@@@@@@\n"
     ]
    },
    {
     "name": "stderr",
     "output_type": "stream",
     "text": [
      " 55%|█████▌    | 55/100 [08:21<06:41,  8.93s/it]"
     ]
    },
    {
     "name": "stdout",
     "output_type": "stream",
     "text": [
      "tensor([[18.6468],\n",
      "        [16.7634],\n",
      "        [21.8448],\n",
      "        ...,\n",
      "        [19.6653],\n",
      "        [19.9127],\n",
      "        [19.2034]], device='cuda:0', grad_fn=<AddmmBackward0>)@@@@@@@\n"
     ]
    },
    {
     "name": "stderr",
     "output_type": "stream",
     "text": [
      " 56%|█████▌    | 56/100 [08:30<06:34,  8.97s/it]"
     ]
    },
    {
     "name": "stdout",
     "output_type": "stream",
     "text": [
      "tensor([[19.6973],\n",
      "        [17.2466],\n",
      "        [20.1823],\n",
      "        ...,\n",
      "        [19.1210],\n",
      "        [17.4302],\n",
      "        [21.8746]], device='cuda:0', grad_fn=<AddmmBackward0>)@@@@@@@\n"
     ]
    },
    {
     "name": "stderr",
     "output_type": "stream",
     "text": [
      " 57%|█████▋    | 57/100 [08:39<06:26,  8.98s/it]"
     ]
    },
    {
     "name": "stdout",
     "output_type": "stream",
     "text": [
      "tensor([[19.3109],\n",
      "        [18.3690],\n",
      "        [19.2284],\n",
      "        ...,\n",
      "        [19.2025],\n",
      "        [18.6997],\n",
      "        [17.6529]], device='cuda:0', grad_fn=<AddmmBackward0>)@@@@@@@\n"
     ]
    },
    {
     "name": "stderr",
     "output_type": "stream",
     "text": [
      " 58%|█████▊    | 58/100 [08:48<06:16,  8.97s/it]"
     ]
    },
    {
     "name": "stdout",
     "output_type": "stream",
     "text": [
      "tensor([[19.5544],\n",
      "        [18.3466],\n",
      "        [18.2787],\n",
      "        ...,\n",
      "        [18.4798],\n",
      "        [18.2781],\n",
      "        [18.5477]], device='cuda:0', grad_fn=<AddmmBackward0>)@@@@@@@\n"
     ]
    },
    {
     "name": "stderr",
     "output_type": "stream",
     "text": [
      " 59%|█████▉    | 59/100 [08:57<06:07,  8.97s/it]"
     ]
    },
    {
     "name": "stdout",
     "output_type": "stream",
     "text": [
      "tensor([[18.5988],\n",
      "        [18.2602],\n",
      "        [18.6680],\n",
      "        ...,\n",
      "        [18.4747],\n",
      "        [18.1299],\n",
      "        [19.1441]], device='cuda:0', grad_fn=<AddmmBackward0>)@@@@@@@\n"
     ]
    },
    {
     "name": "stderr",
     "output_type": "stream",
     "text": [
      " 60%|██████    | 60/100 [09:06<05:58,  8.95s/it]"
     ]
    },
    {
     "name": "stdout",
     "output_type": "stream",
     "text": [
      "tensor([[18.5152],\n",
      "        [18.1821],\n",
      "        [18.1538],\n",
      "        ...,\n",
      "        [18.7107],\n",
      "        [18.7074],\n",
      "        [16.9307]], device='cuda:0', grad_fn=<AddmmBackward0>)@@@@@@@\n"
     ]
    },
    {
     "name": "stderr",
     "output_type": "stream",
     "text": [
      " 61%|██████    | 61/100 [09:15<05:48,  8.93s/it]"
     ]
    },
    {
     "name": "stdout",
     "output_type": "stream",
     "text": [
      "tensor([[19.2460],\n",
      "        [18.4607],\n",
      "        [19.4030],\n",
      "        ...,\n",
      "        [20.4357],\n",
      "        [18.1306],\n",
      "        [16.5173]], device='cuda:0', grad_fn=<AddmmBackward0>)@@@@@@@\n"
     ]
    },
    {
     "name": "stderr",
     "output_type": "stream",
     "text": [
      " 62%|██████▏   | 62/100 [09:24<05:40,  8.95s/it]"
     ]
    },
    {
     "name": "stdout",
     "output_type": "stream",
     "text": [
      "tensor([[18.2834],\n",
      "        [18.8846],\n",
      "        [19.6173],\n",
      "        ...,\n",
      "        [20.2368],\n",
      "        [20.3040],\n",
      "        [18.1747]], device='cuda:0', grad_fn=<AddmmBackward0>)@@@@@@@\n"
     ]
    },
    {
     "name": "stderr",
     "output_type": "stream",
     "text": [
      " 63%|██████▎   | 63/100 [09:33<05:30,  8.94s/it]"
     ]
    },
    {
     "name": "stdout",
     "output_type": "stream",
     "text": [
      "tensor([[20.6884],\n",
      "        [17.5423],\n",
      "        [20.6539],\n",
      "        ...,\n",
      "        [19.3735],\n",
      "        [20.8738],\n",
      "        [17.5458]], device='cuda:0', grad_fn=<AddmmBackward0>)@@@@@@@\n"
     ]
    },
    {
     "name": "stderr",
     "output_type": "stream",
     "text": [
      " 64%|██████▍   | 64/100 [09:42<05:22,  8.97s/it]"
     ]
    },
    {
     "name": "stdout",
     "output_type": "stream",
     "text": [
      "tensor([[19.9863],\n",
      "        [17.9168],\n",
      "        [20.8823],\n",
      "        ...,\n",
      "        [19.9184],\n",
      "        [17.4293],\n",
      "        [19.9863]], device='cuda:0', grad_fn=<AddmmBackward0>)@@@@@@@\n"
     ]
    },
    {
     "name": "stderr",
     "output_type": "stream",
     "text": [
      " 65%|██████▌   | 65/100 [09:51<05:14,  8.98s/it]"
     ]
    },
    {
     "name": "stdout",
     "output_type": "stream",
     "text": [
      "tensor([[18.6445],\n",
      "        [18.7193],\n",
      "        [19.8229],\n",
      "        ...,\n",
      "        [18.6448],\n",
      "        [19.4473],\n",
      "        [18.8616]], device='cuda:0', grad_fn=<AddmmBackward0>)@@@@@@@\n"
     ]
    },
    {
     "name": "stderr",
     "output_type": "stream",
     "text": [
      " 66%|██████▌   | 66/100 [10:00<05:05,  9.00s/it]"
     ]
    },
    {
     "name": "stdout",
     "output_type": "stream",
     "text": [
      "tensor([[17.7917],\n",
      "        [19.7773],\n",
      "        [20.4368],\n",
      "        ...,\n",
      "        [19.2167],\n",
      "        [18.7290],\n",
      "        [19.1072]], device='cuda:0', grad_fn=<AddmmBackward0>)@@@@@@@\n"
     ]
    },
    {
     "name": "stderr",
     "output_type": "stream",
     "text": [
      " 67%|██████▋   | 67/100 [10:09<04:57,  9.01s/it]"
     ]
    },
    {
     "name": "stdout",
     "output_type": "stream",
     "text": [
      "tensor([[16.7162],\n",
      "        [17.0724],\n",
      "        [18.9410],\n",
      "        ...,\n",
      "        [16.7162],\n",
      "        [18.5849],\n",
      "        [18.7803]], device='cuda:0', grad_fn=<AddmmBackward0>)@@@@@@@\n"
     ]
    },
    {
     "name": "stderr",
     "output_type": "stream",
     "text": [
      " 68%|██████▊   | 68/100 [10:18<04:47,  8.99s/it]"
     ]
    },
    {
     "name": "stdout",
     "output_type": "stream",
     "text": [
      "tensor([[19.1296],\n",
      "        [18.2885],\n",
      "        [17.1200],\n",
      "        ...,\n",
      "        [18.4081],\n",
      "        [18.8049],\n",
      "        [17.6257]], device='cuda:0', grad_fn=<AddmmBackward0>)@@@@@@@\n"
     ]
    },
    {
     "name": "stderr",
     "output_type": "stream",
     "text": [
      " 69%|██████▉   | 69/100 [10:27<04:38,  8.97s/it]"
     ]
    },
    {
     "name": "stdout",
     "output_type": "stream",
     "text": [
      "tensor([[18.0461],\n",
      "        [18.2925],\n",
      "        [18.9305],\n",
      "        ...,\n",
      "        [18.6919],\n",
      "        [18.4180],\n",
      "        [18.6104]], device='cuda:0', grad_fn=<AddmmBackward0>)@@@@@@@\n"
     ]
    },
    {
     "name": "stderr",
     "output_type": "stream",
     "text": [
      " 70%|███████   | 70/100 [10:36<04:28,  8.95s/it]"
     ]
    },
    {
     "name": "stdout",
     "output_type": "stream",
     "text": [
      "tensor([[18.3303],\n",
      "        [20.4361],\n",
      "        [17.4049],\n",
      "        ...,\n",
      "        [19.3304],\n",
      "        [19.1519],\n",
      "        [18.7689]], device='cuda:0', grad_fn=<AddmmBackward0>)@@@@@@@\n"
     ]
    },
    {
     "name": "stderr",
     "output_type": "stream",
     "text": [
      " 71%|███████   | 71/100 [10:45<04:19,  8.95s/it]"
     ]
    },
    {
     "name": "stdout",
     "output_type": "stream",
     "text": [
      "tensor([[17.5551],\n",
      "        [19.4125],\n",
      "        [19.4125],\n",
      "        ...,\n",
      "        [20.1709],\n",
      "        [19.4125],\n",
      "        [19.0203]], device='cuda:0', grad_fn=<AddmmBackward0>)@@@@@@@\n"
     ]
    },
    {
     "name": "stderr",
     "output_type": "stream",
     "text": [
      " 72%|███████▏  | 72/100 [10:54<04:11,  8.99s/it]"
     ]
    },
    {
     "name": "stdout",
     "output_type": "stream",
     "text": [
      "tensor([[20.7624],\n",
      "        [18.6389],\n",
      "        [19.3101],\n",
      "        ...,\n",
      "        [18.5171],\n",
      "        [18.8067],\n",
      "        [19.1882]], device='cuda:0', grad_fn=<AddmmBackward0>)@@@@@@@\n"
     ]
    },
    {
     "name": "stderr",
     "output_type": "stream",
     "text": [
      " 73%|███████▎  | 73/100 [11:03<04:02,  8.99s/it]"
     ]
    },
    {
     "name": "stdout",
     "output_type": "stream",
     "text": [
      "tensor([[18.1436],\n",
      "        [19.7265],\n",
      "        [20.9839],\n",
      "        ...,\n",
      "        [18.6138],\n",
      "        [17.5845],\n",
      "        [20.7071]], device='cuda:0', grad_fn=<AddmmBackward0>)@@@@@@@\n"
     ]
    },
    {
     "name": "stderr",
     "output_type": "stream",
     "text": [
      " 74%|███████▍  | 74/100 [11:12<03:53,  8.97s/it]"
     ]
    },
    {
     "name": "stdout",
     "output_type": "stream",
     "text": [
      "tensor([[19.5715],\n",
      "        [18.3727],\n",
      "        [19.0433],\n",
      "        ...,\n",
      "        [18.1874],\n",
      "        [20.2707],\n",
      "        [18.3728]], device='cuda:0', grad_fn=<AddmmBackward0>)@@@@@@@\n"
     ]
    },
    {
     "name": "stderr",
     "output_type": "stream",
     "text": [
      " 75%|███████▌  | 75/100 [11:21<03:44,  8.97s/it]"
     ]
    },
    {
     "name": "stdout",
     "output_type": "stream",
     "text": [
      "tensor([[19.1062],\n",
      "        [18.7202],\n",
      "        [20.1089],\n",
      "        ...,\n",
      "        [17.5453],\n",
      "        [18.7202],\n",
      "        [19.1371]], device='cuda:0', grad_fn=<AddmmBackward0>)@@@@@@@\n"
     ]
    },
    {
     "name": "stderr",
     "output_type": "stream",
     "text": [
      " 76%|███████▌  | 76/100 [11:30<03:38,  9.09s/it]"
     ]
    },
    {
     "name": "stdout",
     "output_type": "stream",
     "text": [
      "tensor([[20.0495],\n",
      "        [17.5034],\n",
      "        [19.5925],\n",
      "        ...,\n",
      "        [21.8722],\n",
      "        [20.8064],\n",
      "        [19.0731]], device='cuda:0', grad_fn=<AddmmBackward0>)@@@@@@@\n"
     ]
    },
    {
     "name": "stderr",
     "output_type": "stream",
     "text": [
      " 77%|███████▋  | 77/100 [11:40<03:33,  9.27s/it]"
     ]
    },
    {
     "name": "stdout",
     "output_type": "stream",
     "text": [
      "tensor([[19.5336],\n",
      "        [19.7792],\n",
      "        [15.3840],\n",
      "        ...,\n",
      "        [20.6260],\n",
      "        [18.5250],\n",
      "        [17.1660]], device='cuda:0', grad_fn=<AddmmBackward0>)@@@@@@@\n"
     ]
    },
    {
     "name": "stderr",
     "output_type": "stream",
     "text": [
      " 78%|███████▊  | 78/100 [11:49<03:24,  9.30s/it]"
     ]
    },
    {
     "name": "stdout",
     "output_type": "stream",
     "text": [
      "tensor([[19.1888],\n",
      "        [19.1793],\n",
      "        [20.4642],\n",
      "        ...,\n",
      "        [19.5205],\n",
      "        [18.5309],\n",
      "        [18.2378]], device='cuda:0', grad_fn=<AddmmBackward0>)@@@@@@@\n"
     ]
    },
    {
     "name": "stderr",
     "output_type": "stream",
     "text": [
      " 79%|███████▉  | 79/100 [11:59<03:17,  9.40s/it]"
     ]
    },
    {
     "name": "stdout",
     "output_type": "stream",
     "text": [
      "tensor([[17.8288],\n",
      "        [20.1356],\n",
      "        [18.0909],\n",
      "        ...,\n",
      "        [17.8064],\n",
      "        [19.0786],\n",
      "        [17.8064]], device='cuda:0', grad_fn=<AddmmBackward0>)@@@@@@@\n"
     ]
    },
    {
     "name": "stderr",
     "output_type": "stream",
     "text": [
      " 80%|████████  | 80/100 [12:08<03:08,  9.45s/it]"
     ]
    },
    {
     "name": "stdout",
     "output_type": "stream",
     "text": [
      "tensor([[20.9097],\n",
      "        [18.1874],\n",
      "        [18.5015],\n",
      "        ...,\n",
      "        [18.2106],\n",
      "        [19.8502],\n",
      "        [19.2223]], device='cuda:0', grad_fn=<AddmmBackward0>)@@@@@@@\n"
     ]
    },
    {
     "name": "stderr",
     "output_type": "stream",
     "text": [
      " 81%|████████  | 81/100 [12:18<02:57,  9.36s/it]"
     ]
    },
    {
     "name": "stdout",
     "output_type": "stream",
     "text": [
      "tensor([[18.1135],\n",
      "        [17.9450],\n",
      "        [16.3096],\n",
      "        ...,\n",
      "        [19.9923],\n",
      "        [18.1785],\n",
      "        [16.3096]], device='cuda:0', grad_fn=<AddmmBackward0>)@@@@@@@\n"
     ]
    },
    {
     "name": "stderr",
     "output_type": "stream",
     "text": [
      " 82%|████████▏ | 82/100 [12:27<02:47,  9.31s/it]"
     ]
    },
    {
     "name": "stdout",
     "output_type": "stream",
     "text": [
      "tensor([[21.0526],\n",
      "        [18.8436],\n",
      "        [17.3514],\n",
      "        ...,\n",
      "        [20.2247],\n",
      "        [20.9181],\n",
      "        [19.2836]], device='cuda:0', grad_fn=<AddmmBackward0>)@@@@@@@\n"
     ]
    },
    {
     "name": "stderr",
     "output_type": "stream",
     "text": [
      " 83%|████████▎ | 83/100 [12:36<02:38,  9.31s/it]"
     ]
    },
    {
     "name": "stdout",
     "output_type": "stream",
     "text": [
      "tensor([[18.6880],\n",
      "        [19.2379],\n",
      "        [18.7499],\n",
      "        ...,\n",
      "        [18.6880],\n",
      "        [17.9724],\n",
      "        [18.7867]], device='cuda:0', grad_fn=<AddmmBackward0>)@@@@@@@\n"
     ]
    },
    {
     "name": "stderr",
     "output_type": "stream",
     "text": [
      " 84%|████████▍ | 84/100 [12:45<02:28,  9.28s/it]"
     ]
    },
    {
     "name": "stdout",
     "output_type": "stream",
     "text": [
      "tensor([[18.3836],\n",
      "        [19.3113],\n",
      "        [18.6325],\n",
      "        ...,\n",
      "        [18.4283],\n",
      "        [18.4285],\n",
      "        [19.1238]], device='cuda:0', grad_fn=<AddmmBackward0>)@@@@@@@\n"
     ]
    },
    {
     "name": "stderr",
     "output_type": "stream",
     "text": [
      " 85%|████████▌ | 85/100 [12:54<02:18,  9.24s/it]"
     ]
    },
    {
     "name": "stdout",
     "output_type": "stream",
     "text": [
      "tensor([[17.8158],\n",
      "        [18.1668],\n",
      "        [19.1971],\n",
      "        ...,\n",
      "        [18.7988],\n",
      "        [20.3650],\n",
      "        [20.1401]], device='cuda:0', grad_fn=<AddmmBackward0>)@@@@@@@\n"
     ]
    },
    {
     "name": "stderr",
     "output_type": "stream",
     "text": [
      " 86%|████████▌ | 86/100 [13:03<02:08,  9.19s/it]"
     ]
    },
    {
     "name": "stdout",
     "output_type": "stream",
     "text": [
      "tensor([[18.4752],\n",
      "        [20.5772],\n",
      "        [18.3067],\n",
      "        ...,\n",
      "        [18.1468],\n",
      "        [17.3842],\n",
      "        [17.4089]], device='cuda:0', grad_fn=<AddmmBackward0>)@@@@@@@\n"
     ]
    },
    {
     "name": "stderr",
     "output_type": "stream",
     "text": [
      " 87%|████████▋ | 87/100 [13:12<01:58,  9.09s/it]"
     ]
    },
    {
     "name": "stdout",
     "output_type": "stream",
     "text": [
      "tensor([[15.4100],\n",
      "        [18.2891],\n",
      "        [21.6883],\n",
      "        ...,\n",
      "        [20.3625],\n",
      "        [19.0343],\n",
      "        [19.0342]], device='cuda:0', grad_fn=<AddmmBackward0>)@@@@@@@\n"
     ]
    },
    {
     "name": "stderr",
     "output_type": "stream",
     "text": [
      " 88%|████████▊ | 88/100 [13:21<01:47,  8.99s/it]"
     ]
    },
    {
     "name": "stdout",
     "output_type": "stream",
     "text": [
      "tensor([[14.5151],\n",
      "        [16.6078],\n",
      "        [15.6877],\n",
      "        ...,\n",
      "        [18.0791],\n",
      "        [17.7800],\n",
      "        [19.6046]], device='cuda:0', grad_fn=<AddmmBackward0>)@@@@@@@\n"
     ]
    },
    {
     "name": "stderr",
     "output_type": "stream",
     "text": [
      " 89%|████████▉ | 89/100 [13:30<01:38,  8.93s/it]"
     ]
    },
    {
     "name": "stdout",
     "output_type": "stream",
     "text": [
      "tensor([[17.8360],\n",
      "        [20.7238],\n",
      "        [17.7466],\n",
      "        ...,\n",
      "        [18.7943],\n",
      "        [19.8972],\n",
      "        [21.3832]], device='cuda:0', grad_fn=<AddmmBackward0>)@@@@@@@\n"
     ]
    },
    {
     "name": "stderr",
     "output_type": "stream",
     "text": [
      " 90%|█████████ | 90/100 [13:39<01:29,  8.93s/it]"
     ]
    },
    {
     "name": "stdout",
     "output_type": "stream",
     "text": [
      "tensor([[18.8080],\n",
      "        [19.2691],\n",
      "        [18.6152],\n",
      "        ...,\n",
      "        [18.1625],\n",
      "        [20.8211],\n",
      "        [20.5832]], device='cuda:0', grad_fn=<AddmmBackward0>)@@@@@@@\n"
     ]
    },
    {
     "name": "stderr",
     "output_type": "stream",
     "text": [
      " 91%|█████████ | 91/100 [13:48<01:20,  8.95s/it]"
     ]
    },
    {
     "name": "stdout",
     "output_type": "stream",
     "text": [
      "tensor([[16.2512],\n",
      "        [21.2214],\n",
      "        [16.6373],\n",
      "        ...,\n",
      "        [21.2220],\n",
      "        [19.7890],\n",
      "        [16.6378]], device='cuda:0', grad_fn=<AddmmBackward0>)@@@@@@@\n"
     ]
    },
    {
     "name": "stderr",
     "output_type": "stream",
     "text": [
      " 92%|█████████▏| 92/100 [13:57<01:12,  9.06s/it]"
     ]
    },
    {
     "name": "stdout",
     "output_type": "stream",
     "text": [
      "tensor([[17.9708],\n",
      "        [20.8998],\n",
      "        [21.3916],\n",
      "        ...,\n",
      "        [21.4591],\n",
      "        [18.9182],\n",
      "        [18.5979]], device='cuda:0', grad_fn=<AddmmBackward0>)@@@@@@@\n"
     ]
    },
    {
     "name": "stderr",
     "output_type": "stream",
     "text": [
      " 93%|█████████▎| 93/100 [14:06<01:03,  9.07s/it]"
     ]
    },
    {
     "name": "stdout",
     "output_type": "stream",
     "text": [
      "tensor([[20.8521],\n",
      "        [16.7269],\n",
      "        [20.3470],\n",
      "        ...,\n",
      "        [18.3538],\n",
      "        [17.8342],\n",
      "        [19.8454]], device='cuda:0', grad_fn=<AddmmBackward0>)@@@@@@@\n"
     ]
    },
    {
     "name": "stderr",
     "output_type": "stream",
     "text": [
      " 94%|█████████▍| 94/100 [14:15<00:54,  9.02s/it]"
     ]
    },
    {
     "name": "stdout",
     "output_type": "stream",
     "text": [
      "tensor([[16.5849],\n",
      "        [18.1774],\n",
      "        [17.6285],\n",
      "        ...,\n",
      "        [18.3862],\n",
      "        [19.2678],\n",
      "        [20.4617]], device='cuda:0', grad_fn=<AddmmBackward0>)@@@@@@@\n"
     ]
    },
    {
     "name": "stderr",
     "output_type": "stream",
     "text": [
      " 95%|█████████▌| 95/100 [14:24<00:44,  8.95s/it]"
     ]
    },
    {
     "name": "stdout",
     "output_type": "stream",
     "text": [
      "tensor([[20.9720],\n",
      "        [19.5634],\n",
      "        [18.5154],\n",
      "        ...,\n",
      "        [20.5887],\n",
      "        [18.2386],\n",
      "        [18.5513]], device='cuda:0', grad_fn=<AddmmBackward0>)@@@@@@@\n"
     ]
    },
    {
     "name": "stderr",
     "output_type": "stream",
     "text": [
      " 96%|█████████▌| 96/100 [14:33<00:35,  8.94s/it]"
     ]
    },
    {
     "name": "stdout",
     "output_type": "stream",
     "text": [
      "tensor([[19.8126],\n",
      "        [19.5077],\n",
      "        [18.8290],\n",
      "        ...,\n",
      "        [20.4392],\n",
      "        [18.5973],\n",
      "        [20.2075]], device='cuda:0', grad_fn=<AddmmBackward0>)@@@@@@@\n"
     ]
    },
    {
     "name": "stderr",
     "output_type": "stream",
     "text": [
      " 97%|█████████▋| 97/100 [14:42<00:26,  8.95s/it]"
     ]
    },
    {
     "name": "stdout",
     "output_type": "stream",
     "text": [
      "tensor([[19.9284],\n",
      "        [16.8412],\n",
      "        [19.9290],\n",
      "        ...,\n",
      "        [19.8868],\n",
      "        [17.2872],\n",
      "        [17.7039]], device='cuda:0', grad_fn=<AddmmBackward0>)@@@@@@@\n"
     ]
    },
    {
     "name": "stderr",
     "output_type": "stream",
     "text": [
      " 98%|█████████▊| 98/100 [14:51<00:17,  8.95s/it]"
     ]
    },
    {
     "name": "stdout",
     "output_type": "stream",
     "text": [
      "tensor([[18.8517],\n",
      "        [19.2417],\n",
      "        [19.6711],\n",
      "        ...,\n",
      "        [18.6639],\n",
      "        [18.8956],\n",
      "        [19.6711]], device='cuda:0', grad_fn=<AddmmBackward0>)@@@@@@@\n"
     ]
    },
    {
     "name": "stderr",
     "output_type": "stream",
     "text": [
      " 99%|█████████▉| 99/100 [15:00<00:08,  8.95s/it]"
     ]
    },
    {
     "name": "stdout",
     "output_type": "stream",
     "text": [
      "tensor([[20.7868],\n",
      "        [21.9813],\n",
      "        [19.6491],\n",
      "        ...,\n",
      "        [19.4050],\n",
      "        [19.9312],\n",
      "        [21.6063]], device='cuda:0', grad_fn=<AddmmBackward0>)@@@@@@@\n"
     ]
    },
    {
     "name": "stderr",
     "output_type": "stream",
     "text": [
      "100%|██████████| 100/100 [15:09<00:00,  9.09s/it]"
     ]
    },
    {
     "name": "stdout",
     "output_type": "stream",
     "text": [
      "tensor([[19.7502],\n",
      "        [19.1142],\n",
      "        [18.4280],\n",
      "        ...,\n",
      "        [18.4261],\n",
      "        [19.8179],\n",
      "        [17.8203]], device='cuda:0', grad_fn=<AddmmBackward0>)@@@@@@@\n",
      "print net(x) [[18.58132553100586], [18.58132553100586], [18.58132553100586], [18.58132553100586], [18.58132553100586], [18.58132553100586], [18.58132553100586], [18.58132553100586], [18.58132553100586], [18.58132553100586], [18.58132553100586], [18.58132553100586], [18.58132553100586], [18.58132553100586], [18.58132553100586], [18.58132553100586], [18.58132553100586], [18.58132553100586], [18.58132553100586], [18.58132553100586], [18.58132553100586], [18.58132553100586], [18.58132553100586], [18.58132553100586], [18.58132553100586], [18.58132553100586], [18.58132553100586], [18.58132553100586], [18.58132553100586], [18.58132553100586], [18.58132553100586], [18.58132553100586], [18.58132553100586], [18.58132553100586], [18.58132553100586], [18.58132553100586], [18.58132553100586], [18.58132553100586], [18.58132553100586], [18.58132553100586], [18.58132553100586], [18.58132553100586], [18.58132553100586], [18.58132553100586], [18.58132553100586], [18.58132553100586], [18.58132553100586], [18.58132553100586], [18.58132553100586], [18.58132553100586], [18.58132553100586], [18.58132553100586], [18.58132553100586], [18.58132553100586], [18.58132553100586], [18.58132553100586], [18.58132553100586], [18.58132553100586], [18.58132553100586], [18.58132553100586], [18.58132553100586], [18.58132553100586], [18.58132553100586], [18.58132553100586], [18.58132553100586], [18.58132553100586], [18.58132553100586], [18.58132553100586], [18.58132553100586], [18.58132553100586], [18.58132553100586], [18.58132553100586], [18.58132553100586], [18.58132553100586], [18.58132553100586], [18.58132553100586], [18.58132553100586], [18.58132553100586], [18.58132553100586], [18.58132553100586], [18.58132553100586], [18.58132553100586], [18.58132553100586], [18.58132553100586], [18.58132553100586], [18.58132553100586], [18.58132553100586], [18.58132553100586], [18.58132553100586], [18.58132553100586], [18.58132553100586], [18.58132553100586], [18.58132553100586], [18.58132553100586], [18.58132553100586], [18.58132553100586], [18.58132553100586], [18.58132553100586], [18.58132553100586], [18.58132553100586], [18.58132553100586], [18.58132553100586], [18.58132553100586], [18.58132553100586], [18.58132553100586], [18.58132553100586], [18.58132553100586], [18.58132553100586], [18.58132553100586], [18.58132553100586], [18.58132553100586], [18.58132553100586], [18.58132553100586], [18.58132553100586], [18.58132553100586], [18.58132553100586], [18.58132553100586], [18.58132553100586], [18.58132553100586], [18.58132553100586], [18.58132553100586], [18.58132553100586], [18.58132553100586], [18.58132553100586], [18.58132553100586], [18.58132553100586], [18.58132553100586], [18.58132553100586], [18.58132553100586], [18.58132553100586], [18.58132553100586], [18.58132553100586], [18.58132553100586], [18.58132553100586], [18.58132553100586], [18.58132553100586], [18.58132553100586], [18.58132553100586], [18.58132553100586], [18.58132553100586], [18.58132553100586], [18.58132553100586], [18.58132553100586], [18.58132553100586], [18.58132553100586], [18.58132553100586], [18.58132553100586], [18.58132553100586], [18.58132553100586], [18.58132553100586], [18.58132553100586], [18.58132553100586], [18.58132553100586], [18.58132553100586], [18.58132553100586], [18.58132553100586], [18.58132553100586], [18.58132553100586], [18.58132553100586], [18.58132553100586], [18.58132553100586], [18.58132553100586], [18.58132553100586], [18.58132553100586], [18.58132553100586], [18.58132553100586], [18.58132553100586], [18.58132553100586], [18.58132553100586], [18.58132553100586], [18.58132553100586], [18.58132553100586], [18.58132553100586], [18.58132553100586], [18.58132553100586], [18.58132553100586], [18.58132553100586], [18.58132553100586], [18.58132553100586], [18.58132553100586], [18.58132553100586], [18.58132553100586], [18.58132553100586], [18.58132553100586], [18.58132553100586], [18.58132553100586], [18.58132553100586], [18.58132553100586], [18.58132553100586], [18.58132553100586], [18.58132553100586], [18.58132553100586], [18.58132553100586], [18.58132553100586], [18.58132553100586], [18.58132553100586], [18.58132553100586], [18.58132553100586], [18.58132553100586], [18.58132553100586], [18.58132553100586], [18.58132553100586], [18.58132553100586], [18.58132553100586], [18.58132553100586], [18.58132553100586], [18.58132553100586], [18.58132553100586], [18.58132553100586], [18.58132553100586], [18.58132553100586], [18.58132553100586], [18.58132553100586], [18.58132553100586], [18.58132553100586], [18.58132553100586], [18.58132553100586], [18.58132553100586], [18.58132553100586], [18.58132553100586], [18.58132553100586], [18.58132553100586], [18.58132553100586], [18.58132553100586], [18.58132553100586], [18.58132553100586], [18.58132553100586], [18.58132553100586], [18.58132553100586], [18.58132553100586], [18.58132553100586], [18.58132553100586], [18.58132553100586], [18.58132553100586], [18.58132553100586], [18.58132553100586], [18.58132553100586], [18.58132553100586], [18.58132553100586], [18.58132553100586], [18.58132553100586], [18.58132553100586], [18.58132553100586], [18.58132553100586], [18.58132553100586], [18.58132553100586], [18.58132553100586], [18.58132553100586], [18.58132553100586], [18.58132553100586], [18.58132553100586], [18.58132553100586], [18.58132553100586], [18.58132553100586], [18.58132553100586], [18.58132553100586], [18.58132553100586], [18.58132553100586], [18.58132553100586], [18.58132553100586], [18.58132553100586], [18.58132553100586], [18.58132553100586], [18.58132553100586], [18.58132553100586], [18.58132553100586], [18.58132553100586], [18.58132553100586], [18.58132553100586], [18.58132553100586], [18.58132553100586], [18.58132553100586], [18.58132553100586], [18.58132553100586], [18.58132553100586], [18.58132553100586], [18.58132553100586], [18.58132553100586], [18.58132553100586], [18.58132553100586], [18.58132553100586], [18.58132553100586], [18.58132553100586], [18.58132553100586], [18.58132553100586], [18.58132553100586], [18.58132553100586], [18.58132553100586], [18.58132553100586], [18.58132553100586], [18.58132553100586], [18.58132553100586], [18.58132553100586], [18.58132553100586], [18.58132553100586], [18.58132553100586], [18.58132553100586], [18.58132553100586], [18.58132553100586], [18.58132553100586], [18.58132553100586], [18.58132553100586], [18.58132553100586], [18.58132553100586], [18.58132553100586], [18.58132553100586], [18.58132553100586], [18.58132553100586], [18.58132553100586], [18.58132553100586], [18.58132553100586], [18.58132553100586], [18.58132553100586], [18.58132553100586], [18.58132553100586], [18.58132553100586], [18.58132553100586], [18.58132553100586], [18.58132553100586], [18.58132553100586], [18.58132553100586], [18.58132553100586], [18.58132553100586], [18.58132553100586], [18.58132553100586], [18.58132553100586], [18.58132553100586], [18.58132553100586], [18.58132553100586], [18.58132553100586], [18.58132553100586], [18.58132553100586], [18.58132553100586], [18.58132553100586], [18.58132553100586], [18.58132553100586], [18.58132553100586], [18.58132553100586], [18.58132553100586], [18.58132553100586], [18.58132553100586], [18.58132553100586], [18.58132553100586], [18.58132553100586], [18.58132553100586], [18.58132553100586], [18.58132553100586], [18.58132553100586], [18.58132553100586], [18.58132553100586], [18.58132553100586], [18.58132553100586], [18.58132553100586], [18.58132553100586], [18.58132553100586], [18.58132553100586], [18.58132553100586], [18.58132553100586], [18.58132553100586], [18.58132553100586], [18.58132553100586], [18.58132553100586], [18.58132553100586], [18.58132553100586], [18.58132553100586], [18.58132553100586], [18.58132553100586], [18.58132553100586], [18.58132553100586], [18.58132553100586], [18.58132553100586], [18.58132553100586], [18.58132553100586], [18.58132553100586], [18.58132553100586], [18.58132553100586], [18.58132553100586], [18.58132553100586], [18.58132553100586], [18.58132553100586], [18.58132553100586], [18.58132553100586], [18.58132553100586], [18.58132553100586], [18.58132553100586], [18.58132553100586], [18.58132553100586], [18.58132553100586], [18.58132553100586], [18.58132553100586], [18.58132553100586], [18.58132553100586], [18.58132553100586], [18.58132553100586], [18.58132553100586], [18.58132553100586], [18.58132553100586], [18.58132553100586], [18.58132553100586], [18.58132553100586], [18.58132553100586], [18.58132553100586], [18.58132553100586], [18.58132553100586], [18.58132553100586], [18.58132553100586], [18.58132553100586], [18.58132553100586], [18.58132553100586], [18.58132553100586], [18.58132553100586], [18.58132553100586], [18.58132553100586], [18.58132553100586], [18.58132553100586], [18.58132553100586], [18.58132553100586], [18.58132553100586], [18.58132553100586], [18.58132553100586], [18.58132553100586], [18.58132553100586], [18.58132553100586], [18.58132553100586], [18.58132553100586], [18.58132553100586], [18.58132553100586], [18.58132553100586], [18.58132553100586], [18.58132553100586], [18.58132553100586], [18.58132553100586], [18.58132553100586], [18.58132553100586], [18.58132553100586], [18.58132553100586], [18.58132553100586], [18.58132553100586], [18.58132553100586], [18.58132553100586], [18.58132553100586], [18.58132553100586], [18.58132553100586], [18.58132553100586], [18.58132553100586], [18.58132553100586], [18.58132553100586], [18.58132553100586], [18.58132553100586], [18.58132553100586], [18.58132553100586], [18.58132553100586], [18.58132553100586], [18.58132553100586], [18.58132553100586], [18.58132553100586], [18.58132553100586], [18.58132553100586], [18.58132553100586], [18.58132553100586], [18.58132553100586], [18.58132553100586], [18.58132553100586], [18.58132553100586], [18.58132553100586], [18.58132553100586], [18.58132553100586], [18.58132553100586], [18.58132553100586], [18.58132553100586], [18.58132553100586], [18.58132553100586], [18.58132553100586], [18.58132553100586], [18.58132553100586], [18.58132553100586], [18.58132553100586], [18.58132553100586], [18.58132553100586], [18.58132553100586], [18.58132553100586], [18.58132553100586], [18.58132553100586], [18.58132553100586], [18.58132553100586], [18.58132553100586], [18.58132553100586], [18.58132553100586], [18.58132553100586], [18.58132553100586], [18.58132553100586], [18.58132553100586], [18.58132553100586], [18.58132553100586], [18.58132553100586], [18.58132553100586], [18.58132553100586], [18.58132553100586], [18.58132553100586], [18.58132553100586], [18.58132553100586], [18.58132553100586], [18.58132553100586], [18.58132553100586], [18.58132553100586], [18.58132553100586], [18.58132553100586], [18.58132553100586], [18.58132553100586], [18.58132553100586], [18.58132553100586], [18.58132553100586], [18.58132553100586], [18.58132553100586], [18.58132553100586], [18.58132553100586], [18.58132553100586], [18.58132553100586], [18.58132553100586], [18.58132553100586], [18.58132553100586], [18.58132553100586], [18.58132553100586], [18.58132553100586], [18.58132553100586], [18.58132553100586], [18.58132553100586], [18.58132553100586], [18.58132553100586], [18.58132553100586], [18.58132553100586], [18.58132553100586], [18.58132553100586], [18.58132553100586], [18.58132553100586], [18.58132553100586], [18.58132553100586], [18.58132553100586], [18.58132553100586], [18.58132553100586], [18.58132553100586], [18.58132553100586], [18.58132553100586], [18.58132553100586], [18.58132553100586], [18.58132553100586], [18.58132553100586], [18.58132553100586], [18.58132553100586], [18.58132553100586], [18.58132553100586], [18.58132553100586], [18.58132553100586], [18.58132553100586], [18.58132553100586], [18.58132553100586], [18.58132553100586], [18.58132553100586], [18.58132553100586], [18.58132553100586], [18.58132553100586], [18.58132553100586], [18.58132553100586], [18.58132553100586], [18.58132553100586], [18.58132553100586], [18.58132553100586], [18.58132553100586], [18.58132553100586], [18.58132553100586], [18.58132553100586], [18.58132553100586], [18.58132553100586], [18.58132553100586], [18.58132553100586], [18.58132553100586], [18.58132553100586], [18.58132553100586], [18.58132553100586], [18.58132553100586], [18.58132553100586], [18.58132553100586], [18.58132553100586], [18.58132553100586], [18.58132553100586], [18.58132553100586], [18.58132553100586], [18.58132553100586], [18.58132553100586], [18.58132553100586], [18.58132553100586], [18.58132553100586], [18.58132553100586], [18.58132553100586], [18.58132553100586], [18.58132553100586], [18.58132553100586], [18.58132553100586], [18.58132553100586], [18.58132553100586], [18.58132553100586], [18.58132553100586], [18.58132553100586], [18.58132553100586], [18.58132553100586], [18.58132553100586], [18.58132553100586], [18.58132553100586], [18.58132553100586], [18.58132553100586], [18.58132553100586], [18.58132553100586], [18.58132553100586], [18.58132553100586], [18.58132553100586], [18.58132553100586], [18.58132553100586], [18.58132553100586], [18.58132553100586], [18.58132553100586], [18.58132553100586], [18.58132553100586], [18.58132553100586], [18.58132553100586], [18.58132553100586], [18.58132553100586], [18.58132553100586], [18.58132553100586], [18.58132553100586], [18.58132553100586], [18.58132553100586], [18.58132553100586], [18.58132553100586], [18.58132553100586], [18.58132553100586], [18.58132553100586], [18.58132553100586], [18.58132553100586], [18.58132553100586], [18.58132553100586], [18.58132553100586], [18.58132553100586], [18.58132553100586], [18.58132553100586], [18.58132553100586], [18.58132553100586], [18.58132553100586], [18.58132553100586], [18.58132553100586], [18.58132553100586], [18.58132553100586], [18.58132553100586], [18.58132553100586], [18.58132553100586], [18.58132553100586], [18.58132553100586], [18.58132553100586], [18.58132553100586], [18.58132553100586], [18.58132553100586], [18.58132553100586], [18.58132553100586], [18.58132553100586], [18.58132553100586], [18.58132553100586], [18.58132553100586], [18.58132553100586], [18.58132553100586], [18.58132553100586], [18.58132553100586], [18.58132553100586], [18.58132553100586], [18.58132553100586], [18.58132553100586], [18.58132553100586], [18.58132553100586], [18.58132553100586], [18.58132553100586], [18.58132553100586], [18.58132553100586], [18.58132553100586], [18.58132553100586], [18.58132553100586], [18.58132553100586], [18.58132553100586], [18.58132553100586], [18.58132553100586], [18.58132553100586], [18.58132553100586], [18.58132553100586], [18.58132553100586], [18.58132553100586], [18.58132553100586], [18.58132553100586], [18.58132553100586], [18.58132553100586], [18.58132553100586], [18.58132553100586], [18.58132553100586], [18.58132553100586], [18.58132553100586], [18.58132553100586], [18.58132553100586], [18.58132553100586], [18.58132553100586], [18.58132553100586], [18.58132553100586], [18.58132553100586], [18.58132553100586], [18.58132553100586], [18.58132553100586], [18.58132553100586], [18.58132553100586], [18.58132553100586], [18.58132553100586], [18.58132553100586], [18.58132553100586], [18.58132553100586], [18.58132553100586], [18.58132553100586], [18.58132553100586], [18.58132553100586], [18.58132553100586], [18.58132553100586], [18.58132553100586], [18.58132553100586], [18.58132553100586], [18.58132553100586], [18.58132553100586], [18.58132553100586], [18.58132553100586], [18.58132553100586], [18.58132553100586], [18.58132553100586], [18.58132553100586], [18.58132553100586], [18.58132553100586], [18.58132553100586], [18.58132553100586], [18.58132553100586], [18.58132553100586], [18.58132553100586], [18.58132553100586], [18.58132553100586], [18.58132553100586], [18.58132553100586], [18.58132553100586], [18.58132553100586], [18.58132553100586], [18.58132553100586], [18.58132553100586], [18.58132553100586], [18.58132553100586], [18.58132553100586], [18.58132553100586], [18.58132553100586], [18.58132553100586], [18.58132553100586], [18.58132553100586], [18.58132553100586], [18.58132553100586], [18.58132553100586], [18.58132553100586], [18.58132553100586], [18.58132553100586], [18.58132553100586], [18.58132553100586], [18.58132553100586], [18.58132553100586], [18.58132553100586], [18.58132553100586], [18.58132553100586], [18.58132553100586], [18.58132553100586], [18.58132553100586], [18.58132553100586], [18.58132553100586], [18.58132553100586], [18.58132553100586], [18.58132553100586], [18.58132553100586], [18.58132553100586], [18.58132553100586], [18.58132553100586], [18.58132553100586], [18.58132553100586], [18.58132553100586], [18.58132553100586], [18.58132553100586], [18.58132553100586], [18.58132553100586], [18.58132553100586], [18.58132553100586], [18.58132553100586], [18.58132553100586], [18.58132553100586], [18.58132553100586], [18.58132553100586], [18.58132553100586], [18.58132553100586], [18.58132553100586], [18.58132553100586], [18.58132553100586], [18.58132553100586], [18.58132553100586], [18.58132553100586], [18.58132553100586], [18.58132553100586], [18.58132553100586], [18.58132553100586], [18.58132553100586], [18.58132553100586], [18.58132553100586], [18.58132553100586], [18.58132553100586], [18.58132553100586], [18.58132553100586], [18.58132553100586], [18.58132553100586], [18.58132553100586], [18.58132553100586], [18.58132553100586], [18.58132553100586], [18.58132553100586], [18.58132553100586], [18.58132553100586], [18.58132553100586], [18.58132553100586], [18.58132553100586], [18.58132553100586], [18.58132553100586], [18.58132553100586], [18.58132553100586], [18.58132553100586], [18.58132553100586], [18.58132553100586], [18.58132553100586], [18.58132553100586], [18.58132553100586], [18.58132553100586], [18.58132553100586], [18.58132553100586], [18.58132553100586], [18.58132553100586], [18.58132553100586], [18.58132553100586], [18.58132553100586], [18.58132553100586], [18.58132553100586], [18.58132553100586], [18.58132553100586], [18.58132553100586], [18.58132553100586], [18.58132553100586], [18.58132553100586], [18.58132553100586], [18.58132553100586], [18.58132553100586], [18.58132553100586], [18.58132553100586], [18.58132553100586], [18.58132553100586], [18.58132553100586], [18.58132553100586], [18.58132553100586], [18.58132553100586], [18.58132553100586], [18.58132553100586], [18.58132553100586], [18.58132553100586], [18.58132553100586], [18.58132553100586], [18.58132553100586], [18.58132553100586], [18.58132553100586], [18.58132553100586], [18.58132553100586], [18.58132553100586], [18.58132553100586], [18.58132553100586], [18.58132553100586], [18.58132553100586], [18.58132553100586], [18.58132553100586], [18.58132553100586], [18.58132553100586], [18.58132553100586], [18.58132553100586], [18.58132553100586], [18.58132553100586], [18.58132553100586], [18.58132553100586], [18.58132553100586], [18.58132553100586], [18.58132553100586], [18.58132553100586], [18.58132553100586], [18.58132553100586], [18.58132553100586], [18.58132553100586], [18.58132553100586], [18.58132553100586], [18.58132553100586], [18.58132553100586], [18.58132553100586], [18.58132553100586], [18.58132553100586], [18.58132553100586], [18.58132553100586], [18.58132553100586], [18.58132553100586], [18.58132553100586], [18.58132553100586], [18.58132553100586], [18.58132553100586], [18.58132553100586], [18.58132553100586], [18.58132553100586], [18.58132553100586], [18.58132553100586], [18.58132553100586], [18.58132553100586], [18.58132553100586], [18.58132553100586], [18.58132553100586], [18.58132553100586], [18.58132553100586], [18.58132553100586], [18.58132553100586], [18.58132553100586], [18.58132553100586], [18.58132553100586], [18.58132553100586], [18.58132553100586], [18.58132553100586], [18.58132553100586], [18.58132553100586], [18.58132553100586], [18.58132553100586], [18.58132553100586], [18.58132553100586], [18.58132553100586], [18.58132553100586], [18.58132553100586], [18.58132553100586], [18.58132553100586], [18.58132553100586], [18.58132553100586], [18.58132553100586], [18.58132553100586], [18.58132553100586], [18.58132553100586], [18.58132553100586], [18.58132553100586], [18.58132553100586], [18.58132553100586], [18.58132553100586], [18.58132553100586], [18.58132553100586], [18.58132553100586], [18.58132553100586], [18.58132553100586], [18.58132553100586], [18.58132553100586], [18.58132553100586], [18.58132553100586], [18.58132553100586], [18.58132553100586], [18.58132553100586], [18.58132553100586], [18.58132553100586], [18.58132553100586], [18.58132553100586], [18.58132553100586], [18.58132553100586], [18.58132553100586], [18.58132553100586], [18.58132553100586], [18.58132553100586], [18.58132553100586], [18.58132553100586], [18.58132553100586], [18.58132553100586], [18.58132553100586], [18.58132553100586], [18.58132553100586], [18.58132553100586], [18.58132553100586], [18.58132553100586], [18.58132553100586], [18.58132553100586], [18.58132553100586], [18.58132553100586], [18.58132553100586], [18.58132553100586], [18.58132553100586], [18.58132553100586], [18.58132553100586], [18.58132553100586], [18.58132553100586], [18.58132553100586], [18.58132553100586], [18.58132553100586], [18.58132553100586], [18.58132553100586], [18.58132553100586], [18.58132553100586], [18.58132553100586], [18.58132553100586], [18.58132553100586], [18.58132553100586], [18.58132553100586], [18.58132553100586], [18.58132553100586], [18.58132553100586], [18.58132553100586], [18.58132553100586], [18.58132553100586], [18.58132553100586], [18.58132553100586], [18.58132553100586], [18.58132553100586], [18.58132553100586], [18.58132553100586], [18.58132553100586], [18.58132553100586], [18.58132553100586], [18.58132553100586], [18.58132553100586], [18.58132553100586], [18.58132553100586], [18.58132553100586], [18.58132553100586], [18.58132553100586], [18.58132553100586], [18.58132553100586], [18.58132553100586], [18.58132553100586], [18.58132553100586], [18.58132553100586], [18.58132553100586], [18.58132553100586], [18.58132553100586], [18.58132553100586], [18.58132553100586], [18.58132553100586], [18.58132553100586], [18.58132553100586], [18.58132553100586], [18.58132553100586], [18.58132553100586], [18.58132553100586], [18.58132553100586], [18.58132553100586], [18.58132553100586], [18.58132553100586], [18.58132553100586], [18.58132553100586], [18.58132553100586], [18.58132553100586], [18.58132553100586], [18.58132553100586], [18.58132553100586], [18.58132553100586], [18.58132553100586], [18.58132553100586], [18.58132553100586], [18.58132553100586], [18.58132553100586], [18.58132553100586], [18.58132553100586], [18.58132553100586], [18.58132553100586], [18.58132553100586], [18.58132553100586], [18.58132553100586], [18.58132553100586], [18.58132553100586], [18.58132553100586], [18.58132553100586], [18.58132553100586], [18.58132553100586], [18.58132553100586], [18.58132553100586], [18.58132553100586], [18.58132553100586], [18.58132553100586], [18.58132553100586], [18.58132553100586], [18.58132553100586], [18.58132553100586], [18.58132553100586], [18.58132553100586], [18.58132553100586], [18.58132553100586], [18.58132553100586], [18.58132553100586], [18.58132553100586], [18.58132553100586], [18.58132553100586], [18.58132553100586], [18.58132553100586], [18.58132553100586], [18.58132553100586], [18.58132553100586], [18.58132553100586], [18.58132553100586], [18.58132553100586], [18.58132553100586], [18.58132553100586], [18.58132553100586], [18.58132553100586], [18.58132553100586], [18.58132553100586], [18.58132553100586], [18.58132553100586], [18.58132553100586], [18.58132553100586], [18.58132553100586], [18.58132553100586], [18.58132553100586], [18.58132553100586], [18.58132553100586], [18.58132553100586], [18.58132553100586], [18.58132553100586], [18.58132553100586], [18.58132553100586], [18.58132553100586], [18.58132553100586], [18.58132553100586], [18.58132553100586], [18.58132553100586], [18.58132553100586], [18.58132553100586], [18.58132553100586], [18.58132553100586], [18.58132553100586], [18.58132553100586], [18.58132553100586], [18.58132553100586], [18.58132553100586], [18.58132553100586], [18.58132553100586], [18.58132553100586], [18.58132553100586], [18.58132553100586], [18.58132553100586], [18.58132553100586], [18.58132553100586], [18.58132553100586], [18.58132553100586], [18.58132553100586], [18.58132553100586], [18.58132553100586], [18.58132553100586], [18.58132553100586], [18.58132553100586], [18.58132553100586], [18.58132553100586], [18.58132553100586], [18.58132553100586], [18.58132553100586], [18.58132553100586], [18.58132553100586], [18.58132553100586], [18.58132553100586], [18.58132553100586], [18.58132553100586], [18.58132553100586], [18.58132553100586], [18.58132553100586], [18.58132553100586], [18.58132553100586], [18.58132553100586], [18.58132553100586], [18.58132553100586], [18.58132553100586], [18.58132553100586], [18.58132553100586], [18.58132553100586], [18.58132553100586], [18.58132553100586], [18.58132553100586], [18.58132553100586], [18.58132553100586], [18.58132553100586], [18.58132553100586], [18.58132553100586], [18.58132553100586], [18.58132553100586], [18.58132553100586], [18.58132553100586], [18.58132553100586], [18.58132553100586], [18.58132553100586], [18.58132553100586], [18.58132553100586], [18.58132553100586], [18.58132553100586], [18.58132553100586], [18.58132553100586], [18.58132553100586], [18.58132553100586], [18.58132553100586], [18.58132553100586], [18.58132553100586], [18.58132553100586], [18.58132553100586], [18.58132553100586], [18.58132553100586], [18.58132553100586], [18.58132553100586], [18.58132553100586], [18.58132553100586], [18.58132553100586], [18.58132553100586], [18.58132553100586], [18.58132553100586], [18.58132553100586], [18.58132553100586], [18.58132553100586], [18.58132553100586], [18.58132553100586], [18.58132553100586], [18.58132553100586], [18.58132553100586], [18.58132553100586], [18.58132553100586], [18.58132553100586], [18.58132553100586], [18.58132553100586], [18.58132553100586], [18.58132553100586], [18.58132553100586], [18.58132553100586], [18.58132553100586], [18.58132553100586], [18.58132553100586], [18.58132553100586], [18.58132553100586], [18.58132553100586], [18.58132553100586], [18.58132553100586], [18.58132553100586], [18.58132553100586], [18.58132553100586], [18.58132553100586], [18.58132553100586], [18.58132553100586], [18.58132553100586], [18.58132553100586], [18.58132553100586], [18.58132553100586], [18.58132553100586], [18.58132553100586], [18.58132553100586], [18.58132553100586], [18.58132553100586], [18.58132553100586], [18.58132553100586], [18.58132553100586], [18.58132553100586], [18.58132553100586], [18.58132553100586], [18.58132553100586], [18.58132553100586], [18.58132553100586], [18.58132553100586], [18.58132553100586], [18.58132553100586], [18.58132553100586], [18.58132553100586], [18.58132553100586], [18.58132553100586], [18.58132553100586], [18.58132553100586], [18.58132553100586], [18.58132553100586], [18.58132553100586], [18.58132553100586], [18.58132553100586], [18.58132553100586], [18.58132553100586], [18.58132553100586], [18.58132553100586], [18.58132553100586], [18.58132553100586], [18.58132553100586], [18.58132553100586], [18.58132553100586], [18.58132553100586], [18.58132553100586], [18.58132553100586], [18.58132553100586], [18.58132553100586], [18.58132553100586], [18.58132553100586], [18.58132553100586], [18.58132553100586], [18.58132553100586], [18.58132553100586], [18.58132553100586], [18.58132553100586], [18.58132553100586], [18.58132553100586], [18.58132553100586], [18.58132553100586], [18.58132553100586], [18.58132553100586], [18.58132553100586], [18.58132553100586], [18.58132553100586], [18.58132553100586], [18.58132553100586], [18.58132553100586], [18.58132553100586], [18.58132553100586], [18.58132553100586], [18.58132553100586], [18.58132553100586], [18.58132553100586], [18.58132553100586], [18.58132553100586], [18.58132553100586], [18.58132553100586], [18.58132553100586], [18.58132553100586], [18.58132553100586], [18.58132553100586], [18.58132553100586], [18.58132553100586], [18.58132553100586], [18.58132553100586], [18.58132553100586], [18.58132553100586], [18.58132553100586], [18.58132553100586], [18.58132553100586], [18.58132553100586], [18.58132553100586], [18.58132553100586], [18.58132553100586], [18.58132553100586], [18.58132553100586], [18.58132553100586], [18.58132553100586], [18.58132553100586], [18.58132553100586], [18.58132553100586], [18.58132553100586], [18.58132553100586], [18.58132553100586], [18.58132553100586], [18.58132553100586], [18.58132553100586], [18.58132553100586], [18.58132553100586], [18.58132553100586], [18.58132553100586], [18.58132553100586], [18.58132553100586], [18.58132553100586], [18.58132553100586], [18.58132553100586], [18.58132553100586], [18.58132553100586], [18.58132553100586], [18.58132553100586], [18.58132553100586], [18.58132553100586], [18.58132553100586], [18.58132553100586], [18.58132553100586], [18.58132553100586], [18.58132553100586], [18.58132553100586], [18.58132553100586], [18.58132553100586], [18.58132553100586], [18.58132553100586], [18.58132553100586], [18.58132553100586], [18.58132553100586], [18.58132553100586], [18.58132553100586], [18.58132553100586], [18.58132553100586], [18.58132553100586], [18.58132553100586], [18.58132553100586], [18.58132553100586], [18.58132553100586], [18.58132553100586], [18.58132553100586], [18.58132553100586], [18.58132553100586], [18.58132553100586], [18.58132553100586], [18.58132553100586], [18.58132553100586], [18.58132553100586], [18.58132553100586], [18.58132553100586], [18.58132553100586], [18.58132553100586], [18.58132553100586], [18.58132553100586], [18.58132553100586], [18.58132553100586], [18.58132553100586], [18.58132553100586], [18.58132553100586], [18.58132553100586], [18.58132553100586], [18.58132553100586], [18.58132553100586], [18.58132553100586], [18.58132553100586], [18.58132553100586], [18.58132553100586], [18.58132553100586], [18.58132553100586], [18.58132553100586], [18.58132553100586], [18.58132553100586], [18.58132553100586], [18.58132553100586], [18.58132553100586], [18.58132553100586], [18.58132553100586], [18.58132553100586], [18.58132553100586], [18.58132553100586], [18.58132553100586], [18.58132553100586], [18.58132553100586], [18.58132553100586], [18.58132553100586], [18.58132553100586], [18.58132553100586], [18.58132553100586], [18.58132553100586], [18.58132553100586], [18.58132553100586], [18.58132553100586], [18.58132553100586], [18.58132553100586], [18.58132553100586], [18.58132553100586], [18.58132553100586], [18.58132553100586], [18.58132553100586], [18.58132553100586], [18.58132553100586], [18.58132553100586], [18.58132553100586], [18.58132553100586], [18.58132553100586], [18.58132553100586], [18.58132553100586], [18.58132553100586], [18.58132553100586], [18.58132553100586], [18.58132553100586], [18.58132553100586], [18.58132553100586], [18.58132553100586], [18.58132553100586], [18.58132553100586], [18.58132553100586], [18.58132553100586], [18.58132553100586], [18.58132553100586], [18.58132553100586], [18.58132553100586], [18.58132553100586], [18.58132553100586], [18.58132553100586], [18.58132553100586], [18.58132553100586], [18.58132553100586], [18.58132553100586], [18.58132553100586], [18.58132553100586], [18.58132553100586], [18.58132553100586], [18.58132553100586], [18.58132553100586], [18.58132553100586], [18.58132553100586], [18.58132553100586], [18.58132553100586], [18.58132553100586], [18.58132553100586], [18.58132553100586], [18.58132553100586], [18.58132553100586], [18.58132553100586], [18.58132553100586], [18.58132553100586], [18.58132553100586], [18.58132553100586], [18.58132553100586], [18.58132553100586], [18.58132553100586], [18.58132553100586], [18.58132553100586], [18.58132553100586], [18.58132553100586], [18.58132553100586], [18.58132553100586], [18.58132553100586], [18.58132553100586], [18.58132553100586], [18.58132553100586], [18.58132553100586], [18.58132553100586], [18.58132553100586], [18.58132553100586], [18.58132553100586], [18.58132553100586], [18.58132553100586], [18.58132553100586], [18.58132553100586], [18.58132553100586], [18.58132553100586], [18.58132553100586], [18.58132553100586], [18.58132553100586], [18.58132553100586], [18.58132553100586], [18.58132553100586], [18.58132553100586], [18.58132553100586], [18.58132553100586], [18.58132553100586], [18.58132553100586], [18.58132553100586], [18.58132553100586], [18.58132553100586], [18.58132553100586], [18.58132553100586], [18.58132553100586], [18.58132553100586], [18.58132553100586], [18.58132553100586], [18.58132553100586], [18.58132553100586], [18.58132553100586], [18.58132553100586], [18.58132553100586], [18.58132553100586], [18.58132553100586], [18.58132553100586], [18.58132553100586], [18.58132553100586], [18.58132553100586], [18.58132553100586], [18.58132553100586], [18.58132553100586], [18.58132553100586], [18.58132553100586], [18.58132553100586], [18.58132553100586], [18.58132553100586], [18.58132553100586], [18.58132553100586], [18.58132553100586], [18.58132553100586], [18.58132553100586], [18.58132553100586], [18.58132553100586], [18.58132553100586], [18.58132553100586], [18.58132553100586], [18.58132553100586], [18.58132553100586], [18.58132553100586], [18.58132553100586], [18.58132553100586], [18.58132553100586], [18.58132553100586], [18.58132553100586], [18.58132553100586], [18.58132553100586], [18.58132553100586], [18.58132553100586], [18.58132553100586], [18.58132553100586], [18.58132553100586], [18.58132553100586], [18.58132553100586], [18.58132553100586], [18.58132553100586], [18.58132553100586], [18.58132553100586], [18.58132553100586], [18.58132553100586], [18.58132553100586], [18.58132553100586], [18.58132553100586], [18.58132553100586], [18.58132553100586], [18.58132553100586], [18.58132553100586], [18.58132553100586], [18.58132553100586], [18.58132553100586], [18.58132553100586], [18.58132553100586], [18.58132553100586], [18.58132553100586], [18.58132553100586], [18.58132553100586], [18.58132553100586], [18.58132553100586], [18.58132553100586], [18.58132553100586], [18.58132553100586], [18.58132553100586], [18.58132553100586], [18.58132553100586], [18.58132553100586], [18.58132553100586], [18.58132553100586], [18.58132553100586], [18.58132553100586], [18.58132553100586], [18.58132553100586], [18.58132553100586], [18.58132553100586], [18.58132553100586], [18.58132553100586], [18.58132553100586], [18.58132553100586], [18.58132553100586], [18.58132553100586], [18.58132553100586], [18.58132553100586], [18.58132553100586], [18.58132553100586], [18.58132553100586], [18.58132553100586], [18.58132553100586], [18.58132553100586], [18.58132553100586], [18.58132553100586], [18.58132553100586], [18.58132553100586], [18.58132553100586], [18.58132553100586], [18.58132553100586], [18.58132553100586], [18.58132553100586], [18.58132553100586], [18.58132553100586], [18.58132553100586], [18.58132553100586], [18.58132553100586], [18.58132553100586], [18.58132553100586], [18.58132553100586], [18.58132553100586], [18.58132553100586], [18.58132553100586], [18.58132553100586], [18.58132553100586], [18.58132553100586], [18.58132553100586], [18.58132553100586], [18.58132553100586], [18.58132553100586], [18.58132553100586], [18.58132553100586], [18.58132553100586], [18.58132553100586], [18.58132553100586], [18.58132553100586], [18.58132553100586], [18.58132553100586], [18.58132553100586], [18.58132553100586], [18.58132553100586], [18.58132553100586], [18.58132553100586], [18.58132553100586], [18.58132553100586], [18.58132553100586], [18.58132553100586], [18.58132553100586], [18.58132553100586], [18.58132553100586], [18.58132553100586], [18.58132553100586], [18.58132553100586], [18.58132553100586], [18.58132553100586], [18.58132553100586], [18.58132553100586], [18.58132553100586], [18.58132553100586], [18.58132553100586], [18.58132553100586], [18.58132553100586], [18.58132553100586], [18.58132553100586], [18.58132553100586], [18.58132553100586], [18.58132553100586], [18.58132553100586], [18.58132553100586], [18.58132553100586], [18.58132553100586], [18.58132553100586], [18.58132553100586], [18.58132553100586], [18.58132553100586], [18.58132553100586], [18.58132553100586], [18.58132553100586], [18.58132553100586], [18.58132553100586], [18.58132553100586], [18.58132553100586], [18.58132553100586], [18.58132553100586], [18.58132553100586], [18.58132553100586], [18.58132553100586], [18.58132553100586], [18.58132553100586], [18.58132553100586], [18.58132553100586], [18.58132553100586], [18.58132553100586], [18.58132553100586], [18.58132553100586], [18.58132553100586], [18.58132553100586], [18.58132553100586], [18.58132553100586], [18.58132553100586], [18.58132553100586], [18.58132553100586], [18.58132553100586], [18.58132553100586], [18.58132553100586], [18.58132553100586], [18.58132553100586], [18.58132553100586], [18.58132553100586], [18.58132553100586], [18.58132553100586], [18.58132553100586], [18.58132553100586], [18.58132553100586], [18.58132553100586], [18.58132553100586], [18.58132553100586], [18.58132553100586], [18.58132553100586], [18.58132553100586], [18.58132553100586], [18.58132553100586], [18.58132553100586], [18.58132553100586], [18.58132553100586], [18.58132553100586], [18.58132553100586], [18.58132553100586], [18.58132553100586], [18.58132553100586], [18.58132553100586], [18.58132553100586], [18.58132553100586], [18.58132553100586], [18.58132553100586], [18.58132553100586], [18.58132553100586], [18.58132553100586], [18.58132553100586], [18.58132553100586], [18.58132553100586], [18.58132553100586], [18.58132553100586], [18.58132553100586], [18.58132553100586], [18.58132553100586], [18.58132553100586], [18.58132553100586], [18.58132553100586], [18.58132553100586], [18.58132553100586], [18.58132553100586], [18.58132553100586], [18.58132553100586], [18.58132553100586], [18.58132553100586], [18.58132553100586], [18.58132553100586], [18.58132553100586], [18.58132553100586], [18.58132553100586], [18.58132553100586], [18.58132553100586], [18.58132553100586], [18.58132553100586], [18.58132553100586], [18.58132553100586], [18.58132553100586], [18.58132553100586], [18.58132553100586], [18.58132553100586], [18.58132553100586], [18.58132553100586], [18.58132553100586], [18.58132553100586], [18.58132553100586], [18.58132553100586], [18.58132553100586], [18.58132553100586], [18.58132553100586], [18.58132553100586], [18.58132553100586], [18.58132553100586], [18.58132553100586], [18.58132553100586], [18.58132553100586], [18.58132553100586], [18.58132553100586], [18.58132553100586], [18.58132553100586], [18.58132553100586], [18.58132553100586], [18.58132553100586], [18.58132553100586], [18.58132553100586], [18.58132553100586], [18.58132553100586], [18.58132553100586], [18.58132553100586], [18.58132553100586], [18.58132553100586], [18.58132553100586], [18.58132553100586], [18.58132553100586], [18.58132553100586], [18.58132553100586], [18.58132553100586], [18.58132553100586], [18.58132553100586], [18.58132553100586], [18.58132553100586], [18.58132553100586], [18.58132553100586], [18.58132553100586], [18.58132553100586], [18.58132553100586], [18.58132553100586], [18.58132553100586], [18.58132553100586], [18.58132553100586], [18.58132553100586], [18.58132553100586], [18.58132553100586], [18.58132553100586], [18.58132553100586], [18.58132553100586], [18.58132553100586], [18.58132553100586], [18.58132553100586], [18.58132553100586], [18.58132553100586], [18.58132553100586], [18.58132553100586], [18.58132553100586], [18.58132553100586], [18.58132553100586], [18.58132553100586], [18.58132553100586], [18.58132553100586], [18.58132553100586], [18.58132553100586], [18.58132553100586], [18.58132553100586], [18.58132553100586], [18.58132553100586], [18.58132553100586], [18.58132553100586], [18.58132553100586], [18.58132553100586], [18.58132553100586], [18.58132553100586], [18.58132553100586], [18.58132553100586], [18.58132553100586], [18.58132553100586], [18.58132553100586], [18.58132553100586], [18.58132553100586], [18.58132553100586], [18.58132553100586], [18.58132553100586], [18.58132553100586], [18.58132553100586], [18.58132553100586], [18.58132553100586], [18.58132553100586], [18.58132553100586], [18.58132553100586], [18.58132553100586], [18.58132553100586], [18.58132553100586], [18.58132553100586], [18.58132553100586], [18.58132553100586], [18.58132553100586], [18.58132553100586], [18.58132553100586], [18.58132553100586], [18.58132553100586], [18.58132553100586], [18.58132553100586], [18.58132553100586], [18.58132553100586], [18.58132553100586], [18.58132553100586], [18.58132553100586], [18.58132553100586], [18.58132553100586], [18.58132553100586], [18.58132553100586], [18.58132553100586], [18.58132553100586], [18.58132553100586], [18.58132553100586], [18.58132553100586], [18.58132553100586], [18.58132553100586], [18.58132553100586], [18.58132553100586], [18.58132553100586], [18.58132553100586], [18.58132553100586], [18.58132553100586], [18.58132553100586], [18.58132553100586], [18.58132553100586], [18.58132553100586], [18.58132553100586], [18.58132553100586], [18.58132553100586], [18.58132553100586], [18.58132553100586], [18.58132553100586], [18.58132553100586], [18.58132553100586], [18.58132553100586], [18.58132553100586], [18.58132553100586], [18.58132553100586], [18.58132553100586], [18.58132553100586], [18.58132553100586], [18.58132553100586], [18.58132553100586], [18.58132553100586], [18.58132553100586], [18.58132553100586], [18.58132553100586], [18.58132553100586], [18.58132553100586], [18.58132553100586], [18.58132553100586], [18.58132553100586], [18.58132553100586], [18.58132553100586], [18.58132553100586], [18.58132553100586], [18.58132553100586], [18.58132553100586], [18.58132553100586], [18.58132553100586], [18.58132553100586], [18.58132553100586], [18.58132553100586], [18.58132553100586], [18.58132553100586], [18.58132553100586], [18.58132553100586], [18.58132553100586], [18.58132553100586], [18.58132553100586], [18.58132553100586], [18.58132553100586], [18.58132553100586], [18.58132553100586], [18.58132553100586], [18.58132553100586], [18.58132553100586], [18.58132553100586], [18.58132553100586], [18.58132553100586], [18.58132553100586], [18.58132553100586], [18.58132553100586], [18.58132553100586], [18.58132553100586], [18.58132553100586], [18.58132553100586], [18.58132553100586], [18.58132553100586], [18.58132553100586], [18.58132553100586], [18.58132553100586], [18.58132553100586], [18.58132553100586], [18.58132553100586], [18.58132553100586], [18.58132553100586], [18.58132553100586], [18.58132553100586], [18.58132553100586], [18.58132553100586], [18.58132553100586], [18.58132553100586], [18.58132553100586], [18.58132553100586], [18.58132553100586], [18.58132553100586], [18.58132553100586], [18.58132553100586], [18.58132553100586], [18.58132553100586], [18.58132553100586], [18.58132553100586], [18.58132553100586], [18.58132553100586], [18.58132553100586], [18.58132553100586], [18.58132553100586], [18.58132553100586], [18.58132553100586], [18.58132553100586], [18.58132553100586], [18.58132553100586], [18.58132553100586], [18.58132553100586], [18.58132553100586], [18.58132553100586], [18.58132553100586], [18.58132553100586], [18.58132553100586], [18.58132553100586], [18.58132553100586], [18.58132553100586], [18.58132553100586], [18.58132553100586], [18.58132553100586], [18.58132553100586], [18.58132553100586], [18.58132553100586], [18.58132553100586], [18.58132553100586], [18.58132553100586], [18.58132553100586], [18.58132553100586], [18.58132553100586], [18.58132553100586], [18.58132553100586], [18.58132553100586], [18.58132553100586], [18.58132553100586], [18.58132553100586], [18.58132553100586], [18.58132553100586], [18.58132553100586], [18.58132553100586], [18.58132553100586], [18.58132553100586], [18.58132553100586], [18.58132553100586], [18.58132553100586], [18.58132553100586], [18.58132553100586], [18.58132553100586], [18.58132553100586], [18.58132553100586], [18.58132553100586], [18.58132553100586], [18.58132553100586], [18.58132553100586], [18.58132553100586], [18.58132553100586], [18.58132553100586], [18.58132553100586], [18.58132553100586], [18.58132553100586], [18.58132553100586], [18.58132553100586], [18.58132553100586], [18.58132553100586], [18.58132553100586], [18.58132553100586], [18.58132553100586], [18.58132553100586], [18.58132553100586], [18.58132553100586], [18.58132553100586], [18.58132553100586], [18.58132553100586], [18.58132553100586], [18.58132553100586], [18.58132553100586], [18.58132553100586], [18.58132553100586], [18.58132553100586], [18.58132553100586], [18.58132553100586], [18.58132553100586], [18.58132553100586], [18.58132553100586], [18.58132553100586], [18.58132553100586], [18.58132553100586], [18.58132553100586], [18.58132553100586], [18.58132553100586], [18.58132553100586], [18.58132553100586], [18.58132553100586], [18.58132553100586], [18.58132553100586], [18.58132553100586], [18.58132553100586], [18.58132553100586], [18.58132553100586], [18.58132553100586], [18.58132553100586], [18.58132553100586], [18.58132553100586], [18.58132553100586], [18.58132553100586], [18.58132553100586], [18.58132553100586], [18.58132553100586], [18.58132553100586], [18.58132553100586], [18.58132553100586], [18.58132553100586], [18.58132553100586], [18.58132553100586], [18.58132553100586], [18.58132553100586], [18.58132553100586], [18.58132553100586], [18.58132553100586], [18.58132553100586], [18.58132553100586], [18.58132553100586], [18.58132553100586], [18.58132553100586], [18.58132553100586], [18.58132553100586], [18.58132553100586], [18.58132553100586], [18.58132553100586], [18.58132553100586], [18.58132553100586], [18.58132553100586], [18.58132553100586], [18.58132553100586], [18.58132553100586], [18.58132553100586], [18.58132553100586], [18.58132553100586], [18.58132553100586], [18.58132553100586], [18.58132553100586], [18.58132553100586], [18.58132553100586], [18.58132553100586], [18.58132553100586], [18.58132553100586], [18.58132553100586], [18.58132553100586], [18.58132553100586], [18.58132553100586], [18.58132553100586], [18.58132553100586], [18.58132553100586], [18.58132553100586], [18.58132553100586], [18.58132553100586], [18.58132553100586], [18.58132553100586], [18.58132553100586], [18.58132553100586], [18.58132553100586], [18.58132553100586], [18.58132553100586], [18.58132553100586], [18.58132553100586], [18.58132553100586], [18.58132553100586], [18.58132553100586], [18.58132553100586], [18.58132553100586], [18.58132553100586], [18.58132553100586], [18.58132553100586], [18.58132553100586], [18.58132553100586], [18.58132553100586], [18.58132553100586], [18.58132553100586], [18.58132553100586], [18.58132553100586], [18.58132553100586], [18.58132553100586], [18.58132553100586], [18.58132553100586], [18.58132553100586], [18.58132553100586], [18.58132553100586], [18.58132553100586], [18.58132553100586], [18.58132553100586], [18.58132553100586], [18.58132553100586], [18.58132553100586], [18.58132553100586], [18.58132553100586], [18.58132553100586], [18.58132553100586], [18.58132553100586], [18.58132553100586], [18.58132553100586], [18.58132553100586], [18.58132553100586], [18.58132553100586], [18.58132553100586], [18.58132553100586], [18.58132553100586], [18.58132553100586], [18.58132553100586], [18.58132553100586], [18.58132553100586], [18.58132553100586], [18.58132553100586], [18.58132553100586], [18.58132553100586], [18.58132553100586], [18.58132553100586], [18.58132553100586], [18.58132553100586], [18.58132553100586], [18.58132553100586], [18.58132553100586], [18.58132553100586], [18.58132553100586], [18.58132553100586], [18.58132553100586], [18.58132553100586], [18.58132553100586], [18.58132553100586], [18.58132553100586], [18.58132553100586], [18.58132553100586], [18.58132553100586], [18.58132553100586], [18.58132553100586], [18.58132553100586], [18.58132553100586], [18.58132553100586], [18.58132553100586], [18.58132553100586], [18.58132553100586], [18.58132553100586], [18.58132553100586], [18.58132553100586], [18.58132553100586], [18.58132553100586], [18.58132553100586], [18.58132553100586], [18.58132553100586], [18.58132553100586], [18.58132553100586], [18.58132553100586], [18.58132553100586], [18.58132553100586], [18.58132553100586], [18.58132553100586], [18.58132553100586], [18.58132553100586], [18.58132553100586], [18.58132553100586], [18.58132553100586], [18.58132553100586], [18.58132553100586], [18.58132553100586], [18.58132553100586], [18.58132553100586], [18.58132553100586], [18.58132553100586], [18.58132553100586], [18.58132553100586], [18.58132553100586], [18.58132553100586], [18.58132553100586], [18.58132553100586], [18.58132553100586], [18.58132553100586], [18.58132553100586], [18.58132553100586], [18.58132553100586], [18.58132553100586], [18.58132553100586], [18.58132553100586], [18.58132553100586], [18.58132553100586], [18.58132553100586], [18.58132553100586], [18.58132553100586], [18.58132553100586], [18.58132553100586], [18.58132553100586], [18.58132553100586], [18.58132553100586], [18.58132553100586], [18.58132553100586], [18.58132553100586], [18.58132553100586], [18.58132553100586], [18.58132553100586], [18.58132553100586], [18.58132553100586], [18.58132553100586], [18.58132553100586], [18.58132553100586], [18.58132553100586], [18.58132553100586], [18.58132553100586], [18.58132553100586], [18.58132553100586], [18.58132553100586], [18.58132553100586], [18.58132553100586], [18.58132553100586], [18.58132553100586], [18.58132553100586], [18.58132553100586], [18.58132553100586], [18.58132553100586], [18.58132553100586], [18.58132553100586], [18.58132553100586], [18.58132553100586], [18.58132553100586], [18.58132553100586], [18.58132553100586], [18.58132553100586], [18.58132553100586], [18.58132553100586], [18.58132553100586], [18.58132553100586], [18.58132553100586], [18.58132553100586], [18.58132553100586], [18.58132553100586], [18.58132553100586], [18.58132553100586], [18.58132553100586], [18.58132553100586], [18.58132553100586], [18.58132553100586], [18.58132553100586], [18.58132553100586], [18.58132553100586], [18.58132553100586], [18.58132553100586], [18.58132553100586], [18.58132553100586], [18.58132553100586], [18.58132553100586], [18.58132553100586], [18.58132553100586], [18.58132553100586], [18.58132553100586], [18.58132553100586], [18.58132553100586], [18.58132553100586], [18.58132553100586], [18.58132553100586], [18.58132553100586], [18.58132553100586], [18.58132553100586], [18.58132553100586], [18.58132553100586], [18.58132553100586], [18.58132553100586], [18.58132553100586], [18.58132553100586], [18.58132553100586], [18.58132553100586], [18.58132553100586], [18.58132553100586], [18.58132553100586], [18.58132553100586], [18.58132553100586], [18.58132553100586], [18.58132553100586], [18.58132553100586], [18.58132553100586], [18.58132553100586], [18.58132553100586], [18.58132553100586], [18.58132553100586], [18.58132553100586], [18.58132553100586], [18.58132553100586], [18.58132553100586], [18.58132553100586], [18.58132553100586], [18.58132553100586], [18.58132553100586], [18.58132553100586], [18.58132553100586], [18.58132553100586], [18.58132553100586], [18.58132553100586], [18.58132553100586], [18.58132553100586], [18.58132553100586], [18.58132553100586], [18.58132553100586], [18.58132553100586], [18.58132553100586], [18.58132553100586], [18.58132553100586], [18.58132553100586], [18.58132553100586], [18.58132553100586], [18.58132553100586], [18.58132553100586], [18.58132553100586], [18.58132553100586], [18.58132553100586], [18.58132553100586], [18.58132553100586], [18.58132553100586], [18.58132553100586], [18.58132553100586], [18.58132553100586], [18.58132553100586], [18.58132553100586], [18.58132553100586], [18.58132553100586], [18.58132553100586], [18.58132553100586], [18.58132553100586], [18.58132553100586], [18.58132553100586], [18.58132553100586], [18.58132553100586], [18.58132553100586], [18.58132553100586], [18.58132553100586], [18.58132553100586], [18.58132553100586], [18.58132553100586], [18.58132553100586], [18.58132553100586], [18.58132553100586], [18.58132553100586], [18.58132553100586], [18.58132553100586], [18.58132553100586], [18.58132553100586], [18.58132553100586], [18.58132553100586], [18.58132553100586], [18.58132553100586], [18.58132553100586], [18.58132553100586], [18.58132553100586], [18.58132553100586], [18.58132553100586], [18.58132553100586], [18.58132553100586], [18.58132553100586], [18.58132553100586], [18.58132553100586], [18.58132553100586], [18.58132553100586], [18.58132553100586], [18.58132553100586], [18.58132553100586], [18.58132553100586], [18.58132553100586], [18.58132553100586], [18.58132553100586], [18.58132553100586], [18.58132553100586], [18.58132553100586], [18.58132553100586], [18.58132553100586], [18.58132553100586], [18.58132553100586], [18.58132553100586], [18.58132553100586], [18.58132553100586], [18.58132553100586], [18.58132553100586], [18.58132553100586], [18.58132553100586], [18.58132553100586], [18.58132553100586], [18.58132553100586], [18.58132553100586], [18.58132553100586], [18.58132553100586], [18.58132553100586], [18.58132553100586], [18.58132553100586], [18.58132553100586], [18.58132553100586], [18.58132553100586], [18.58132553100586], [18.58132553100586], [18.58132553100586], [18.58132553100586], [18.58132553100586], [18.58132553100586], [18.58132553100586], [18.58132553100586], [18.58132553100586], [18.58132553100586], [18.58132553100586], [18.58132553100586], [18.58132553100586], [18.58132553100586], [18.58132553100586], [18.58132553100586], [18.58132553100586], [18.58132553100586], [18.58132553100586], [18.58132553100586], [18.58132553100586], [18.58132553100586], [18.58132553100586], [18.58132553100586], [18.58132553100586], [18.58132553100586], [18.58132553100586], [18.58132553100586], [18.58132553100586], [18.58132553100586], [18.58132553100586], [18.58132553100586], [18.58132553100586], [18.58132553100586], [18.58132553100586], [18.58132553100586], [18.58132553100586], [18.58132553100586], [18.58132553100586], [18.58132553100586], [18.58132553100586], [18.58132553100586], [18.58132553100586], [18.58132553100586], [18.58132553100586], [18.58132553100586], [18.58132553100586], [18.58132553100586], [18.58132553100586], [18.58132553100586], [18.58132553100586], [18.58132553100586], [18.58132553100586], [18.58132553100586], [18.58132553100586], [18.58132553100586], [18.58132553100586], [18.58132553100586], [18.58132553100586], [18.58132553100586], [18.58132553100586], [18.58132553100586], [18.58132553100586], [18.58132553100586], [18.58132553100586], [18.58132553100586], [18.58132553100586], [18.58132553100586], [18.58132553100586], [18.58132553100586], [18.58132553100586], [18.58132553100586], [18.58132553100586], [18.58132553100586], [18.58132553100586], [18.58132553100586], [18.58132553100586], [18.58132553100586], [18.58132553100586], [18.58132553100586], [18.58132553100586], [18.58132553100586], [18.58132553100586], [18.58132553100586], [18.58132553100586], [18.58132553100586], [18.58132553100586], [18.58132553100586], [18.58132553100586], [18.58132553100586], [18.58132553100586], [18.58132553100586], [18.58132553100586], [18.58132553100586], [18.58132553100586], [18.58132553100586], [18.58132553100586], [18.58132553100586], [18.58132553100586], [18.58132553100586], [18.58132553100586], [18.58132553100586], [18.58132553100586], [18.58132553100586], [18.58132553100586], [18.58132553100586], [18.58132553100586], [18.58132553100586], [18.58132553100586], [18.58132553100586], [18.58132553100586], [18.58132553100586], [18.58132553100586], [18.58132553100586], [18.58132553100586], [18.58132553100586], [18.58132553100586], [18.58132553100586], [18.58132553100586], [18.58132553100586], [18.58132553100586], [18.58132553100586], [18.58132553100586], [18.58132553100586], [18.58132553100586], [18.58132553100586], [18.58132553100586], [18.58132553100586], [18.58132553100586], [18.58132553100586], [18.58132553100586], [18.58132553100586], [18.58132553100586], [18.58132553100586], [18.58132553100586], [18.58132553100586], [18.58132553100586], [18.58132553100586], [18.58132553100586], [18.58132553100586], [18.58132553100586], [18.58132553100586], [18.58132553100586], [18.58132553100586], [18.58132553100586], [18.58132553100586], [18.58132553100586], [18.58132553100586], [18.58132553100586], [18.58132553100586], [18.58132553100586], [18.58132553100586], [18.58132553100586], [18.58132553100586], [18.58132553100586], [18.58132553100586], [18.58132553100586], [18.58132553100586], [18.58132553100586], [18.58132553100586], [18.58132553100586], [18.58132553100586], [18.58132553100586], [18.58132553100586], [18.58132553100586], [18.58132553100586], [18.58132553100586], [18.58132553100586], [18.58132553100586], [18.58132553100586], [18.58132553100586], [18.58132553100586], [18.58132553100586], [18.58132553100586], [18.58132553100586], [18.58132553100586], [18.58132553100586], [18.58132553100586], [18.58132553100586], [18.58132553100586], [18.58132553100586], [18.58132553100586], [18.58132553100586], [18.58132553100586], [18.58132553100586], [18.58132553100586], [18.58132553100586], [18.58132553100586], [18.58132553100586], [18.58132553100586], [18.58132553100586], [18.58132553100586], [18.58132553100586], [18.58132553100586], [18.58132553100586], [18.58132553100586], [18.58132553100586], [18.58132553100586], [18.58132553100586], [18.58132553100586], [18.58132553100586], [18.58132553100586], [18.58132553100586], [18.58132553100586], [18.58132553100586], [18.58132553100586], [18.58132553100586], [18.58132553100586], [18.58132553100586], [18.58132553100586], [18.58132553100586], [18.58132553100586], [18.58132553100586], [18.58132553100586], [18.58132553100586], [18.58132553100586], [18.58132553100586], [18.58132553100586], [18.58132553100586], [18.58132553100586], [18.58132553100586], [18.58132553100586], [18.58132553100586], [18.58132553100586], [18.58132553100586], [18.58132553100586], [18.58132553100586], [18.58132553100586], [18.58132553100586], [18.58132553100586], [18.58132553100586], [18.58132553100586], [18.58132553100586], [18.58132553100586], [18.58132553100586], [18.58132553100586], [18.58132553100586], [18.58132553100586], [18.58132553100586], [18.58132553100586], [18.58132553100586], [18.58132553100586], [18.58132553100586], [18.58132553100586], [18.58132553100586], [18.58132553100586], [18.58132553100586], [18.58132553100586], [18.58132553100586], [18.58132553100586], [18.58132553100586], [18.58132553100586], [18.58132553100586], [18.58132553100586], [18.58132553100586], [18.58132553100586], [18.58132553100586], [18.58132553100586], [18.58132553100586], [18.58132553100586], [18.58132553100586], [18.58132553100586], [18.58132553100586], [18.58132553100586], [18.58132553100586], [18.58132553100586], [18.58132553100586], [18.58132553100586], [18.58132553100586], [18.58132553100586], [18.58132553100586], [18.58132553100586], [18.58132553100586], [18.58132553100586], [18.58132553100586], [18.58132553100586], [18.58132553100586], [18.58132553100586], [18.58132553100586], [18.58132553100586], [18.58132553100586], [18.58132553100586], [18.58132553100586], [18.58132553100586], [18.58132553100586], [18.58132553100586], [18.58132553100586], [18.58132553100586], [18.58132553100586], [18.58132553100586], [18.58132553100586], [18.58132553100586], [18.58132553100586], [18.58132553100586], [18.58132553100586], [18.58132553100586], [18.58132553100586], [18.58132553100586], [18.58132553100586], [18.58132553100586], [18.58132553100586], [18.58132553100586], [18.58132553100586], [18.58132553100586], [18.58132553100586], [18.58132553100586], [18.58132553100586], [18.58132553100586], [18.58132553100586], [18.58132553100586], [18.58132553100586], [18.58132553100586], [18.58132553100586], [18.58132553100586], [18.58132553100586], [18.58132553100586], [18.58132553100586], [18.58132553100586], [18.58132553100586], [18.58132553100586], [18.58132553100586], [18.58132553100586], [18.58132553100586], [18.58132553100586], [18.58132553100586], [18.58132553100586], [18.58132553100586], [18.58132553100586], [18.58132553100586], [18.58132553100586], [18.58132553100586], [18.58132553100586], [18.58132553100586], [18.58132553100586], [18.58132553100586], [18.58132553100586], [18.58132553100586], [18.58132553100586], [18.58132553100586], [18.58132553100586], [18.58132553100586], [18.58132553100586], [18.58132553100586], [18.58132553100586], [18.58132553100586], [18.58132553100586], [18.58132553100586], [18.58132553100586], [18.58132553100586], [18.58132553100586], [18.58132553100586], [18.58132553100586], [18.58132553100586], [18.58132553100586], [18.58132553100586], [18.58132553100586], [18.58132553100586], [18.58132553100586], [18.58132553100586], [18.58132553100586], [18.58132553100586], [18.58132553100586], [18.58132553100586], [18.58132553100586], [18.58132553100586], [18.58132553100586], [18.58132553100586], [18.58132553100586], [18.58132553100586], [18.58132553100586], [18.58132553100586], [18.58132553100586], [18.58132553100586], [18.58132553100586], [18.58132553100586], [18.58132553100586], [18.58132553100586], [18.58132553100586], [18.58132553100586], [18.58132553100586], [18.58132553100586], [18.58132553100586], [18.58132553100586], [18.58132553100586], [18.58132553100586], [18.58132553100586], [18.58132553100586], [18.58132553100586], [18.58132553100586], [18.58132553100586], [18.58132553100586], [18.58132553100586], [18.58132553100586], [18.58132553100586], [18.58132553100586], [18.58132553100586], [18.58132553100586], [18.58132553100586], [18.58132553100586], [18.58132553100586], [18.58132553100586], [18.58132553100586], [18.58132553100586], [18.58132553100586], [18.58132553100586], [18.58132553100586], [18.58132553100586], [18.58132553100586], [18.58132553100586], [18.58132553100586], [18.58132553100586], [18.58132553100586], [18.58132553100586], [18.58132553100586], [18.58132553100586], [18.58132553100586], [18.58132553100586], [18.58132553100586], [18.58132553100586], [18.58132553100586], [18.58132553100586], [18.58132553100586], [18.58132553100586], [18.58132553100586], [18.58132553100586], [18.58132553100586], [18.58132553100586], [18.58132553100586], [18.58132553100586], [18.58132553100586], [18.58132553100586], [18.58132553100586], [18.58132553100586], [18.58132553100586], [18.58132553100586], [18.58132553100586], [18.58132553100586], [18.58132553100586], [18.58132553100586], [18.58132553100586], [18.58132553100586], [18.58132553100586], [18.58132553100586], [18.58132553100586], [18.58132553100586], [18.58132553100586], [18.58132553100586], [18.58132553100586], [18.58132553100586], [18.58132553100586], [18.58132553100586], [18.58132553100586], [18.58132553100586], [18.58132553100586], [18.58132553100586], [18.58132553100586], [18.58132553100586], [18.58132553100586], [18.58132553100586], [18.58132553100586], [18.58132553100586], [18.58132553100586], [18.58132553100586], [18.58132553100586], [18.58132553100586], [18.58132553100586], [18.58132553100586], [18.58132553100586], [18.58132553100586], [18.58132553100586], [18.58132553100586], [18.58132553100586], [18.58132553100586], [18.58132553100586], [18.58132553100586], [18.58132553100586], [18.58132553100586], [18.58132553100586], [18.58132553100586], [18.58132553100586], [18.58132553100586], [18.58132553100586], [18.58132553100586], [18.58132553100586], [18.58132553100586], [18.58132553100586], [18.58132553100586], [18.58132553100586], [18.58132553100586], [18.58132553100586], [18.58132553100586], [18.58132553100586], [18.58132553100586], [18.58132553100586], [18.58132553100586], [18.58132553100586], [18.58132553100586], [18.58132553100586], [18.58132553100586], [18.58132553100586], [18.58132553100586], [18.58132553100586], [18.58132553100586], [18.58132553100586], [18.58132553100586], [18.58132553100586], [18.58132553100586], [18.58132553100586], [18.58132553100586], [18.58132553100586], [18.58132553100586], [18.58132553100586], [18.58132553100586], [18.58132553100586], [18.58132553100586], [18.58132553100586], [18.58132553100586], [18.58132553100586], [18.58132553100586], [18.58132553100586], [18.58132553100586], [18.58132553100586], [18.58132553100586], [18.58132553100586], [18.58132553100586], [18.58132553100586], [18.58132553100586], [18.58132553100586], [18.58132553100586], [18.58132553100586], [18.58132553100586], [18.58132553100586], [18.58132553100586], [18.58132553100586], [18.58132553100586], [18.58132553100586], [18.58132553100586], [18.58132553100586], [18.58132553100586], [18.58132553100586], [18.58132553100586], [18.58132553100586], [18.58132553100586], [18.58132553100586], [18.58132553100586], [18.58132553100586], [18.58132553100586], [18.58132553100586], [18.58132553100586], [18.58132553100586], [18.58132553100586], [18.58132553100586], [18.58132553100586], [18.58132553100586], [18.58132553100586], [18.58132553100586], [18.58132553100586], [18.58132553100586], [18.58132553100586], [18.58132553100586], [18.58132553100586], [18.58132553100586], [18.58132553100586], [18.58132553100586], [18.58132553100586], [18.58132553100586], [18.58132553100586], [18.58132553100586], [18.58132553100586], [18.58132553100586], [18.58132553100586], [18.58132553100586], [18.58132553100586], [18.58132553100586], [18.58132553100586], [18.58132553100586], [18.58132553100586], [18.58132553100586], [18.58132553100586], [18.58132553100586], [18.58132553100586], [18.58132553100586], [18.58132553100586], [18.58132553100586], [18.58132553100586], [18.58132553100586], [18.58132553100586], [18.58132553100586], [18.58132553100586], [18.58132553100586], [18.58132553100586], [18.58132553100586], [18.58132553100586], [18.58132553100586], [18.58132553100586], [18.58132553100586], [18.58132553100586], [18.58132553100586], [18.58132553100586], [18.58132553100586], [18.58132553100586], [18.58132553100586], [18.58132553100586], [18.58132553100586], [18.58132553100586], [18.58132553100586], [18.58132553100586], [18.58132553100586], [18.58132553100586], [18.58132553100586], [18.58132553100586], [18.58132553100586], [18.58132553100586], [18.58132553100586], [18.58132553100586], [18.58132553100586], [18.58132553100586], [18.58132553100586], [18.58132553100586], [18.58132553100586], [18.58132553100586], [18.58132553100586], [18.58132553100586], [18.58132553100586], [18.58132553100586], [18.58132553100586], [18.58132553100586], [18.58132553100586], [18.58132553100586], [18.58132553100586], [18.58132553100586], [18.58132553100586], [18.58132553100586], [18.58132553100586], [18.58132553100586], [18.58132553100586], [18.58132553100586], [18.58132553100586], [18.58132553100586], [18.58132553100586], [18.58132553100586], [18.58132553100586], [18.58132553100586], [18.58132553100586], [18.58132553100586], [18.58132553100586], [18.58132553100586], [18.58132553100586], [18.58132553100586], [18.58132553100586], [18.58132553100586], [18.58132553100586], [18.58132553100586], [18.58132553100586], [18.58132553100586], [18.58132553100586], [18.58132553100586], [18.58132553100586], [18.58132553100586], [18.58132553100586], [18.58132553100586], [18.58132553100586], [18.58132553100586], [18.58132553100586], [18.58132553100586], [18.58132553100586], [18.58132553100586], [18.58132553100586], [18.58132553100586], [18.58132553100586], [18.58132553100586], [18.58132553100586], [18.58132553100586], [18.58132553100586], [18.58132553100586], [18.58132553100586], [18.58132553100586], [18.58132553100586], [18.58132553100586], [18.58132553100586], [18.58132553100586], [18.58132553100586], [18.58132553100586], [18.58132553100586], [18.58132553100586], [18.58132553100586], [18.58132553100586], [18.58132553100586], [18.58132553100586], [18.58132553100586], [18.58132553100586], [18.58132553100586], [18.58132553100586], [18.58132553100586], [18.58132553100586], [18.58132553100586], [18.58132553100586], [18.58132553100586], [18.58132553100586], [18.58132553100586], [18.58132553100586], [18.58132553100586], [18.58132553100586], [18.58132553100586], [18.58132553100586], [18.58132553100586], [18.58132553100586], [18.58132553100586], [18.58132553100586], [18.58132553100586], [18.58132553100586], [18.58132553100586], [18.58132553100586], [18.58132553100586], [18.58132553100586], [18.58132553100586], [18.58132553100586], [18.58132553100586], [18.58132553100586], [18.58132553100586], [18.58132553100586], [18.58132553100586], [18.58132553100586], [18.58132553100586], [18.58132553100586], [18.58132553100586], [18.58132553100586], [18.58132553100586], [18.58132553100586], [18.58132553100586], [18.58132553100586], [18.58132553100586], [18.58132553100586], [18.58132553100586], [18.58132553100586], [18.58132553100586], [18.58132553100586], [18.58132553100586], [18.58132553100586], [18.58132553100586], [18.58132553100586], [18.58132553100586], [18.58132553100586], [18.58132553100586], [18.58132553100586], [18.58132553100586], [18.58132553100586], [18.58132553100586], [18.58132553100586], [18.58132553100586], [18.58132553100586], [18.58132553100586], [18.58132553100586], [18.58132553100586], [18.58132553100586], [18.58132553100586], [18.58132553100586], [18.58132553100586], [18.58132553100586], [18.58132553100586], [18.58132553100586], [18.58132553100586], [18.58132553100586], [18.58132553100586], [18.58132553100586], [18.58132553100586], [18.58132553100586], [18.58132553100586], [18.58132553100586], [18.58132553100586], [18.58132553100586], [18.58132553100586], [18.58132553100586], [18.58132553100586], [18.58132553100586], [18.58132553100586], [18.58132553100586], [18.58132553100586], [18.58132553100586], [18.58132553100586], [18.58132553100586], [18.58132553100586], [18.58132553100586], [18.58132553100586], [18.58132553100586], [18.58132553100586], [18.58132553100586], [18.58132553100586], [18.58132553100586], [18.58132553100586], [18.58132553100586], [18.58132553100586], [18.58132553100586], [18.58132553100586], [18.58132553100586], [18.58132553100586], [18.58132553100586], [18.58132553100586], [18.58132553100586], [18.58132553100586], [18.58132553100586], [18.58132553100586], [18.58132553100586], [18.58132553100586], [18.58132553100586], [18.58132553100586], [18.58132553100586], [18.58132553100586], [18.58132553100586], [18.58132553100586], [18.58132553100586], [18.58132553100586], [18.58132553100586], [18.58132553100586], [18.58132553100586], [18.58132553100586], [18.58132553100586], [18.58132553100586], [18.58132553100586], [18.58132553100586], [18.58132553100586], [18.58132553100586], [18.58132553100586], [18.58132553100586], [18.58132553100586], [18.58132553100586], [18.58132553100586], [18.58132553100586], [18.58132553100586], [18.58132553100586], [18.58132553100586], [18.58132553100586], [18.58132553100586], [18.58132553100586], [18.58132553100586], [18.58132553100586], [18.58132553100586], [18.58132553100586], [18.58132553100586], [18.58132553100586], [18.58132553100586], [18.58132553100586], [18.58132553100586], [18.58132553100586], [18.58132553100586], [18.58132553100586], [18.58132553100586], [18.58132553100586], [18.58132553100586], [18.58132553100586], [18.58132553100586], [18.58132553100586], [18.58132553100586], [18.58132553100586], [18.58132553100586], [18.58132553100586], [18.58132553100586], [18.58132553100586], [18.58132553100586], [18.58132553100586], [18.58132553100586], [18.58132553100586], [18.58132553100586], [18.58132553100586], [18.58132553100586], [18.58132553100586], [18.58132553100586], [18.58132553100586], [18.58132553100586], [18.58132553100586], [18.58132553100586], [18.58132553100586], [18.58132553100586], [18.58132553100586], [18.58132553100586], [18.58132553100586], [18.58132553100586], [18.58132553100586], [18.58132553100586], [18.58132553100586], [18.58132553100586], [18.58132553100586], [18.58132553100586], [18.58132553100586], [18.58132553100586], [18.58132553100586], [18.58132553100586], [18.58132553100586], [18.58132553100586], [18.58132553100586], [18.58132553100586], [18.58132553100586], [18.58132553100586], [18.58132553100586], [18.58132553100586], [18.58132553100586], [18.58132553100586], [18.58132553100586], [18.58132553100586], [18.58132553100586], [18.58132553100586], [18.58132553100586], [18.58132553100586], [18.58132553100586], [18.58132553100586], [18.58132553100586], [18.58132553100586], [18.58132553100586], [18.58132553100586], [18.58132553100586], [18.58132553100586], [18.58132553100586], [18.58132553100586], [18.58132553100586], [18.58132553100586], [18.58132553100586], [18.58132553100586], [18.58132553100586], [18.58132553100586], [18.58132553100586], [18.58132553100586], [18.58132553100586], [18.58132553100586], [18.58132553100586], [18.58132553100586], [18.58132553100586], [18.58132553100586], [18.58132553100586], [18.58132553100586], [18.58132553100586], [18.58132553100586], [18.58132553100586], [18.58132553100586], [18.58132553100586], [18.58132553100586], [18.58132553100586], [18.58132553100586], [18.58132553100586], [18.58132553100586], [18.58132553100586], [18.58132553100586], [18.58132553100586], [18.58132553100586], [18.58132553100586], [18.58132553100586], [18.58132553100586], [18.58132553100586], [18.58132553100586], [18.58132553100586], [18.58132553100586], [18.58132553100586], [18.58132553100586], [18.58132553100586], [18.58132553100586], [18.58132553100586], [18.58132553100586], [18.58132553100586], [18.58132553100586], [18.58132553100586], [18.58132553100586], [18.58132553100586], [18.58132553100586], [18.58132553100586], [18.58132553100586], [18.58132553100586], [18.58132553100586], [18.58132553100586], [18.58132553100586], [18.58132553100586], [18.58132553100586], [18.58132553100586], [18.58132553100586], [18.58132553100586], [18.58132553100586], [18.58132553100586], [18.58132553100586], [18.58132553100586], [18.58132553100586], [18.58132553100586], [18.58132553100586], [18.58132553100586], [18.58132553100586], [18.58132553100586], [18.58132553100586], [18.58132553100586], [18.58132553100586], [18.58132553100586], [18.58132553100586], [18.58132553100586], [18.58132553100586], [18.58132553100586], [18.58132553100586], [18.58132553100586], [18.58132553100586], [18.58132553100586], [18.58132553100586], [18.58132553100586], [18.58132553100586], [18.58132553100586], [18.58132553100586], [18.58132553100586], [18.58132553100586], [18.58132553100586], [18.58132553100586], [18.58132553100586], [18.58132553100586], [18.58132553100586], [18.58132553100586], [18.58132553100586], [18.58132553100586], [18.58132553100586], [18.58132553100586], [18.58132553100586], [18.58132553100586], [18.58132553100586], [18.58132553100586], [18.58132553100586], [18.58132553100586], [18.58132553100586], [18.58132553100586], [18.58132553100586], [18.58132553100586], [18.58132553100586], [18.58132553100586], [18.58132553100586], [18.58132553100586], [18.58132553100586], [18.58132553100586], [18.58132553100586], [18.58132553100586], [18.58132553100586], [18.58132553100586], [18.58132553100586], [18.58132553100586], [18.58132553100586], [18.58132553100586], [18.58132553100586], [18.58132553100586], [18.58132553100586], [18.58132553100586], [18.58132553100586], [18.58132553100586], [18.58132553100586], [18.58132553100586], [18.58132553100586], [18.58132553100586], [18.58132553100586], [18.58132553100586], [18.58132553100586], [18.58132553100586], [18.58132553100586], [18.58132553100586], [18.58132553100586], [18.58132553100586], [18.58132553100586], [18.58132553100586], [18.58132553100586], [18.58132553100586], [18.58132553100586], [18.58132553100586], [18.58132553100586], [18.58132553100586], [18.58132553100586], [18.58132553100586], [18.58132553100586], [18.58132553100586], [18.58132553100586], [18.58132553100586], [18.58132553100586], [18.58132553100586], [18.58132553100586], [18.58132553100586], [18.58132553100586], [18.58132553100586], [18.58132553100586], [18.58132553100586], [18.58132553100586], [18.58132553100586], [18.58132553100586], [18.58132553100586], [18.58132553100586], [18.58132553100586], [18.58132553100586], [18.58132553100586], [18.58132553100586], [18.58132553100586], [18.58132553100586], [18.58132553100586], [18.58132553100586], [18.58132553100586], [18.58132553100586], [18.58132553100586], [18.58132553100586], [18.58132553100586], [18.58132553100586], [18.58132553100586], [18.58132553100586], [18.58132553100586], [18.58132553100586], [18.58132553100586], [18.58132553100586], [18.58132553100586], [18.58132553100586], [18.58132553100586], [18.58132553100586], [18.58132553100586], [18.58132553100586], [18.58132553100586], [18.58132553100586], [18.58132553100586], [18.58132553100586], [18.58132553100586], [18.58132553100586], [18.58132553100586], [18.58132553100586], [18.58132553100586], [18.58132553100586], [18.58132553100586], [18.58132553100586], [18.58132553100586], [18.58132553100586], [18.58132553100586], [18.58132553100586], [18.58132553100586], [18.58132553100586], [18.58132553100586], [18.58132553100586], [18.58132553100586], [18.58132553100586], [18.58132553100586], [18.58132553100586], [18.58132553100586], [18.58132553100586], [18.58132553100586], [18.58132553100586], [18.58132553100586], [18.58132553100586], [18.58132553100586], [18.58132553100586], [18.58132553100586], [18.58132553100586], [18.58132553100586], [18.58132553100586], [18.58132553100586], [18.58132553100586], [18.58132553100586], [18.58132553100586], [18.58132553100586], [18.58132553100586], [18.58132553100586], [18.58132553100586], [18.58132553100586], [18.58132553100586], [18.58132553100586], [18.58132553100586], [18.58132553100586], [18.58132553100586], [18.58132553100586], [18.58132553100586], [18.58132553100586], [18.58132553100586], [18.58132553100586], [18.58132553100586], [18.58132553100586], [18.58132553100586], [18.58132553100586], [18.58132553100586], [18.58132553100586], [18.58132553100586], [18.58132553100586], [18.58132553100586], [18.58132553100586], [18.58132553100586], [18.58132553100586], [18.58132553100586], [18.58132553100586], [18.58132553100586], [18.58132553100586], [18.58132553100586], [18.58132553100586], [18.58132553100586], [18.58132553100586], [18.58132553100586], [18.58132553100586], [18.58132553100586], [18.58132553100586], [18.58132553100586], [18.58132553100586], [18.58132553100586], [18.58132553100586], [18.58132553100586], [18.58132553100586], [18.58132553100586], [18.58132553100586], [18.58132553100586], [18.58132553100586], [18.58132553100586], [18.58132553100586], [18.58132553100586], [18.58132553100586], [18.58132553100586], [18.58132553100586], [18.58132553100586], [18.58132553100586], [18.58132553100586], [18.58132553100586], [18.58132553100586], [18.58132553100586], [18.58132553100586], [18.58132553100586], [18.58132553100586], [18.58132553100586], [18.58132553100586], [18.58132553100586], [18.58132553100586], [18.58132553100586], [18.58132553100586], [18.58132553100586], [18.58132553100586], [18.58132553100586], [18.58132553100586], [18.58132553100586], [18.58132553100586], [18.58132553100586], [18.58132553100586], [18.58132553100586], [18.58132553100586], [18.58132553100586], [18.58132553100586], [18.58132553100586], [18.58132553100586], [18.58132553100586], [18.58132553100586], [18.58132553100586], [18.58132553100586], [18.58132553100586], [18.58132553100586], [18.58132553100586], [18.58132553100586], [18.58132553100586], [18.58132553100586], [18.58132553100586], [18.58132553100586], [18.58132553100586], [18.58132553100586], [18.58132553100586], [18.58132553100586], [18.58132553100586], [18.58132553100586], [18.58132553100586], [18.58132553100586], [18.58132553100586], [18.58132553100586], [18.58132553100586], [18.58132553100586], [18.58132553100586], [18.58132553100586], [18.58132553100586], [18.58132553100586], [18.58132553100586], [18.58132553100586], [18.58132553100586], [18.58132553100586], [18.58132553100586], [18.58132553100586], [18.58132553100586], [18.58132553100586], [18.58132553100586], [18.58132553100586], [18.58132553100586], [18.58132553100586], [18.58132553100586], [18.58132553100586], [18.58132553100586], [18.58132553100586], [18.58132553100586], [18.58132553100586], [18.58132553100586], [18.58132553100586], [18.58132553100586], [18.58132553100586], [18.58132553100586], [18.58132553100586], [18.58132553100586], [18.58132553100586], [18.58132553100586], [18.58132553100586], [18.58132553100586], [18.58132553100586], [18.58132553100586], [18.58132553100586], [18.58132553100586], [18.58132553100586], [18.58132553100586], [18.58132553100586], [18.58132553100586], [18.58132553100586], [18.58132553100586], [18.58132553100586], [18.58132553100586], [18.58132553100586], [18.58132553100586], [18.58132553100586], [18.58132553100586], [18.58132553100586], [18.58132553100586], [18.58132553100586], [18.58132553100586], [18.58132553100586], [18.58132553100586], [18.58132553100586], [18.58132553100586], [18.58132553100586], [18.58132553100586], [18.58132553100586], [18.58132553100586], [18.58132553100586], [18.58132553100586], [18.58132553100586], [18.58132553100586], [18.58132553100586], [18.58132553100586], [18.58132553100586], [18.58132553100586], [18.58132553100586], [18.58132553100586], [18.58132553100586], [18.58132553100586], [18.58132553100586], [18.58132553100586], [18.58132553100586], [18.58132553100586], [18.58132553100586], [18.58132553100586], [18.58132553100586], [18.58132553100586], [18.58132553100586], [18.58132553100586], [18.58132553100586], [18.58132553100586], [18.58132553100586], [18.58132553100586], [18.58132553100586], [18.58132553100586], [18.58132553100586], [18.58132553100586], [18.58132553100586], [18.58132553100586], [18.58132553100586], [18.58132553100586], [18.58132553100586], [18.58132553100586], [18.58132553100586], [18.58132553100586], [18.58132553100586], [18.58132553100586], [18.58132553100586], [18.58132553100586], [18.58132553100586], [18.58132553100586], [18.58132553100586], [18.58132553100586], [18.58132553100586], [18.58132553100586], [18.58132553100586], [18.58132553100586], [18.58132553100586], [18.58132553100586], [18.58132553100586], [18.58132553100586], [18.58132553100586], [18.58132553100586], [18.58132553100586], [18.58132553100586], [18.58132553100586], [18.58132553100586], [18.58132553100586], [18.58132553100586], [18.58132553100586], [18.58132553100586], [18.58132553100586], [18.58132553100586], [18.58132553100586], [18.58132553100586], [18.58132553100586], [18.58132553100586], [18.58132553100586], [18.58132553100586], [18.58132553100586], [18.58132553100586], [18.58132553100586], [18.58132553100586], [18.58132553100586], [18.58132553100586], [18.58132553100586], [18.58132553100586], [18.58132553100586], [18.58132553100586], [18.58132553100586], [18.58132553100586], [18.58132553100586], [18.58132553100586], [18.58132553100586], [18.58132553100586], [18.58132553100586], [18.58132553100586], [18.58132553100586], [18.58132553100586], [18.58132553100586], [18.58132553100586], [18.58132553100586], [18.58132553100586], [18.58132553100586], [18.58132553100586], [18.58132553100586], [18.58132553100586], [18.58132553100586], [18.58132553100586], [18.58132553100586], [18.58132553100586], [18.58132553100586], [18.58132553100586], [18.58132553100586], [18.58132553100586], [18.58132553100586], [18.58132553100586], [18.58132553100586], [18.58132553100586], [18.58132553100586], [18.58132553100586], [18.58132553100586], [18.58132553100586], [18.58132553100586], [18.58132553100586], [18.58132553100586], [18.58132553100586], [18.58132553100586], [18.58132553100586], [18.58132553100586], [18.58132553100586], [18.58132553100586], [18.58132553100586], [18.58132553100586], [18.58132553100586], [18.58132553100586], [18.58132553100586], [18.58132553100586], [18.58132553100586], [18.58132553100586], [18.58132553100586], [18.58132553100586], [18.58132553100586], [18.58132553100586], [18.58132553100586], [18.58132553100586], [18.58132553100586], [18.58132553100586], [18.58132553100586], [18.58132553100586], [18.58132553100586], [18.58132553100586], [18.58132553100586], [18.58132553100586], [18.58132553100586], [18.58132553100586], [18.58132553100586], [18.58132553100586], [18.58132553100586], [18.58132553100586], [18.58132553100586], [18.58132553100586], [18.58132553100586], [18.58132553100586], [18.58132553100586], [18.58132553100586], [18.58132553100586], [18.58132553100586], [18.58132553100586], [18.58132553100586], [18.58132553100586], [18.58132553100586], [18.58132553100586], [18.58132553100586], [18.58132553100586], [18.58132553100586], [18.58132553100586], [18.58132553100586], [18.58132553100586], [18.58132553100586], [18.58132553100586], [18.58132553100586], [18.58132553100586], [18.58132553100586], [18.58132553100586], [18.58132553100586], [18.58132553100586], [18.58132553100586], [18.58132553100586], [18.58132553100586], [18.58132553100586], [18.58132553100586], [18.58132553100586], [18.58132553100586], [18.58132553100586], [18.58132553100586], [18.58132553100586], [18.58132553100586], [18.58132553100586], [18.58132553100586], [18.58132553100586], [18.58132553100586], [18.58132553100586], [18.58132553100586], [18.58132553100586], [18.58132553100586], [18.58132553100586], [18.58132553100586], [18.58132553100586], [18.58132553100586], [18.58132553100586], [18.58132553100586], [18.58132553100586], [18.58132553100586], [18.58132553100586], [18.58132553100586], [18.58132553100586], [18.58132553100586], [18.58132553100586], [18.58132553100586], [18.58132553100586], [18.58132553100586], [18.58132553100586], [18.58132553100586], [18.58132553100586], [18.58132553100586], [18.58132553100586], [18.58132553100586], [18.58132553100586], [18.58132553100586], [18.58132553100586], [18.58132553100586], [18.58132553100586], [18.58132553100586], [18.58132553100586], [18.58132553100586], [18.58132553100586], [18.58132553100586], [18.58132553100586], [18.58132553100586], [18.58132553100586], [18.58132553100586], [18.58132553100586], [18.58132553100586], [18.58132553100586], [18.58132553100586], [18.58132553100586], [18.58132553100586], [18.58132553100586], [18.58132553100586], [18.58132553100586], [18.58132553100586], [18.58132553100586], [18.58132553100586], [18.58132553100586], [18.58132553100586], [18.58132553100586], [18.58132553100586], [18.58132553100586], [18.58132553100586], [18.58132553100586], [18.58132553100586], [18.58132553100586], [18.58132553100586], [18.58132553100586], [18.58132553100586], [18.58132553100586], [18.58132553100586], [18.58132553100586], [18.58132553100586], [18.58132553100586], [18.58132553100586], [18.58132553100586], [18.58132553100586], [18.58132553100586], [18.58132553100586], [18.58132553100586], [18.58132553100586], [18.58132553100586], [18.58132553100586], [18.58132553100586], [18.58132553100586], [18.58132553100586], [18.58132553100586], [18.58132553100586], [18.58132553100586], [18.58132553100586], [18.58132553100586], [18.58132553100586], [18.58132553100586], [18.58132553100586], [18.58132553100586], [18.58132553100586], [18.58132553100586], [18.58132553100586], [18.58132553100586], [18.58132553100586], [18.58132553100586], [18.58132553100586], [18.58132553100586], [18.58132553100586], [18.58132553100586], [18.58132553100586], [18.58132553100586], [18.58132553100586], [18.58132553100586], [18.58132553100586], [18.58132553100586], [18.58132553100586], [18.58132553100586], [18.58132553100586], [18.58132553100586], [18.58132553100586], [18.58132553100586], [18.58132553100586], [18.58132553100586], [18.58132553100586], [18.58132553100586], [18.58132553100586], [18.58132553100586], [18.58132553100586], [18.58132553100586], [18.58132553100586], [18.58132553100586], [18.58132553100586], [18.58132553100586], [18.58132553100586], [18.58132553100586], [18.58132553100586], [18.58132553100586], [18.58132553100586], [18.58132553100586], [18.58132553100586], [18.58132553100586], [18.58132553100586], [18.58132553100586], [18.58132553100586], [18.58132553100586], [18.58132553100586], [18.58132553100586], [18.58132553100586], [18.58132553100586], [18.58132553100586], [18.58132553100586], [18.58132553100586], [18.58132553100586], [18.58132553100586], [18.58132553100586], [18.58132553100586], [18.58132553100586], [18.58132553100586], [18.58132553100586], [18.58132553100586], [18.58132553100586], [18.58132553100586], [18.58132553100586], [18.58132553100586], [18.58132553100586], [18.58132553100586], [18.58132553100586], [18.58132553100586], [18.58132553100586], [18.58132553100586], [18.58132553100586], [18.58132553100586], [18.58132553100586], [18.58132553100586], [18.58132553100586], [18.58132553100586], [18.58132553100586], [18.58132553100586], [18.58132553100586], [18.58132553100586], [18.58132553100586], [18.58132553100586], [18.58132553100586], [18.58132553100586], [18.58132553100586], [18.58132553100586], [18.58132553100586], [18.58132553100586], [18.58132553100586], [18.58132553100586], [18.58132553100586], [18.58132553100586], [18.58132553100586], [18.58132553100586], [18.58132553100586], [18.58132553100586], [18.58132553100586], [18.58132553100586], [18.58132553100586], [18.58132553100586], [18.58132553100586], [18.58132553100586], [18.58132553100586], [18.58132553100586], [18.58132553100586], [18.58132553100586], [18.58132553100586], [18.58132553100586], [18.58132553100586], [18.58132553100586], [18.58132553100586], [18.58132553100586], [18.58132553100586], [18.58132553100586], [18.58132553100586], [18.58132553100586], [18.58132553100586], [18.58132553100586], [18.58132553100586], [18.58132553100586], [18.58132553100586], [18.58132553100586], [18.58132553100586], [18.58132553100586], [18.58132553100586], [18.58132553100586], [18.58132553100586], [18.58132553100586], [18.58132553100586], [18.58132553100586], [18.58132553100586], [18.58132553100586], [18.58132553100586], [18.58132553100586], [18.58132553100586], [18.58132553100586], [18.58132553100586], [18.58132553100586], [18.58132553100586], [18.58132553100586], [18.58132553100586], [18.58132553100586], [18.58132553100586], [18.58132553100586], [18.58132553100586], [18.58132553100586], [18.58132553100586], [18.58132553100586], [18.58132553100586], [18.58132553100586], [18.58132553100586], [18.58132553100586], [18.58132553100586], [18.58132553100586], [18.58132553100586], [18.58132553100586], [18.58132553100586], [18.58132553100586], [18.58132553100586], [18.58132553100586], [18.58132553100586], [18.58132553100586], [18.58132553100586], [18.58132553100586], [18.58132553100586], [18.58132553100586], [18.58132553100586], [18.58132553100586], [18.58132553100586], [18.58132553100586], [18.58132553100586], [18.58132553100586], [18.58132553100586], [18.58132553100586], [18.58132553100586], [18.58132553100586], [18.58132553100586], [18.58132553100586], [18.58132553100586], [18.58132553100586], [18.58132553100586], [18.58132553100586], [18.58132553100586], [18.58132553100586], [18.58132553100586], [18.58132553100586], [18.58132553100586], [18.58132553100586], [18.58132553100586], [18.58132553100586], [18.58132553100586], [18.58132553100586], [18.58132553100586], [18.58132553100586], [18.58132553100586], [18.58132553100586], [18.58132553100586], [18.58132553100586], [18.58132553100586], [18.58132553100586], [18.58132553100586], [18.58132553100586], [18.58132553100586], [18.58132553100586], [18.58132553100586], [18.58132553100586], [18.58132553100586], [18.58132553100586], [18.58132553100586], [18.58132553100586], [18.58132553100586], [18.58132553100586], [18.58132553100586], [18.58132553100586], [18.58132553100586], [18.58132553100586], [18.58132553100586], [18.58132553100586], [18.58132553100586], [18.58132553100586], [18.58132553100586], [18.58132553100586], [18.58132553100586], [18.58132553100586], [18.58132553100586], [18.58132553100586], [18.58132553100586], [18.58132553100586], [18.58132553100586], [18.58132553100586], [18.58132553100586], [18.58132553100586], [18.58132553100586], [18.58132553100586], [18.58132553100586], [18.58132553100586], [18.58132553100586], [18.58132553100586], [18.58132553100586], [18.58132553100586], [18.58132553100586], [18.58132553100586], [18.58132553100586], [18.58132553100586], [18.58132553100586], [18.58132553100586], [18.58132553100586], [18.58132553100586], [18.58132553100586], [18.58132553100586], [18.58132553100586], [18.58132553100586], [18.58132553100586], [18.58132553100586], [18.58132553100586], [18.58132553100586], [18.58132553100586], [18.58132553100586], [18.58132553100586], [18.58132553100586], [18.58132553100586], [18.58132553100586], [18.58132553100586], [18.58132553100586], [18.58132553100586], [18.58132553100586], [18.58132553100586], [18.58132553100586], [18.58132553100586], [18.58132553100586], [18.58132553100586], [18.58132553100586], [18.58132553100586], [18.58132553100586], [18.58132553100586], [18.58132553100586], [18.58132553100586], [18.58132553100586], [18.58132553100586], [18.58132553100586], [18.58132553100586], [18.58132553100586], [18.58132553100586], [18.58132553100586], [18.58132553100586], [18.58132553100586], [18.58132553100586], [18.58132553100586], [18.58132553100586], [18.58132553100586], [18.58132553100586], [18.58132553100586], [18.58132553100586], [18.58132553100586], [18.58132553100586], [18.58132553100586], [18.58132553100586], [18.58132553100586], [18.58132553100586], [18.58132553100586], [18.58132553100586], [18.58132553100586], [18.58132553100586], [18.58132553100586], [18.58132553100586], [18.58132553100586], [18.58132553100586], [18.58132553100586], [18.58132553100586], [18.58132553100586], [18.58132553100586], [18.58132553100586], [18.58132553100586], [18.58132553100586], [18.58132553100586], [18.58132553100586], [18.58132553100586], [18.58132553100586], [18.58132553100586], [18.58132553100586], [18.58132553100586], [18.58132553100586], [18.58132553100586], [18.58132553100586], [18.58132553100586], [18.58132553100586], [18.58132553100586], [18.58132553100586], [18.58132553100586], [18.58132553100586], [18.58132553100586], [18.58132553100586], [18.58132553100586], [18.58132553100586], [18.58132553100586], [18.58132553100586], [18.58132553100586], [18.58132553100586], [18.58132553100586], [18.58132553100586], [18.58132553100586], [18.58132553100586], [18.58132553100586], [18.58132553100586], [18.58132553100586], [18.58132553100586], [18.58132553100586], [18.58132553100586], [18.58132553100586], [18.58132553100586], [18.58132553100586], [18.58132553100586], [18.58132553100586], [18.58132553100586], [18.58132553100586], [18.58132553100586], [18.58132553100586], [18.58132553100586], [18.58132553100586], [18.58132553100586], [18.58132553100586], [18.58132553100586], [18.58132553100586], [18.58132553100586], [18.58132553100586], [18.58132553100586], [18.58132553100586], [18.58132553100586], [18.58132553100586], [18.58132553100586], [18.58132553100586], [18.58132553100586], [18.58132553100586], [18.58132553100586], [18.58132553100586], [18.58132553100586], [18.58132553100586], [18.58132553100586], [18.58132553100586], [18.58132553100586], [18.58132553100586], [18.58132553100586], [18.58132553100586], [18.58132553100586], [18.58132553100586], [18.58132553100586], [18.58132553100586], [18.58132553100586], [18.58132553100586], [18.58132553100586], [18.58132553100586], [18.58132553100586], [18.58132553100586], [18.58132553100586], [18.58132553100586], [18.58132553100586], [18.58132553100586], [18.58132553100586], [18.58132553100586], [18.58132553100586], [18.58132553100586], [18.58132553100586], [18.58132553100586], [18.58132553100586], [18.58132553100586], [18.58132553100586], [18.58132553100586], [18.58132553100586], [18.58132553100586], [18.58132553100586], [18.58132553100586], [18.58132553100586], [18.58132553100586], [18.58132553100586], [18.58132553100586], [18.58132553100586], [18.58132553100586], [18.58132553100586], [18.58132553100586], [18.58132553100586], [18.58132553100586], [18.58132553100586], [18.58132553100586], [18.58132553100586], [18.58132553100586], [18.58132553100586], [18.58132553100586], [18.58132553100586], [18.58132553100586], [18.58132553100586], [18.58132553100586], [18.58132553100586], [18.58132553100586], [18.58132553100586], [18.58132553100586], [18.58132553100586], [18.58132553100586], [18.58132553100586], [18.58132553100586], [18.58132553100586], [18.58132553100586], [18.58132553100586], [18.58132553100586], [18.58132553100586], [18.58132553100586], [18.58132553100586], [18.58132553100586], [18.58132553100586], [18.58132553100586], [18.58132553100586], [18.58132553100586], [18.58132553100586], [18.58132553100586], [18.58132553100586], [18.58132553100586], [18.58132553100586], [18.58132553100586], [18.58132553100586], [18.58132553100586], [18.58132553100586], [18.58132553100586], [18.58132553100586], [18.58132553100586], [18.58132553100586], [18.58132553100586], [18.58132553100586], [18.58132553100586], [18.58132553100586], [18.58132553100586], [18.58132553100586], [18.58132553100586], [18.58132553100586], [18.58132553100586], [18.58132553100586], [18.58132553100586], [18.58132553100586], [18.58132553100586], [18.58132553100586], [18.58132553100586], [18.58132553100586], [18.58132553100586], [18.58132553100586], [18.58132553100586], [18.58132553100586], [18.58132553100586], [18.58132553100586], [18.58132553100586], [18.58132553100586], [18.58132553100586], [18.58132553100586], [18.58132553100586], [18.58132553100586], [18.58132553100586], [18.58132553100586], [18.58132553100586], [18.58132553100586], [18.58132553100586], [18.58132553100586], [18.58132553100586], [18.58132553100586], [18.58132553100586], [18.58132553100586], [18.58132553100586], [18.58132553100586], [18.58132553100586], [18.58132553100586], [18.58132553100586], [18.58132553100586], [18.58132553100586], [18.58132553100586], [18.58132553100586], [18.58132553100586], [18.58132553100586], [18.58132553100586], [18.58132553100586], [18.58132553100586], [18.58132553100586], [18.58132553100586], [18.58132553100586], [18.58132553100586], [18.58132553100586], [18.58132553100586], [18.58132553100586], [18.58132553100586], [18.58132553100586], [18.58132553100586], [18.58132553100586], [18.58132553100586], [18.58132553100586], [18.58132553100586], [18.58132553100586], [18.58132553100586], [18.58132553100586], [18.58132553100586], [18.58132553100586], [18.58132553100586], [18.58132553100586], [18.58132553100586], [18.58132553100586], [18.58132553100586], [18.58132553100586], [18.58132553100586], [18.58132553100586], [18.58132553100586], [18.58132553100586], [18.58132553100586], [18.58132553100586], [18.58132553100586], [18.58132553100586], [18.58132553100586], [18.58132553100586], [18.58132553100586], [18.58132553100586], [18.58132553100586], [18.58132553100586], [18.58132553100586], [18.58132553100586], [18.58132553100586], [18.58132553100586], [18.58132553100586], [18.58132553100586], [18.58132553100586], [18.58132553100586], [18.58132553100586], [18.58132553100586], [18.58132553100586], [18.58132553100586], [18.58132553100586], [18.58132553100586], [18.58132553100586], [18.58132553100586], [18.58132553100586], [18.58132553100586], [18.58132553100586], [18.58132553100586], [18.58132553100586], [18.58132553100586], [18.58132553100586], [18.58132553100586], [18.58132553100586], [18.58132553100586], [18.58132553100586], [18.58132553100586], [18.58132553100586], [18.58132553100586], [18.58132553100586], [18.58132553100586], [18.58132553100586], [18.58132553100586], [18.58132553100586], [18.58132553100586], [18.58132553100586], [18.58132553100586], [18.58132553100586], [18.58132553100586], [18.58132553100586], [18.58132553100586], [18.58132553100586], [18.58132553100586], [18.58132553100586], [18.58132553100586], [18.58132553100586], [18.58132553100586], [18.58132553100586], [18.58132553100586], [18.58132553100586], [18.58132553100586], [18.58132553100586], [18.58132553100586], [18.58132553100586], [18.58132553100586], [18.58132553100586], [18.58132553100586], [18.58132553100586], [18.58132553100586], [18.58132553100586], [18.58132553100586], [18.58132553100586], [18.58132553100586], [18.58132553100586], [18.58132553100586], [18.58132553100586], [18.58132553100586], [18.58132553100586], [18.58132553100586], [18.58132553100586], [18.58132553100586], [18.58132553100586], [18.58132553100586], [18.58132553100586], [18.58132553100586], [18.58132553100586], [18.58132553100586], [18.58132553100586], [18.58132553100586], [18.58132553100586], [18.58132553100586], [18.58132553100586], [18.58132553100586], [18.58132553100586], [18.58132553100586], [18.58132553100586], [18.58132553100586], [18.58132553100586], [18.58132553100586], [18.58132553100586], [18.58132553100586], [18.58132553100586], [18.58132553100586], [18.58132553100586], [18.58132553100586], [18.58132553100586], [18.58132553100586], [18.58132553100586], [18.58132553100586], [18.58132553100586], [18.58132553100586], [18.58132553100586], [18.58132553100586], [18.58132553100586], [18.58132553100586], [18.58132553100586], [18.58132553100586], [18.58132553100586], [18.58132553100586], [18.58132553100586], [18.58132553100586], [18.58132553100586], [18.58132553100586], [18.58132553100586], [18.58132553100586], [18.58132553100586], [18.58132553100586], [18.58132553100586], [18.58132553100586], [18.58132553100586], [18.58132553100586], [18.58132553100586], [18.58132553100586], [18.58132553100586], [18.58132553100586], [18.58132553100586], [18.58132553100586], [18.58132553100586], [18.58132553100586], [18.58132553100586], [18.58132553100586], [18.58132553100586], [18.58132553100586], [18.58132553100586], [18.58132553100586], [18.58132553100586], [18.58132553100586], [18.58132553100586], [18.58132553100586], [18.58132553100586], [18.58132553100586], [18.58132553100586], [18.58132553100586], [18.58132553100586], [18.58132553100586], [18.58132553100586], [18.58132553100586], [18.58132553100586], [18.58132553100586], [18.58132553100586], [18.58132553100586], [18.58132553100586], [18.58132553100586], [18.58132553100586], [18.58132553100586], [18.58132553100586], [18.58132553100586], [18.58132553100586], [18.58132553100586], [18.58132553100586], [18.58132553100586], [18.58132553100586], [18.58132553100586], [18.58132553100586], [18.58132553100586], [18.58132553100586], [18.58132553100586], [18.58132553100586], [18.58132553100586], [18.58132553100586], [18.58132553100586], [18.58132553100586], [18.58132553100586], [18.58132553100586], [18.58132553100586], [18.58132553100586], [18.58132553100586], [18.58132553100586], [18.58132553100586], [18.58132553100586], [18.58132553100586], [18.58132553100586], [18.58132553100586], [18.58132553100586], [18.58132553100586], [18.58132553100586], [18.58132553100586], [18.58132553100586], [18.58132553100586], [18.58132553100586], [18.58132553100586], [18.58132553100586], [18.58132553100586], [18.58132553100586], [18.58132553100586], [18.58132553100586], [18.58132553100586], [18.58132553100586], [18.58132553100586], [18.58132553100586], [18.58132553100586], [18.58132553100586], [18.58132553100586], [18.58132553100586], [18.58132553100586], [18.58132553100586], [18.58132553100586], [18.58132553100586], [18.58132553100586], [18.58132553100586], [18.58132553100586], [18.58132553100586], [18.58132553100586], [18.58132553100586], [18.58132553100586], [18.58132553100586], [18.58132553100586], [18.58132553100586], [18.58132553100586], [18.58132553100586], [18.58132553100586], [18.58132553100586], [18.58132553100586], [18.58132553100586], [18.58132553100586], [18.58132553100586], [18.58132553100586], [18.58132553100586], [18.58132553100586], [18.58132553100586], [18.58132553100586], [18.58132553100586], [18.58132553100586], [18.58132553100586], [18.58132553100586], [18.58132553100586], [18.58132553100586], [18.58132553100586], [18.58132553100586], [18.58132553100586], [18.58132553100586], [18.58132553100586], [18.58132553100586], [18.58132553100586], [18.58132553100586], [18.58132553100586], [18.58132553100586], [18.58132553100586], [18.58132553100586], [18.58132553100586], [18.58132553100586], [18.58132553100586], [18.58132553100586], [18.58132553100586], [18.58132553100586], [18.58132553100586], [18.58132553100586], [18.58132553100586], [18.58132553100586], [18.58132553100586], [18.58132553100586], [18.58132553100586], [18.58132553100586], [18.58132553100586], [18.58132553100586], [18.58132553100586], [18.58132553100586], [18.58132553100586], [18.58132553100586], [18.58132553100586], [18.58132553100586], [18.58132553100586], [18.58132553100586], [18.58132553100586], [18.58132553100586], [18.58132553100586], [18.58132553100586], [18.58132553100586], [18.58132553100586], [18.58132553100586], [18.58132553100586], [18.58132553100586], [18.58132553100586], [18.58132553100586], [18.58132553100586], [18.58132553100586], [18.58132553100586], [18.58132553100586], [18.58132553100586], [18.58132553100586], [18.58132553100586], [18.58132553100586], [18.58132553100586], [18.58132553100586], [18.58132553100586], [18.58132553100586], [18.58132553100586], [18.58132553100586], [18.58132553100586], [18.58132553100586], [18.58132553100586], [18.58132553100586], [18.58132553100586], [18.58132553100586], [18.58132553100586], [18.58132553100586], [18.58132553100586], [18.58132553100586], [18.58132553100586], [18.58132553100586], [18.58132553100586], [18.58132553100586], [18.58132553100586], [18.58132553100586], [18.58132553100586], [18.58132553100586], [18.58132553100586], [18.58132553100586], [18.58132553100586], [18.58132553100586], [18.58132553100586], [18.58132553100586], [18.58132553100586], [18.58132553100586], [18.58132553100586], [18.58132553100586], [18.58132553100586], [18.58132553100586], [18.58132553100586], [18.58132553100586], [18.58132553100586], [18.58132553100586], [18.58132553100586], [18.58132553100586], [18.58132553100586], [18.58132553100586], [18.58132553100586], [18.58132553100586], [18.58132553100586], [18.58132553100586], [18.58132553100586], [18.58132553100586], [18.58132553100586], [18.58132553100586], [18.58132553100586], [18.58132553100586], [18.58132553100586], [18.58132553100586], [18.58132553100586], [18.58132553100586], [18.58132553100586], [18.58132553100586], [18.58132553100586], [18.58132553100586], [18.58132553100586], [18.58132553100586], [18.58132553100586], [18.58132553100586], [18.58132553100586], [18.58132553100586], [18.58132553100586], [18.58132553100586], [18.58132553100586], [18.58132553100586], [18.58132553100586], [18.58132553100586], [18.58132553100586], [18.58132553100586], [18.58132553100586], [18.58132553100586], [18.58132553100586], [18.58132553100586], [18.58132553100586], [18.58132553100586], [18.58132553100586], [18.58132553100586], [18.58132553100586], [18.58132553100586], [18.58132553100586], [18.58132553100586], [18.58132553100586], [18.58132553100586], [18.58132553100586], [18.58132553100586], [18.58132553100586], [18.58132553100586], [18.58132553100586], [18.58132553100586], [18.58132553100586], [18.58132553100586], [18.58132553100586], [18.58132553100586], [18.58132553100586], [18.58132553100586], [18.58132553100586], [18.58132553100586], [18.58132553100586], [18.58132553100586], [18.58132553100586], [18.58132553100586], [18.58132553100586], [18.58132553100586], [18.58132553100586], [18.58132553100586], [18.58132553100586], [18.58132553100586], [18.58132553100586], [18.58132553100586], [18.58132553100586], [18.58132553100586], [18.58132553100586], [18.58132553100586], [18.58132553100586], [18.58132553100586], [18.58132553100586], [18.58132553100586], [18.58132553100586], [18.58132553100586], [18.58132553100586], [18.58132553100586], [18.58132553100586], [18.58132553100586], [18.58132553100586], [18.58132553100586], [18.58132553100586], [18.58132553100586], [18.58132553100586], [18.58132553100586], [18.58132553100586], [18.58132553100586], [18.58132553100586], [18.58132553100586], [18.58132553100586], [18.58132553100586], [18.58132553100586], [18.58132553100586], [18.58132553100586], [18.58132553100586], [18.58132553100586], [18.58132553100586], [18.58132553100586], [18.58132553100586], [18.58132553100586], [18.58132553100586], [18.58132553100586], [18.58132553100586], [18.58132553100586], [18.58132553100586], [18.58132553100586], [18.58132553100586], [18.58132553100586], [18.58132553100586], [18.58132553100586], [18.58132553100586], [18.58132553100586], [18.58132553100586], [18.58132553100586], [18.58132553100586], [18.58132553100586], [18.58132553100586], [18.58132553100586], [18.58132553100586], [18.58132553100586], [18.58132553100586], [18.58132553100586], [18.58132553100586], [18.58132553100586], [18.58132553100586], [18.58132553100586], [18.58132553100586], [18.58132553100586], [18.58132553100586], [18.58132553100586], [18.58132553100586], [18.58132553100586], [18.58132553100586], [18.58132553100586], [18.58132553100586], [18.58132553100586], [18.58132553100586], [18.58132553100586], [18.58132553100586], [18.58132553100586], [18.58132553100586], [18.58132553100586], [18.58132553100586], [18.58132553100586], [18.58132553100586], [18.58132553100586], [18.58132553100586], [18.58132553100586], [18.58132553100586], [18.58132553100586], [18.58132553100586], [18.58132553100586], [18.58132553100586], [18.58132553100586], [18.58132553100586], [18.58132553100586], [18.58132553100586], [18.58132553100586], [18.58132553100586], [18.58132553100586], [18.58132553100586], [18.58132553100586], [18.58132553100586], [18.58132553100586], [18.58132553100586], [18.58132553100586], [18.58132553100586], [18.58132553100586], [18.58132553100586], [18.58132553100586], [18.58132553100586], [18.58132553100586], [18.58132553100586], [18.58132553100586], [18.58132553100586], [18.58132553100586], [18.58132553100586], [18.58132553100586], [18.58132553100586], [18.58132553100586], [18.58132553100586], [18.58132553100586], [18.58132553100586], [18.58132553100586], [18.58132553100586], [18.58132553100586], [18.58132553100586], [18.58132553100586], [18.58132553100586], [18.58132553100586], [18.58132553100586], [18.58132553100586], [18.58132553100586], [18.58132553100586], [18.58132553100586], [18.58132553100586], [18.58132553100586], [18.58132553100586], [18.58132553100586], [18.58132553100586], [18.58132553100586], [18.58132553100586], [18.58132553100586], [18.58132553100586], [18.58132553100586], [18.58132553100586], [18.58132553100586], [18.58132553100586], [18.58132553100586], [18.58132553100586], [18.58132553100586], [18.58132553100586], [18.58132553100586], [18.58132553100586], [18.58132553100586], [18.58132553100586], [18.58132553100586], [18.58132553100586], [18.58132553100586], [18.58132553100586], [18.58132553100586], [18.58132553100586], [18.58132553100586], [18.58132553100586], [18.58132553100586], [18.58132553100586], [18.58132553100586], [18.58132553100586], [18.58132553100586], [18.58132553100586], [18.58132553100586], [18.58132553100586], [18.58132553100586], [18.58132553100586], [18.58132553100586], [18.58132553100586], [18.58132553100586], [18.58132553100586], [18.58132553100586], [18.58132553100586], [18.58132553100586], [18.58132553100586], [18.58132553100586], [18.58132553100586], [18.58132553100586], [18.58132553100586], [18.58132553100586], [18.58132553100586], [18.58132553100586], [18.58132553100586], [18.58132553100586], [18.58132553100586], [18.58132553100586], [18.58132553100586], [18.58132553100586], [18.58132553100586], [18.58132553100586], [18.58132553100586], [18.58132553100586], [18.58132553100586], [18.58132553100586], [18.58132553100586], [18.58132553100586], [18.58132553100586], [18.58132553100586], [18.58132553100586], [18.58132553100586], [18.58132553100586], [18.58132553100586], [18.58132553100586], [18.58132553100586], [18.58132553100586], [18.58132553100586], [18.58132553100586], [18.58132553100586], [18.58132553100586], [18.58132553100586], [18.58132553100586], [18.58132553100586], [18.58132553100586], [18.58132553100586], [18.58132553100586], [18.58132553100586], [18.58132553100586], [18.58132553100586], [18.58132553100586], [18.58132553100586], [18.58132553100586], [18.58132553100586], [18.58132553100586], [18.58132553100586], [18.58132553100586], [18.58132553100586], [18.58132553100586], [18.58132553100586], [18.58132553100586], [18.58132553100586], [18.58132553100586], [18.58132553100586], [18.58132553100586], [18.58132553100586], [18.58132553100586], [18.58132553100586], [18.58132553100586], [18.58132553100586], [18.58132553100586], [18.58132553100586], [18.58132553100586], [18.58132553100586], [18.58132553100586], [18.58132553100586], [18.58132553100586], [18.58132553100586], [18.58132553100586], [18.58132553100586], [18.58132553100586], [18.58132553100586], [18.58132553100586], [18.58132553100586], [18.58132553100586], [18.58132553100586], [18.58132553100586], [18.58132553100586], [18.58132553100586], [18.58132553100586], [18.58132553100586], [18.58132553100586], [18.58132553100586], [18.58132553100586], [18.58132553100586], [18.58132553100586], [18.58132553100586], [18.58132553100586], [18.58132553100586], [18.58132553100586], [18.58132553100586], [18.58132553100586], [18.58132553100586], [18.58132553100586], [18.58132553100586], [18.58132553100586], [18.58132553100586], [18.58132553100586], [18.58132553100586], [18.58132553100586], [18.58132553100586], [18.58132553100586], [18.58132553100586], [18.58132553100586], [18.58132553100586], [18.58132553100586], [18.58132553100586], [18.58132553100586], [18.58132553100586], [18.58132553100586], [18.58132553100586], [18.58132553100586], [18.58132553100586], [18.58132553100586], [18.58132553100586], [18.58132553100586], [18.58132553100586], [18.58132553100586], [18.58132553100586], [18.58132553100586], [18.58132553100586], [18.58132553100586], [18.58132553100586], [18.58132553100586], [18.58132553100586], [18.58132553100586], [18.58132553100586], [18.58132553100586], [18.58132553100586], [18.58132553100586], [18.58132553100586], [18.58132553100586], [18.58132553100586], [18.58132553100586], [18.58132553100586], [18.58132553100586], [18.58132553100586], [18.58132553100586], [18.58132553100586], [18.58132553100586], [18.58132553100586], [18.58132553100586], [18.58132553100586], [18.58132553100586], [18.58132553100586], [18.58132553100586], [18.58132553100586], [18.58132553100586], [18.58132553100586], [18.58132553100586], [18.58132553100586], [18.58132553100586], [18.58132553100586], [18.58132553100586], [18.58132553100586], [18.58132553100586], [18.58132553100586], [18.58132553100586], [18.58132553100586], [18.58132553100586], [18.58132553100586], [18.58132553100586], [18.58132553100586], [18.58132553100586], [18.58132553100586], [18.58132553100586], [18.58132553100586], [18.58132553100586], [18.58132553100586], [18.58132553100586], [18.58132553100586], [18.58132553100586], [18.58132553100586], [18.58132553100586], [18.58132553100586], [18.58132553100586], [18.58132553100586], [18.58132553100586], [18.58132553100586], [18.58132553100586], [18.58132553100586], [18.58132553100586], [18.58132553100586], [18.58132553100586], [18.58132553100586], [18.58132553100586], [18.58132553100586], [18.58132553100586], [18.58132553100586], [18.58132553100586], [18.58132553100586], [18.58132553100586], [18.58132553100586], [18.58132553100586], [18.58132553100586], [18.58132553100586], [18.58132553100586], [18.58132553100586], [18.58132553100586], [18.58132553100586], [18.58132553100586], [18.58132553100586], [18.58132553100586], [18.58132553100586], [18.58132553100586], [18.58132553100586], [18.58132553100586], [18.58132553100586], [18.58132553100586], [18.58132553100586], [18.58132553100586], [18.58132553100586], [18.58132553100586], [18.58132553100586], [18.58132553100586], [18.58132553100586], [18.58132553100586], [18.58132553100586], [18.58132553100586], [18.58132553100586], [18.58132553100586], [18.58132553100586], [18.58132553100586], [18.58132553100586], [18.58132553100586], [18.58132553100586], [18.58132553100586], [18.58132553100586], [18.58132553100586], [18.58132553100586], [18.58132553100586], [18.58132553100586], [18.58132553100586], [18.58132553100586], [18.58132553100586], [18.58132553100586], [18.58132553100586], [18.58132553100586], [18.58132553100586], [18.58132553100586], [18.58132553100586], [18.58132553100586], [18.58132553100586], [18.58132553100586], [18.58132553100586], [18.58132553100586], [18.58132553100586], [18.58132553100586], [18.58132553100586], [18.58132553100586], [18.58132553100586], [18.58132553100586], [18.58132553100586], [18.58132553100586], [18.58132553100586], [18.58132553100586], [18.58132553100586], [18.58132553100586], [18.58132553100586], [18.58132553100586], [18.58132553100586], [18.58132553100586], [18.58132553100586], [18.58132553100586], [18.58132553100586], [18.58132553100586], [18.58132553100586], [18.58132553100586], [18.58132553100586], [18.58132553100586], [18.58132553100586], [18.58132553100586], [18.58132553100586], [18.58132553100586], [18.58132553100586], [18.58132553100586], [18.58132553100586], [18.58132553100586], [18.58132553100586], [18.58132553100586], [18.58132553100586], [18.58132553100586], [18.58132553100586], [18.58132553100586], [18.58132553100586], [18.58132553100586], [18.58132553100586], [18.58132553100586], [18.58132553100586], [18.58132553100586], [18.58132553100586], [18.58132553100586], [18.58132553100586], [18.58132553100586], [18.58132553100586], [18.58132553100586], [18.58132553100586], [18.58132553100586], [18.58132553100586], [18.58132553100586], [18.58132553100586], [18.58132553100586], [18.58132553100586], [18.58132553100586], [18.58132553100586], [18.58132553100586], [18.58132553100586], [18.58132553100586], [18.58132553100586], [18.58132553100586], [18.58132553100586], [18.58132553100586], [18.58132553100586], [18.58132553100586], [18.58132553100586], [18.58132553100586], [18.58132553100586], [18.58132553100586], [18.58132553100586], [18.58132553100586], [18.58132553100586], [18.58132553100586], [18.58132553100586], [18.58132553100586], [18.58132553100586], [18.58132553100586], [18.58132553100586], [18.58132553100586], [18.58132553100586], [18.58132553100586], [18.58132553100586], [18.58132553100586], [18.58132553100586], [18.58132553100586], [18.58132553100586], [18.58132553100586], [18.58132553100586], [18.58132553100586], [18.58132553100586], [18.58132553100586], [18.58132553100586], [18.58132553100586], [18.58132553100586], [18.58132553100586], [18.58132553100586], [18.58132553100586], [18.58132553100586], [18.58132553100586], [18.58132553100586], [18.58132553100586], [18.58132553100586], [18.58132553100586], [18.58132553100586], [18.58132553100586], [18.58132553100586], [18.58132553100586], [18.58132553100586], [18.58132553100586], [18.58132553100586], [18.58132553100586], [18.58132553100586], [18.58132553100586], [18.58132553100586], [18.58132553100586], [18.58132553100586], [18.58132553100586], [18.58132553100586], [18.58132553100586], [18.58132553100586], [18.58132553100586], [18.58132553100586], [18.58132553100586], [18.58132553100586], [18.58132553100586], [18.58132553100586], [18.58132553100586], [18.58132553100586], [18.58132553100586], [18.58132553100586], [18.58132553100586], [18.58132553100586], [18.58132553100586], [18.58132553100586], [18.58132553100586], [18.58132553100586], [18.58132553100586], [18.58132553100586], [18.58132553100586], [18.58132553100586], [18.58132553100586], [18.58132553100586], [18.58132553100586], [18.58132553100586], [18.58132553100586], [18.58132553100586], [18.58132553100586], [18.58132553100586], [18.58132553100586], [18.58132553100586], [18.58132553100586], [18.58132553100586], [18.58132553100586], [18.58132553100586], [18.58132553100586], [18.58132553100586], [18.58132553100586], [18.58132553100586], [18.58132553100586], [18.58132553100586], [18.58132553100586], [18.58132553100586], [18.58132553100586], [18.58132553100586], [18.58132553100586], [18.58132553100586], [18.58132553100586], [18.58132553100586], [18.58132553100586], [18.58132553100586], [18.58132553100586], [18.58132553100586], [18.58132553100586], [18.58132553100586], [18.58132553100586], [18.58132553100586], [18.58132553100586], [18.58132553100586], [18.58132553100586], [18.58132553100586], [18.58132553100586], [18.58132553100586], [18.58132553100586], [18.58132553100586], [18.58132553100586], [18.58132553100586], [18.58132553100586], [18.58132553100586], [18.58132553100586], [18.58132553100586], [18.58132553100586], [18.58132553100586], [18.58132553100586], [18.58132553100586], [18.58132553100586], [18.58132553100586], [18.58132553100586], [18.58132553100586], [18.58132553100586], [18.58132553100586], [18.58132553100586], [18.58132553100586], [18.58132553100586], [18.58132553100586], [18.58132553100586], [18.58132553100586], [18.58132553100586], [18.58132553100586], [18.58132553100586], [18.58132553100586], [18.58132553100586], [18.58132553100586], [18.58132553100586], [18.58132553100586], [18.58132553100586], [18.58132553100586], [18.58132553100586], [18.58132553100586], [18.58132553100586], [18.58132553100586], [18.58132553100586], [18.58132553100586], [18.58132553100586], [18.58132553100586], [18.58132553100586], [18.58132553100586], [18.58132553100586], [18.58132553100586], [18.58132553100586], [18.58132553100586], [18.58132553100586], [18.58132553100586], [18.58132553100586], [18.58132553100586], [18.58132553100586], [18.58132553100586], [18.58132553100586], [18.58132553100586], [18.58132553100586], [18.58132553100586], [18.58132553100586], [18.58132553100586], [18.58132553100586], [18.58132553100586], [18.58132553100586], [18.58132553100586], [18.58132553100586], [18.58132553100586], [18.58132553100586], [18.58132553100586], [18.58132553100586], [18.58132553100586], [18.58132553100586], [18.58132553100586], [18.58132553100586], [18.58132553100586], [18.58132553100586], [18.58132553100586], [18.58132553100586], [18.58132553100586], [18.58132553100586], [18.58132553100586], [18.58132553100586], [18.58132553100586], [18.58132553100586], [18.58132553100586], [18.58132553100586], [18.58132553100586], [18.58132553100586], [18.58132553100586], [18.58132553100586], [18.58132553100586], [18.58132553100586], [18.58132553100586], [18.58132553100586], [18.58132553100586], [18.58132553100586], [18.58132553100586], [18.58132553100586], [18.58132553100586], [18.58132553100586], [18.58132553100586], [18.58132553100586], [18.58132553100586], [18.58132553100586], [18.58132553100586], [18.58132553100586], [18.58132553100586], [18.58132553100586], [18.58132553100586], [18.58132553100586], [18.58132553100586], [18.58132553100586], [18.58132553100586], [18.58132553100586], [18.58132553100586], [18.58132553100586], [18.58132553100586], [18.58132553100586], [18.58132553100586], [18.58132553100586], [18.58132553100586], [18.58132553100586], [18.58132553100586], [18.58132553100586], [18.58132553100586], [18.58132553100586], [18.58132553100586], [18.58132553100586], [18.58132553100586], [18.58132553100586], [18.58132553100586], [18.58132553100586], [18.58132553100586], [18.58132553100586], [18.58132553100586], [18.58132553100586], [18.58132553100586], [18.58132553100586], [18.58132553100586], [18.58132553100586], [18.58132553100586], [18.58132553100586], [18.58132553100586], [18.58132553100586], [18.58132553100586], [18.58132553100586], [18.58132553100586], [18.58132553100586], [18.58132553100586], [18.58132553100586], [18.58132553100586], [18.58132553100586], [18.58132553100586], [18.58132553100586], [18.58132553100586], [18.58132553100586], [18.58132553100586], [18.58132553100586], [18.58132553100586], [18.58132553100586], [18.58132553100586], [18.58132553100586], [18.58132553100586], [18.58132553100586], [18.58132553100586], [18.58132553100586], [18.58132553100586], [18.58132553100586], [18.58132553100586], [18.58132553100586], [18.58132553100586], [18.58132553100586], [18.58132553100586], [18.58132553100586], [18.58132553100586], [18.58132553100586], [18.58132553100586], [18.58132553100586], [18.58132553100586], [18.58132553100586], [18.58132553100586], [18.58132553100586], [18.58132553100586], [18.58132553100586], [18.58132553100586], [18.58132553100586], [18.58132553100586], [18.58132553100586], [18.58132553100586], [18.58132553100586], [18.58132553100586], [18.58132553100586], [18.58132553100586], [18.58132553100586], [18.58132553100586], [18.58132553100586], [18.58132553100586], [18.58132553100586], [18.58132553100586], [18.58132553100586], [18.58132553100586], [18.58132553100586], [18.58132553100586], [18.58132553100586], [18.58132553100586], [18.58132553100586], [18.58132553100586], [18.58132553100586], [18.58132553100586], [18.58132553100586], [18.58132553100586], [18.58132553100586], [18.58132553100586], [18.58132553100586], [18.58132553100586], [18.58132553100586], [18.58132553100586], [18.58132553100586], [18.58132553100586], [18.58132553100586], [18.58132553100586], [18.58132553100586], [18.58132553100586], [18.58132553100586], [18.58132553100586], [18.58132553100586], [18.58132553100586], [18.58132553100586], [18.58132553100586], [18.58132553100586], [18.58132553100586], [18.58132553100586], [18.58132553100586], [18.58132553100586], [18.58132553100586], [18.58132553100586], [18.58132553100586], [18.58132553100586], [18.58132553100586], [18.58132553100586], [18.58132553100586], [18.58132553100586], [18.58132553100586], [18.58132553100586], [18.58132553100586], [18.58132553100586], [18.58132553100586], [18.58132553100586], [18.58132553100586], [18.58132553100586], [18.58132553100586], [18.58132553100586], [18.58132553100586], [18.58132553100586], [18.58132553100586], [18.58132553100586], [18.58132553100586], [18.58132553100586], [18.58132553100586], [18.58132553100586], [18.58132553100586], [18.58132553100586], [18.58132553100586], [18.58132553100586], [18.58132553100586], [18.58132553100586], [18.58132553100586], [18.58132553100586], [18.58132553100586], [18.58132553100586], [18.58132553100586], [18.58132553100586], [18.58132553100586], [18.58132553100586], [18.58132553100586], [18.58132553100586], [18.58132553100586], [18.58132553100586], [18.58132553100586], [18.58132553100586], [18.58132553100586], [18.58132553100586], [18.58132553100586], [18.58132553100586], [18.58132553100586], [18.58132553100586], [18.58132553100586], [18.58132553100586], [18.58132553100586], [18.58132553100586], [18.58132553100586], [18.58132553100586], [18.58132553100586], [18.58132553100586], [18.58132553100586], [18.58132553100586], [18.58132553100586], [18.58132553100586], [18.58132553100586], [18.58132553100586], [18.58132553100586], [18.58132553100586], [18.58132553100586], [18.58132553100586], [18.58132553100586], [18.58132553100586], [18.58132553100586], [18.58132553100586], [18.58132553100586], [18.58132553100586], [18.58132553100586], [18.58132553100586], [18.58132553100586], [18.58132553100586], [18.58132553100586], [18.58132553100586], [18.58132553100586], [18.58132553100586], [18.58132553100586], [18.58132553100586], [18.58132553100586], [18.58132553100586], [18.58132553100586], [18.58132553100586], [18.58132553100586], [18.58132553100586], [18.58132553100586], [18.58132553100586], [18.58132553100586], [18.58132553100586], [18.58132553100586], [18.58132553100586], [18.58132553100586], [18.58132553100586], [18.58132553100586], [18.58132553100586], [18.58132553100586], [18.58132553100586], [18.58132553100586], [18.58132553100586], [18.58132553100586], [18.58132553100586], [18.58132553100586], [18.58132553100586], [18.58132553100586], [18.58132553100586], [18.58132553100586], [18.58132553100586], [18.58132553100586], [18.58132553100586], [18.58132553100586], [18.58132553100586], [18.58132553100586], [18.58132553100586], [18.58132553100586], [18.58132553100586], [18.58132553100586], [18.58132553100586], [18.58132553100586], [18.58132553100586], [18.58132553100586], [18.58132553100586], [18.58132553100586], [18.58132553100586], [18.58132553100586], [18.58132553100586], [18.58132553100586], [18.58132553100586], [18.58132553100586], [18.58132553100586], [18.58132553100586], [18.58132553100586], [18.58132553100586], [18.58132553100586], [18.58132553100586], [18.58132553100586], [18.58132553100586], [18.58132553100586], [18.58132553100586], [18.58132553100586], [18.58132553100586], [18.58132553100586], [18.58132553100586], [18.58132553100586], [18.58132553100586], [18.58132553100586], [18.58132553100586], [18.58132553100586], [18.58132553100586], [18.58132553100586], [18.58132553100586], [18.58132553100586], [18.58132553100586], [18.58132553100586], [18.58132553100586], [18.58132553100586], [18.58132553100586], [18.58132553100586], [18.58132553100586], [18.58132553100586], [18.58132553100586], [18.58132553100586], [18.58132553100586], [18.58132553100586], [18.58132553100586], [18.58132553100586], [18.58132553100586], [18.58132553100586], [18.58132553100586], [18.58132553100586], [18.58132553100586], [18.58132553100586], [18.58132553100586], [18.58132553100586], [18.58132553100586], [18.58132553100586], [18.58132553100586], [18.58132553100586], [18.58132553100586], [18.58132553100586], [18.58132553100586], [18.58132553100586], [18.58132553100586], [18.58132553100586], [18.58132553100586], [18.58132553100586], [18.58132553100586], [18.58132553100586], [18.58132553100586], [18.58132553100586], [18.58132553100586], [18.58132553100586], [18.58132553100586], [18.58132553100586], [18.58132553100586], [18.58132553100586], [18.58132553100586], [18.58132553100586], [18.58132553100586], [18.58132553100586], [18.58132553100586], [18.58132553100586], [18.58132553100586], [18.58132553100586], [18.58132553100586], [18.58132553100586], [18.58132553100586], [18.58132553100586], [18.58132553100586], [18.58132553100586], [18.58132553100586], [18.58132553100586], [18.58132553100586], [18.58132553100586], [18.58132553100586], [18.58132553100586], [18.58132553100586], [18.58132553100586], [18.58132553100586], [18.58132553100586], [18.58132553100586], [18.58132553100586], [18.58132553100586], [18.58132553100586], [18.58132553100586], [18.58132553100586], [18.58132553100586], [18.58132553100586], [18.58132553100586], [18.58132553100586], [18.58132553100586], [18.58132553100586], [18.58132553100586], [18.58132553100586], [18.58132553100586], [18.58132553100586], [18.58132553100586], [18.58132553100586], [18.58132553100586], [18.58132553100586], [18.58132553100586], [18.58132553100586], [18.58132553100586], [18.58132553100586], [18.58132553100586], [18.58132553100586], [18.58132553100586], [18.58132553100586], [18.58132553100586], [18.58132553100586], [18.58132553100586], [18.58132553100586], [18.58132553100586], [18.58132553100586], [18.58132553100586], [18.58132553100586], [18.58132553100586], [18.58132553100586], [18.58132553100586], [18.58132553100586], [18.58132553100586], [18.58132553100586], [18.58132553100586], [18.58132553100586], [18.58132553100586], [18.58132553100586], [18.58132553100586], [18.58132553100586], [18.58132553100586], [18.58132553100586], [18.58132553100586], [18.58132553100586], [18.58132553100586], [18.58132553100586], [18.58132553100586], [18.58132553100586], [18.58132553100586], [18.58132553100586], [18.58132553100586], [18.58132553100586], [18.58132553100586], [18.58132553100586], [18.58132553100586], [18.58132553100586], [18.58132553100586], [18.58132553100586], [18.58132553100586], [18.58132553100586], [18.58132553100586], [18.58132553100586], [18.58132553100586], [18.58132553100586], [18.58132553100586], [18.58132553100586], [18.58132553100586], [18.58132553100586], [18.58132553100586], [18.58132553100586], [18.58132553100586], [18.58132553100586], [18.58132553100586], [18.58132553100586], [18.58132553100586], [18.58132553100586], [18.58132553100586], [18.58132553100586], [18.58132553100586], [18.58132553100586], [18.58132553100586], [18.58132553100586], [18.58132553100586], [18.58132553100586], [18.58132553100586], [18.58132553100586], [18.58132553100586], [18.58132553100586], [18.58132553100586], [18.58132553100586], [18.58132553100586], [18.58132553100586], [18.58132553100586], [18.58132553100586], [18.58132553100586], [18.58132553100586], [18.58132553100586], [18.58132553100586], [18.58132553100586], [18.58132553100586], [18.58132553100586], [18.58132553100586], [18.58132553100586], [18.58132553100586], [18.58132553100586], [18.58132553100586], [18.58132553100586], [18.58132553100586], [18.58132553100586], [18.58132553100586], [18.58132553100586], [18.58132553100586], [18.58132553100586], [18.58132553100586], [18.58132553100586], [18.58132553100586], [18.58132553100586], [18.58132553100586], [18.58132553100586], [18.58132553100586], [18.58132553100586], [18.58132553100586], [18.58132553100586], [18.58132553100586], [18.58132553100586], [18.58132553100586], [18.58132553100586], [18.58132553100586], [18.58132553100586], [18.58132553100586], [18.58132553100586], [18.58132553100586], [18.58132553100586], [18.58132553100586], [18.58132553100586], [18.58132553100586], [18.58132553100586], [18.58132553100586], [18.58132553100586], [18.58132553100586], [18.58132553100586], [18.58132553100586], [18.58132553100586], [18.58132553100586], [18.58132553100586], [18.58132553100586], [18.58132553100586], [18.58132553100586], [18.58132553100586], [18.58132553100586], [18.58132553100586], [18.58132553100586], [18.58132553100586], [18.58132553100586], [18.58132553100586], [18.58132553100586], [18.58132553100586], [18.58132553100586], [18.58132553100586], [18.58132553100586], [18.58132553100586], [18.58132553100586], [18.58132553100586], [18.58132553100586], [18.58132553100586], [18.58132553100586], [18.58132553100586], [18.58132553100586], [18.58132553100586], [18.58132553100586], [18.58132553100586], [18.58132553100586], [18.58132553100586], [18.58132553100586], [18.58132553100586], [18.58132553100586], [18.58132553100586], [18.58132553100586], [18.58132553100586], [18.58132553100586], [18.58132553100586], [18.58132553100586], [18.58132553100586], [18.58132553100586], [18.58132553100586], [18.58132553100586], [18.58132553100586], [18.58132553100586], [18.58132553100586], [18.58132553100586], [18.58132553100586], [18.58132553100586], [18.58132553100586], [18.58132553100586], [18.58132553100586], [18.58132553100586], [18.58132553100586], [18.58132553100586], [18.58132553100586], [18.58132553100586], [18.58132553100586], [18.58132553100586], [18.58132553100586], [18.58132553100586], [18.58132553100586], [18.58132553100586], [18.58132553100586], [18.58132553100586], [18.58132553100586], [18.58132553100586], [18.58132553100586], [18.58132553100586], [18.58132553100586], [18.58132553100586], [18.58132553100586], [18.58132553100586], [18.58132553100586], [18.58132553100586], [18.58132553100586], [18.58132553100586], [18.58132553100586], [18.58132553100586], [18.58132553100586], [18.58132553100586], [18.58132553100586], [18.58132553100586], [18.58132553100586], [18.58132553100586], [18.58132553100586], [18.58132553100586], [18.58132553100586], [18.58132553100586], [18.58132553100586], [18.58132553100586], [18.58132553100586], [18.58132553100586], [18.58132553100586], [18.58132553100586], [18.58132553100586], [18.58132553100586], [18.58132553100586], [18.58132553100586], [18.58132553100586], [18.58132553100586], [18.58132553100586], [18.58132553100586], [18.58132553100586], [18.58132553100586], [18.58132553100586], [18.58132553100586], [18.58132553100586], [18.58132553100586], [18.58132553100586], [18.58132553100586], [18.58132553100586], [18.58132553100586], [18.58132553100586], [18.58132553100586], [18.58132553100586], [18.58132553100586], [18.58132553100586], [18.58132553100586], [18.58132553100586], [18.58132553100586], [18.58132553100586], [18.58132553100586], [18.58132553100586], [18.58132553100586], [18.58132553100586], [18.58132553100586], [18.58132553100586], [18.58132553100586], [18.58132553100586], [18.58132553100586], [18.58132553100586], [18.58132553100586], [18.58132553100586], [18.58132553100586], [18.58132553100586], [18.58132553100586], [18.58132553100586], [18.58132553100586], [18.58132553100586], [18.58132553100586], [18.58132553100586], [18.58132553100586], [18.58132553100586], [18.58132553100586], [18.58132553100586], [18.58132553100586], [18.58132553100586], [18.58132553100586], [18.58132553100586], [18.58132553100586], [18.58132553100586], [18.58132553100586], [18.58132553100586], [18.58132553100586], [18.58132553100586], [18.58132553100586], [18.58132553100586], [18.58132553100586], [18.58132553100586], [18.58132553100586], [18.58132553100586], [18.58132553100586], [18.58132553100586], [18.58132553100586], [18.58132553100586], [18.58132553100586], [18.58132553100586], [18.58132553100586], [18.58132553100586], [18.58132553100586], [18.58132553100586], [18.58132553100586], [18.58132553100586], [18.58132553100586], [18.58132553100586], [18.58132553100586], [18.58132553100586], [18.58132553100586], [18.58132553100586], [18.58132553100586], [18.58132553100586], [18.58132553100586], [18.58132553100586], [18.58132553100586], [18.58132553100586], [18.58132553100586], [18.58132553100586], [18.58132553100586], [18.58132553100586], [18.58132553100586], [18.58132553100586], [18.58132553100586], [18.58132553100586], [18.58132553100586], [18.58132553100586], [18.58132553100586], [18.58132553100586], [18.58132553100586], [18.58132553100586], [18.58132553100586], [18.58132553100586], [18.58132553100586], [18.58132553100586], [18.58132553100586], [18.58132553100586], [18.58132553100586], [18.58132553100586], [18.58132553100586], [18.58132553100586], [18.58132553100586], [18.58132553100586], [18.58132553100586], [18.58132553100586], [18.58132553100586], [18.58132553100586], [18.58132553100586], [18.58132553100586], [18.58132553100586], [18.58132553100586], [18.58132553100586], [18.58132553100586], [18.58132553100586], [18.58132553100586], [18.58132553100586], [18.58132553100586], [18.58132553100586], [18.58132553100586], [18.58132553100586], [18.58132553100586], [18.58132553100586], [18.58132553100586], [18.58132553100586], [18.58132553100586], [18.58132553100586], [18.58132553100586], [18.58132553100586], [18.58132553100586], [18.58132553100586], [18.58132553100586], [18.58132553100586], [18.58132553100586], [18.58132553100586], [18.58132553100586], [18.58132553100586], [18.58132553100586], [18.58132553100586], [18.58132553100586], [18.58132553100586], [18.58132553100586], [18.58132553100586], [18.58132553100586], [18.58132553100586], [18.58132553100586], [18.58132553100586], [18.58132553100586], [18.58132553100586], [18.58132553100586], [18.58132553100586], [18.58132553100586], [18.58132553100586], [18.58132553100586], [18.58132553100586], [18.58132553100586], [18.58132553100586], [18.58132553100586], [18.58132553100586], [18.58132553100586], [18.58132553100586], [18.58132553100586], [18.58132553100586], [18.58132553100586], [18.58132553100586], [18.58132553100586], [18.58132553100586], [18.58132553100586], [18.58132553100586], [18.58132553100586], [18.58132553100586], [18.58132553100586], [18.58132553100586], [18.58132553100586], [18.58132553100586], [18.58132553100586], [18.58132553100586], [18.58132553100586], [18.58132553100586], [18.58132553100586], [18.58132553100586], [18.58132553100586], [18.58132553100586], [18.58132553100586], [18.58132553100586], [18.58132553100586], [18.58132553100586], [18.58132553100586], [18.58132553100586], [18.58132553100586], [18.58132553100586], [18.58132553100586], [18.58132553100586], [18.58132553100586], [18.58132553100586], [18.58132553100586], [18.58132553100586], [18.58132553100586], [18.58132553100586], [18.58132553100586], [18.58132553100586], [18.58132553100586], [18.58132553100586], [18.58132553100586], [18.58132553100586], [18.58132553100586], [18.58132553100586], [18.58132553100586], [18.58132553100586], [18.58132553100586], [18.58132553100586], [18.58132553100586], [18.58132553100586], [18.58132553100586], [18.58132553100586], [18.58132553100586], [18.58132553100586], [18.58132553100586], [18.58132553100586], [18.58132553100586], [18.58132553100586], [18.58132553100586], [18.58132553100586], [18.58132553100586], [18.58132553100586], [18.58132553100586], [18.58132553100586], [18.58132553100586], [18.58132553100586], [18.58132553100586], [18.58132553100586], [18.58132553100586], [18.58132553100586], [18.58132553100586], [18.58132553100586], [18.58132553100586], [18.58132553100586], [18.58132553100586], [18.58132553100586], [18.58132553100586], [18.58132553100586], [18.58132553100586], [18.58132553100586], [18.58132553100586], [18.58132553100586], [18.58132553100586], [18.58132553100586], [18.58132553100586], [18.58132553100586], [18.58132553100586], [18.58132553100586], [18.58132553100586], [18.58132553100586], [18.58132553100586], [18.58132553100586], [18.58132553100586], [18.58132553100586], [18.58132553100586], [18.58132553100586], [18.58132553100586], [18.58132553100586], [18.58132553100586], [18.58132553100586], [18.58132553100586], [18.58132553100586], [18.58132553100586], [18.58132553100586], [18.58132553100586], [18.58132553100586], [18.58132553100586], [18.58132553100586], [18.58132553100586], [18.58132553100586], [18.58132553100586], [18.58132553100586], [18.58132553100586], [18.58132553100586], [18.58132553100586], [18.58132553100586], [18.58132553100586], [18.58132553100586], [18.58132553100586], [18.58132553100586], [18.58132553100586], [18.58132553100586], [18.58132553100586], [18.58132553100586], [18.58132553100586], [18.58132553100586], [18.58132553100586], [18.58132553100586], [18.58132553100586], [18.58132553100586], [18.58132553100586], [18.58132553100586], [18.58132553100586], [18.58132553100586], [18.58132553100586], [18.58132553100586], [18.58132553100586], [18.58132553100586], [18.58132553100586], [18.58132553100586], [18.58132553100586], [18.58132553100586], [18.58132553100586], [18.58132553100586], [18.58132553100586], [18.58132553100586], [18.58132553100586], [18.58132553100586], [18.58132553100586], [18.58132553100586], [18.58132553100586], [18.58132553100586], [18.58132553100586], [18.58132553100586], [18.58132553100586], [18.58132553100586], [18.58132553100586], [18.58132553100586], [18.58132553100586], [18.58132553100586], [18.58132553100586], [18.58132553100586], [18.58132553100586], [18.58132553100586], [18.58132553100586], [18.58132553100586], [18.58132553100586], [18.58132553100586], [18.58132553100586], [18.58132553100586], [18.58132553100586], [18.58132553100586], [18.58132553100586], [18.58132553100586], [18.58132553100586], [18.58132553100586], [18.58132553100586], [18.58132553100586], [18.58132553100586], [18.58132553100586], [18.58132553100586], [18.58132553100586], [18.58132553100586], [18.58132553100586], [18.58132553100586], [18.58132553100586], [18.58132553100586], [18.58132553100586], [18.58132553100586], [18.58132553100586], [18.58132553100586], [18.58132553100586], [18.58132553100586], [18.58132553100586], [18.58132553100586], [18.58132553100586], [18.58132553100586], [18.58132553100586], [18.58132553100586], [18.58132553100586], [18.58132553100586], [18.58132553100586], [18.58132553100586], [18.58132553100586], [18.58132553100586], [18.58132553100586], [18.58132553100586], [18.58132553100586], [18.58132553100586], [18.58132553100586], [18.58132553100586], [18.58132553100586], [18.58132553100586], [18.58132553100586], [18.58132553100586], [18.58132553100586], [18.58132553100586], [18.58132553100586], [18.58132553100586], [18.58132553100586], [18.58132553100586], [18.58132553100586], [18.58132553100586], [18.58132553100586], [18.58132553100586], [18.58132553100586], [18.58132553100586], [18.58132553100586], [18.58132553100586], [18.58132553100586], [18.58132553100586], [18.58132553100586], [18.58132553100586], [18.58132553100586], [18.58132553100586], [18.58132553100586], [18.58132553100586], [18.58132553100586], [18.58132553100586], [18.58132553100586], [18.58132553100586], [18.58132553100586], [18.58132553100586], [18.58132553100586], [18.58132553100586], [18.58132553100586], [18.58132553100586], [18.58132553100586], [18.58132553100586], [18.58132553100586], [18.58132553100586], [18.58132553100586], [18.58132553100586], [18.58132553100586], [18.58132553100586], [18.58132553100586], [18.58132553100586], [18.58132553100586], [18.58132553100586], [18.58132553100586], [18.58132553100586], [18.58132553100586], [18.58132553100586], [18.58132553100586], [18.58132553100586], [18.58132553100586], [18.58132553100586], [18.58132553100586], [18.58132553100586], [18.58132553100586], [18.58132553100586], [18.58132553100586], [18.58132553100586], [18.58132553100586], [18.58132553100586], [18.58132553100586], [18.58132553100586], [18.58132553100586], [18.58132553100586], [18.58132553100586], [18.58132553100586], [18.58132553100586], [18.58132553100586], [18.58132553100586], [18.58132553100586], [18.58132553100586], [18.58132553100586], [18.58132553100586], [18.58132553100586], [18.58132553100586], [18.58132553100586], [18.58132553100586], [18.58132553100586], [18.58132553100586], [18.58132553100586], [18.58132553100586], [18.58132553100586], [18.58132553100586], [18.58132553100586], [18.58132553100586], [18.58132553100586], [18.58132553100586], [18.58132553100586], [18.58132553100586], [18.58132553100586], [18.58132553100586], [18.58132553100586], [18.58132553100586], [18.58132553100586], [18.58132553100586], [18.58132553100586], [18.58132553100586], [18.58132553100586], [18.58132553100586], [18.58132553100586], [18.58132553100586], [18.58132553100586], [18.58132553100586], [18.58132553100586], [18.58132553100586], [18.58132553100586], [18.58132553100586], [18.58132553100586], [18.58132553100586], [18.58132553100586], [18.58132553100586], [18.58132553100586], [18.58132553100586], [18.58132553100586], [18.58132553100586], [18.58132553100586], [18.58132553100586], [18.58132553100586], [18.58132553100586], [18.58132553100586], [18.58132553100586], [18.58132553100586], [18.58132553100586], [18.58132553100586], [18.58132553100586], [18.58132553100586], [18.58132553100586], [18.58132553100586], [18.58132553100586], [18.58132553100586], [18.58132553100586], [18.58132553100586], [18.58132553100586], [18.58132553100586], [18.58132553100586], [18.58132553100586], [18.58132553100586], [18.58132553100586], [18.58132553100586], [18.58132553100586], [18.58132553100586], [18.58132553100586], [18.58132553100586], [18.58132553100586], [18.58132553100586], [18.58132553100586], [18.58132553100586], [18.58132553100586], [18.58132553100586], [18.58132553100586], [18.58132553100586], [18.58132553100586], [18.58132553100586], [18.58132553100586], [18.58132553100586], [18.58132553100586], [18.58132553100586], [18.58132553100586], [18.58132553100586], [18.58132553100586], [18.58132553100586], [18.58132553100586], [18.58132553100586], [18.58132553100586], [18.58132553100586], [18.58132553100586], [18.58132553100586], [18.58132553100586], [18.58132553100586], [18.58132553100586], [18.58132553100586], [18.58132553100586], [18.58132553100586], [18.58132553100586], [18.58132553100586], [18.58132553100586], [18.58132553100586], [18.58132553100586], [18.58132553100586], [18.58132553100586], [18.58132553100586], [18.58132553100586], [18.58132553100586], [18.58132553100586], [18.58132553100586], [18.58132553100586], [18.58132553100586], [18.58132553100586], [18.58132553100586], [18.58132553100586], [18.58132553100586], [18.58132553100586], [18.58132553100586], [18.58132553100586], [18.58132553100586], [18.58132553100586], [18.58132553100586], [18.58132553100586], [18.58132553100586], [18.58132553100586], [18.58132553100586], [18.58132553100586], [18.58132553100586], [18.58132553100586], [18.58132553100586], [18.58132553100586], [18.58132553100586], [18.58132553100586], [18.58132553100586], [18.58132553100586], [18.58132553100586], [18.58132553100586], [18.58132553100586], [18.58132553100586], [18.58132553100586], [18.58132553100586], [18.58132553100586], [18.58132553100586], [18.58132553100586], [18.58132553100586], [18.58132553100586], [18.58132553100586], [18.58132553100586], [18.58132553100586], [18.58132553100586], [18.58132553100586], [18.58132553100586], [18.58132553100586], [18.58132553100586], [18.58132553100586], [18.58132553100586], [18.58132553100586], [18.58132553100586], [18.58132553100586], [18.58132553100586], [18.58132553100586], [18.58132553100586], [18.58132553100586], [18.58132553100586], [18.58132553100586], [18.58132553100586], [18.58132553100586], [18.58132553100586], [18.58132553100586], [18.58132553100586], [18.58132553100586], [18.58132553100586], [18.58132553100586], [18.58132553100586], [18.58132553100586], [18.58132553100586], [18.58132553100586], [18.58132553100586], [18.58132553100586], [18.58132553100586], [18.58132553100586], [18.58132553100586], [18.58132553100586], [18.58132553100586], [18.58132553100586], [18.58132553100586], [18.58132553100586], [18.58132553100586], [18.58132553100586], [18.58132553100586], [18.58132553100586], [18.58132553100586], [18.58132553100586], [18.58132553100586], [18.58132553100586], [18.58132553100586], [18.58132553100586], [18.58132553100586], [18.58132553100586], [18.58132553100586], [18.58132553100586], [18.58132553100586], [18.58132553100586], [18.58132553100586], [18.58132553100586], [18.58132553100586], [18.58132553100586], [18.58132553100586], [18.58132553100586], [18.58132553100586], [18.58132553100586], [18.58132553100586], [18.58132553100586], [18.58132553100586], [18.58132553100586], [18.58132553100586], [18.58132553100586], [18.58132553100586], [18.58132553100586], [18.58132553100586], [18.58132553100586], [18.58132553100586], [18.58132553100586], [18.58132553100586], [18.58132553100586], [18.58132553100586], [18.58132553100586], [18.58132553100586], [18.58132553100586], [18.58132553100586], [18.58132553100586], [18.58132553100586], [18.58132553100586], [18.58132553100586], [18.58132553100586], [18.58132553100586], [18.58132553100586], [18.58132553100586], [18.58132553100586], [18.58132553100586], [18.58132553100586], [18.58132553100586], [18.58132553100586], [18.58132553100586], [18.58132553100586], [18.58132553100586], [18.58132553100586], [18.58132553100586], [18.58132553100586], [18.58132553100586], [18.58132553100586], [18.58132553100586], [18.58132553100586], [18.58132553100586], [18.58132553100586], [18.58132553100586], [18.58132553100586], [18.58132553100586], [18.58132553100586], [18.58132553100586], [18.58132553100586], [18.58132553100586], [18.58132553100586], [18.58132553100586], [18.58132553100586], [18.58132553100586], [18.58132553100586], [18.58132553100586], [18.58132553100586], [18.58132553100586], [18.58132553100586], [18.58132553100586], [18.58132553100586], [18.58132553100586], [18.58132553100586], [18.58132553100586], [18.58132553100586], [18.58132553100586], [18.58132553100586], [18.58132553100586], [18.58132553100586], [18.58132553100586], [18.58132553100586], [18.58132553100586], [18.58132553100586], [18.58132553100586], [18.58132553100586], [18.58132553100586], [18.58132553100586], [18.58132553100586], [18.58132553100586], [18.58132553100586], [18.58132553100586], [18.58132553100586], [18.58132553100586], [18.58132553100586], [18.58132553100586], [18.58132553100586], [18.58132553100586], [18.58132553100586], [18.58132553100586], [18.58132553100586], [18.58132553100586], [18.58132553100586], [18.58132553100586], [18.58132553100586], [18.58132553100586], [18.58132553100586], [18.58132553100586], [18.58132553100586], [18.58132553100586], [18.58132553100586], [18.58132553100586], [18.58132553100586], [18.58132553100586], [18.58132553100586], [18.58132553100586], [18.58132553100586], [18.58132553100586], [18.58132553100586], [18.58132553100586], [18.58132553100586], [18.58132553100586], [18.58132553100586], [18.58132553100586], [18.58132553100586], [18.58132553100586], [18.58132553100586], [18.58132553100586], [18.58132553100586], [18.58132553100586], [18.58132553100586], [18.58132553100586], [18.58132553100586], [18.58132553100586], [18.58132553100586], [18.58132553100586], [18.58132553100586], [18.58132553100586], [18.58132553100586], [18.58132553100586], [18.58132553100586], [18.58132553100586], [18.58132553100586], [18.58132553100586], [18.58132553100586], [18.58132553100586], [18.58132553100586], [18.58132553100586], [18.58132553100586], [18.58132553100586], [18.58132553100586], [18.58132553100586], [18.58132553100586], [18.58132553100586], [18.58132553100586], [18.58132553100586], [18.58132553100586], [18.58132553100586], [18.58132553100586], [18.58132553100586], [18.58132553100586], [18.58132553100586], [18.58132553100586], [18.58132553100586], [18.58132553100586], [18.58132553100586], [18.58132553100586], [18.58132553100586], [18.58132553100586], [18.58132553100586], [18.58132553100586], [18.58132553100586], [18.58132553100586], [18.58132553100586], [18.58132553100586], [18.58132553100586], [18.58132553100586], [18.58132553100586], [18.58132553100586], [18.58132553100586], [18.58132553100586], [18.58132553100586], [18.58132553100586], [18.58132553100586], [18.58132553100586], [18.58132553100586], [18.58132553100586], [18.58132553100586], [18.58132553100586], [18.58132553100586], [18.58132553100586], [18.58132553100586], [18.58132553100586], [18.58132553100586], [18.58132553100586], [18.58132553100586], [18.58132553100586], [18.58132553100586], [18.58132553100586], [18.58132553100586], [18.58132553100586], [18.58132553100586], [18.58132553100586], [18.58132553100586], [18.58132553100586], [18.58132553100586], [18.58132553100586], [18.58132553100586], [18.58132553100586], [18.58132553100586], [18.58132553100586], [18.58132553100586], [18.58132553100586], [18.58132553100586], [18.58132553100586], [18.58132553100586], [18.58132553100586], [18.58132553100586], [18.58132553100586], [18.58132553100586], [18.58132553100586], [18.58132553100586], [18.58132553100586], [18.58132553100586], [18.58132553100586], [18.58132553100586], [18.58132553100586], [18.58132553100586], [18.58132553100586], [18.58132553100586], [18.58132553100586], [18.58132553100586], [18.58132553100586], [18.58132553100586], [18.58132553100586], [18.58132553100586], [18.58132553100586], [18.58132553100586], [18.58132553100586], [18.58132553100586], [18.58132553100586], [18.58132553100586], [18.58132553100586], [18.58132553100586], [18.58132553100586], [18.58132553100586], [18.58132553100586], [18.58132553100586], [18.58132553100586], [18.58132553100586], [18.58132553100586], [18.58132553100586], [18.58132553100586], [18.58132553100586], [18.58132553100586], [18.58132553100586], [18.58132553100586], [18.58132553100586], [18.58132553100586], [18.58132553100586], [18.58132553100586], [18.58132553100586], [18.58132553100586], [18.58132553100586], [18.58132553100586], [18.58132553100586], [18.58132553100586], [18.58132553100586], [18.58132553100586], [18.58132553100586], [18.58132553100586], [18.58132553100586], [18.58132553100586], [18.58132553100586], [18.58132553100586], [18.58132553100586], [18.58132553100586], [18.58132553100586], [18.58132553100586], [18.58132553100586], [18.58132553100586], [18.58132553100586], [18.58132553100586], [18.58132553100586], [18.58132553100586], [18.58132553100586], [18.58132553100586], [18.58132553100586], [18.58132553100586], [18.58132553100586], [18.58132553100586], [18.58132553100586], [18.58132553100586], [18.58132553100586], [18.58132553100586], [18.58132553100586], [18.58132553100586], [18.58132553100586], [18.58132553100586], [18.58132553100586], [18.58132553100586], [18.58132553100586], [18.58132553100586], [18.58132553100586], [18.58132553100586], [18.58132553100586], [18.58132553100586], [18.58132553100586], [18.58132553100586], [18.58132553100586], [18.58132553100586], [18.58132553100586], [18.58132553100586], [18.58132553100586], [18.58132553100586], [18.58132553100586], [18.58132553100586], [18.58132553100586], [18.58132553100586], [18.58132553100586], [18.58132553100586], [18.58132553100586], [18.58132553100586], [18.58132553100586], [18.58132553100586], [18.58132553100586], [18.58132553100586], [18.58132553100586], [18.58132553100586], [18.58132553100586], [18.58132553100586], [18.58132553100586], [18.58132553100586], [18.58132553100586], [18.58132553100586], [18.58132553100586], [18.58132553100586], [18.58132553100586], [18.58132553100586], [18.58132553100586], [18.58132553100586], [18.58132553100586], [18.58132553100586], [18.58132553100586], [18.58132553100586], [18.58132553100586], [18.58132553100586], [18.58132553100586], [18.58132553100586], [18.58132553100586], [18.58132553100586], [18.58132553100586], [18.58132553100586], [18.58132553100586], [18.58132553100586], [18.58132553100586], [18.58132553100586], [18.58132553100586], [18.58132553100586], [18.58132553100586], [18.58132553100586], [18.58132553100586], [18.58132553100586], [18.58132553100586], [18.58132553100586], [18.58132553100586], [18.58132553100586], [18.58132553100586], [18.58132553100586], [18.58132553100586], [18.58132553100586], [18.58132553100586], [18.58132553100586], [18.58132553100586], [18.58132553100586], [18.58132553100586], [18.58132553100586], [18.58132553100586], [18.58132553100586], [18.58132553100586], [18.58132553100586], [18.58132553100586], [18.58132553100586], [18.58132553100586], [18.58132553100586], [18.58132553100586], [18.58132553100586], [18.58132553100586], [18.58132553100586], [18.58132553100586], [18.58132553100586], [18.58132553100586], [18.58132553100586], [18.58132553100586], [18.58132553100586], [18.58132553100586], [18.58132553100586], [18.58132553100586], [18.58132553100586], [18.58132553100586], [18.58132553100586], [18.58132553100586], [18.58132553100586], [18.58132553100586], [18.58132553100586], [18.58132553100586], [18.58132553100586], [18.58132553100586], [18.58132553100586], [18.58132553100586], [18.58132553100586], [18.58132553100586], [18.58132553100586], [18.58132553100586], [18.58132553100586], [18.58132553100586], [18.58132553100586], [18.58132553100586], [18.58132553100586], [18.58132553100586], [18.58132553100586], [18.58132553100586], [18.58132553100586], [18.58132553100586], [18.58132553100586], [18.58132553100586], [18.58132553100586], [18.58132553100586], [18.58132553100586], [18.58132553100586], [18.58132553100586], [18.58132553100586], [18.58132553100586], [18.58132553100586], [18.58132553100586], [18.58132553100586], [18.58132553100586], [18.58132553100586], [18.58132553100586], [18.58132553100586], [18.58132553100586], [18.58132553100586], [18.58132553100586], [18.58132553100586], [18.58132553100586], [18.58132553100586], [18.58132553100586], [18.58132553100586], [18.58132553100586], [18.58132553100586], [18.58132553100586], [18.58132553100586], [18.58132553100586], [18.58132553100586], [18.58132553100586], [18.58132553100586], [18.58132553100586], [18.58132553100586], [18.58132553100586], [18.58132553100586], [18.58132553100586], [18.58132553100586], [18.58132553100586], [18.58132553100586], [18.58132553100586], [18.58132553100586], [18.58132553100586], [18.58132553100586], [18.58132553100586], [18.58132553100586], [18.58132553100586], [18.58132553100586], [18.58132553100586], [18.58132553100586], [18.58132553100586], [18.58132553100586], [18.58132553100586], [18.58132553100586], [18.58132553100586], [18.58132553100586], [18.58132553100586], [18.58132553100586], [18.58132553100586], [18.58132553100586], [18.58132553100586], [18.58132553100586], [18.58132553100586], [18.58132553100586], [18.58132553100586], [18.58132553100586], [18.58132553100586], [18.58132553100586], [18.58132553100586], [18.58132553100586], [18.58132553100586], [18.58132553100586], [18.58132553100586], [18.58132553100586], [18.58132553100586], [18.58132553100586], [18.58132553100586], [18.58132553100586], [18.58132553100586], [18.58132553100586], [18.58132553100586], [18.58132553100586], [18.58132553100586], [18.58132553100586], [18.58132553100586], [18.58132553100586], [18.58132553100586], [18.58132553100586], [18.58132553100586], [18.58132553100586], [18.58132553100586], [18.58132553100586], [18.58132553100586], [18.58132553100586], [18.58132553100586], [18.58132553100586], [18.58132553100586], [18.58132553100586], [18.58132553100586], [18.58132553100586], [18.58132553100586], [18.58132553100586], [18.58132553100586], [18.58132553100586], [18.58132553100586], [18.58132553100586], [18.58132553100586], [18.58132553100586], [18.58132553100586], [18.58132553100586], [18.58132553100586], [18.58132553100586], [18.58132553100586], [18.58132553100586], [18.58132553100586], [18.58132553100586], [18.58132553100586], [18.58132553100586], [18.58132553100586], [18.58132553100586], [18.58132553100586], [18.58132553100586], [18.58132553100586], [18.58132553100586], [18.58132553100586], [18.58132553100586], [18.58132553100586], [18.58132553100586], [18.58132553100586], [18.58132553100586], [18.58132553100586], [18.58132553100586], [18.58132553100586], [18.58132553100586], [18.58132553100586], [18.58132553100586], [18.58132553100586], [18.58132553100586], [18.58132553100586], [18.58132553100586], [18.58132553100586], [18.58132553100586], [18.58132553100586], [18.58132553100586], [18.58132553100586], [18.58132553100586], [18.58132553100586], [18.58132553100586], [18.58132553100586], [18.58132553100586], [18.58132553100586], [18.58132553100586], [18.58132553100586], [18.58132553100586], [18.58132553100586], [18.58132553100586], [18.58132553100586], [18.58132553100586], [18.58132553100586], [18.58132553100586], [18.58132553100586], [18.58132553100586], [18.58132553100586], [18.58132553100586], [18.58132553100586], [18.58132553100586], [18.58132553100586], [18.58132553100586], [18.58132553100586], [18.58132553100586], [18.58132553100586], [18.58132553100586], [18.58132553100586], [18.58132553100586], [18.58132553100586], [18.58132553100586], [18.58132553100586], [18.58132553100586], [18.58132553100586], [18.58132553100586], [18.58132553100586], [18.58132553100586], [18.58132553100586], [18.58132553100586], [18.58132553100586], [18.58132553100586], [18.58132553100586], [18.58132553100586], [18.58132553100586], [18.58132553100586], [18.58132553100586], [18.58132553100586], [18.58132553100586], [18.58132553100586], [18.58132553100586], [18.58132553100586], [18.58132553100586], [18.58132553100586], [18.58132553100586], [18.58132553100586], [18.58132553100586], [18.58132553100586], [18.58132553100586], [18.58132553100586], [18.58132553100586], [18.58132553100586], [18.58132553100586], [18.58132553100586], [18.58132553100586], [18.58132553100586], [18.58132553100586], [18.58132553100586], [18.58132553100586], [18.58132553100586], [18.58132553100586], [18.58132553100586], [18.58132553100586], [18.58132553100586], [18.58132553100586], [18.58132553100586], [18.58132553100586], [18.58132553100586], [18.58132553100586], [18.58132553100586], [18.58132553100586], [18.58132553100586], [18.58132553100586], [18.58132553100586], [18.58132553100586], [18.58132553100586], [18.58132553100586], [18.58132553100586], [18.58132553100586], [18.58132553100586], [18.58132553100586], [18.58132553100586], [18.58132553100586], [18.58132553100586], [18.58132553100586], [18.58132553100586], [18.58132553100586], [18.58132553100586], [18.58132553100586], [18.58132553100586], [18.58132553100586], [18.58132553100586], [18.58132553100586], [18.58132553100586], [18.58132553100586], [18.58132553100586], [18.58132553100586], [18.58132553100586], [18.58132553100586], [18.58132553100586], [18.58132553100586], [18.58132553100586], [18.58132553100586], [18.58132553100586], [18.58132553100586], [18.58132553100586], [18.58132553100586], [18.58132553100586], [18.58132553100586], [18.58132553100586], [18.58132553100586], [18.58132553100586], [18.58132553100586], [18.58132553100586], [18.58132553100586], [18.58132553100586], [18.58132553100586], [18.58132553100586], [18.58132553100586], [18.58132553100586], [18.58132553100586], [18.58132553100586], [18.58132553100586], [18.58132553100586], [18.58132553100586], [18.58132553100586], [18.58132553100586], [18.58132553100586], [18.58132553100586], [18.58132553100586], [18.58132553100586], [18.58132553100586], [18.58132553100586], [18.58132553100586], [18.58132553100586], [18.58132553100586], [18.58132553100586], [18.58132553100586], [18.58132553100586], [18.58132553100586], [18.58132553100586], [18.58132553100586], [18.58132553100586], [18.58132553100586], [18.58132553100586], [18.58132553100586], [18.58132553100586], [18.58132553100586], [18.58132553100586], [18.58132553100586], [18.58132553100586], [18.58132553100586], [18.58132553100586], [18.58132553100586], [18.58132553100586], [18.58132553100586], [18.58132553100586], [18.58132553100586], [18.58132553100586], [18.58132553100586], [18.58132553100586], [18.58132553100586], [18.58132553100586], [18.58132553100586], [18.58132553100586], [18.58132553100586], [18.58132553100586], [18.58132553100586], [18.58132553100586], [18.58132553100586], [18.58132553100586], [18.58132553100586], [18.58132553100586], [18.58132553100586], [18.58132553100586], [18.58132553100586], [18.58132553100586], [18.58132553100586], [18.58132553100586], [18.58132553100586], [18.58132553100586], [18.58132553100586], [18.58132553100586], [18.58132553100586], [18.58132553100586], [18.58132553100586], [18.58132553100586], [18.58132553100586], [18.58132553100586], [18.58132553100586], [18.58132553100586], [18.58132553100586], [18.58132553100586], [18.58132553100586], [18.58132553100586], [18.58132553100586], [18.58132553100586], [18.58132553100586], [18.58132553100586], [18.58132553100586], [18.58132553100586], [18.58132553100586], [18.58132553100586], [18.58132553100586], [18.58132553100586], [18.58132553100586], [18.58132553100586], [18.58132553100586], [18.58132553100586], [18.58132553100586], [18.58132553100586], [18.58132553100586], [18.58132553100586], [18.58132553100586], [18.58132553100586], [18.58132553100586], [18.58132553100586], [18.58132553100586], [18.58132553100586], [18.58132553100586], [18.58132553100586], [18.58132553100586], [18.58132553100586], [18.58132553100586], [18.58132553100586], [18.58132553100586], [18.58132553100586], [18.58132553100586], [18.58132553100586], [18.58132553100586], [18.58132553100586], [18.58132553100586], [18.58132553100586], [18.58132553100586], [18.58132553100586], [18.58132553100586], [18.58132553100586], [18.58132553100586], [18.58132553100586], [18.58132553100586], [18.58132553100586], [18.58132553100586], [18.58132553100586], [18.58132553100586], [18.58132553100586], [18.58132553100586], [18.58132553100586], [18.58132553100586], [18.58132553100586], [18.58132553100586], [18.58132553100586], [18.58132553100586], [18.58132553100586], [18.58132553100586], [18.58132553100586], [18.58132553100586], [18.58132553100586], [18.58132553100586], [18.58132553100586], [18.58132553100586], [18.58132553100586], [18.58132553100586], [18.58132553100586], [18.58132553100586], [18.58132553100586], [18.58132553100586], [18.58132553100586], [18.58132553100586], [18.58132553100586], [18.58132553100586], [18.58132553100586], [18.58132553100586], [18.58132553100586], [18.58132553100586], [18.58132553100586], [18.58132553100586], [18.58132553100586], [18.58132553100586], [18.58132553100586], [18.58132553100586], [18.58132553100586], [18.58132553100586], [18.58132553100586], [18.58132553100586], [18.58132553100586], [18.58132553100586], [18.58132553100586], [18.58132553100586], [18.58132553100586], [18.58132553100586], [18.58132553100586], [18.58132553100586], [18.58132553100586], [18.58132553100586], [18.58132553100586], [18.58132553100586], [18.58132553100586], [18.58132553100586], [18.58132553100586], [18.58132553100586], [18.58132553100586], [18.58132553100586], [18.58132553100586], [18.58132553100586], [18.58132553100586], [18.58132553100586], [18.58132553100586], [18.58132553100586], [18.58132553100586], [18.58132553100586], [18.58132553100586], [18.58132553100586], [18.58132553100586], [18.58132553100586], [18.58132553100586], [18.58132553100586], [18.58132553100586], [18.58132553100586], [18.58132553100586], [18.58132553100586], [18.58132553100586], [18.58132553100586], [18.58132553100586], [18.58132553100586], [18.58132553100586], [18.58132553100586], [18.58132553100586], [18.58132553100586], [18.58132553100586], [18.58132553100586], [18.58132553100586], [18.58132553100586], [18.58132553100586], [18.58132553100586], [18.58132553100586], [18.58132553100586], [18.58132553100586], [18.58132553100586], [18.58132553100586], [18.58132553100586], [18.58132553100586], [18.58132553100586], [18.58132553100586], [18.58132553100586], [18.58132553100586], [18.58132553100586], [18.58132553100586], [18.58132553100586], [18.58132553100586], [18.58132553100586], [18.58132553100586], [18.58132553100586], [18.58132553100586], [18.58132553100586], [18.58132553100586], [18.58132553100586], [18.58132553100586], [18.58132553100586], [18.58132553100586], [18.58132553100586], [18.58132553100586], [18.58132553100586], [18.58132553100586], [18.58132553100586], [18.58132553100586], [18.58132553100586], [18.58132553100586], [18.58132553100586], [18.58132553100586], [18.58132553100586], [18.58132553100586], [18.58132553100586], [18.58132553100586], [18.58132553100586], [18.58132553100586], [18.58132553100586], [18.58132553100586], [18.58132553100586], [18.58132553100586], [18.58132553100586], [18.58132553100586], [18.58132553100586], [18.58132553100586], [18.58132553100586], [18.58132553100586], [18.58132553100586], [18.58132553100586], [18.58132553100586], [18.58132553100586], [18.58132553100586], [18.58132553100586], [18.58132553100586], [18.58132553100586], [18.58132553100586], [18.58132553100586], [18.58132553100586], [18.58132553100586], [18.58132553100586], [18.58132553100586], [18.58132553100586], [18.58132553100586], [18.58132553100586], [18.58132553100586], [18.58132553100586], [18.58132553100586], [18.58132553100586], [18.58132553100586], [18.58132553100586], [18.58132553100586], [18.58132553100586], [18.58132553100586], [18.58132553100586], [18.58132553100586], [18.58132553100586], [18.58132553100586], [18.58132553100586], [18.58132553100586], [18.58132553100586], [18.58132553100586], [18.58132553100586], [18.58132553100586], [18.58132553100586], [18.58132553100586], [18.58132553100586], [18.58132553100586], [18.58132553100586], [18.58132553100586], [18.58132553100586], [18.58132553100586], [18.58132553100586], [18.58132553100586], [18.58132553100586], [18.58132553100586], [18.58132553100586], [18.58132553100586], [18.58132553100586], [18.58132553100586], [18.58132553100586], [18.58132553100586], [18.58132553100586], [18.58132553100586], [18.58132553100586], [18.58132553100586], [18.58132553100586], [18.58132553100586], [18.58132553100586], [18.58132553100586], [18.58132553100586], [18.58132553100586], [18.58132553100586], [18.58132553100586], [18.58132553100586], [18.58132553100586], [18.58132553100586], [18.58132553100586], [18.58132553100586], [18.58132553100586], [18.58132553100586], [18.58132553100586], [18.58132553100586], [18.58132553100586], [18.58132553100586], [18.58132553100586], [18.58132553100586], [18.58132553100586], [18.58132553100586], [18.58132553100586], [18.58132553100586], [18.58132553100586], [18.58132553100586], [18.58132553100586], [18.58132553100586], [18.58132553100586], [18.58132553100586], [18.58132553100586], [18.58132553100586], [18.58132553100586], [18.58132553100586], [18.58132553100586], [18.58132553100586], [18.58132553100586], [18.58132553100586], [18.58132553100586], [18.58132553100586], [18.58132553100586], [18.58132553100586], [18.58132553100586], [18.58132553100586], [18.58132553100586], [18.58132553100586], [18.58132553100586], [18.58132553100586], [18.58132553100586], [18.58132553100586], [18.58132553100586], [18.58132553100586], [18.58132553100586], [18.58132553100586], [18.58132553100586], [18.58132553100586], [18.58132553100586], [18.58132553100586], [18.58132553100586], [18.58132553100586], [18.58132553100586], [18.58132553100586], [18.58132553100586], [18.58132553100586], [18.58132553100586], [18.58132553100586], [18.58132553100586], [18.58132553100586], [18.58132553100586], [18.58132553100586], [18.58132553100586], [18.58132553100586], [18.58132553100586], [18.58132553100586], [18.58132553100586], [18.58132553100586], [18.58132553100586], [18.58132553100586], [18.58132553100586], [18.58132553100586], [18.58132553100586], [18.58132553100586], [18.58132553100586], [18.58132553100586], [18.58132553100586], [18.58132553100586], [18.58132553100586], [18.58132553100586], [18.58132553100586], [18.58132553100586], [18.58132553100586], [18.58132553100586], [18.58132553100586], [18.58132553100586], [18.58132553100586], [18.58132553100586], [18.58132553100586], [18.58132553100586], [18.58132553100586], [18.58132553100586], [18.58132553100586], [18.58132553100586], [18.58132553100586], [18.58132553100586], [18.58132553100586], [18.58132553100586], [18.58132553100586], [18.58132553100586], [18.58132553100586], [18.58132553100586], [18.58132553100586], [18.58132553100586], [18.58132553100586], [18.58132553100586], [18.58132553100586], [18.58132553100586], [18.58132553100586], [18.58132553100586], [18.58132553100586], [18.58132553100586], [18.58132553100586], [18.58132553100586], [18.58132553100586], [18.58132553100586], [18.58132553100586], [18.58132553100586], [18.58132553100586], [18.58132553100586], [18.58132553100586], [18.58132553100586], [18.58132553100586], [18.58132553100586], [18.58132553100586], [18.58132553100586], [18.58132553100586], [18.58132553100586], [18.58132553100586], [18.58132553100586], [18.58132553100586], [18.58132553100586], [18.58132553100586], [18.58132553100586], [18.58132553100586], [18.58132553100586], [18.58132553100586], [18.58132553100586], [18.58132553100586], [18.58132553100586], [18.58132553100586], [18.58132553100586], [18.58132553100586], [18.58132553100586], [18.58132553100586], [18.58132553100586], [18.58132553100586], [18.58132553100586], [18.58132553100586], [18.58132553100586], [18.58132553100586], [18.58132553100586], [18.58132553100586], [18.58132553100586], [18.58132553100586], [18.58132553100586], [18.58132553100586], [18.58132553100586], [18.58132553100586], [18.58132553100586], [18.58132553100586], [18.58132553100586], [18.58132553100586], [18.58132553100586], [18.58132553100586], [18.58132553100586], [18.58132553100586], [18.58132553100586], [18.58132553100586], [18.58132553100586], [18.58132553100586], [18.58132553100586], [18.58132553100586], [18.58132553100586], [18.58132553100586], [18.58132553100586], [18.58132553100586], [18.58132553100586], [18.58132553100586], [18.58132553100586], [18.58132553100586], [18.58132553100586], [18.58132553100586], [18.58132553100586], [18.58132553100586], [18.58132553100586], [18.58132553100586], [18.58132553100586], [18.58132553100586], [18.58132553100586], [18.58132553100586], [18.58132553100586], [18.58132553100586], [18.58132553100586], [18.58132553100586], [18.58132553100586], [18.58132553100586], [18.58132553100586], [18.58132553100586], [18.58132553100586], [18.58132553100586], [18.58132553100586], [18.58132553100586], [18.58132553100586], [18.58132553100586], [18.58132553100586], [18.58132553100586], [18.58132553100586], [18.58132553100586], [18.58132553100586], [18.58132553100586], [18.58132553100586], [18.58132553100586], [18.58132553100586], [18.58132553100586], [18.58132553100586], [18.58132553100586], [18.58132553100586], [18.58132553100586], [18.58132553100586], [18.58132553100586], [18.58132553100586], [18.58132553100586], [18.58132553100586], [18.58132553100586], [18.58132553100586], [18.58132553100586], [18.58132553100586], [18.58132553100586], [18.58132553100586], [18.58132553100586], [18.58132553100586], [18.58132553100586], [18.58132553100586], [18.58132553100586], [18.58132553100586], [18.58132553100586], [18.58132553100586], [18.58132553100586], [18.58132553100586], [18.58132553100586], [18.58132553100586], [18.58132553100586], [18.58132553100586], [18.58132553100586], [18.58132553100586], [18.58132553100586], [18.58132553100586], [18.58132553100586], [18.58132553100586], [18.58132553100586], [18.58132553100586], [18.58132553100586], [18.58132553100586], [18.58132553100586], [18.58132553100586], [18.58132553100586], [18.58132553100586], [18.58132553100586], [18.58132553100586], [18.58132553100586], [18.58132553100586], [18.58132553100586], [18.58132553100586], [18.58132553100586], [18.58132553100586], [18.58132553100586], [18.58132553100586], [18.58132553100586], [18.58132553100586], [18.58132553100586], [18.58132553100586], [18.58132553100586], [18.58132553100586], [18.58132553100586], [18.58132553100586], [18.58132553100586], [18.58132553100586], [18.58132553100586], [18.58132553100586], [18.58132553100586], [18.58132553100586], [18.58132553100586], [18.58132553100586], [18.58132553100586], [18.58132553100586], [18.58132553100586], [18.58132553100586], [18.58132553100586], [18.58132553100586], [18.58132553100586], [18.58132553100586], [18.58132553100586], [18.58132553100586], [18.58132553100586], [18.58132553100586], [18.58132553100586], [18.58132553100586], [18.58132553100586], [18.58132553100586], [18.58132553100586], [18.58132553100586], [18.58132553100586], [18.58132553100586], [18.58132553100586], [18.58132553100586], [18.58132553100586], [18.58132553100586], [18.58132553100586], [18.58132553100586], [18.58132553100586], [18.58132553100586], [18.58132553100586], [18.58132553100586], [18.58132553100586], [18.58132553100586], [18.58132553100586], [18.58132553100586], [18.58132553100586], [18.58132553100586], [18.58132553100586], [18.58132553100586], [18.58132553100586], [18.58132553100586], [18.58132553100586], [18.58132553100586], [18.58132553100586], [18.58132553100586], [18.58132553100586], [18.58132553100586], [18.58132553100586], [18.58132553100586], [18.58132553100586], [18.58132553100586], [18.58132553100586], [18.58132553100586], [18.58132553100586], [18.58132553100586], [18.58132553100586], [18.58132553100586], [18.58132553100586], [18.58132553100586], [18.58132553100586], [18.58132553100586], [18.58132553100586], [18.58132553100586], [18.58132553100586], [18.58132553100586], [18.58132553100586], [18.58132553100586], [18.58132553100586], [18.58132553100586], [18.58132553100586], [18.58132553100586], [18.58132553100586], [18.58132553100586], [18.58132553100586], [18.58132553100586], [18.58132553100586], [18.58132553100586], [18.58132553100586], [18.58132553100586], [18.58132553100586], [18.58132553100586], [18.58132553100586], [18.58132553100586], [18.58132553100586], [18.58132553100586], [18.58132553100586], [18.58132553100586], [18.58132553100586], [18.58132553100586], [18.58132553100586], [18.58132553100586], [18.58132553100586], [18.58132553100586], [18.58132553100586], [18.58132553100586], [18.58132553100586], [18.58132553100586], [18.58132553100586], [18.58132553100586], [18.58132553100586], [18.58132553100586], [18.58132553100586], [18.58132553100586], [18.58132553100586], [18.58132553100586], [18.58132553100586], [18.58132553100586], [18.58132553100586], [18.58132553100586], [18.58132553100586], [18.58132553100586], [18.58132553100586], [18.58132553100586], [18.58132553100586], [18.58132553100586], [18.58132553100586], [18.58132553100586], [18.58132553100586], [18.58132553100586], [18.58132553100586], [18.58132553100586], [18.58132553100586], [18.58132553100586], [18.58132553100586], [18.58132553100586], [18.58132553100586], [18.58132553100586], [18.58132553100586], [18.58132553100586], [18.58132553100586], [18.58132553100586], [18.58132553100586], [18.58132553100586], [18.58132553100586], [18.58132553100586], [18.58132553100586], [18.58132553100586], [18.58132553100586], [18.58132553100586], [18.58132553100586], [18.58132553100586], [18.58132553100586], [18.58132553100586], [18.58132553100586], [18.58132553100586], [18.58132553100586], [18.58132553100586], [18.58132553100586], [18.58132553100586], [18.58132553100586], [18.58132553100586], [18.58132553100586], [18.58132553100586], [18.58132553100586], [18.58132553100586], [18.58132553100586], [18.58132553100586], [18.58132553100586], [18.58132553100586], [18.58132553100586], [18.58132553100586], [18.58132553100586], [18.58132553100586], [18.58132553100586], [18.58132553100586], [18.58132553100586], [18.58132553100586], [18.58132553100586], [18.58132553100586], [18.58132553100586], [18.58132553100586], [18.58132553100586], [18.58132553100586], [18.58132553100586], [18.58132553100586], [18.58132553100586], [18.58132553100586], [18.58132553100586], [18.58132553100586], [18.58132553100586], [18.58132553100586], [18.58132553100586], [18.58132553100586], [18.58132553100586], [18.58132553100586], [18.58132553100586], [18.58132553100586], [18.58132553100586], [18.58132553100586], [18.58132553100586], [18.58132553100586], [18.58132553100586], [18.58132553100586], [18.58132553100586], [18.58132553100586], [18.58132553100586], [18.58132553100586], [18.58132553100586], [18.58132553100586], [18.58132553100586], [18.58132553100586], [18.58132553100586], [18.58132553100586], [18.58132553100586], [18.58132553100586], [18.58132553100586], [18.58132553100586], [18.58132553100586], [18.58132553100586], [18.58132553100586], [18.58132553100586], [18.58132553100586], [18.58132553100586], [18.58132553100586], [18.58132553100586], [18.58132553100586], [18.58132553100586], [18.58132553100586], [18.58132553100586], [18.58132553100586], [18.58132553100586], [18.58132553100586], [18.58132553100586], [18.58132553100586], [18.58132553100586], [18.58132553100586], [18.58132553100586], [18.58132553100586], [18.58132553100586], [18.58132553100586], [18.58132553100586], [18.58132553100586], [18.58132553100586], [18.58132553100586], [18.58132553100586], [18.58132553100586], [18.58132553100586], [18.58132553100586], [18.58132553100586], [18.58132553100586], [18.58132553100586], [18.58132553100586], [18.58132553100586], [18.58132553100586], [18.58132553100586], [18.58132553100586], [18.58132553100586], [18.58132553100586], [18.58132553100586], [18.58132553100586], [18.58132553100586], [18.58132553100586], [18.58132553100586], [18.58132553100586], [18.58132553100586], [18.58132553100586], [18.58132553100586], [18.58132553100586], [18.58132553100586], [18.58132553100586], [18.58132553100586], [18.58132553100586], [18.58132553100586], [18.58132553100586], [18.58132553100586], [18.58132553100586], [18.58132553100586], [18.58132553100586], [18.58132553100586], [18.58132553100586], [18.58132553100586], [18.58132553100586], [18.58132553100586], [18.58132553100586], [18.58132553100586], [18.58132553100586], [18.58132553100586], [18.58132553100586], [18.58132553100586], [18.58132553100586], [18.58132553100586], [18.58132553100586], [18.58132553100586], [18.58132553100586], [18.58132553100586], [18.58132553100586], [18.58132553100586], [18.58132553100586], [18.58132553100586], [18.58132553100586], [18.58132553100586], [18.58132553100586], [18.58132553100586], [18.58132553100586], [18.58132553100586], [18.58132553100586], [18.58132553100586], [18.58132553100586], [18.58132553100586], [18.58132553100586], [18.58132553100586], [18.58132553100586], [18.58132553100586], [18.58132553100586], [18.58132553100586], [18.58132553100586], [18.58132553100586], [18.58132553100586], [18.58132553100586], [18.58132553100586], [18.58132553100586], [18.58132553100586], [18.58132553100586], [18.58132553100586], [18.58132553100586], [18.58132553100586], [18.58132553100586], [18.58132553100586], [18.58132553100586], [18.58132553100586], [18.58132553100586], [18.58132553100586], [18.58132553100586], [18.58132553100586], [18.58132553100586], [18.58132553100586], [18.58132553100586], [18.58132553100586], [18.58132553100586], [18.58132553100586], [18.58132553100586], [18.58132553100586], [18.58132553100586], [18.58132553100586], [18.58132553100586], [18.58132553100586], [18.58132553100586], [18.58132553100586], [18.58132553100586], [18.58132553100586], [18.58132553100586], [18.58132553100586], [18.58132553100586], [18.58132553100586], [18.58132553100586], [18.58132553100586], [18.58132553100586], [18.58132553100586], [18.58132553100586], [18.58132553100586], [18.58132553100586], [18.58132553100586], [18.58132553100586], [18.58132553100586], [18.58132553100586], [18.58132553100586], [18.58132553100586], [18.58132553100586], [18.58132553100586], [18.58132553100586], [18.58132553100586], [18.58132553100586], [18.58132553100586], [18.58132553100586], [18.58132553100586], [18.58132553100586], [18.58132553100586], [18.58132553100586], [18.58132553100586], [18.58132553100586], [18.58132553100586], [18.58132553100586], [18.58132553100586], [18.58132553100586], [18.58132553100586], [18.58132553100586], [18.58132553100586], [18.58132553100586], [18.58132553100586], [18.58132553100586], [18.58132553100586], [18.58132553100586], [18.58132553100586], [18.58132553100586], [18.58132553100586], [18.58132553100586], [18.58132553100586], [18.58132553100586], [18.58132553100586], [18.58132553100586], [18.58132553100586], [18.58132553100586], [18.58132553100586], [18.58132553100586], [18.58132553100586], [18.58132553100586], [18.58132553100586], [18.58132553100586], [18.58132553100586], [18.58132553100586], [18.58132553100586], [18.58132553100586], [18.58132553100586], [18.58132553100586], [18.58132553100586], [18.58132553100586], [18.58132553100586], [18.58132553100586], [18.58132553100586], [18.58132553100586], [18.58132553100586], [18.58132553100586], [18.58132553100586], [18.58132553100586], [18.58132553100586], [18.58132553100586], [18.58132553100586], [18.58132553100586], [18.58132553100586], [18.58132553100586], [18.58132553100586], [18.58132553100586], [18.58132553100586], [18.58132553100586], [18.58132553100586], [18.58132553100586], [18.58132553100586], [18.58132553100586], [18.58132553100586], [18.58132553100586], [18.58132553100586], [18.58132553100586], [18.58132553100586], [18.58132553100586], [18.58132553100586], [18.58132553100586], [18.58132553100586], [18.58132553100586], [18.58132553100586], [18.58132553100586], [18.58132553100586], [18.58132553100586], [18.58132553100586], [18.58132553100586], [18.58132553100586], [18.58132553100586], [18.58132553100586], [18.58132553100586], [18.58132553100586], [18.58132553100586], [18.58132553100586], [18.58132553100586], [18.58132553100586], [18.58132553100586], [18.58132553100586], [18.58132553100586], [18.58132553100586], [18.58132553100586], [18.58132553100586], [18.58132553100586], [18.58132553100586], [18.58132553100586], [18.58132553100586], [18.58132553100586], [18.58132553100586], [18.58132553100586], [18.58132553100586], [18.58132553100586], [18.58132553100586], [18.58132553100586], [18.58132553100586], [18.58132553100586], [18.58132553100586], [18.58132553100586], [18.58132553100586], [18.58132553100586], [18.58132553100586], [18.58132553100586], [18.58132553100586], [18.58132553100586], [18.58132553100586], [18.58132553100586], [18.58132553100586], [18.58132553100586], [18.58132553100586], [18.58132553100586], [18.58132553100586], [18.58132553100586], [18.58132553100586], [18.58132553100586], [18.58132553100586], [18.58132553100586], [18.58132553100586], [18.58132553100586], [18.58132553100586], [18.58132553100586], [18.58132553100586], [18.58132553100586], [18.58132553100586], [18.58132553100586], [18.58132553100586], [18.58132553100586], [18.58132553100586], [18.58132553100586], [18.58132553100586], [18.58132553100586], [18.58132553100586], [18.58132553100586], [18.58132553100586], [18.58132553100586], [18.58132553100586], [18.58132553100586], [18.58132553100586], [18.58132553100586], [18.58132553100586], [18.58132553100586], [18.58132553100586], [18.58132553100586], [18.58132553100586], [18.58132553100586], [18.58132553100586], [18.58132553100586], [18.58132553100586], [18.58132553100586], [18.58132553100586], [18.58132553100586], [18.58132553100586], [18.58132553100586], [18.58132553100586], [18.58132553100586], [18.58132553100586], [18.58132553100586], [18.58132553100586], [18.58132553100586], [18.58132553100586], [18.58132553100586], [18.58132553100586], [18.58132553100586], [18.58132553100586], [18.58132553100586], [18.58132553100586], [18.58132553100586], [18.58132553100586], [18.58132553100586], [18.58132553100586], [18.58132553100586], [18.58132553100586], [18.58132553100586], [18.58132553100586], [18.58132553100586], [18.58132553100586], [18.58132553100586], [18.58132553100586], [18.58132553100586], [18.58132553100586], [18.58132553100586], [18.58132553100586], [18.58132553100586], [18.58132553100586], [18.58132553100586], [18.58132553100586], [18.58132553100586], [18.58132553100586], [18.58132553100586], [18.58132553100586], [18.58132553100586], [18.58132553100586], [18.58132553100586], [18.58132553100586], [18.58132553100586], [18.58132553100586], [18.58132553100586], [18.58132553100586], [18.58132553100586], [18.58132553100586], [18.58132553100586], [18.58132553100586], [18.58132553100586], [18.58132553100586], [18.58132553100586], [18.58132553100586], [18.58132553100586], [18.58132553100586], [18.58132553100586], [18.58132553100586], [18.58132553100586], [18.58132553100586], [18.58132553100586], [18.58132553100586], [18.58132553100586], [18.58132553100586], [18.58132553100586], [18.58132553100586], [18.58132553100586], [18.58132553100586], [18.58132553100586], [18.58132553100586], [18.58132553100586], [18.58132553100586], [18.58132553100586], [18.58132553100586], [18.58132553100586], [18.58132553100586], [18.58132553100586], [18.58132553100586], [18.58132553100586], [18.58132553100586], [18.58132553100586], [18.58132553100586], [18.58132553100586], [18.58132553100586], [18.58132553100586], [18.58132553100586], [18.58132553100586], [18.58132553100586], [18.58132553100586], [18.58132553100586], [18.58132553100586], [18.58132553100586], [18.58132553100586], [18.58132553100586], [18.58132553100586], [18.58132553100586], [18.58132553100586], [18.58132553100586], [18.58132553100586], [18.58132553100586], [18.58132553100586], [18.58132553100586], [18.58132553100586], [18.58132553100586], [18.58132553100586], [18.58132553100586], [18.58132553100586], [18.58132553100586], [18.58132553100586], [18.58132553100586], [18.58132553100586], [18.58132553100586], [18.58132553100586], [18.58132553100586], [18.58132553100586], [18.58132553100586], [18.58132553100586], [18.58132553100586], [18.58132553100586], [18.58132553100586], [18.58132553100586], [18.58132553100586], [18.58132553100586], [18.58132553100586], [18.58132553100586], [18.58132553100586], [18.58132553100586], [18.58132553100586], [18.58132553100586], [18.58132553100586], [18.58132553100586], [18.58132553100586], [18.58132553100586], [18.58132553100586], [18.58132553100586], [18.58132553100586], [18.58132553100586], [18.58132553100586], [18.58132553100586], [18.58132553100586], [18.58132553100586], [18.58132553100586], [18.58132553100586], [18.58132553100586], [18.58132553100586], [18.58132553100586], [18.58132553100586], [18.58132553100586], [18.58132553100586], [18.58132553100586], [18.58132553100586], [18.58132553100586], [18.58132553100586], [18.58132553100586], [18.58132553100586], [18.58132553100586], [18.58132553100586], [18.58132553100586], [18.58132553100586], [18.58132553100586], [18.58132553100586], [18.58132553100586], [18.58132553100586], [18.58132553100586], [18.58132553100586], [18.58132553100586], [18.58132553100586], [18.58132553100586], [18.58132553100586], [18.58132553100586], [18.58132553100586], [18.58132553100586], [18.58132553100586], [18.58132553100586], [18.58132553100586], [18.58132553100586], [18.58132553100586], [18.58132553100586], [18.58132553100586], [18.58132553100586], [18.58132553100586], [18.58132553100586], [18.58132553100586], [18.58132553100586], [18.58132553100586], [18.58132553100586], [18.58132553100586], [18.58132553100586], [18.58132553100586], [18.58132553100586], [18.58132553100586], [18.58132553100586], [18.58132553100586], [18.58132553100586], [18.58132553100586], [18.58132553100586], [18.58132553100586], [18.58132553100586], [18.58132553100586], [18.58132553100586], [18.58132553100586], [18.58132553100586], [18.58132553100586], [18.58132553100586], [18.58132553100586], [18.58132553100586], [18.58132553100586], [18.58132553100586], [18.58132553100586], [18.58132553100586], [18.58132553100586], [18.58132553100586], [18.58132553100586], [18.58132553100586], [18.58132553100586], [18.58132553100586], [18.58132553100586], [18.58132553100586], [18.58132553100586], [18.58132553100586], [18.58132553100586], [18.58132553100586], [18.58132553100586], [18.58132553100586], [18.58132553100586], [18.58132553100586], [18.58132553100586], [18.58132553100586], [18.58132553100586], [18.58132553100586], [18.58132553100586], [18.58132553100586], [18.58132553100586], [18.58132553100586], [18.58132553100586], [18.58132553100586], [18.58132553100586], [18.58132553100586], [18.58132553100586], [18.58132553100586], [18.58132553100586], [18.58132553100586], [18.58132553100586], [18.58132553100586], [18.58132553100586], [18.58132553100586], [18.58132553100586], [18.58132553100586], [18.58132553100586], [18.58132553100586], [18.58132553100586], [18.58132553100586], [18.58132553100586], [18.58132553100586], [18.58132553100586], [18.58132553100586], [18.58132553100586], [18.58132553100586], [18.58132553100586], [18.58132553100586], [18.58132553100586], [18.58132553100586], [18.58132553100586], [18.58132553100586], [18.58132553100586], [18.58132553100586], [18.58132553100586], [18.58132553100586], [18.58132553100586], [18.58132553100586], [18.58132553100586], [18.58132553100586], [18.58132553100586], [18.58132553100586], [18.58132553100586], [18.58132553100586], [18.58132553100586], [18.58132553100586], [18.58132553100586], [18.58132553100586], [18.58132553100586], [18.58132553100586], [18.58132553100586], [18.58132553100586], [18.58132553100586], [18.58132553100586], [18.58132553100586], [18.58132553100586], [18.58132553100586], [18.58132553100586], [18.58132553100586], [18.58132553100586], [18.58132553100586], [18.58132553100586], [18.58132553100586], [18.58132553100586], [18.58132553100586], [18.58132553100586], [18.58132553100586], [18.58132553100586], [18.58132553100586], [18.58132553100586], [18.58132553100586], [18.58132553100586], [18.58132553100586], [18.58132553100586], [18.58132553100586], [18.58132553100586], [18.58132553100586], [18.58132553100586], [18.58132553100586], [18.58132553100586], [18.58132553100586], [18.58132553100586], [18.58132553100586], [18.58132553100586], [18.58132553100586], [18.58132553100586], [18.58132553100586], [18.58132553100586], [18.58132553100586], [18.58132553100586], [18.58132553100586], [18.58132553100586], [18.58132553100586], [18.58132553100586], [18.58132553100586], [18.58132553100586], [18.58132553100586], [18.58132553100586], [18.58132553100586], [18.58132553100586], [18.58132553100586], [18.58132553100586], [18.58132553100586], [18.58132553100586], [18.58132553100586], [18.58132553100586], [18.58132553100586], [18.58132553100586], [18.58132553100586], [18.58132553100586], [18.58132553100586], [18.58132553100586], [18.58132553100586], [18.58132553100586], [18.58132553100586], [18.58132553100586], [18.58132553100586], [18.58132553100586], [18.58132553100586], [18.58132553100586], [18.58132553100586], [18.58132553100586], [18.58132553100586], [18.58132553100586], [18.58132553100586], [18.58132553100586], [18.58132553100586], [18.58132553100586], [18.58132553100586], [18.58132553100586], [18.58132553100586], [18.58132553100586], [18.58132553100586], [18.58132553100586], [18.58132553100586], [18.58132553100586], [18.58132553100586], [18.58132553100586], [18.58132553100586], [18.58132553100586], [18.58132553100586], [18.58132553100586], [18.58132553100586], [18.58132553100586], [18.58132553100586], [18.58132553100586], [18.58132553100586], [18.58132553100586], [18.58132553100586], [18.58132553100586], [18.58132553100586], [18.58132553100586], [18.58132553100586], [18.58132553100586], [18.58132553100586], [18.58132553100586], [18.58132553100586], [18.58132553100586], [18.58132553100586], [18.58132553100586], [18.58132553100586], [18.58132553100586], [18.58132553100586], [18.58132553100586], [18.58132553100586], [18.58132553100586], [18.58132553100586], [18.58132553100586], [18.58132553100586], [18.58132553100586], [18.58132553100586], [18.58132553100586], [18.58132553100586], [18.58132553100586], [18.58132553100586], [18.58132553100586], [18.58132553100586], [18.58132553100586], [18.58132553100586], [18.58132553100586], [18.58132553100586], [18.58132553100586], [18.58132553100586], [18.58132553100586], [18.58132553100586], [18.58132553100586], [18.58132553100586], [18.58132553100586], [18.58132553100586], [18.58132553100586], [18.58132553100586], [18.58132553100586], [18.58132553100586], [18.58132553100586], [18.58132553100586], [18.58132553100586], [18.58132553100586], [18.58132553100586], [18.58132553100586], [18.58132553100586], [18.58132553100586], [18.58132553100586], [18.58132553100586], [18.58132553100586], [18.58132553100586], [18.58132553100586], [18.58132553100586], [18.58132553100586], [18.58132553100586], [18.58132553100586], [18.58132553100586], [18.58132553100586], [18.58132553100586], [18.58132553100586], [18.58132553100586], [18.58132553100586], [18.58132553100586], [18.58132553100586], [18.58132553100586], [18.58132553100586], [18.58132553100586], [18.58132553100586], [18.58132553100586], [18.58132553100586], [18.58132553100586], [18.58132553100586], [18.58132553100586], [18.58132553100586], [18.58132553100586], [18.58132553100586], [18.58132553100586], [18.58132553100586], [18.58132553100586], [18.58132553100586], [18.58132553100586], [18.58132553100586], [18.58132553100586], [18.58132553100586], [18.58132553100586], [18.58132553100586], [18.58132553100586], [18.58132553100586], [18.58132553100586], [18.58132553100586], [18.58132553100586], [18.58132553100586], [18.58132553100586], [18.58132553100586], [18.58132553100586], [18.58132553100586], [18.58132553100586], [18.58132553100586], [18.58132553100586], [18.58132553100586], [18.58132553100586], [18.58132553100586], [18.58132553100586], [18.58132553100586], [18.58132553100586], [18.58132553100586], [18.58132553100586], [18.58132553100586], [18.58132553100586], [18.58132553100586], [18.58132553100586], [18.58132553100586], [18.58132553100586], [18.58132553100586], [18.58132553100586], [18.58132553100586], [18.58132553100586], [18.58132553100586], [18.58132553100586], [18.58132553100586], [18.58132553100586], [18.58132553100586], [18.58132553100586], [18.58132553100586], [18.58132553100586], [18.58132553100586], [18.58132553100586], [18.58132553100586], [18.58132553100586], [18.58132553100586], [18.58132553100586], [18.58132553100586], [18.58132553100586], [18.58132553100586], [18.58132553100586], [18.58132553100586], [18.58132553100586], [18.58132553100586], [18.58132553100586], [18.58132553100586], [18.58132553100586], [18.58132553100586], [18.58132553100586], [18.58132553100586], [18.58132553100586], [18.58132553100586], [18.58132553100586], [18.58132553100586], [18.58132553100586], [18.58132553100586], [18.58132553100586], [18.58132553100586], [18.58132553100586], [18.58132553100586], [18.58132553100586], [18.58132553100586], [18.58132553100586], [18.58132553100586], [18.58132553100586], [18.58132553100586], [18.58132553100586], [18.58132553100586], [18.58132553100586], [18.58132553100586], [18.58132553100586], [18.58132553100586], [18.58132553100586], [18.58132553100586], [18.58132553100586], [18.58132553100586], [18.58132553100586], [18.58132553100586], [18.58132553100586], [18.58132553100586], [18.58132553100586], [18.58132553100586], [18.58132553100586], [18.58132553100586], [18.58132553100586], [18.58132553100586], [18.58132553100586], [18.58132553100586], [18.58132553100586], [18.58132553100586], [18.58132553100586], [18.58132553100586], [18.58132553100586], [18.58132553100586], [18.58132553100586], [18.58132553100586], [18.58132553100586], [18.58132553100586], [18.58132553100586], [18.58132553100586], [18.58132553100586], [18.58132553100586], [18.58132553100586], [18.58132553100586], [18.58132553100586], [18.58132553100586], [18.58132553100586], [18.58132553100586], [18.58132553100586], [18.58132553100586], [18.58132553100586], [18.58132553100586], [18.58132553100586], [18.58132553100586], [18.58132553100586], [18.58132553100586], [18.58132553100586], [18.58132553100586], [18.58132553100586], [18.58132553100586], [18.58132553100586], [18.58132553100586], [18.58132553100586], [18.58132553100586], [18.58132553100586], [18.58132553100586], [18.58132553100586], [18.58132553100586], [18.58132553100586], [18.58132553100586], [18.58132553100586], [18.58132553100586], [18.58132553100586], [18.58132553100586], [18.58132553100586], [18.58132553100586], [18.58132553100586], [18.58132553100586], [18.58132553100586], [18.58132553100586], [18.58132553100586], [18.58132553100586], [18.58132553100586], [18.58132553100586], [18.58132553100586], [18.58132553100586], [18.58132553100586], [18.58132553100586], [18.58132553100586], [18.58132553100586], [18.58132553100586], [18.58132553100586], [18.58132553100586], [18.58132553100586], [18.58132553100586], [18.58132553100586], [18.58132553100586], [18.58132553100586], [18.58132553100586], [18.58132553100586], [18.58132553100586], [18.58132553100586], [18.58132553100586], [18.58132553100586], [18.58132553100586], [18.58132553100586], [18.58132553100586], [18.58132553100586], [18.58132553100586], [18.58132553100586], [18.58132553100586], [18.58132553100586], [18.58132553100586], [18.58132553100586], [18.58132553100586], [18.58132553100586], [18.58132553100586], [18.58132553100586], [18.58132553100586], [18.58132553100586], [18.58132553100586], [18.58132553100586], [18.58132553100586], [18.58132553100586], [18.58132553100586], [18.58132553100586], [18.58132553100586], [18.58132553100586], [18.58132553100586], [18.58132553100586], [18.58132553100586], [18.58132553100586], [18.58132553100586], [18.58132553100586], [18.58132553100586], [18.58132553100586], [18.58132553100586], [18.58132553100586], [18.58132553100586], [18.58132553100586], [18.58132553100586], [18.58132553100586], [18.58132553100586], [18.58132553100586], [18.58132553100586], [18.58132553100586], [18.58132553100586], [18.58132553100586], [18.58132553100586], [18.58132553100586], [18.58132553100586], [18.58132553100586], [18.58132553100586], [18.58132553100586], [18.58132553100586], [18.58132553100586], [18.58132553100586], [18.58132553100586], [18.58132553100586], [18.58132553100586], [18.58132553100586], [18.58132553100586], [18.58132553100586], [18.58132553100586], [18.58132553100586], [18.58132553100586], [18.58132553100586], [18.58132553100586], [18.58132553100586], [18.58132553100586], [18.58132553100586], [18.58132553100586], [18.58132553100586], [18.58132553100586], [18.58132553100586], [18.58132553100586], [18.58132553100586], [18.58132553100586], [18.58132553100586], [18.58132553100586], [18.58132553100586], [18.58132553100586], [18.58132553100586], [18.58132553100586], [18.58132553100586], [18.58132553100586], [18.58132553100586], [18.58132553100586], [18.58132553100586], [18.58132553100586], [18.58132553100586], [18.58132553100586], [18.58132553100586], [18.58132553100586], [18.58132553100586], [18.58132553100586], [18.58132553100586], [18.58132553100586], [18.58132553100586], [18.58132553100586], [18.58132553100586], [18.58132553100586], [18.58132553100586], [18.58132553100586], [18.58132553100586], [18.58132553100586], [18.58132553100586], [18.58132553100586], [18.58132553100586], [18.58132553100586], [18.58132553100586], [18.58132553100586], [18.58132553100586], [18.58132553100586], [18.58132553100586], [18.58132553100586], [18.58132553100586], [18.58132553100586], [18.58132553100586], [18.58132553100586], [18.58132553100586], [18.58132553100586], [18.58132553100586], [18.58132553100586], [18.58132553100586], [18.58132553100586], [18.58132553100586], [18.58132553100586], [18.58132553100586], [18.58132553100586], [18.58132553100586], [18.58132553100586], [18.58132553100586], [18.58132553100586], [18.58132553100586], [18.58132553100586], [18.58132553100586], [18.58132553100586], [18.58132553100586], [18.58132553100586], [18.58132553100586], [18.58132553100586], [18.58132553100586], [18.58132553100586], [18.58132553100586], [18.58132553100586], [18.58132553100586], [18.58132553100586], [18.58132553100586], [18.58132553100586], [18.58132553100586], [18.58132553100586], [18.58132553100586], [18.58132553100586], [18.58132553100586], [18.58132553100586], [18.58132553100586], [18.58132553100586], [18.58132553100586], [18.58132553100586], [18.58132553100586], [18.58132553100586], [18.58132553100586], [18.58132553100586], [18.58132553100586], [18.58132553100586], [18.58132553100586], [18.58132553100586], [18.58132553100586], [18.58132553100586], [18.58132553100586], [18.58132553100586], [18.58132553100586], [18.58132553100586], [18.58132553100586], [18.58132553100586], [18.58132553100586], [18.58132553100586], [18.58132553100586], [18.58132553100586], [18.58132553100586], [18.58132553100586], [18.58132553100586], [18.58132553100586], [18.58132553100586], [18.58132553100586], [18.58132553100586], [18.58132553100586], [18.58132553100586], [18.58132553100586], [18.58132553100586], [18.58132553100586], [18.58132553100586], [18.58132553100586], [18.58132553100586], [18.58132553100586], [18.58132553100586], [18.58132553100586], [18.58132553100586], [18.58132553100586], [18.58132553100586], [18.58132553100586], [18.58132553100586], [18.58132553100586], [18.58132553100586], [18.58132553100586], [18.58132553100586], [18.58132553100586], [18.58132553100586], [18.58132553100586], [18.58132553100586], [18.58132553100586], [18.58132553100586], [18.58132553100586], [18.58132553100586], [18.58132553100586], [18.58132553100586], [18.58132553100586], [18.58132553100586], [18.58132553100586], [18.58132553100586], [18.58132553100586], [18.58132553100586], [18.58132553100586], [18.58132553100586], [18.58132553100586], [18.58132553100586], [18.58132553100586], [18.58132553100586], [18.58132553100586], [18.58132553100586], [18.58132553100586], [18.58132553100586], [18.58132553100586], [18.58132553100586], [18.58132553100586], [18.58132553100586], [18.58132553100586], [18.58132553100586], [18.58132553100586], [18.58132553100586], [18.58132553100586], [18.58132553100586], [18.58132553100586], [18.58132553100586], [18.58132553100586], [18.58132553100586], [18.58132553100586], [18.58132553100586], [18.58132553100586], [18.58132553100586], [18.58132553100586], [18.58132553100586], [18.58132553100586], [18.58132553100586], [18.58132553100586], [18.58132553100586], [18.58132553100586], [18.58132553100586], [18.58132553100586], [18.58132553100586], [18.58132553100586], [18.58132553100586], [18.58132553100586], [18.58132553100586], [18.58132553100586], [18.58132553100586], [18.58132553100586], [18.58132553100586], [18.58132553100586], [18.58132553100586], [18.58132553100586], [18.58132553100586], [18.58132553100586], [18.58132553100586], [18.58132553100586], [18.58132553100586], [18.58132553100586], [18.58132553100586], [18.58132553100586], [18.58132553100586], [18.58132553100586], [18.58132553100586], [18.58132553100586], [18.58132553100586], [18.58132553100586], [18.58132553100586], [18.58132553100586], [18.58132553100586], [18.58132553100586], [18.58132553100586], [18.58132553100586], [18.58132553100586], [18.58132553100586], [18.58132553100586], [18.58132553100586], [18.58132553100586], [18.58132553100586], [18.58132553100586], [18.58132553100586], [18.58132553100586], [18.58132553100586], [18.58132553100586], [18.58132553100586], [18.58132553100586], [18.58132553100586], [18.58132553100586], [18.58132553100586], [18.58132553100586], [18.58132553100586], [18.58132553100586], [18.58132553100586], [18.58132553100586], [18.58132553100586], [18.58132553100586], [18.58132553100586], [18.58132553100586], [18.58132553100586], [18.58132553100586], [18.58132553100586], [18.58132553100586], [18.58132553100586], [18.58132553100586], [18.58132553100586], [18.58132553100586], [18.58132553100586], [18.58132553100586], [18.58132553100586], [18.58132553100586], [18.58132553100586], [18.58132553100586], [18.58132553100586], [18.58132553100586], [18.58132553100586], [18.58132553100586], [18.58132553100586], [18.58132553100586], [18.58132553100586], [18.58132553100586], [18.58132553100586], [18.58132553100586], [18.58132553100586], [18.58132553100586], [18.58132553100586], [18.58132553100586], [18.58132553100586], [18.58132553100586], [18.58132553100586], [18.58132553100586], [18.58132553100586], [18.58132553100586], [18.58132553100586], [18.58132553100586], [18.58132553100586], [18.58132553100586], [18.58132553100586], [18.58132553100586], [18.58132553100586], [18.58132553100586], [18.58132553100586], [18.58132553100586], [18.58132553100586], [18.58132553100586], [18.58132553100586], [18.58132553100586], [18.58132553100586], [18.58132553100586], [18.58132553100586], [18.58132553100586], [18.58132553100586], [18.58132553100586], [18.58132553100586], [18.58132553100586], [18.58132553100586], [18.58132553100586], [18.58132553100586], [18.58132553100586], [18.58132553100586], [18.58132553100586], [18.58132553100586], [18.58132553100586], [18.58132553100586], [18.58132553100586], [18.58132553100586], [18.58132553100586], [18.58132553100586], [18.58132553100586], [18.58132553100586], [18.58132553100586], [18.58132553100586], [18.58132553100586], [18.58132553100586], [18.58132553100586], [18.58132553100586], [18.58132553100586], [18.58132553100586], [18.58132553100586], [18.58132553100586], [18.58132553100586], [18.58132553100586], [18.58132553100586], [18.58132553100586], [18.58132553100586], [18.58132553100586], [18.58132553100586], [18.58132553100586], [18.58132553100586], [18.58132553100586], [18.58132553100586], [18.58132553100586], [18.58132553100586], [18.58132553100586], [18.58132553100586], [18.58132553100586], [18.58132553100586], [18.58132553100586], [18.58132553100586], [18.58132553100586], [18.58132553100586], [18.58132553100586], [18.58132553100586], [18.58132553100586], [18.58132553100586], [18.58132553100586], [18.58132553100586], [18.58132553100586], [18.58132553100586], [18.58132553100586], [18.58132553100586], [18.58132553100586], [18.58132553100586], [18.58132553100586], [18.58132553100586], [18.58132553100586], [18.58132553100586], [18.58132553100586], [18.58132553100586], [18.58132553100586], [18.58132553100586], [18.58132553100586], [18.58132553100586]]\n",
      "LR : 1E-03\n",
      "sum cost :  6207918.0At learning rate 1.0E-03  "
     ]
    },
    {
     "name": "stderr",
     "output_type": "stream",
     "text": [
      "\n"
     ]
    },
    {
     "name": "stdout",
     "output_type": "stream",
     "text": [
      "Accrucary : 0.00  Mean difference 0.29 Loss : 177.19000\n"
     ]
    }
   ],
   "source": [
    "##ML2\n",
    "import torch.nn as nn\n",
    "import torch.nn.functional as F\n",
    "import torch.optim as optim\n",
    "\n",
    "\n",
    "class Net(nn.Module):\n",
    "    def __init__(self):\n",
    "        super().__init__()\n",
    "        drop_prob = 0.2 # 0.2 == 20%\n",
    "        self.fc1 = nn.Linear(8, 256,bias=True)\n",
    "        self.fc2 = nn.Linear(256, 64,bias=True)\n",
    "        self.fc3 = nn.Linear(64, 16,bias=True)\n",
    "        self.fc4 = nn.Linear(16, 1,bias=True)\n",
    "        self.relu = torch.nn.Sigmoid()\n",
    "        self.dropout = torch.nn.Dropout(p=drop_prob)# nn.Dropout module is a regularization technique for reducing overfitting in neural networks by randomly setting a proportion of input units to 0 during training\n",
    "        self.reset_weights()\n",
    "        \n",
    "        ## initialize weight\n",
    "    \"\"\"\n",
    "    def forward(self, x):\n",
    "        out = self.fc1(x)\n",
    "        out = self.relu(out)\n",
    "        out = self.fc2(out)\n",
    "        out = self.relu(out)\n",
    "        out = self.fc3(out)\n",
    "        out = self.relu(out)\n",
    "        out = self.fc4(out)\n",
    "        \n",
    "        return out\"\"\"\n",
    "    \n",
    "    def forward(self, x):\n",
    "        x = self.fc1(x)\n",
    "        x = self.relu(x)\n",
    "        x = self.dropout(x)\n",
    "        x = self.fc2(x)\n",
    "        x = self.relu(x)\n",
    "        x = self.dropout(x)\n",
    "        x = self.fc3(x)\n",
    "        x = self.relu(x)\n",
    "        x = self.dropout(x)\n",
    "        x = self.fc4(x)\n",
    "        return x\n",
    "    \n",
    "    def reset_weights(self):\n",
    "        for m in self.modules():\n",
    "            if isinstance(m, nn.Linear):\n",
    "                nn.init.xavier_uniform_(m.weight.data)\n",
    "                if m.bias is not None:\n",
    "                    m.bias.data.zero_()\n",
    "\n",
    "net = Net()\n",
    "net=net.to(device)\n",
    "###################################################################SET VALUE\n",
    "#lr_list = [10000,100,1,1e-3,1e-5,1e-10]\n",
    "lr_list = [1e-3]\n",
    "nb_epoch=100\n",
    "####################################################################\n",
    "print(\"current device :\",device)\n",
    "for LR in lr_list: ## ML2\n",
    "    net.reset_weights()##reset weight and bias\n",
    "    \n",
    "    #Loss Model\n",
    "    loss = nn.MSELoss().to(device)\n",
    "    #Optimizer Model\n",
    "    optimizer = optim.SGD(net.parameters(), lr=LR)\n",
    "    #Repeat\n",
    "    \n",
    "    #Input data turn into Torch\n",
    "    X = torch.FloatTensor(data_train)\n",
    "    #print(X.shape)# // [9999, 8]\n",
    "    X = X.to(device)\n",
    "    Y = torch.FloatTensor(data_y_original)\n",
    "    #print(Y.shape)# // [9999, 1]\n",
    "    Y = Y.to(device)\n",
    "\n",
    "\n",
    "    \"\"\"#checking if Y is fine\n",
    "    for i in range(len(data_y)):\n",
    "        print(data_y[i].index(max(data_y[i])))\n",
    "    \"\"\"\n",
    "    \n",
    "    \n",
    "    #ML\n",
    "    net.train()\n",
    "    from tqdm import tqdm\n",
    "    for epoch in tqdm(range(nb_epoch)):\n",
    "        sum_cost = 0\n",
    "        for x, y in zip(X,Y):\n",
    "            optimizer.zero_grad()\n",
    "            # forward + backward + optimize\n",
    "            hypothesis = net(x)\n",
    "            cost = loss(hypothesis, y)\n",
    "            cost.backward()\n",
    "            optimizer.step()\n",
    "            sum_cost = sum_cost + cost \n",
    "            #print(x,y)\n",
    "        print(net(X),end=\"@@@@@@@\\n\")\n",
    "        \n",
    "    ##Evaluate\n",
    "    net.eval()\n",
    "    hypothesis = net(X)\n",
    "    with torch.no_grad():\n",
    "        print(\"print net(x)\",hypothesis.tolist())\n",
    "        print(\"LR : %.0E\"%LR)\n",
    "        print(\"sum cost : \",sum_cost.item(),end=\"\")\n",
    "        print(\"At learning rate %.1E\"%LR,end=\"  \")##print learning rate\n",
    "        ## accruacy\n",
    "        sum = 0\n",
    "        for i in (range(len(Y))): # range : 9999\n",
    "            if (hypothesis[i][0]) == (Y[i][0]):\n",
    "                sum = sum + 1\n",
    "        print(\"Accrucary : %.2f\"%(sum/len(Y)*100),end=\"  \")\n",
    "        ## avrage cost\n",
    "        sum = 0\n",
    "        for i in (range(len(Y))): # range : 9999\n",
    "            sum = (hypothesis[i][0]) - (Y[i][0]) + sum\n",
    "        print(\"Mean difference %.2f\"%(sum.item()/len(Y)),end=\" \")\n",
    "        print(\"Loss : %.5f\"%cost.item())"
   ]
  },
  {
   "attachments": {},
   "cell_type": "markdown",
   "metadata": {},
   "source": [
    "LR : 1E-03  \n",
    "sum cost :  6393408.5At learning rate 1.0E-03  Accrucary : 0.00  Mean difference -0.21 Loss : 176.47638"
   ]
  },
  {
   "attachments": {},
   "cell_type": "markdown",
   "metadata": {},
   "source": [
    "## END\n",
    "\n",
    "2023/01/24\n",
    "\n",
    "0152i\n",
    "\n",
    "it took about... 2 hours  \n",
    "I am goin g to sleep now  "
   ]
  }
 ],
 "metadata": {
  "kernelspec": {
   "display_name": "base",
   "language": "python",
   "name": "python3"
  },
  "language_info": {
   "codemirror_mode": {
    "name": "ipython",
    "version": 3
   },
   "file_extension": ".py",
   "mimetype": "text/x-python",
   "name": "python",
   "nbconvert_exporter": "python",
   "pygments_lexer": "ipython3",
   "version": "3.9.13"
  },
  "orig_nbformat": 4,
  "vscode": {
   "interpreter": {
    "hash": "ad2bdc8ecc057115af97d19610ffacc2b4e99fae6737bb82f5d7fb13d2f2c186"
   }
  }
 },
 "nbformat": 4,
 "nbformat_minor": 2
}
