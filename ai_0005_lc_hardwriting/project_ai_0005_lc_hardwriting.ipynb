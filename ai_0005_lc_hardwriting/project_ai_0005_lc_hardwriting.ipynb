{
 "cells": [
  {
   "attachments": {},
   "cell_type": "markdown",
   "metadata": {},
   "source": [
    "# Project mnist hard writing\n",
    "\n",
    "data souce : Kaggle\n",
    "Link : https://www.kaggle.com/c/digit-recognizer\n",
    "\n",
    "2023/01/20\n",
    "2238i\n",
    "\n",
    "lets get init"
   ]
  },
  {
   "cell_type": "code",
   "execution_count": 120,
   "metadata": {},
   "outputs": [
    {
     "name": "stdout",
     "output_type": "stream",
     "text": [
      "Cude torch working : True\n",
      "current device no. : 0\n",
      "GPU device count : 1\n",
      "GPU name : NVIDIA GeForce GTX 1080\n",
      "device :  cuda\n"
     ]
    }
   ],
   "source": [
    "##Hardwere\n",
    "import torch\n",
    "if torch.cuda.is_available() == True:\n",
    "  device = 'cuda'\n",
    "  templist = [1,2,3]\n",
    "  templist = torch.FloatTensor(templist).to(device)\n",
    "  print(\"Cude torch working : \",end=\"\")\n",
    "  print(templist.is_cuda)\n",
    "  print(\"current device no. : \",end=\"\")\n",
    "  print(torch.cuda.current_device())\n",
    "  print(\"GPU device count : \",end=\"\")\n",
    "  print(torch.cuda.device_count())\n",
    "  print(\"GPU name : \",end=\"\")\n",
    "  print(torch.cuda.get_device_name(0))\n",
    "  print(\"device : \",device)\n",
    "else:\n",
    "  print(\"cant use gpu , activating cpu\")\n",
    "  device = 'cpu'"
   ]
  },
  {
   "cell_type": "code",
   "execution_count": 121,
   "metadata": {},
   "outputs": [
    {
     "name": "stdout",
     "output_type": "stream",
     "text": [
      "torch.cuda.FloatTensor\n",
      "torch.Size([42000, 784])\n",
      "torch.Size([42000, 10])\n"
     ]
    }
   ],
   "source": [
    "import csv\n",
    "import numpy as np\n",
    "import torch\n",
    "\n",
    "\n",
    "f =  open(\"C:/Users/OWO/Documents/AA_CODE/@Projects/Projects/ai_0005_lc_hardwriting/train.csv\")\n",
    "read = csv.reader(f)\n",
    "\n",
    "#data to list\n",
    "data = []\n",
    "for row in read:\n",
    "  data.append(row)\n",
    "\n",
    "#delete legend data\n",
    "del data[0]\n",
    "\n",
    "#get num data\n",
    "data = np.float_(data)\n",
    "data = np.array(data)\n",
    "y_train_numbers_origianl = data[:,0:1]\n",
    "y_train_numbers  = [[0 for col in range(10)] for row in range(len(y_train_numbers_origianl))]\n",
    "#print(y_train_numbers)\n",
    "for row in range(len(y_train_numbers_origianl)):\n",
    "  y_train_numbers[row][int(y_train_numbers_origianl[row][0])] = 1\n",
    "#print((y_train_numbers))\n",
    "\n",
    "#get pixel data\n",
    "x_train_data = data[:,1:]\n",
    "#print(x_train_data)\n",
    "\n",
    "f.close()\n",
    "\n",
    "##TENSOR\n",
    "x_train_data = torch.Tensor(x_train_data).to(device)\n",
    "y_train_numbers = torch.Tensor(y_train_numbers).to(device)\n",
    "print(x_train_data.type())\n",
    "print(x_train_data.size())\n",
    "print(y_train_numbers.size())"
   ]
  },
  {
   "attachments": {},
   "cell_type": "markdown",
   "metadata": {},
   "source": [
    "## ML"
   ]
  },
  {
   "cell_type": "code",
   "execution_count": 122,
   "metadata": {},
   "outputs": [
    {
     "name": "stdout",
     "output_type": "stream",
     "text": [
      "LR : 1E-04 cost : 0.03696\n"
     ]
    }
   ],
   "source": [
    "import torch\n",
    "\n",
    "\n",
    "\n",
    "#lr_list = [1,1e-1,1e-2,1e-3,1e-4,1e-5,1e-6,1e-7,1e-8]\n",
    "lr_list = [1e-4]\n",
    "nb_epoch = 10000\n",
    "\n",
    "\n",
    "\n",
    "for LR in lr_list:\n",
    "  \n",
    "  W = torch.zeros( [784,10] , requires_grad=True,device=device)\n",
    "  b = torch.zeros( 10 , requires_grad=True,device=device)\n",
    "  optimizer = torch.optim.SGD([W,b],lr=LR)\n",
    "  loss = torch.nn.BCELoss()\n",
    "  for epoch in range(nb_epoch+1):\n",
    "    \n",
    "    hypothesis = torch.nn.functional.softmax(torch.matmul(x_train_data,W) + b,dim=1)\n",
    "    cost = loss(hypothesis,y_train_numbers)\n",
    "    optimizer.zero_grad()\n",
    "    cost.backward()\n",
    "    optimizer.step()\n",
    "    \n",
    "  print(\"LR : %.E cost : %.5f\"%(LR,cost.item()))\n",
    "\n"
   ]
  },
  {
   "attachments": {},
   "cell_type": "markdown",
   "metadata": {},
   "source": [
    "#  Learning rate\n",
    "LR : 1E+00 cost : 18.02737\n",
    "LR : 1E-01 cost : 18.06524\n",
    "LR : 1E-02 cost : 18.06333\n",
    "LR : 1E-03 cost : 17.90429\n",
    "### LR : 1E-04 cost : 0.04401\n",
    "LR : 1E-05 cost : 0.05749\n",
    "LR : 1E-06 cost : 0.10377\n",
    "LR : 1E-07 cost : 0.25261\n",
    "LR : 1E-08 cost : 0.31652"
   ]
  },
  {
   "attachments": {},
   "cell_type": "markdown",
   "metadata": {},
   "source": [
    "### Accuray : 94"
   ]
  },
  {
   "cell_type": "code",
   "execution_count": 123,
   "metadata": {},
   "outputs": [
    {
     "name": "stdout",
     "output_type": "stream",
     "text": [
      "[[ True]\n",
      " [ True]\n",
      " [ True]\n",
      " ...\n",
      " [ True]\n",
      " [ True]\n",
      " [ True]]\n",
      "94.17142857142858\n"
     ]
    }
   ],
   "source": [
    "#Test\n",
    "hypothesis_num = torch.argmax(hypothesis,dim=1) #argmax returns the INDEX #dim = 0 means max in column // dim = 1 means max in row\n",
    "accurcay = hypothesis_num.unsqueeze(1).tolist() == y_train_numbers_origianl\n",
    "acc_in_percent = accurcay.sum().item()/len(y_train_numbers_origianl)*100\n",
    "print(accurcay)\n",
    "print(acc_in_percent)"
   ]
  },
  {
   "attachments": {},
   "cell_type": "markdown",
   "metadata": {},
   "source": [
    "## Show Wrong Images"
   ]
  },
  {
   "cell_type": "code",
   "execution_count": 124,
   "metadata": {},
   "outputs": [
    {
     "data": {
      "image/png": "[encoded data removed]",
      "text/plain": [
       "<PIL.Image.Image image mode=L size=150x150>"
      ]
     },
     "metadata": {},
     "output_type": "display_data"
    },
    {
     "name": "stdout",
     "output_type": "stream",
     "text": [
      "Row num : 19 // Num : 5 Hypothesis : 6\n"
     ]
    },
    {
     "data": {
      "image/png": "[encoded data removed]",
      "text/plain": [
       "<PIL.Image.Image image mode=L size=150x150>"
      ]
     },
     "metadata": {},
     "output_type": "display_data"
    },
    {
     "name": "stdout",
     "output_type": "stream",
     "text": [
      "Row num : 43 // Num : 4 Hypothesis : 9\n"
     ]
    },
    {
     "data": {
      "image/png": "[encoded data removed]",
      "text/plain": [
       "<PIL.Image.Image image mode=L size=150x150>"
      ]
     },
     "metadata": {},
     "output_type": "display_data"
    },
    {
     "name": "stdout",
     "output_type": "stream",
     "text": [
      "Row num : 46 // Num : 3 Hypothesis : 5\n"
     ]
    },
    {
     "data": {
      "image/png": "[encoded data removed]",
      "text/plain": [
       "<PIL.Image.Image image mode=L size=150x150>"
      ]
     },
     "metadata": {},
     "output_type": "display_data"
    },
    {
     "name": "stdout",
     "output_type": "stream",
     "text": [
      "Row num : 60 // Num : 1 Hypothesis : 6\n"
     ]
    },
    {
     "data": {
      "image/png": "[encoded data removed]",
      "text/plain": [
       "<PIL.Image.Image image mode=L size=150x150>"
      ]
     },
     "metadata": {},
     "output_type": "display_data"
    },
    {
     "name": "stdout",
     "output_type": "stream",
     "text": [
      "Row num : 73 // Num : 2 Hypothesis : 3\n"
     ]
    },
    {
     "data": {
      "image/png": "[encoded data removed]",
      "text/plain": [
       "<PIL.Image.Image image mode=L size=150x150>"
      ]
     },
     "metadata": {},
     "output_type": "display_data"
    },
    {
     "name": "stdout",
     "output_type": "stream",
     "text": [
      "Row num : 90 // Num : 3 Hypothesis : 5\n"
     ]
    },
    {
     "data": {
      "image/png": "[encoded data removed]",
      "text/plain": [
       "<PIL.Image.Image image mode=L size=150x150>"
      ]
     },
     "metadata": {},
     "output_type": "display_data"
    },
    {
     "name": "stdout",
     "output_type": "stream",
     "text": [
      "Row num : 95 // Num : 9 Hypothesis : 7\n"
     ]
    },
    {
     "data": {
      "image/png": "[encoded data removed]",
      "text/plain": [
       "<PIL.Image.Image image mode=L size=150x150>"
      ]
     },
     "metadata": {},
     "output_type": "display_data"
    },
    {
     "name": "stdout",
     "output_type": "stream",
     "text": [
      "Row num : 104 // Num : 2 Hypothesis : 4\n"
     ]
    },
    {
     "data": {
      "image/png": "[encoded data removed]",
      "text/plain": [
       "<PIL.Image.Image image mode=L size=150x150>"
      ]
     },
     "metadata": {},
     "output_type": "display_data"
    },
    {
     "name": "stdout",
     "output_type": "stream",
     "text": [
      "Row num : 125 // Num : 5 Hypothesis : 3\n"
     ]
    },
    {
     "data": {
      "image/png": "[encoded data removed]",
      "text/plain": [
       "<PIL.Image.Image image mode=L size=150x150>"
      ]
     },
     "metadata": {},
     "output_type": "display_data"
    },
    {
     "name": "stdout",
     "output_type": "stream",
     "text": [
      "Row num : 131 // Num : 8 Hypothesis : 9\n"
     ]
    },
    {
     "data": {
      "image/png": "[encoded data removed]",
      "text/plain": [
       "<PIL.Image.Image image mode=L size=150x150>"
      ]
     },
     "metadata": {},
     "output_type": "display_data"
    },
    {
     "name": "stdout",
     "output_type": "stream",
     "text": [
      "Row num : 135 // Num : 8 Hypothesis : 1\n"
     ]
    },
    {
     "data": {
      "image/png": "[encoded data removed]",
      "text/plain": [
       "<PIL.Image.Image image mode=L size=150x150>"
      ]
     },
     "metadata": {},
     "output_type": "display_data"
    },
    {
     "name": "stdout",
     "output_type": "stream",
     "text": [
      "Row num : 163 // Num : 4 Hypothesis : 9\n"
     ]
    },
    {
     "data": {
      "image/png": "[encoded data removed]",
      "text/plain": [
       "<PIL.Image.Image image mode=L size=150x150>"
      ]
     },
     "metadata": {},
     "output_type": "display_data"
    },
    {
     "name": "stdout",
     "output_type": "stream",
     "text": [
      "Row num : 170 // Num : 4 Hypothesis : 8\n"
     ]
    },
    {
     "data": {
      "image/png": "[encoded data removed]",
      "text/plain": [
       "<PIL.Image.Image image mode=L size=150x150>"
      ]
     },
     "metadata": {},
     "output_type": "display_data"
    },
    {
     "name": "stdout",
     "output_type": "stream",
     "text": [
      "Row num : 173 // Num : 7 Hypothesis : 9\n"
     ]
    },
    {
     "data": {
      "image/png": "[encoded data removed]",
      "text/plain": [
       "<PIL.Image.Image image mode=L size=150x150>"
      ]
     },
     "metadata": {},
     "output_type": "display_data"
    },
    {
     "name": "stdout",
     "output_type": "stream",
     "text": [
      "Row num : 192 // Num : 3 Hypothesis : 7\n"
     ]
    }
   ],
   "source": [
    "import PIL.Image\n",
    "import IPython.display\n",
    "import numpy as np\n",
    "\n",
    "#make temp img list\n",
    "imglist = [[0 for col in range(28)] for row in range(28)]\n",
    "\n",
    "for num_row in range(len(x_train_data)):\n",
    "  if num_row > 200: #Limit the output images. there are too many \n",
    "    break\n",
    "  if accurcay[num_row][0] == False: #show me the wrong guesses I have to see for my self\n",
    "    cnt = 0\n",
    "    for row in range(28):\n",
    "      for col in range(28):\n",
    "        imglist[row][col] = x_train_data[num_row][cnt].item()\n",
    "        cnt = cnt + 1\n",
    "    img = PIL.Image.fromarray(np.uint8(imglist))#make array to size\n",
    "    img  = img.resize([150,150])#set the size\n",
    "    display(img)\n",
    "    print(\"Row num : %d // Num : %.0f Hypothesis : %.0f\"%(num_row,y_train_numbers_origianl[num_row][0],hypothesis_num[num_row]))\n"
   ]
  },
  {
   "attachments": {},
   "cell_type": "markdown",
   "metadata": {},
   "source": [
    "# END\n",
    "\n",
    "Well I thought this would take a long time, but it only took 1 hour and 30 minutes.\n",
    "\n",
    "Some of the wrong guessed numbers were due to bad handwriting, but most of them were difficult to read due to factors such as tilting or being too bold. \n",
    " \n",
    "Anyhow, it was fun and amazing to see the images(it was hard to display image). I feel like a real AI developer"
   ]
  }
 ],
 "metadata": {
  "kernelspec": {
   "display_name": "base",
   "language": "python",
   "name": "python3"
  },
  "language_info": {
   "codemirror_mode": {
    "name": "ipython",
    "version": 3
   },
   "file_extension": ".py",
   "mimetype": "text/x-python",
   "name": "python",
   "nbconvert_exporter": "python",
   "pygments_lexer": "ipython3",
   "version": "3.9.13 (main, Aug 25 2022, 23:51:50) [MSC v.1916 64 bit (AMD64)]"
  },
  "orig_nbformat": 4,
  "vscode": {
   "interpreter": {
    "hash": "ad2bdc8ecc057115af97d19610ffacc2b4e99fae6737bb82f5d7fb13d2f2c186"
   }
  }
 },
 "nbformat": 4,
 "nbformat_minor": 2
}
