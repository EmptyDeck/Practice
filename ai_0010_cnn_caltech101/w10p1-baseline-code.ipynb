{
 "cells": [
  {
   "cell_type": "code",
   "execution_count": 1,
   "id": "553a3d0d",
   "metadata": {
    "execution": {
     "iopub.execute_input": "2022-09-01T08:07:29.856513Z",
     "iopub.status.busy": "2022-09-01T08:07:29.855630Z",
     "iopub.status.idle": "2022-09-01T08:07:41.098273Z",
     "shell.execute_reply": "2022-09-01T08:07:41.097106Z"
    },
    "papermill": {
     "duration": 11.252389,
     "end_time": "2022-09-01T08:07:41.100955",
     "exception": false,
     "start_time": "2022-09-01T08:07:29.848566",
     "status": "completed"
    },
    "tags": []
   },
   "outputs": [
    {
     "name": "stdout",
     "output_type": "stream",
     "text": [
      "Collecting livelossplot\r\n",
      "  Downloading livelossplot-0.5.5-py3-none-any.whl (22 kB)\r\n",
      "Requirement already satisfied: numpy<1.22 in /opt/conda/lib/python3.7/site-packages (from livelossplot) (1.21.6)\r\n",
      "Requirement already satisfied: ipython==7.* in /opt/conda/lib/python3.7/site-packages (from livelossplot) (7.33.0)\r\n",
      "Requirement already satisfied: matplotlib in /opt/conda/lib/python3.7/site-packages (from livelossplot) (3.5.3)\r\n",
      "Requirement already satisfied: bokeh in /opt/conda/lib/python3.7/site-packages (from livelossplot) (2.4.3)\r\n",
      "Requirement already satisfied: pygments in /opt/conda/lib/python3.7/site-packages (from ipython==7.*->livelossplot) (2.12.0)\r\n",
      "Requirement already satisfied: matplotlib-inline in /opt/conda/lib/python3.7/site-packages (from ipython==7.*->livelossplot) (0.1.3)\r\n",
      "Requirement already satisfied: setuptools>=18.5 in /opt/conda/lib/python3.7/site-packages (from ipython==7.*->livelossplot) (59.8.0)\r\n",
      "Requirement already satisfied: traitlets>=4.2 in /opt/conda/lib/python3.7/site-packages (from ipython==7.*->livelossplot) (5.3.0)\r\n",
      "Requirement already satisfied: prompt-toolkit!=3.0.0,!=3.0.1,<3.1.0,>=2.0.0 in /opt/conda/lib/python3.7/site-packages (from ipython==7.*->livelossplot) (3.0.30)\r\n",
      "Requirement already satisfied: decorator in /opt/conda/lib/python3.7/site-packages (from ipython==7.*->livelossplot) (5.1.1)\r\n",
      "Requirement already satisfied: jedi>=0.16 in /opt/conda/lib/python3.7/site-packages (from ipython==7.*->livelossplot) (0.18.1)\r\n",
      "Requirement already satisfied: pexpect>4.3 in /opt/conda/lib/python3.7/site-packages (from ipython==7.*->livelossplot) (4.8.0)\r\n",
      "Requirement already satisfied: pickleshare in /opt/conda/lib/python3.7/site-packages (from ipython==7.*->livelossplot) (0.7.5)\r\n",
      "Requirement already satisfied: backcall in /opt/conda/lib/python3.7/site-packages (from ipython==7.*->livelossplot) (0.2.0)\r\n",
      "Requirement already satisfied: tornado>=5.1 in /opt/conda/lib/python3.7/site-packages (from bokeh->livelossplot) (6.1)\r\n",
      "Requirement already satisfied: typing-extensions>=3.10.0 in /opt/conda/lib/python3.7/site-packages (from bokeh->livelossplot) (4.3.0)\r\n",
      "Requirement already satisfied: pillow>=7.1.0 in /opt/conda/lib/python3.7/site-packages (from bokeh->livelossplot) (9.1.1)\r\n",
      "Requirement already satisfied: packaging>=16.8 in /opt/conda/lib/python3.7/site-packages (from bokeh->livelossplot) (21.3)\r\n",
      "Requirement already satisfied: PyYAML>=3.10 in /opt/conda/lib/python3.7/site-packages (from bokeh->livelossplot) (6.0)\r\n",
      "Requirement already satisfied: Jinja2>=2.9 in /opt/conda/lib/python3.7/site-packages (from bokeh->livelossplot) (3.1.2)\r\n",
      "Requirement already satisfied: pyparsing>=2.2.1 in /opt/conda/lib/python3.7/site-packages (from matplotlib->livelossplot) (3.0.9)\r\n",
      "Requirement already satisfied: fonttools>=4.22.0 in /opt/conda/lib/python3.7/site-packages (from matplotlib->livelossplot) (4.33.3)\r\n",
      "Requirement already satisfied: kiwisolver>=1.0.1 in /opt/conda/lib/python3.7/site-packages (from matplotlib->livelossplot) (1.4.3)\r\n",
      "Requirement already satisfied: cycler>=0.10 in /opt/conda/lib/python3.7/site-packages (from matplotlib->livelossplot) (0.11.0)\r\n",
      "Requirement already satisfied: python-dateutil>=2.7 in /opt/conda/lib/python3.7/site-packages (from matplotlib->livelossplot) (2.8.2)\r\n",
      "Requirement already satisfied: parso<0.9.0,>=0.8.0 in /opt/conda/lib/python3.7/site-packages (from jedi>=0.16->ipython==7.*->livelossplot) (0.8.3)\r\n",
      "Requirement already satisfied: MarkupSafe>=2.0 in /opt/conda/lib/python3.7/site-packages (from Jinja2>=2.9->bokeh->livelossplot) (2.1.1)\r\n",
      "Requirement already satisfied: ptyprocess>=0.5 in /opt/conda/lib/python3.7/site-packages (from pexpect>4.3->ipython==7.*->livelossplot) (0.7.0)\r\n",
      "Requirement already satisfied: wcwidth in /opt/conda/lib/python3.7/site-packages (from prompt-toolkit!=3.0.0,!=3.0.1,<3.1.0,>=2.0.0->ipython==7.*->livelossplot) (0.2.5)\r\n",
      "Requirement already satisfied: six>=1.5 in /opt/conda/lib/python3.7/site-packages (from python-dateutil>=2.7->matplotlib->livelossplot) (1.15.0)\r\n",
      "Installing collected packages: livelossplot\r\n",
      "Successfully installed livelossplot-0.5.5\r\n",
      "\u001b[33mWARNING: Running pip as the 'root' user can result in broken permissions and conflicting behaviour with the system package manager. It is recommended to use a virtual environment instead: https://pip.pypa.io/warnings/venv\u001b[0m\u001b[33m\r\n",
      "\u001b[0m"
     ]
    }
   ],
   "source": [
    "!pip install livelossplot"
   ]
  },
  {
   "cell_type": "code",
   "execution_count": 2,
   "id": "0401d2d6",
   "metadata": {
    "execution": {
     "iopub.execute_input": "2022-09-01T08:07:41.112363Z",
     "iopub.status.busy": "2022-09-01T08:07:41.112030Z",
     "iopub.status.idle": "2022-09-01T08:07:41.278306Z",
     "shell.execute_reply": "2022-09-01T08:07:41.277220Z"
    },
    "papermill": {
     "duration": 0.175121,
     "end_time": "2022-09-01T08:07:41.281172",
     "exception": false,
     "start_time": "2022-09-01T08:07:41.106051",
     "status": "completed"
    },
    "tags": []
   },
   "outputs": [
    {
     "data": {
      "text/plain": [
       "'4.5.4'"
      ]
     },
     "execution_count": 2,
     "metadata": {},
     "output_type": "execute_result"
    }
   ],
   "source": [
    "import cv2\n",
    "cv2.__version__"
   ]
  },
  {
   "cell_type": "code",
   "execution_count": 3,
   "id": "fc138764",
   "metadata": {
    "execution": {
     "iopub.execute_input": "2022-09-01T08:07:41.292505Z",
     "iopub.status.busy": "2022-09-01T08:07:41.292198Z",
     "iopub.status.idle": "2022-09-01T08:07:44.128915Z",
     "shell.execute_reply": "2022-09-01T08:07:44.128017Z"
    },
    "papermill": {
     "duration": 2.845342,
     "end_time": "2022-09-01T08:07:44.131406",
     "exception": false,
     "start_time": "2022-09-01T08:07:41.286064",
     "status": "completed"
    },
    "tags": []
   },
   "outputs": [],
   "source": [
    "import os\n",
    "import numpy as np\n",
    "from sklearn.cluster import KMeans,MiniBatchKMeans\n",
    "from sklearn import preprocessing\n",
    "from sklearn.svm import LinearSVC\n",
    "from sklearn.metrics import classification_report\n",
    "from sklearn.model_selection import GridSearchCV\n",
    "from sklearn import svm\n",
    "import pandas as pd\n",
    "from tqdm import tqdm\n",
    "import scipy.cluster.vq as vq\n",
    "import torch \n",
    "\n"
   ]
  },
  {
   "cell_type": "code",
   "execution_count": 4,
   "id": "166f7a2f",
   "metadata": {
    "execution": {
     "iopub.execute_input": "2022-09-01T08:07:44.144119Z",
     "iopub.status.busy": "2022-09-01T08:07:44.142279Z",
     "iopub.status.idle": "2022-09-01T08:07:44.207367Z",
     "shell.execute_reply": "2022-09-01T08:07:44.206375Z"
    },
    "papermill": {
     "duration": 0.073471,
     "end_time": "2022-09-01T08:07:44.209901",
     "exception": false,
     "start_time": "2022-09-01T08:07:44.136430",
     "status": "completed"
    },
    "tags": []
   },
   "outputs": [],
   "source": [
    "import random\n",
    "import torch\n",
    "\n",
    "seed = 42\n",
    "random.seed(seed)\n",
    "np.random.seed(seed)\n",
    "torch.manual_seed(seed)\n",
    "if torch.cuda.is_available():\n",
    "    torch.cuda.manual_seed(seed)\n",
    "    torch.cuda.manual_seed_all(seed)\n",
    "torch.backends.cudnn.benchmark = False\n",
    "torch.backends.cudnn.deterministic = True"
   ]
  },
  {
   "cell_type": "code",
   "execution_count": 5,
   "id": "e63456f2",
   "metadata": {
    "execution": {
     "iopub.execute_input": "2022-09-01T08:07:44.221024Z",
     "iopub.status.busy": "2022-09-01T08:07:44.220683Z",
     "iopub.status.idle": "2022-09-01T08:07:44.237827Z",
     "shell.execute_reply": "2022-09-01T08:07:44.236982Z"
    },
    "papermill": {
     "duration": 0.02501,
     "end_time": "2022-09-01T08:07:44.239932",
     "exception": false,
     "start_time": "2022-09-01T08:07:44.214922",
     "status": "completed"
    },
    "tags": []
   },
   "outputs": [],
   "source": [
    "dataroot=\"/kaggle/input/2022-ai-w11p1/\"\n",
    "csvpath=os.path.join(dataroot,\"Label2Names.csv\")\n",
    "df_data=pd.read_csv(csvpath,header=None)\n",
    "dataroottrain=os.path.join(dataroot,\"train_csv_v2\")\n",
    "dataroottest=os.path.join(dataroot,\"test_csv_v2\")"
   ]
  },
  {
   "cell_type": "code",
   "execution_count": 6,
   "id": "5de232f8",
   "metadata": {
    "execution": {
     "iopub.execute_input": "2022-09-01T08:07:44.251186Z",
     "iopub.status.busy": "2022-09-01T08:07:44.250883Z",
     "iopub.status.idle": "2022-09-01T08:07:44.457529Z",
     "shell.execute_reply": "2022-09-01T08:07:44.456445Z"
    },
    "papermill": {
     "duration": 0.214947,
     "end_time": "2022-09-01T08:07:44.460124",
     "exception": false,
     "start_time": "2022-09-01T08:07:44.245177",
     "status": "completed"
    },
    "tags": []
   },
   "outputs": [],
   "source": [
    "import torch\n",
    "from torch.utils.data import Dataset\n",
    "from torch.utils.data import DataLoader\n",
    "import torch.nn as nn\n",
    "from torchvision import models"
   ]
  },
  {
   "cell_type": "code",
   "execution_count": 7,
   "id": "9e9d6387",
   "metadata": {
    "execution": {
     "iopub.execute_input": "2022-09-01T08:07:44.471673Z",
     "iopub.status.busy": "2022-09-01T08:07:44.471352Z",
     "iopub.status.idle": "2022-09-01T08:07:44.483382Z",
     "shell.execute_reply": "2022-09-01T08:07:44.482383Z"
    },
    "papermill": {
     "duration": 0.020022,
     "end_time": "2022-09-01T08:07:44.485426",
     "exception": false,
     "start_time": "2022-09-01T08:07:44.465404",
     "status": "completed"
    },
    "tags": []
   },
   "outputs": [],
   "source": [
    "class trainDataset(Dataset):\n",
    "    def __init__(self, dataroottrain):\n",
    "\n",
    "        self.trainlabel=[]\n",
    "        self.trainpath=[]\n",
    "        for classname in tqdm(os.listdir(dataroottrain)):\n",
    "            if classname ==\"BACKGROUND_Google\":\n",
    "                labelindex=102\n",
    "            else:\n",
    "                labelindex=(df_data.index[df_data[1]==classname]+1).tolist()[0]\n",
    "            for csvname in os.listdir(os.path.join(dataroottrain,classname)):\n",
    "                self.trainlabel.append(labelindex-1)\n",
    "                csvpath=os.path.join(dataroottrain,classname,csvname)\n",
    "                self.trainpath.append(csvpath)\n",
    "\n",
    "    def __getitem__(self, idx):\n",
    "        csvpath=self.trainpath[idx]\n",
    "        label=self.trainlabel[idx]\n",
    "        img=np.array(pd.read_csv(csvpath)).reshape((256,256,3))\n",
    "        img=img.transpose((2,0,1))\n",
    "        img=torch.from_numpy(img).float()\n",
    "        label=torch.tensor(label)\n",
    "        return img, label\n",
    "    \n",
    "    def __len__(self):\n",
    "        return len(self.trainpath)\n",
    "    \n",
    "class testDataset(Dataset):\n",
    "    def __init__(self, dataroottest):\n",
    "\n",
    "        self.testlabel=[]\n",
    "        self.testpath=[]\n",
    "        testsort=sorted(os.listdir(dataroottest))\n",
    "        for csvname in tqdm(testsort):\n",
    "            csvpath=os.path.join(dataroottest,csvname)\n",
    "            self.testpath.append(csvpath)\n",
    "            self.testlabel.append(csvname)\n",
    "            \n",
    "    def __getitem__(self, idx):\n",
    "        csvpath=self.testpath[idx]\n",
    "        label=self.testlabel[idx]\n",
    "        img=np.array(pd.read_csv(csvpath)).reshape((256,256,3))\n",
    "        img=img.transpose((2,0,1))\n",
    "\n",
    "        img=torch.from_numpy(img).float()\n",
    "\n",
    "        return img,label\n",
    "    \n",
    "    def __len__(self):\n",
    "        return len(self.testpath)"
   ]
  },
  {
   "cell_type": "code",
   "execution_count": 8,
   "id": "eec42a32",
   "metadata": {
    "execution": {
     "iopub.execute_input": "2022-09-01T08:07:44.496842Z",
     "iopub.status.busy": "2022-09-01T08:07:44.496554Z",
     "iopub.status.idle": "2022-09-01T08:07:45.344777Z",
     "shell.execute_reply": "2022-09-01T08:07:45.343639Z"
    },
    "papermill": {
     "duration": 0.857292,
     "end_time": "2022-09-01T08:07:45.347525",
     "exception": false,
     "start_time": "2022-09-01T08:07:44.490233",
     "status": "completed"
    },
    "tags": []
   },
   "outputs": [
    {
     "name": "stderr",
     "output_type": "stream",
     "text": [
      "100%|██████████| 102/102 [00:00<00:00, 159.90it/s]\n",
      "100%|██████████| 1712/1712 [00:00<00:00, 411994.29it/s]\n",
      "/opt/conda/lib/python3.7/site-packages/torch/utils/data/dataloader.py:490: UserWarning: This DataLoader will create 16 worker processes in total. Our suggested max number of worker in current system is 2, which is smaller than what this DataLoader is going to create. Please be aware that excessive worker creation might get DataLoader running slow or even freeze, lower the worker number to avoid potential slowness/freeze if necessary.\n",
      "  cpuset_checked))\n",
      "/opt/conda/lib/python3.7/site-packages/torch/utils/data/dataloader.py:490: UserWarning: This DataLoader will create 4 worker processes in total. Our suggested max number of worker in current system is 2, which is smaller than what this DataLoader is going to create. Please be aware that excessive worker creation might get DataLoader running slow or even freeze, lower the worker number to avoid potential slowness/freeze if necessary.\n",
      "  cpuset_checked))\n"
     ]
    }
   ],
   "source": [
    "train_data = trainDataset(dataroottrain)\n",
    "test_data = testDataset(dataroottest)\n",
    "train_loader = DataLoader(train_data, batch_size=16, shuffle=True, num_workers=16)\n",
    "test_loader = DataLoader(test_data, batch_size=16, shuffle=False, num_workers=4)"
   ]
  },
  {
   "cell_type": "code",
   "execution_count": 9,
   "id": "e89eee10",
   "metadata": {
    "execution": {
     "iopub.execute_input": "2022-09-01T08:07:45.361159Z",
     "iopub.status.busy": "2022-09-01T08:07:45.360116Z",
     "iopub.status.idle": "2022-09-01T08:07:45.365006Z",
     "shell.execute_reply": "2022-09-01T08:07:45.364035Z"
    },
    "papermill": {
     "duration": 0.01384,
     "end_time": "2022-09-01T08:07:45.366979",
     "exception": false,
     "start_time": "2022-09-01T08:07:45.353139",
     "status": "completed"
    },
    "tags": []
   },
   "outputs": [],
   "source": [
    "# models.vgg19(pretrained=True)"
   ]
  },
  {
   "cell_type": "code",
   "execution_count": 10,
   "id": "5fac3fdb",
   "metadata": {
    "execution": {
     "iopub.execute_input": "2022-09-01T08:07:45.379930Z",
     "iopub.status.busy": "2022-09-01T08:07:45.379593Z",
     "iopub.status.idle": "2022-09-01T08:07:45.387312Z",
     "shell.execute_reply": "2022-09-01T08:07:45.386209Z"
    },
    "papermill": {
     "duration": 0.016457,
     "end_time": "2022-09-01T08:07:45.389459",
     "exception": false,
     "start_time": "2022-09-01T08:07:45.373002",
     "status": "completed"
    },
    "tags": []
   },
   "outputs": [],
   "source": [
    "import torch.nn as nn\n",
    "from torchvision import models\n",
    "\n",
    "class VGG19(nn.Module):\n",
    "    def __init__(self):\n",
    "        super(VGG19, self).__init__()\n",
    "        \n",
    "        self.features=pre_vgg16 = models.vgg19(pretrained=True).features\n",
    "        self.avg_pool=nn.AdaptiveAvgPool2d((7, 7))\n",
    "        self.classifier=nn.Linear(512*7*7,102)\n",
    "        torch.nn.init.xavier_uniform(self.classifier.weight)\n",
    "        self.classifier.bias.data.fill_(0.01)\n",
    "        \n",
    "    def forward(self, x):\n",
    "        features = self.features(x)\n",
    "        x = self.avg_pool(features)\n",
    "        x = torch.flatten(x, 1)\n",
    "        x = self.classifier(x)\n",
    "        return x"
   ]
  },
  {
   "cell_type": "code",
   "execution_count": 11,
   "id": "66da728c",
   "metadata": {
    "execution": {
     "iopub.execute_input": "2022-09-01T08:07:45.402658Z",
     "iopub.status.busy": "2022-09-01T08:07:45.402381Z",
     "iopub.status.idle": "2022-09-01T08:08:25.227091Z",
     "shell.execute_reply": "2022-09-01T08:08:25.224704Z"
    },
    "papermill": {
     "duration": 39.835296,
     "end_time": "2022-09-01T08:08:25.230262",
     "exception": false,
     "start_time": "2022-09-01T08:07:45.394966",
     "status": "completed"
    },
    "tags": []
   },
   "outputs": [
    {
     "name": "stderr",
     "output_type": "stream",
     "text": [
      "Downloading: \"https://download.pytorch.org/models/vgg19-dcbb9e9d.pth\" to /root/.cache/torch/hub/checkpoints/vgg19-dcbb9e9d.pth\n"
     ]
    },
    {
     "data": {
      "application/vnd.jupyter.widget-view+json": {
       "model_id": "500c09ceb357436894b2b991254f82e3",
       "version_major": 2,
       "version_minor": 0
      },
      "text/plain": [
       "  0%|          | 0.00/548M [00:00<?, ?B/s]"
      ]
     },
     "metadata": {},
     "output_type": "display_data"
    },
    {
     "name": "stderr",
     "output_type": "stream",
     "text": [
      "/opt/conda/lib/python3.7/site-packages/ipykernel_launcher.py:11: UserWarning: nn.init.xavier_uniform is now deprecated in favor of nn.init.xavier_uniform_.\n",
      "  # This is added back by InteractiveShellApp.init_path()\n"
     ]
    }
   ],
   "source": [
    "vgg19=VGG19()\n",
    "\n",
    "for param in vgg19.features.parameters():\n",
    "    param.requires_grad = False"
   ]
  },
  {
   "cell_type": "code",
   "execution_count": 12,
   "id": "12eaddc4",
   "metadata": {
    "execution": {
     "iopub.execute_input": "2022-09-01T08:08:25.243446Z",
     "iopub.status.busy": "2022-09-01T08:08:25.243061Z",
     "iopub.status.idle": "2022-09-01T08:08:25.248827Z",
     "shell.execute_reply": "2022-09-01T08:08:25.247810Z"
    },
    "papermill": {
     "duration": 0.01478,
     "end_time": "2022-09-01T08:08:25.251112",
     "exception": false,
     "start_time": "2022-09-01T08:08:25.236332",
     "status": "completed"
    },
    "tags": []
   },
   "outputs": [],
   "source": [
    "import torch\n",
    "import torchvision\n",
    "import torchvision.transforms as transforms\n",
    "import torch.optim as optim\n",
    "import time\n",
    "import torch.nn.functional as F\n",
    "import torch.nn as nn\n",
    "import matplotlib.pyplot as plt\n",
    " \n",
    "from torchvision import models\n",
    "criterion = nn.CrossEntropyLoss()\n",
    "optimizer = optim.Adam(vgg19.classifier.parameters(), lr=1e-3)\n"
   ]
  },
  {
   "cell_type": "code",
   "execution_count": 13,
   "id": "faea54b0",
   "metadata": {
    "execution": {
     "iopub.execute_input": "2022-09-01T08:08:25.263396Z",
     "iopub.status.busy": "2022-09-01T08:08:25.263121Z",
     "iopub.status.idle": "2022-09-01T08:08:25.276330Z",
     "shell.execute_reply": "2022-09-01T08:08:25.275493Z"
    },
    "papermill": {
     "duration": 0.021717,
     "end_time": "2022-09-01T08:08:25.278413",
     "exception": false,
     "start_time": "2022-09-01T08:08:25.256696",
     "status": "completed"
    },
    "tags": []
   },
   "outputs": [],
   "source": [
    "# training function\n",
    "from livelossplot import PlotLosses\n",
    "from tqdm import tqdm \n",
    "def train(model, train_dataloader):\n",
    "    liveloss = PlotLosses()\n",
    "    model.train()\n",
    "    train_running_loss = 0.0\n",
    "    train_running_correct = 0\n",
    "    logs = {}\n",
    "    for i, data in enumerate(tqdm(train_dataloader)):\n",
    "        data, target = data[0].cuda(), data[1].cuda()\n",
    "        optimizer.zero_grad()\n",
    "        output = model(data)\n",
    "        loss = criterion(output, target)\n",
    "        train_running_loss += loss.item()\n",
    "        _, preds = torch.max(output.data, 1)\n",
    "        train_running_correct += (preds == target).sum().item()\n",
    "        loss.backward()\n",
    "        optimizer.step()\n",
    "        logs[\"loss\"] = loss.item() \n",
    "        liveloss.update(logs)\n",
    "        liveloss.draw()\n",
    "    train_loss = train_running_loss/len(train_dataloader.dataset)\n",
    "    train_accuracy = 100. * train_running_correct/len(train_dataloader.dataset)\n",
    " \n",
    "    print(f'Train Loss: {train_loss:.4f}, Train Acc: {train_accuracy:.2f}')\n",
    "    \n",
    "    return train_loss, train_accuracy"
   ]
  },
  {
   "cell_type": "code",
   "execution_count": 14,
   "id": "2bbea63e",
   "metadata": {
    "execution": {
     "iopub.execute_input": "2022-09-01T08:08:25.290728Z",
     "iopub.status.busy": "2022-09-01T08:08:25.290465Z",
     "iopub.status.idle": "2022-09-01T10:52:17.487908Z",
     "shell.execute_reply": "2022-09-01T10:52:17.486558Z"
    },
    "papermill": {
     "duration": 9832.207085,
     "end_time": "2022-09-01T10:52:17.491221",
     "exception": false,
     "start_time": "2022-09-01T08:08:25.284136",
     "status": "completed"
    },
    "tags": []
   },
   "outputs": [
    {
     "data": {
      "image/png": "[encoded data removed]",
      "text/plain": [
       "<Figure size 864x576 with 2 Axes>"
      ]
     },
     "metadata": {
      "needs_background": "light"
     },
     "output_type": "display_data"
    },
    {
     "name": "stderr",
     "output_type": "stream",
     "text": [
      "100%|██████████| 192/192 [01:35<00:00,  2.72it/s]"
     ]
    },
    {
     "name": "stdout",
     "output_type": "stream",
     "text": [
      "Loss\n",
      "\tloss             \t (min:    0.000, max:    0.000, cur:    0.000)\n"
     ]
    },
    {
     "name": "stderr",
     "output_type": "stream",
     "text": [
      "100%|██████████| 192/192 [01:36<00:00,  2.00it/s]"
     ]
    },
    {
     "name": "stdout",
     "output_type": "stream",
     "text": [
      "Train Loss: 0.0000, Train Acc: 100.00\n",
      "[38.529411764705884, 82.6470588235294, 89.80392156862744, 91.83006535947712, 93.75816993464052, 93.33333333333333, 94.34640522875817, 95.13071895424837, 95.62091503267973, 97.45098039215686, 96.50326797385621, 97.05882352941177, 97.48366013071896, 97.87581699346406, 97.3529411764706, 96.63398692810458, 97.84313725490196, 98.26797385620915, 96.79738562091504, 96.5359477124183, 97.41830065359477, 97.45098039215686, 97.94117647058823, 98.0718954248366, 97.51633986928104, 98.59477124183006, 97.90849673202614, 98.85620915032679, 99.18300653594771, 99.31372549019608, 99.47712418300654, 98.39869281045752, 99.01960784313725, 99.2156862745098, 99.2156862745098, 98.98692810457516, 98.16993464052288, 97.3202614379085, 98.39869281045752, 98.36601307189542, 98.82352941176471, 98.95424836601308, 99.640522875817, 99.41176470588235, 99.640522875817, 99.70588235294117, 99.77124183006536, 99.18300653594771, 99.28104575163398, 99.18300653594771, 98.82352941176471, 98.43137254901961, 99.31372549019608, 98.43137254901961, 98.98692810457516, 99.28104575163398, 99.2483660130719, 99.28104575163398, 99.77124183006536, 99.6078431372549, 99.50980392156863, 99.47712418300654, 98.79084967320262, 99.640522875817, 99.77124183006536, 99.2156862745098, 99.47712418300654, 99.15032679738562, 99.70588235294117, 99.77124183006536, 99.44444444444444, 99.6078431372549, 99.50980392156863, 99.2483660130719, 99.6078431372549, 99.67320261437908, 99.67320261437908, 99.80392156862744, 99.640522875817, 99.80392156862744, 99.9673202614379, 100.0, 100.0, 100.0, 100.0, 100.0, 100.0, 100.0, 100.0, 100.0, 100.0, 100.0, 100.0, 100.0, 100.0, 100.0, 100.0, 100.0, 100.0, 100.0]\n",
      "163.86982358296711 minutes\n"
     ]
    },
    {
     "name": "stderr",
     "output_type": "stream",
     "text": [
      "\n"
     ]
    }
   ],
   "source": [
    "train_loss , train_accuracy = [], []\n",
    "start = time.time()\n",
    "best_acc=0\n",
    "vgg19=vgg19.cuda()\n",
    "for epoch in range(100):\n",
    "    train_epoch_loss, train_epoch_accuracy = train(vgg19, train_loader)\n",
    "    train_loss.append(train_epoch_loss)\n",
    "    train_accuracy.append(train_epoch_accuracy)\n",
    "    if epoch==0:\n",
    "        best_model=vgg19\n",
    "    else:\n",
    "        if best_acc < train_epoch_accuracy:\n",
    "            best_acc = train_epoch_accuracy\n",
    "            best_model=vgg19\n",
    "    print(train_accuracy)\n",
    "    \n",
    "end = time.time()\n",
    " \n",
    "print((end-start)/60, 'minutes')"
   ]
  },
  {
   "cell_type": "code",
   "execution_count": 15,
   "id": "4d46f435",
   "metadata": {
    "execution": {
     "iopub.execute_input": "2022-09-01T10:52:17.505638Z",
     "iopub.status.busy": "2022-09-01T10:52:17.505324Z",
     "iopub.status.idle": "2022-09-01T10:52:17.513262Z",
     "shell.execute_reply": "2022-09-01T10:52:17.512339Z"
    },
    "papermill": {
     "duration": 0.017792,
     "end_time": "2022-09-01T10:52:17.515450",
     "exception": false,
     "start_time": "2022-09-01T10:52:17.497658",
     "status": "completed"
    },
    "tags": []
   },
   "outputs": [],
   "source": [
    "# training function\n",
    "from tqdm import tqdm \n",
    "def test(model, test_dataloader):\n",
    "    model.eval()\n",
    "    preds_=[]\n",
    "    for i, data in enumerate(tqdm(test_dataloader)):\n",
    "        data, target = data[0].cuda(), data[1]#.cuda()\n",
    "        with torch.no_grad():\n",
    "            output = model(data)\n",
    "        _, preds = torch.max(output.data, 1)\n",
    "        if i==0:\n",
    "            preds_=preds.cpu().numpy()\n",
    "        else:\n",
    "            preds_=np.concatenate((preds_,preds.cpu().numpy()),axis=None)\n",
    "    return preds_"
   ]
  },
  {
   "cell_type": "code",
   "execution_count": 16,
   "id": "258123c6",
   "metadata": {
    "execution": {
     "iopub.execute_input": "2022-09-01T10:52:17.528977Z",
     "iopub.status.busy": "2022-09-01T10:52:17.528654Z",
     "iopub.status.idle": "2022-09-01T10:52:45.595162Z",
     "shell.execute_reply": "2022-09-01T10:52:45.593324Z"
    },
    "papermill": {
     "duration": 28.07602,
     "end_time": "2022-09-01T10:52:45.597607",
     "exception": false,
     "start_time": "2022-09-01T10:52:17.521587",
     "status": "completed"
    },
    "tags": []
   },
   "outputs": [
    {
     "name": "stderr",
     "output_type": "stream",
     "text": [
      "100%|██████████| 107/107 [00:28<00:00,  3.82it/s]\n"
     ]
    }
   ],
   "source": [
    "pred=test(vgg19,test_loader)\n",
    "submit=pd.read_csv(os.path.join(dataroot,\"submission.csv\"))\n",
    "submit.Category=pred+1\n",
    "submit.to_csv(\"submit.csv\",index=False)"
   ]
  },
  {
   "cell_type": "code",
   "execution_count": null,
   "id": "fa9cf38d",
   "metadata": {
    "papermill": {
     "duration": 0.011231,
     "end_time": "2022-09-01T10:52:45.621122",
     "exception": false,
     "start_time": "2022-09-01T10:52:45.609891",
     "status": "completed"
    },
    "tags": []
   },
   "outputs": [],
   "source": []
  },
  {
   "cell_type": "code",
   "execution_count": null,
   "id": "8551e7dc",
   "metadata": {
    "papermill": {
     "duration": 0.011038,
     "end_time": "2022-09-01T10:52:45.643924",
     "exception": false,
     "start_time": "2022-09-01T10:52:45.632886",
     "status": "completed"
    },
    "tags": []
   },
   "outputs": [],
   "source": []
  },
  {
   "cell_type": "code",
   "execution_count": null,
   "id": "d314547a",
   "metadata": {
    "papermill": {
     "duration": 0.011892,
     "end_time": "2022-09-01T10:52:45.667290",
     "exception": false,
     "start_time": "2022-09-01T10:52:45.655398",
     "status": "completed"
    },
    "tags": []
   },
   "outputs": [],
   "source": []
  },
  {
   "cell_type": "code",
   "execution_count": null,
   "id": "937d88fc",
   "metadata": {
    "papermill": {
     "duration": 0.011326,
     "end_time": "2022-09-01T10:52:45.690319",
     "exception": false,
     "start_time": "2022-09-01T10:52:45.678993",
     "status": "completed"
    },
    "tags": []
   },
   "outputs": [],
   "source": []
  }
 ],
 "metadata": {
  "kernelspec": {
   "display_name": "Python 3",
   "language": "python",
   "name": "python3"
  },
  "language_info": {
   "codemirror_mode": {
    "name": "ipython",
    "version": 3
   },
   "file_extension": ".py",
   "mimetype": "text/x-python",
   "name": "python",
   "nbconvert_exporter": "python",
   "pygments_lexer": "ipython3",
   "version": "3.7.12"
  },
  "papermill": {
   "default_parameters": {},
   "duration": 9926.131437,
   "end_time": "2022-09-01T10:52:48.326805",
   "environment_variables": {},
   "exception": null,
   "input_path": "__notebook__.ipynb",
   "output_path": "__notebook__.ipynb",
   "parameters": {},
   "start_time": "2022-09-01T08:07:22.195368",
   "version": "2.3.4"
  },
  "widgets": {
   "application/vnd.jupyter.widget-state+json": {
    "state": {
     "058862c8b33847ba93e1868421fd8e02": {
      "model_module": "@jupyter-widgets/controls",
      "model_module_version": "1.5.0",
      "model_name": "HTMLModel",
      "state": {
       "_dom_classes": [],
       "_model_module": "@jupyter-widgets/controls",
       "_model_module_version": "1.5.0",
       "_model_name": "HTMLModel",
       "_view_count": null,
       "_view_module": "@jupyter-widgets/controls",
       "_view_module_version": "1.5.0",
       "_view_name": "HTMLView",
       "description": "",
       "description_tooltip": null,
       "layout": "IPY_MODEL_0fb1e79c195f43338976fbe0ced3f80e",
       "placeholder": "​",
       "style": "IPY_MODEL_a24ddd53a09c4b01ac6d5a6c0bc9537a",
       "value": " 548M/548M [00:37&lt;00:00, 12.7MB/s]"
      }
     },
     "0fb1e79c195f43338976fbe0ced3f80e": {
      "model_module": "@jupyter-widgets/base",
      "model_module_version": "1.2.0",
      "model_name": "LayoutModel",
      "state": {
       "_model_module": "@jupyter-widgets/base",
       "_model_module_version": "1.2.0",
       "_model_name": "LayoutModel",
       "_view_count": null,
       "_view_module": "@jupyter-widgets/base",
       "_view_module_version": "1.2.0",
       "_view_name": "LayoutView",
       "align_content": null,
       "align_items": null,
       "align_self": null,
       "border": null,
       "bottom": null,
       "display": null,
       "flex": null,
       "flex_flow": null,
       "grid_area": null,
       "grid_auto_columns": null,
       "grid_auto_flow": null,
       "grid_auto_rows": null,
       "grid_column": null,
       "grid_gap": null,
       "grid_row": null,
       "grid_template_areas": null,
       "grid_template_columns": null,
       "grid_template_rows": null,
       "height": null,
       "justify_content": null,
       "justify_items": null,
       "left": null,
       "margin": null,
       "max_height": null,
       "max_width": null,
       "min_height": null,
       "min_width": null,
       "object_fit": null,
       "object_position": null,
       "order": null,
       "overflow": null,
       "overflow_x": null,
       "overflow_y": null,
       "padding": null,
       "right": null,
       "top": null,
       "visibility": null,
       "width": null
      }
     },
     "14b1bd25f9b14cf79a61047432c21518": {
      "model_module": "@jupyter-widgets/base",
      "model_module_version": "1.2.0",
      "model_name": "LayoutModel",
      "state": {
       "_model_module": "@jupyter-widgets/base",
       "_model_module_version": "1.2.0",
       "_model_name": "LayoutModel",
       "_view_count": null,
       "_view_module": "@jupyter-widgets/base",
       "_view_module_version": "1.2.0",
       "_view_name": "LayoutView",
       "align_content": null,
       "align_items": null,
       "align_self": null,
       "border": null,
       "bottom": null,
       "display": null,
       "flex": null,
       "flex_flow": null,
       "grid_area": null,
       "grid_auto_columns": null,
       "grid_auto_flow": null,
       "grid_auto_rows": null,
       "grid_column": null,
       "grid_gap": null,
       "grid_row": null,
       "grid_template_areas": null,
       "grid_template_columns": null,
       "grid_template_rows": null,
       "height": null,
       "justify_content": null,
       "justify_items": null,
       "left": null,
       "margin": null,
       "max_height": null,
       "max_width": null,
       "min_height": null,
       "min_width": null,
       "object_fit": null,
       "object_position": null,
       "order": null,
       "overflow": null,
       "overflow_x": null,
       "overflow_y": null,
       "padding": null,
       "right": null,
       "top": null,
       "visibility": null,
       "width": null
      }
     },
     "2fcf1bc3393941b099ba6752e98cc229": {
      "model_module": "@jupyter-widgets/controls",
      "model_module_version": "1.5.0",
      "model_name": "ProgressStyleModel",
      "state": {
       "_model_module": "@jupyter-widgets/controls",
       "_model_module_version": "1.5.0",
       "_model_name": "ProgressStyleModel",
       "_view_count": null,
       "_view_module": "@jupyter-widgets/base",
       "_view_module_version": "1.2.0",
       "_view_name": "StyleView",
       "bar_color": null,
       "description_width": ""
      }
     },
     "500c09ceb357436894b2b991254f82e3": {
      "model_module": "@jupyter-widgets/controls",
      "model_module_version": "1.5.0",
      "model_name": "HBoxModel",
      "state": {
       "_dom_classes": [],
       "_model_module": "@jupyter-widgets/controls",
       "_model_module_version": "1.5.0",
       "_model_name": "HBoxModel",
       "_view_count": null,
       "_view_module": "@jupyter-widgets/controls",
       "_view_module_version": "1.5.0",
       "_view_name": "HBoxView",
       "box_style": "",
       "children": [
        "IPY_MODEL_fd4b82aef82c4261ae6c513deeb3e6f1",
        "IPY_MODEL_fea7d91bb53e4045afad66ad0b3358a7",
        "IPY_MODEL_058862c8b33847ba93e1868421fd8e02"
       ],
       "layout": "IPY_MODEL_e14ca30377e14856b7042d5072013072"
      }
     },
     "86962c854be94ce894d8d394e33221c1": {
      "model_module": "@jupyter-widgets/base",
      "model_module_version": "1.2.0",
      "model_name": "LayoutModel",
      "state": {
       "_model_module": "@jupyter-widgets/base",
       "_model_module_version": "1.2.0",
       "_model_name": "LayoutModel",
       "_view_count": null,
       "_view_module": "@jupyter-widgets/base",
       "_view_module_version": "1.2.0",
       "_view_name": "LayoutView",
       "align_content": null,
       "align_items": null,
       "align_self": null,
       "border": null,
       "bottom": null,
       "display": null,
       "flex": null,
       "flex_flow": null,
       "grid_area": null,
       "grid_auto_columns": null,
       "grid_auto_flow": null,
       "grid_auto_rows": null,
       "grid_column": null,
       "grid_gap": null,
       "grid_row": null,
       "grid_template_areas": null,
       "grid_template_columns": null,
       "grid_template_rows": null,
       "height": null,
       "justify_content": null,
       "justify_items": null,
       "left": null,
       "margin": null,
       "max_height": null,
       "max_width": null,
       "min_height": null,
       "min_width": null,
       "object_fit": null,
       "object_position": null,
       "order": null,
       "overflow": null,
       "overflow_x": null,
       "overflow_y": null,
       "padding": null,
       "right": null,
       "top": null,
       "visibility": null,
       "width": null
      }
     },
     "a24ddd53a09c4b01ac6d5a6c0bc9537a": {
      "model_module": "@jupyter-widgets/controls",
      "model_module_version": "1.5.0",
      "model_name": "DescriptionStyleModel",
      "state": {
       "_model_module": "@jupyter-widgets/controls",
       "_model_module_version": "1.5.0",
       "_model_name": "DescriptionStyleModel",
       "_view_count": null,
       "_view_module": "@jupyter-widgets/base",
       "_view_module_version": "1.2.0",
       "_view_name": "StyleView",
       "description_width": ""
      }
     },
     "e14ca30377e14856b7042d5072013072": {
      "model_module": "@jupyter-widgets/base",
      "model_module_version": "1.2.0",
      "model_name": "LayoutModel",
      "state": {
       "_model_module": "@jupyter-widgets/base",
       "_model_module_version": "1.2.0",
       "_model_name": "LayoutModel",
       "_view_count": null,
       "_view_module": "@jupyter-widgets/base",
       "_view_module_version": "1.2.0",
       "_view_name": "LayoutView",
       "align_content": null,
       "align_items": null,
       "align_self": null,
       "border": null,
       "bottom": null,
       "display": null,
       "flex": null,
       "flex_flow": null,
       "grid_area": null,
       "grid_auto_columns": null,
       "grid_auto_flow": null,
       "grid_auto_rows": null,
       "grid_column": null,
       "grid_gap": null,
       "grid_row": null,
       "grid_template_areas": null,
       "grid_template_columns": null,
       "grid_template_rows": null,
       "height": null,
       "justify_content": null,
       "justify_items": null,
       "left": null,
       "margin": null,
       "max_height": null,
       "max_width": null,
       "min_height": null,
       "min_width": null,
       "object_fit": null,
       "object_position": null,
       "order": null,
       "overflow": null,
       "overflow_x": null,
       "overflow_y": null,
       "padding": null,
       "right": null,
       "top": null,
       "visibility": null,
       "width": null
      }
     },
     "ea7568d631e14a649340450d913295d9": {
      "model_module": "@jupyter-widgets/controls",
      "model_module_version": "1.5.0",
      "model_name": "DescriptionStyleModel",
      "state": {
       "_model_module": "@jupyter-widgets/controls",
       "_model_module_version": "1.5.0",
       "_model_name": "DescriptionStyleModel",
       "_view_count": null,
       "_view_module": "@jupyter-widgets/base",
       "_view_module_version": "1.2.0",
       "_view_name": "StyleView",
       "description_width": ""
      }
     },
     "fd4b82aef82c4261ae6c513deeb3e6f1": {
      "model_module": "@jupyter-widgets/controls",
      "model_module_version": "1.5.0",
      "model_name": "HTMLModel",
      "state": {
       "_dom_classes": [],
       "_model_module": "@jupyter-widgets/controls",
       "_model_module_version": "1.5.0",
       "_model_name": "HTMLModel",
       "_view_count": null,
       "_view_module": "@jupyter-widgets/controls",
       "_view_module_version": "1.5.0",
       "_view_name": "HTMLView",
       "description": "",
       "description_tooltip": null,
       "layout": "IPY_MODEL_14b1bd25f9b14cf79a61047432c21518",
       "placeholder": "​",
       "style": "IPY_MODEL_ea7568d631e14a649340450d913295d9",
       "value": "100%"
      }
     },
     "fea7d91bb53e4045afad66ad0b3358a7": {
      "model_module": "@jupyter-widgets/controls",
      "model_module_version": "1.5.0",
      "model_name": "FloatProgressModel",
      "state": {
       "_dom_classes": [],
       "_model_module": "@jupyter-widgets/controls",
       "_model_module_version": "1.5.0",
       "_model_name": "FloatProgressModel",
       "_view_count": null,
       "_view_module": "@jupyter-widgets/controls",
       "_view_module_version": "1.5.0",
       "_view_name": "ProgressView",
       "bar_style": "success",
       "description": "",
       "description_tooltip": null,
       "layout": "IPY_MODEL_86962c854be94ce894d8d394e33221c1",
       "max": 574673361.0,
       "min": 0.0,
       "orientation": "horizontal",
       "style": "IPY_MODEL_2fcf1bc3393941b099ba6752e98cc229",
       "value": 574673361.0
      }
     }
    },
    "version_major": 2,
    "version_minor": 0
   }
  }
 },
 "nbformat": 4,
 "nbformat_minor": 5
}
